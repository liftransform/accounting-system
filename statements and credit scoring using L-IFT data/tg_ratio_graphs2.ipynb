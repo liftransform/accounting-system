{
 "cells": [
  {
   "cell_type": "code",
   "execution_count": 2,
   "metadata": {},
   "outputs": [],
   "source": [
    "import pandas as pd\n",
    "import plotly.graph_objects as go"
   ]
  },
  {
   "cell_type": "code",
   "execution_count": 408,
   "metadata": {},
   "outputs": [],
   "source": [
    "GOOD_COLOR = '#2fbf8f'\n",
    "MEDIUM_COLOR = '#f3d193'\n",
    "BAD_COLOR = '#dc3545'\n",
    "\n",
    "annotations = []\n",
    "\n",
    "def draw_circle(fig: go.Figure, x0:float, y0:float, radius:float):\n",
    "    \n",
    "    fig.add_shape(type=\"circle\",\n",
    "        line_color=\"blue\", fillcolor=\"blue\",\n",
    "        x0=x0-radius, y0=y0-radius, x1=x0+radius, y1=y0+radius\n",
    "    )\n",
    "\n",
    "def draw_rectangle_from_center(fig: go.Figure, x0:float, y0:float, label:str, label_position:str, width: float=0.25, height=1.5, fill_color='orange'):\n",
    "    fig.add_trace(go.Scatter(\n",
    "        x=[x0 - width/2, x0 - width/2, x0 + width/2, x0 + width/2, x0 - width/2],\n",
    "        y=[y0 - height/2, y0 + height/2, y0 + height/2,y0 - height/2, y0 - height/2],\n",
    "        fillcolor=fill_color,\n",
    "        fill=\"toself\",\n",
    "        text=label,\n",
    "        textposition=label_position,\n",
    "        mode='lines',\n",
    "        line=dict(\n",
    "            color='rgba(0, 0, 0, 0)'\n",
    "        )\n",
    "\n",
    "        ),\n",
    "    )\n",
    "\n",
    "\n",
    "def draw_rectange_from_corner(fig: go.Figure, x0: float, y0:float, label:str, label_position:str, width:float=0.25, height=1.5, fill_color='orange'):\n",
    "    fig.add_trace(go.Scatter(\n",
    "        x=[x0, x0, x0+width, x0+width, x0],\n",
    "        y=[y0-height, y0, y0, y0-height, y0-height],\n",
    "        fillcolor=fill_color,\n",
    "        fill='toself',\n",
    "        text=label,\n",
    "        textposition=label_position,\n",
    "        mode='lines',\n",
    "        line=dict(\n",
    "            color='rgba(0,0,0,0)'\n",
    "        )\n",
    "\n",
    "    ))\n",
    "\n",
    "    annotations.append(dict(\n",
    "        x=x0 + width/2, y=y0 - height/2, \n",
    "        text=label, showarrow=False,\n",
    "        font=dict(\n",
    "            family='Arial', size=18,\n",
    "            color='white'\n",
    "        ))\n",
    "    )\n",
    "\n",
    "\n",
    "def draw_pointer(fig: go.Figure, x0:float, y0:float, label:str, label_position:str, width: float=0.25, height=1.5,fill_color='green', bottom=False):\n",
    "    fig.add_trace(go.Scatter(\n",
    "        x=[\n",
    "            x0-width/2, x0+width/2, \n",
    "            x0 + width/2, x0, \n",
    "            x0-width/2, x0-width/2\n",
    "        ],\n",
    "        y=[\n",
    "            y0+height/2, y0 + height/2,\n",
    "            y0-height/4, y0-height/2,\n",
    "            y0-height/4, y0+height/2],\n",
    "        fill=\"toself\",\n",
    "        fillcolor=fill_color,\n",
    "        text=label,\n",
    "        textposition=label_position,\n",
    "        mode='lines',\n",
    "        line=dict(\n",
    "            # color='rgba(0, 0, 0, 0)'\n",
    "            color='white'\n",
    "        )\n",
    "    ))\n",
    "\n",
    "    annotations.append(dict(\n",
    "        x=x0, y= y0 + height*0.5 if bottom else y0 + height*0.5 + 0.2,\n",
    "        text=label, showarrow=True,\n",
    "        font=dict(\n",
    "            family='Arial', size=16,\n",
    "            color='rgb(67, 67, 67)',\n",
    "        ),\n",
    "    ),\n",
    "    )\n",
    "\n",
    "\n",
    "def draw_scale(fig: go.Figure, title: str, x0:float, y0:float, bad_end: float, medium_end:float, good_end:float, current_value:float, average= None,  height=1):\n",
    "    global annotations\n",
    "    POINTER_HEIGHT = height*1.5\n",
    "    POINTER_WIDTH = 0.3 * (good_end - x0) / 6\n",
    "\n",
    "    average = medium_end if average == None else average\n",
    "    annotations = []\n",
    "\n",
    "    annotations.append(dict(\n",
    "        x=x0, y= y0 + height,\n",
    "        text=title, showarrow=False,\n",
    "        font=dict(\n",
    "            family='Arial', size=25,\n",
    "            color='rgb(67, 67, 67)',\n",
    "        ),\n",
    "    ),\n",
    "    )\n",
    "\n",
    "\n",
    "    if bad_end != 0:\n",
    "        draw_rectange_from_corner(fig, x0, y0, 'Bad', 'middle center', bad_end-x0, height, BAD_COLOR)\n",
    "    \n",
    "    if medium_end != 0:\n",
    "        draw_rectange_from_corner(fig, bad_end, y0, 'Medium', 'middle center', medium_end-bad_end, height, MEDIUM_COLOR)\n",
    "    \n",
    "    if good_end != 0:\n",
    "        draw_rectange_from_corner(fig, medium_end, y0, 'Good', 'middle center', good_end-medium_end, height, GOOD_COLOR)\n",
    "\n",
    "    draw_pointer(fig, average, y0 - height/2, 'Industry Average', 'top right', POINTER_WIDTH, POINTER_HEIGHT, fill_color='#fb9b5f',bottom=False)\n",
    "    draw_pointer(fig, current_value, y0 - height/2, 'Your Score', 'top right', POINTER_WIDTH, POINTER_HEIGHT, fill_color='#20699a', bottom=True)\n",
    "    \n",
    "    \n",
    "    \n"
   ]
  },
  {
   "cell_type": "code",
   "execution_count": 410,
   "metadata": {},
   "outputs": [
    {
     "data": {
      "application/vnd.plotly.v1+json": {
       "config": {
        "plotlyServerURL": "https://plot.ly"
       },
       "data": [
        {
         "fill": "toself",
         "fillcolor": "#dc3545",
         "line": {
          "color": "rgba(0,0,0,0)"
         },
         "mode": "lines",
         "text": "Bad",
         "textposition": "middle center",
         "type": "scatter",
         "x": [
          -16,
          -16,
          2,
          2,
          -16
         ],
         "y": [
          -1,
          0,
          0,
          -1,
          -1
         ]
        },
        {
         "fill": "toself",
         "fillcolor": "#f3d193",
         "line": {
          "color": "rgba(0,0,0,0)"
         },
         "mode": "lines",
         "text": "Medium",
         "textposition": "middle center",
         "type": "scatter",
         "x": [
          2,
          2,
          3,
          3,
          2
         ],
         "y": [
          -1,
          0,
          0,
          -1,
          -1
         ]
        },
        {
         "fill": "toself",
         "fillcolor": "#2fbf8f",
         "line": {
          "color": "rgba(0,0,0,0)"
         },
         "mode": "lines",
         "text": "Good",
         "textposition": "middle center",
         "type": "scatter",
         "x": [
          3,
          3,
          4,
          4,
          3
         ],
         "y": [
          -1,
          0,
          0,
          -1,
          -1
         ]
        },
        {
         "fill": "toself",
         "fillcolor": "#fb9b5f",
         "line": {
          "color": "white"
         },
         "mode": "lines",
         "text": "Industry Average",
         "textposition": "top right",
         "type": "scatter",
         "x": [
          1.5,
          2.5,
          2.5,
          2,
          1.5,
          1.5
         ],
         "y": [
          0.25,
          0.25,
          -0.875,
          -1.25,
          -0.875,
          0.25
         ]
        },
        {
         "fill": "toself",
         "fillcolor": "#20699a",
         "line": {
          "color": "white"
         },
         "mode": "lines",
         "text": "Your Score",
         "textposition": "top right",
         "type": "scatter",
         "x": [
          1.3,
          2.3,
          2.3,
          1.8,
          1.3,
          1.3
         ],
         "y": [
          0.25,
          0.25,
          -0.875,
          -1.25,
          -0.875,
          0.25
         ]
        }
       ],
       "layout": {
        "annotations": [
         {
          "font": {
           "color": "rgb(67, 67, 67)",
           "family": "Arial",
           "size": 25
          },
          "showarrow": false,
          "text": "Liquidity",
          "x": -16,
          "y": 1
         },
         {
          "font": {
           "color": "white",
           "family": "Arial",
           "size": 18
          },
          "showarrow": false,
          "text": "Bad",
          "x": -7,
          "y": -0.5
         },
         {
          "font": {
           "color": "white",
           "family": "Arial",
           "size": 18
          },
          "showarrow": false,
          "text": "Medium",
          "x": 2.5,
          "y": -0.5
         },
         {
          "font": {
           "color": "white",
           "family": "Arial",
           "size": 18
          },
          "showarrow": false,
          "text": "Good",
          "x": 3.5,
          "y": -0.5
         },
         {
          "font": {
           "color": "rgb(67, 67, 67)",
           "family": "Arial",
           "size": 16
          },
          "showarrow": true,
          "text": "Industry Average",
          "x": 2,
          "y": 0.45
         },
         {
          "font": {
           "color": "rgb(67, 67, 67)",
           "family": "Arial",
           "size": 16
          },
          "showarrow": true,
          "text": "Your Score",
          "x": 1.8,
          "y": 0.25
         }
        ],
        "paper_bgcolor": "white",
        "plot_bgcolor": "white",
        "showlegend": false,
        "template": {
         "data": {
          "bar": [
           {
            "error_x": {
             "color": "#2a3f5f"
            },
            "error_y": {
             "color": "#2a3f5f"
            },
            "marker": {
             "line": {
              "color": "#E5ECF6",
              "width": 0.5
             },
             "pattern": {
              "fillmode": "overlay",
              "size": 10,
              "solidity": 0.2
             }
            },
            "type": "bar"
           }
          ],
          "barpolar": [
           {
            "marker": {
             "line": {
              "color": "#E5ECF6",
              "width": 0.5
             },
             "pattern": {
              "fillmode": "overlay",
              "size": 10,
              "solidity": 0.2
             }
            },
            "type": "barpolar"
           }
          ],
          "carpet": [
           {
            "aaxis": {
             "endlinecolor": "#2a3f5f",
             "gridcolor": "white",
             "linecolor": "white",
             "minorgridcolor": "white",
             "startlinecolor": "#2a3f5f"
            },
            "baxis": {
             "endlinecolor": "#2a3f5f",
             "gridcolor": "white",
             "linecolor": "white",
             "minorgridcolor": "white",
             "startlinecolor": "#2a3f5f"
            },
            "type": "carpet"
           }
          ],
          "choropleth": [
           {
            "colorbar": {
             "outlinewidth": 0,
             "ticks": ""
            },
            "type": "choropleth"
           }
          ],
          "contour": [
           {
            "colorbar": {
             "outlinewidth": 0,
             "ticks": ""
            },
            "colorscale": [
             [
              0,
              "#0d0887"
             ],
             [
              0.1111111111111111,
              "#46039f"
             ],
             [
              0.2222222222222222,
              "#7201a8"
             ],
             [
              0.3333333333333333,
              "#9c179e"
             ],
             [
              0.4444444444444444,
              "#bd3786"
             ],
             [
              0.5555555555555556,
              "#d8576b"
             ],
             [
              0.6666666666666666,
              "#ed7953"
             ],
             [
              0.7777777777777778,
              "#fb9f3a"
             ],
             [
              0.8888888888888888,
              "#fdca26"
             ],
             [
              1,
              "#f0f921"
             ]
            ],
            "type": "contour"
           }
          ],
          "contourcarpet": [
           {
            "colorbar": {
             "outlinewidth": 0,
             "ticks": ""
            },
            "type": "contourcarpet"
           }
          ],
          "heatmap": [
           {
            "colorbar": {
             "outlinewidth": 0,
             "ticks": ""
            },
            "colorscale": [
             [
              0,
              "#0d0887"
             ],
             [
              0.1111111111111111,
              "#46039f"
             ],
             [
              0.2222222222222222,
              "#7201a8"
             ],
             [
              0.3333333333333333,
              "#9c179e"
             ],
             [
              0.4444444444444444,
              "#bd3786"
             ],
             [
              0.5555555555555556,
              "#d8576b"
             ],
             [
              0.6666666666666666,
              "#ed7953"
             ],
             [
              0.7777777777777778,
              "#fb9f3a"
             ],
             [
              0.8888888888888888,
              "#fdca26"
             ],
             [
              1,
              "#f0f921"
             ]
            ],
            "type": "heatmap"
           }
          ],
          "heatmapgl": [
           {
            "colorbar": {
             "outlinewidth": 0,
             "ticks": ""
            },
            "colorscale": [
             [
              0,
              "#0d0887"
             ],
             [
              0.1111111111111111,
              "#46039f"
             ],
             [
              0.2222222222222222,
              "#7201a8"
             ],
             [
              0.3333333333333333,
              "#9c179e"
             ],
             [
              0.4444444444444444,
              "#bd3786"
             ],
             [
              0.5555555555555556,
              "#d8576b"
             ],
             [
              0.6666666666666666,
              "#ed7953"
             ],
             [
              0.7777777777777778,
              "#fb9f3a"
             ],
             [
              0.8888888888888888,
              "#fdca26"
             ],
             [
              1,
              "#f0f921"
             ]
            ],
            "type": "heatmapgl"
           }
          ],
          "histogram": [
           {
            "marker": {
             "pattern": {
              "fillmode": "overlay",
              "size": 10,
              "solidity": 0.2
             }
            },
            "type": "histogram"
           }
          ],
          "histogram2d": [
           {
            "colorbar": {
             "outlinewidth": 0,
             "ticks": ""
            },
            "colorscale": [
             [
              0,
              "#0d0887"
             ],
             [
              0.1111111111111111,
              "#46039f"
             ],
             [
              0.2222222222222222,
              "#7201a8"
             ],
             [
              0.3333333333333333,
              "#9c179e"
             ],
             [
              0.4444444444444444,
              "#bd3786"
             ],
             [
              0.5555555555555556,
              "#d8576b"
             ],
             [
              0.6666666666666666,
              "#ed7953"
             ],
             [
              0.7777777777777778,
              "#fb9f3a"
             ],
             [
              0.8888888888888888,
              "#fdca26"
             ],
             [
              1,
              "#f0f921"
             ]
            ],
            "type": "histogram2d"
           }
          ],
          "histogram2dcontour": [
           {
            "colorbar": {
             "outlinewidth": 0,
             "ticks": ""
            },
            "colorscale": [
             [
              0,
              "#0d0887"
             ],
             [
              0.1111111111111111,
              "#46039f"
             ],
             [
              0.2222222222222222,
              "#7201a8"
             ],
             [
              0.3333333333333333,
              "#9c179e"
             ],
             [
              0.4444444444444444,
              "#bd3786"
             ],
             [
              0.5555555555555556,
              "#d8576b"
             ],
             [
              0.6666666666666666,
              "#ed7953"
             ],
             [
              0.7777777777777778,
              "#fb9f3a"
             ],
             [
              0.8888888888888888,
              "#fdca26"
             ],
             [
              1,
              "#f0f921"
             ]
            ],
            "type": "histogram2dcontour"
           }
          ],
          "mesh3d": [
           {
            "colorbar": {
             "outlinewidth": 0,
             "ticks": ""
            },
            "type": "mesh3d"
           }
          ],
          "parcoords": [
           {
            "line": {
             "colorbar": {
              "outlinewidth": 0,
              "ticks": ""
             }
            },
            "type": "parcoords"
           }
          ],
          "pie": [
           {
            "automargin": true,
            "type": "pie"
           }
          ],
          "scatter": [
           {
            "fillpattern": {
             "fillmode": "overlay",
             "size": 10,
             "solidity": 0.2
            },
            "type": "scatter"
           }
          ],
          "scatter3d": [
           {
            "line": {
             "colorbar": {
              "outlinewidth": 0,
              "ticks": ""
             }
            },
            "marker": {
             "colorbar": {
              "outlinewidth": 0,
              "ticks": ""
             }
            },
            "type": "scatter3d"
           }
          ],
          "scattercarpet": [
           {
            "marker": {
             "colorbar": {
              "outlinewidth": 0,
              "ticks": ""
             }
            },
            "type": "scattercarpet"
           }
          ],
          "scattergeo": [
           {
            "marker": {
             "colorbar": {
              "outlinewidth": 0,
              "ticks": ""
             }
            },
            "type": "scattergeo"
           }
          ],
          "scattergl": [
           {
            "marker": {
             "colorbar": {
              "outlinewidth": 0,
              "ticks": ""
             }
            },
            "type": "scattergl"
           }
          ],
          "scattermapbox": [
           {
            "marker": {
             "colorbar": {
              "outlinewidth": 0,
              "ticks": ""
             }
            },
            "type": "scattermapbox"
           }
          ],
          "scatterpolar": [
           {
            "marker": {
             "colorbar": {
              "outlinewidth": 0,
              "ticks": ""
             }
            },
            "type": "scatterpolar"
           }
          ],
          "scatterpolargl": [
           {
            "marker": {
             "colorbar": {
              "outlinewidth": 0,
              "ticks": ""
             }
            },
            "type": "scatterpolargl"
           }
          ],
          "scatterternary": [
           {
            "marker": {
             "colorbar": {
              "outlinewidth": 0,
              "ticks": ""
             }
            },
            "type": "scatterternary"
           }
          ],
          "surface": [
           {
            "colorbar": {
             "outlinewidth": 0,
             "ticks": ""
            },
            "colorscale": [
             [
              0,
              "#0d0887"
             ],
             [
              0.1111111111111111,
              "#46039f"
             ],
             [
              0.2222222222222222,
              "#7201a8"
             ],
             [
              0.3333333333333333,
              "#9c179e"
             ],
             [
              0.4444444444444444,
              "#bd3786"
             ],
             [
              0.5555555555555556,
              "#d8576b"
             ],
             [
              0.6666666666666666,
              "#ed7953"
             ],
             [
              0.7777777777777778,
              "#fb9f3a"
             ],
             [
              0.8888888888888888,
              "#fdca26"
             ],
             [
              1,
              "#f0f921"
             ]
            ],
            "type": "surface"
           }
          ],
          "table": [
           {
            "cells": {
             "fill": {
              "color": "#EBF0F8"
             },
             "line": {
              "color": "white"
             }
            },
            "header": {
             "fill": {
              "color": "#C8D4E3"
             },
             "line": {
              "color": "white"
             }
            },
            "type": "table"
           }
          ]
         },
         "layout": {
          "annotationdefaults": {
           "arrowcolor": "#2a3f5f",
           "arrowhead": 0,
           "arrowwidth": 1
          },
          "autotypenumbers": "strict",
          "coloraxis": {
           "colorbar": {
            "outlinewidth": 0,
            "ticks": ""
           }
          },
          "colorscale": {
           "diverging": [
            [
             0,
             "#8e0152"
            ],
            [
             0.1,
             "#c51b7d"
            ],
            [
             0.2,
             "#de77ae"
            ],
            [
             0.3,
             "#f1b6da"
            ],
            [
             0.4,
             "#fde0ef"
            ],
            [
             0.5,
             "#f7f7f7"
            ],
            [
             0.6,
             "#e6f5d0"
            ],
            [
             0.7,
             "#b8e186"
            ],
            [
             0.8,
             "#7fbc41"
            ],
            [
             0.9,
             "#4d9221"
            ],
            [
             1,
             "#276419"
            ]
           ],
           "sequential": [
            [
             0,
             "#0d0887"
            ],
            [
             0.1111111111111111,
             "#46039f"
            ],
            [
             0.2222222222222222,
             "#7201a8"
            ],
            [
             0.3333333333333333,
             "#9c179e"
            ],
            [
             0.4444444444444444,
             "#bd3786"
            ],
            [
             0.5555555555555556,
             "#d8576b"
            ],
            [
             0.6666666666666666,
             "#ed7953"
            ],
            [
             0.7777777777777778,
             "#fb9f3a"
            ],
            [
             0.8888888888888888,
             "#fdca26"
            ],
            [
             1,
             "#f0f921"
            ]
           ],
           "sequentialminus": [
            [
             0,
             "#0d0887"
            ],
            [
             0.1111111111111111,
             "#46039f"
            ],
            [
             0.2222222222222222,
             "#7201a8"
            ],
            [
             0.3333333333333333,
             "#9c179e"
            ],
            [
             0.4444444444444444,
             "#bd3786"
            ],
            [
             0.5555555555555556,
             "#d8576b"
            ],
            [
             0.6666666666666666,
             "#ed7953"
            ],
            [
             0.7777777777777778,
             "#fb9f3a"
            ],
            [
             0.8888888888888888,
             "#fdca26"
            ],
            [
             1,
             "#f0f921"
            ]
           ]
          },
          "colorway": [
           "#636efa",
           "#EF553B",
           "#00cc96",
           "#ab63fa",
           "#FFA15A",
           "#19d3f3",
           "#FF6692",
           "#B6E880",
           "#FF97FF",
           "#FECB52"
          ],
          "font": {
           "color": "#2a3f5f"
          },
          "geo": {
           "bgcolor": "white",
           "lakecolor": "white",
           "landcolor": "#E5ECF6",
           "showlakes": true,
           "showland": true,
           "subunitcolor": "white"
          },
          "hoverlabel": {
           "align": "left"
          },
          "hovermode": "closest",
          "mapbox": {
           "style": "light"
          },
          "paper_bgcolor": "white",
          "plot_bgcolor": "#E5ECF6",
          "polar": {
           "angularaxis": {
            "gridcolor": "white",
            "linecolor": "white",
            "ticks": ""
           },
           "bgcolor": "#E5ECF6",
           "radialaxis": {
            "gridcolor": "white",
            "linecolor": "white",
            "ticks": ""
           }
          },
          "scene": {
           "xaxis": {
            "backgroundcolor": "#E5ECF6",
            "gridcolor": "white",
            "gridwidth": 2,
            "linecolor": "white",
            "showbackground": true,
            "ticks": "",
            "zerolinecolor": "white"
           },
           "yaxis": {
            "backgroundcolor": "#E5ECF6",
            "gridcolor": "white",
            "gridwidth": 2,
            "linecolor": "white",
            "showbackground": true,
            "ticks": "",
            "zerolinecolor": "white"
           },
           "zaxis": {
            "backgroundcolor": "#E5ECF6",
            "gridcolor": "white",
            "gridwidth": 2,
            "linecolor": "white",
            "showbackground": true,
            "ticks": "",
            "zerolinecolor": "white"
           }
          },
          "shapedefaults": {
           "line": {
            "color": "#2a3f5f"
           }
          },
          "ternary": {
           "aaxis": {
            "gridcolor": "white",
            "linecolor": "white",
            "ticks": ""
           },
           "baxis": {
            "gridcolor": "white",
            "linecolor": "white",
            "ticks": ""
           },
           "bgcolor": "#E5ECF6",
           "caxis": {
            "gridcolor": "white",
            "linecolor": "white",
            "ticks": ""
           }
          },
          "title": {
           "x": 0.05
          },
          "xaxis": {
           "automargin": true,
           "gridcolor": "white",
           "linecolor": "white",
           "ticks": "",
           "title": {
            "standoff": 15
           },
           "zerolinecolor": "white",
           "zerolinewidth": 2
          },
          "yaxis": {
           "automargin": true,
           "gridcolor": "white",
           "linecolor": "white",
           "ticks": "",
           "title": {
            "standoff": 15
           },
           "zerolinecolor": "white",
           "zerolinewidth": 2
          }
         }
        },
        "xaxis": {
         "showgrid": false,
         "showline": false
        },
        "yaxis": {
         "showgrid": false,
         "showline": false,
         "showticklabels": false,
         "zeroline": false
        }
       }
      }
     },
     "metadata": {},
     "output_type": "display_data"
    }
   ],
   "source": [
    "\n",
    "fig2 = go.Figure()\n",
    "\n",
    "# draw_rectange_from_corner(fig2, 1,1,'base', 'top left', 4, 1)\n",
    "# draw_pointer(fig2, 2.5,0.5,'pointer', 'top right', 0.1, 1.5)\n",
    "\n",
    "draw_scale(\n",
    "    fig2, \n",
    "    title='Liquidity',\n",
    "    x0=-16, y0=0,\n",
    "    bad_end=2, medium_end=3,\n",
    "    good_end=4, \n",
    "    current_value=1.8, height=1,\n",
    "    average=2)\n",
    "\n",
    "fig2.update_layout(\n",
    "    annotations=annotations,\n",
    "    showlegend=False,\n",
    "    xaxis=dict(\n",
    "        showgrid=False,\n",
    "        showline=False,\n",
    "        # showticklabels=False,\n",
    "        # zeroline=False,\n",
    "        # domain=[0.15, 1]\n",
    "    ),\n",
    "    yaxis=dict(\n",
    "        showgrid=False,\n",
    "        showline=False,\n",
    "        showticklabels=False,\n",
    "        zeroline=False,\n",
    "    ),\n",
    "    paper_bgcolor='white',\n",
    "    plot_bgcolor='white',\n",
    "    # height=250,\n",
    ")\n",
    "\n",
    "\n",
    "fig2.show()"
   ]
  },
  {
   "cell_type": "code",
   "execution_count": null,
   "metadata": {},
   "outputs": [],
   "source": [
    "\n",
    "                "
   ]
  }
 ],
 "metadata": {
  "kernelspec": {
   "display_name": "Python 3",
   "language": "python",
   "name": "python3"
  },
  "language_info": {
   "codemirror_mode": {
    "name": "ipython",
    "version": 3
   },
   "file_extension": ".py",
   "mimetype": "text/x-python",
   "name": "python",
   "nbconvert_exporter": "python",
   "pygments_lexer": "ipython3",
   "version": "3.10.4"
  }
 },
 "nbformat": 4,
 "nbformat_minor": 2
}
