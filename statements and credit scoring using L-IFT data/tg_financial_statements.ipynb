{
 "cells": [
  {
   "cell_type": "code",
   "execution_count": 6,
   "metadata": {},
   "outputs": [],
   "source": [
    "import pandas as pd\n",
    "import os\n",
    "import numpy as np"
   ]
  },
  {
   "cell_type": "code",
   "execution_count": 7,
   "metadata": {},
   "outputs": [
    {
     "name": "stdout",
     "output_type": "stream",
     "text": [
      "lift_data_transactions\\account.csv\n",
      "lift_data_transactions\\assets.csv\n",
      "lift_data_transactions\\employee.csv\n",
      "lift_data_transactions\\expense.csv\n",
      "lift_data_transactions\\expense_partial_1.csv\n",
      "lift_data_transactions\\expense_partial_2.csv\n",
      "lift_data_transactions\\income.csv\n",
      "lift_data_transactions\\income_partial_1.csv\n",
      "lift_data_transactions\\income_partial_2.csv\n",
      "lift_data_transactions\\income_partial_3.csv\n",
      "lift_data_transactions\\income_partial_4.csv\n",
      "lift_data_transactions\\income_partial_5.csv\n",
      "lift_data_transactions\\income_partial_6.csv\n",
      "lift_data_transactions\\loans_given.csv\n",
      "lift_data_transactions\\loans_given_repayment.csv\n",
      "lift_data_transactions\\loans_taken.csv\n",
      "lift_data_transactions\\loan_taken_repayment.csv\n"
     ]
    },
    {
     "data": {
      "text/html": [
       "<div>\n",
       "<style scoped>\n",
       "    .dataframe tbody tr th:only-of-type {\n",
       "        vertical-align: middle;\n",
       "    }\n",
       "\n",
       "    .dataframe tbody tr th {\n",
       "        vertical-align: top;\n",
       "    }\n",
       "\n",
       "    .dataframe thead th {\n",
       "        text-align: right;\n",
       "    }\n",
       "</style>\n",
       "<table border=\"1\" class=\"dataframe\">\n",
       "  <thead>\n",
       "    <tr style=\"text-align: right;\">\n",
       "      <th></th>\n",
       "      <th>Respondent ID</th>\n",
       "      <th>date</th>\n",
       "      <th>debit acc</th>\n",
       "      <th>debit amt</th>\n",
       "      <th>credit acc</th>\n",
       "      <th>credit amt</th>\n",
       "      <th>Income source data ID</th>\n",
       "      <th>Income source sub-type</th>\n",
       "      <th>Income report income source name</th>\n",
       "    </tr>\n",
       "  </thead>\n",
       "  <tbody>\n",
       "    <tr>\n",
       "      <th>0</th>\n",
       "      <td>4425.0</td>\n",
       "      <td>2021-07-12</td>\n",
       "      <td>cash</td>\n",
       "      <td>1910.0</td>\n",
       "      <td>equity</td>\n",
       "      <td>1910.0</td>\n",
       "      <td>NaN</td>\n",
       "      <td>NaN</td>\n",
       "      <td>NaN</td>\n",
       "    </tr>\n",
       "    <tr>\n",
       "      <th>1</th>\n",
       "      <td>4425.0</td>\n",
       "      <td>2021-04-28</td>\n",
       "      <td>NaN</td>\n",
       "      <td>NaN</td>\n",
       "      <td>NaN</td>\n",
       "      <td>NaN</td>\n",
       "      <td>NaN</td>\n",
       "      <td>NaN</td>\n",
       "      <td>NaN</td>\n",
       "    </tr>\n",
       "    <tr>\n",
       "      <th>2</th>\n",
       "      <td>4425.0</td>\n",
       "      <td>2021-04-28</td>\n",
       "      <td>NaN</td>\n",
       "      <td>NaN</td>\n",
       "      <td>NaN</td>\n",
       "      <td>NaN</td>\n",
       "      <td>NaN</td>\n",
       "      <td>NaN</td>\n",
       "      <td>NaN</td>\n",
       "    </tr>\n",
       "    <tr>\n",
       "      <th>3</th>\n",
       "      <td>4425.0</td>\n",
       "      <td>2021-04-28</td>\n",
       "      <td>NaN</td>\n",
       "      <td>NaN</td>\n",
       "      <td>NaN</td>\n",
       "      <td>NaN</td>\n",
       "      <td>NaN</td>\n",
       "      <td>NaN</td>\n",
       "      <td>NaN</td>\n",
       "    </tr>\n",
       "    <tr>\n",
       "      <th>4</th>\n",
       "      <td>4425.0</td>\n",
       "      <td>2021-04-21</td>\n",
       "      <td>withdrawal</td>\n",
       "      <td>2100.0</td>\n",
       "      <td>cash</td>\n",
       "      <td>2100.0</td>\n",
       "      <td>NaN</td>\n",
       "      <td>NaN</td>\n",
       "      <td>NaN</td>\n",
       "    </tr>\n",
       "    <tr>\n",
       "      <th>...</th>\n",
       "      <td>...</td>\n",
       "      <td>...</td>\n",
       "      <td>...</td>\n",
       "      <td>...</td>\n",
       "      <td>...</td>\n",
       "      <td>...</td>\n",
       "      <td>...</td>\n",
       "      <td>...</td>\n",
       "      <td>...</td>\n",
       "    </tr>\n",
       "    <tr>\n",
       "      <th>270677</th>\n",
       "      <td>5883.0</td>\n",
       "      <td>2021-07-30</td>\n",
       "      <td>cash</td>\n",
       "      <td>9500.0</td>\n",
       "      <td>long term loan</td>\n",
       "      <td>9500.0</td>\n",
       "      <td>NaN</td>\n",
       "      <td>NaN</td>\n",
       "      <td>NaN</td>\n",
       "    </tr>\n",
       "    <tr>\n",
       "      <th>270678</th>\n",
       "      <td>5883.0</td>\n",
       "      <td>2021-07-30</td>\n",
       "      <td>cash</td>\n",
       "      <td>9500.0</td>\n",
       "      <td>long term loan</td>\n",
       "      <td>9500.0</td>\n",
       "      <td>NaN</td>\n",
       "      <td>NaN</td>\n",
       "      <td>NaN</td>\n",
       "    </tr>\n",
       "    <tr>\n",
       "      <th>270679</th>\n",
       "      <td>5883.0</td>\n",
       "      <td>2021-08-30</td>\n",
       "      <td>cash</td>\n",
       "      <td>9500.0</td>\n",
       "      <td>long term loan</td>\n",
       "      <td>9500.0</td>\n",
       "      <td>NaN</td>\n",
       "      <td>NaN</td>\n",
       "      <td>NaN</td>\n",
       "    </tr>\n",
       "    <tr>\n",
       "      <th>270680</th>\n",
       "      <td>5883.0</td>\n",
       "      <td>2021-10-29</td>\n",
       "      <td>cash</td>\n",
       "      <td>19000.0</td>\n",
       "      <td>long term loan</td>\n",
       "      <td>19000.0</td>\n",
       "      <td>NaN</td>\n",
       "      <td>NaN</td>\n",
       "      <td>NaN</td>\n",
       "    </tr>\n",
       "    <tr>\n",
       "      <th>270681</th>\n",
       "      <td>5883.0</td>\n",
       "      <td>2022-01-03</td>\n",
       "      <td>cash</td>\n",
       "      <td>9500.0</td>\n",
       "      <td>long term loan</td>\n",
       "      <td>9500.0</td>\n",
       "      <td>NaN</td>\n",
       "      <td>NaN</td>\n",
       "      <td>NaN</td>\n",
       "    </tr>\n",
       "  </tbody>\n",
       "</table>\n",
       "<p>270682 rows × 9 columns</p>\n",
       "</div>"
      ],
      "text/plain": [
       "        Respondent ID        date   debit acc  debit amt      credit acc  \\\n",
       "0              4425.0  2021-07-12        cash     1910.0          equity   \n",
       "1              4425.0  2021-04-28         NaN        NaN             NaN   \n",
       "2              4425.0  2021-04-28         NaN        NaN             NaN   \n",
       "3              4425.0  2021-04-28         NaN        NaN             NaN   \n",
       "4              4425.0  2021-04-21  withdrawal     2100.0            cash   \n",
       "...               ...         ...         ...        ...             ...   \n",
       "270677         5883.0  2021-07-30        cash     9500.0  long term loan   \n",
       "270678         5883.0  2021-07-30        cash     9500.0  long term loan   \n",
       "270679         5883.0  2021-08-30        cash     9500.0  long term loan   \n",
       "270680         5883.0  2021-10-29        cash    19000.0  long term loan   \n",
       "270681         5883.0  2022-01-03        cash     9500.0  long term loan   \n",
       "\n",
       "        credit amt Income source data ID Income source sub-type  \\\n",
       "0           1910.0                   NaN                    NaN   \n",
       "1              NaN                   NaN                    NaN   \n",
       "2              NaN                   NaN                    NaN   \n",
       "3              NaN                   NaN                    NaN   \n",
       "4           2100.0                   NaN                    NaN   \n",
       "...            ...                   ...                    ...   \n",
       "270677      9500.0                   NaN                    NaN   \n",
       "270678      9500.0                   NaN                    NaN   \n",
       "270679      9500.0                   NaN                    NaN   \n",
       "270680     19000.0                   NaN                    NaN   \n",
       "270681      9500.0                   NaN                    NaN   \n",
       "\n",
       "       Income report income source name  \n",
       "0                                   NaN  \n",
       "1                                   NaN  \n",
       "2                                   NaN  \n",
       "3                                   NaN  \n",
       "4                                   NaN  \n",
       "...                                 ...  \n",
       "270677                              NaN  \n",
       "270678                              NaN  \n",
       "270679                              NaN  \n",
       "270680                              NaN  \n",
       "270681                              NaN  \n",
       "\n",
       "[270682 rows x 9 columns]"
      ]
     },
     "execution_count": 7,
     "metadata": {},
     "output_type": "execute_result"
    }
   ],
   "source": [
    "def read_transaction_data():    \n",
    "    data = []\n",
    "    to_include = [\n",
    "        'date', 'debit', 'credit', 'Respondent',\n",
    "        'Income source',\n",
    "    ]\n",
    "    for p, dirs, fs in os.walk('lift_data_transactions'):\n",
    "        for f in fs:\n",
    "            path = os.path.join(p, f)\n",
    "            print(path)\n",
    "            temp:pd.DataFrame = pd.read_csv(path)\n",
    "            df_dict = {}\n",
    "            for col in temp.columns:\n",
    "                for hint in to_include:\n",
    "                    if hint.lower() in col.lower():\n",
    "                        if hint == 'date':\n",
    "                            df_dict['date'] = temp[col]\n",
    "                        else:\n",
    "                            df_dict[col] = temp[col]\n",
    "                        break\n",
    "            df = pd.DataFrame(df_dict)\n",
    "            # display(df.head())\n",
    "            data.append(df)\n",
    "\n",
    "    return pd.concat(data,axis=0).reset_index().drop(columns='index')\n",
    "\n",
    "data_combined = read_transaction_data()\n",
    "data_combined"
   ]
  },
  {
   "cell_type": "code",
   "execution_count": 8,
   "metadata": {},
   "outputs": [],
   "source": [
    "def get_balance(id_filter:int, frame: pd.DataFrame, acc_name:str):\n",
    "    sub = frame[frame['Respondent ID'] == id_filter]\n",
    "    sub = sub[(~sub['debit amt'].isna()) & (~(sub['credit acc'].isna()))]\n",
    "    # display(sub)\n",
    "    debit = sum(sub[sub['debit acc'] == acc_name]['debit amt'].apply(lambda x: float(x)))\n",
    "    credit = sum(sub[sub['credit acc'] == acc_name]['credit amt'].apply(lambda x: float(x)))\n",
    "    # print(debit, credit)\n",
    "    return debit - credit\n",
    "\n",
    "\n",
    "def format_number(num):\n",
    "    if num > 0:\n",
    "        return f\"{num:.2f} \"\n",
    "    \n",
    "    if num < 0:\n",
    "        return f\"({-1*num:.2f})\"\n",
    "    \n",
    "    return ''\n"
   ]
  },
  {
   "cell_type": "code",
   "execution_count": 9,
   "metadata": {},
   "outputs": [],
   "source": [
    "data_combined2 = data_combined.copy()"
   ]
  },
  {
   "cell_type": "code",
   "execution_count": 10,
   "metadata": {},
   "outputs": [],
   "source": [
    "data_combined2.loc[:, 'debit acc'] = data_combined2['debit acc'].str.lower()\n",
    "data_combined2.loc[:, 'credit acc'] = data_combined2['credit acc'].str.lower()"
   ]
  },
  {
   "cell_type": "code",
   "execution_count": 11,
   "metadata": {},
   "outputs": [
    {
     "data": {
      "text/plain": [
       "array(['equity', nan, 'cash', 'ap', 'purchases', 'sales', 'ar', 'sale',\n",
       "       'informal loans given', 'loans to employees', 'informal loan',\n",
       "       'long term loan'], dtype=object)"
      ]
     },
     "execution_count": 11,
     "metadata": {},
     "output_type": "execute_result"
    }
   ],
   "source": [
    "data_combined2['credit acc'].unique()"
   ]
  },
  {
   "cell_type": "code",
   "execution_count": 12,
   "metadata": {},
   "outputs": [],
   "source": [
    "data_combined2.loc[:, 'credit acc'] = data_combined2['credit acc'].str.replace(r'sales?', 'sales',regex=True)"
   ]
  },
  {
   "cell_type": "code",
   "execution_count": 13,
   "metadata": {},
   "outputs": [
    {
     "data": {
      "text/plain": [
       "array(['equity', nan, 'cash', 'ap', 'purchases', 'sales', 'ar',\n",
       "       'informal loans given', 'loans to employees', 'informal loan',\n",
       "       'long term loan'], dtype=object)"
      ]
     },
     "execution_count": 13,
     "metadata": {},
     "output_type": "execute_result"
    }
   ],
   "source": [
    "data_combined2['credit acc'].unique()"
   ]
  },
  {
   "cell_type": "code",
   "execution_count": 14,
   "metadata": {},
   "outputs": [],
   "source": [
    "data_combined2.loc[:, 'debit acc'] = data_combined2['debit acc'].str.replace('salaries and wages', 'salary expense')"
   ]
  },
  {
   "cell_type": "code",
   "execution_count": 15,
   "metadata": {},
   "outputs": [
    {
     "data": {
      "text/plain": [
       "array(['cash', nan, 'withdrawal', 'equipment', 'building', 'live stock',\n",
       "       'land', 'salary expense', 'purchases', 'utility expense',\n",
       "       'miscellaneous expense', 'rent expense', 'professional fees',\n",
       "       'transport expense', 'tax expense', 'gifts given',\n",
       "       'loss from theft', 'bank fee', 'ap', 'ar', 'informal loans given',\n",
       "       'loans to employees', 'informal loan', 'long term loan',\n",
       "       'short term loan'], dtype=object)"
      ]
     },
     "execution_count": 15,
     "metadata": {},
     "output_type": "execute_result"
    }
   ],
   "source": [
    "data_combined2['debit acc'].unique()"
   ]
  },
  {
   "cell_type": "code",
   "execution_count": 16,
   "metadata": {},
   "outputs": [
    {
     "data": {
      "text/plain": [
       "array(['equity', nan, 'cash', 'ap', 'purchases', 'sales', 'ar',\n",
       "       'informal loans given', 'loans to employees', 'informal loan',\n",
       "       'long term loan'], dtype=object)"
      ]
     },
     "execution_count": 16,
     "metadata": {},
     "output_type": "execute_result"
    }
   ],
   "source": [
    "data_combined2['credit acc'].unique()"
   ]
  },
  {
   "cell_type": "code",
   "execution_count": 17,
   "metadata": {},
   "outputs": [],
   "source": [
    "data_combined2.to_csv('data_combined.csv')"
   ]
  },
  {
   "cell_type": "code",
   "execution_count": 18,
   "metadata": {},
   "outputs": [],
   "source": [
    "ASSET = [\n",
    "    'cash','ar','equipment', 'building', \n",
    "    'live stock', 'land', \n",
    "    'informal loans given', 'loans to employees'\n",
    "]\n",
    "\n",
    "INCOME = [\n",
    "    'sales',\n",
    "]\n",
    "\n",
    "EXPENSE = [\n",
    "    'purchases', 'salary expense', 'utility expense',\n",
    "    'miscellaneous expense', 'rent expense', 'professional fees',\n",
    "    'transport expense', 'tax expense', \n",
    "    'loss from theft', 'bank fee'\n",
    "]\n",
    "\n",
    "OTHER_INC_EXPENSE = [\n",
    "    'gifts given',\n",
    "]\n",
    "\n",
    "EQUITY = [\n",
    "    'withdrawal', 'equity'\n",
    "]\n",
    "\n",
    "LIABILITY = [\n",
    "    'ap', 'informal loan', 'long term loan', 'short term loan'\n",
    "]"
   ]
  },
  {
   "cell_type": "code",
   "execution_count": 19,
   "metadata": {},
   "outputs": [],
   "source": [
    "def summarize(respondent_id:int, group:list, table: pd.DataFrame):\n",
    "    return [(acc, get_balance(respondent_id, table, acc)) for acc in group]\n",
    "\n",
    "def get_total_from_summary(summary:list[tuple[str, float]]):\n",
    "    return sum([item[1] for item in summary])\n",
    "\n",
    "def get_reverse_sign(summary:list[tuple[str, float]]):\n",
    "    return [(summ[0], -1*summ[1]) for summ in summary]"
   ]
  },
  {
   "cell_type": "code",
   "execution_count": 20,
   "metadata": {},
   "outputs": [
    {
     "data": {
      "text/plain": [
       "[('sales', -538940.0)]"
      ]
     },
     "execution_count": 20,
     "metadata": {},
     "output_type": "execute_result"
    }
   ],
   "source": [
    "summarize(4425, INCOME, data_combined2)"
   ]
  },
  {
   "cell_type": "code",
   "execution_count": 21,
   "metadata": {},
   "outputs": [
    {
     "data": {
      "text/html": [
       "<div>\n",
       "<style scoped>\n",
       "    .dataframe tbody tr th:only-of-type {\n",
       "        vertical-align: middle;\n",
       "    }\n",
       "\n",
       "    .dataframe tbody tr th {\n",
       "        vertical-align: top;\n",
       "    }\n",
       "\n",
       "    .dataframe thead th {\n",
       "        text-align: right;\n",
       "    }\n",
       "</style>\n",
       "<table border=\"1\" class=\"dataframe\">\n",
       "  <thead>\n",
       "    <tr style=\"text-align: right;\">\n",
       "      <th></th>\n",
       "      <th>Account</th>\n",
       "      <th>Balance</th>\n",
       "    </tr>\n",
       "  </thead>\n",
       "  <tbody>\n",
       "    <tr>\n",
       "      <th>0</th>\n",
       "      <td>Sales</td>\n",
       "      <td>538940.00</td>\n",
       "    </tr>\n",
       "    <tr>\n",
       "      <th>1</th>\n",
       "      <td>Total income</td>\n",
       "      <td>538940.00</td>\n",
       "    </tr>\n",
       "    <tr>\n",
       "      <th>2</th>\n",
       "      <td>Purchases</td>\n",
       "      <td>(94899.00)</td>\n",
       "    </tr>\n",
       "    <tr>\n",
       "      <th>3</th>\n",
       "      <td>Salary expense</td>\n",
       "      <td>(42000.00)</td>\n",
       "    </tr>\n",
       "    <tr>\n",
       "      <th>4</th>\n",
       "      <td>Utility expense</td>\n",
       "      <td>(3339.00)</td>\n",
       "    </tr>\n",
       "    <tr>\n",
       "      <th>5</th>\n",
       "      <td>Miscellaneous expense</td>\n",
       "      <td>(35752.00)</td>\n",
       "    </tr>\n",
       "    <tr>\n",
       "      <th>6</th>\n",
       "      <td>Rent expense</td>\n",
       "      <td>(24000.00)</td>\n",
       "    </tr>\n",
       "    <tr>\n",
       "      <th>7</th>\n",
       "      <td>Professional fees</td>\n",
       "      <td>(1795.00)</td>\n",
       "    </tr>\n",
       "    <tr>\n",
       "      <th>8</th>\n",
       "      <td>Transport expense</td>\n",
       "      <td>(600.00)</td>\n",
       "    </tr>\n",
       "    <tr>\n",
       "      <th>9</th>\n",
       "      <td>Tax expense</td>\n",
       "      <td>(3644.00)</td>\n",
       "    </tr>\n",
       "    <tr>\n",
       "      <th>10</th>\n",
       "      <td>Loss from theft</td>\n",
       "      <td></td>\n",
       "    </tr>\n",
       "    <tr>\n",
       "      <th>11</th>\n",
       "      <td>Bank fee</td>\n",
       "      <td></td>\n",
       "    </tr>\n",
       "    <tr>\n",
       "      <th>12</th>\n",
       "      <td>Total expense</td>\n",
       "      <td>(206029.00)</td>\n",
       "    </tr>\n",
       "    <tr>\n",
       "      <th>13</th>\n",
       "      <td>Gifts given</td>\n",
       "      <td></td>\n",
       "    </tr>\n",
       "    <tr>\n",
       "      <th>14</th>\n",
       "      <td>Total other income and expenses</td>\n",
       "      <td></td>\n",
       "    </tr>\n",
       "    <tr>\n",
       "      <th>15</th>\n",
       "      <td>Net income</td>\n",
       "      <td>332911.00</td>\n",
       "    </tr>\n",
       "    <tr>\n",
       "      <th>16</th>\n",
       "      <td>Withdrawal</td>\n",
       "      <td>(396782.00)</td>\n",
       "    </tr>\n",
       "    <tr>\n",
       "      <th>17</th>\n",
       "      <td>Retained earnings</td>\n",
       "      <td>(63871.00)</td>\n",
       "    </tr>\n",
       "  </tbody>\n",
       "</table>\n",
       "</div>"
      ],
      "text/plain": [
       "                            Account      Balance\n",
       "0                             Sales   538940.00 \n",
       "1                      Total income   538940.00 \n",
       "2                         Purchases   (94899.00)\n",
       "3                    Salary expense   (42000.00)\n",
       "4                   Utility expense    (3339.00)\n",
       "5             Miscellaneous expense   (35752.00)\n",
       "6                      Rent expense   (24000.00)\n",
       "7                 Professional fees    (1795.00)\n",
       "8                 Transport expense     (600.00)\n",
       "9                       Tax expense    (3644.00)\n",
       "10                  Loss from theft             \n",
       "11                         Bank fee             \n",
       "12                    Total expense  (206029.00)\n",
       "13                      Gifts given             \n",
       "14  Total other income and expenses             \n",
       "15                       Net income   332911.00 \n",
       "16                       Withdrawal  (396782.00)\n",
       "17                Retained earnings   (63871.00)"
      ]
     },
     "execution_count": 21,
     "metadata": {},
     "output_type": "execute_result"
    }
   ],
   "source": [
    "def income_statement_and_RE(respondent_id, table: pd.DataFrame) -> pd.DataFrame:\n",
    "    income = get_reverse_sign(summarize(respondent_id, INCOME, table))\n",
    "    total_income = get_total_from_summary(income)\n",
    "\n",
    "    expenses = get_reverse_sign(summarize(respondent_id, EXPENSE, table))\n",
    "    total_expense = get_total_from_summary(expenses)\n",
    "\n",
    "    other = get_reverse_sign(summarize(respondent_id, OTHER_INC_EXPENSE, table))\n",
    "    total_other = get_total_from_summary(other)\n",
    "    \n",
    "    net_income = sum([total_income, total_expense, total_other])\n",
    "\n",
    "    # print('IncomeStatement:',income, total_income, total_expense, total_other, net_income)\n",
    "    \n",
    "    withdrawal = get_total_from_summary(\n",
    "        get_reverse_sign(summarize(respondent_id, ['withdrawal'], table))\n",
    "    ) \n",
    "\n",
    "    retained_earnings = net_income + withdrawal\n",
    "\n",
    "    table_data = income + \\\n",
    "        [('Total Income', total_income)] + expenses + \\\n",
    "            [('Total Expense', total_expense)] + other + \\\n",
    "                [('Total other Income and expenses', total_other)] + \\\n",
    "                    [('Net Income', net_income), \n",
    "                     ('Withdrawal', withdrawal),\n",
    "                     ('Retained Earnings', retained_earnings)]\n",
    "\n",
    "    formatted_table = pd.DataFrame(\n",
    "        [\n",
    "            [name.capitalize(), format_number(amount)]\n",
    "            for name, amount in table_data\n",
    "        ],\n",
    "        columns=['Account', 'Balance']\n",
    "    )\n",
    "    # formatted_table= formatted_table[formatted_table['Balance'] != ''].reset_index().drop(columns='index')\n",
    "    return formatted_table\n",
    "\n",
    "income_statement_and_RE(4425, data_combined2)"
   ]
  },
  {
   "cell_type": "code",
   "execution_count": 22,
   "metadata": {},
   "outputs": [
    {
     "data": {
      "text/html": [
       "<div>\n",
       "<style scoped>\n",
       "    .dataframe tbody tr th:only-of-type {\n",
       "        vertical-align: middle;\n",
       "    }\n",
       "\n",
       "    .dataframe tbody tr th {\n",
       "        vertical-align: top;\n",
       "    }\n",
       "\n",
       "    .dataframe thead th {\n",
       "        text-align: right;\n",
       "    }\n",
       "</style>\n",
       "<table border=\"1\" class=\"dataframe\">\n",
       "  <thead>\n",
       "    <tr style=\"text-align: right;\">\n",
       "      <th></th>\n",
       "      <th>Account</th>\n",
       "      <th>Balance</th>\n",
       "    </tr>\n",
       "  </thead>\n",
       "  <tbody>\n",
       "    <tr>\n",
       "      <th>0</th>\n",
       "      <td>Cash</td>\n",
       "      <td>321389.50</td>\n",
       "    </tr>\n",
       "    <tr>\n",
       "      <th>1</th>\n",
       "      <td>Ar</td>\n",
       "      <td>5516.00</td>\n",
       "    </tr>\n",
       "    <tr>\n",
       "      <th>2</th>\n",
       "      <td>Equipment</td>\n",
       "      <td>1764400.00</td>\n",
       "    </tr>\n",
       "    <tr>\n",
       "      <th>3</th>\n",
       "      <td>Building</td>\n",
       "      <td></td>\n",
       "    </tr>\n",
       "    <tr>\n",
       "      <th>4</th>\n",
       "      <td>Live stock</td>\n",
       "      <td></td>\n",
       "    </tr>\n",
       "    <tr>\n",
       "      <th>5</th>\n",
       "      <td>Land</td>\n",
       "      <td></td>\n",
       "    </tr>\n",
       "    <tr>\n",
       "      <th>6</th>\n",
       "      <td>Informal loans given</td>\n",
       "      <td>200000.00</td>\n",
       "    </tr>\n",
       "    <tr>\n",
       "      <th>7</th>\n",
       "      <td>Loans to employees</td>\n",
       "      <td></td>\n",
       "    </tr>\n",
       "    <tr>\n",
       "      <th>8</th>\n",
       "      <td>Total assets</td>\n",
       "      <td>2291305.50</td>\n",
       "    </tr>\n",
       "    <tr>\n",
       "      <th>9</th>\n",
       "      <td>Ap</td>\n",
       "      <td></td>\n",
       "    </tr>\n",
       "    <tr>\n",
       "      <th>10</th>\n",
       "      <td>Informal loan</td>\n",
       "      <td>11750.00</td>\n",
       "    </tr>\n",
       "    <tr>\n",
       "      <th>11</th>\n",
       "      <td>Long term loan</td>\n",
       "      <td></td>\n",
       "    </tr>\n",
       "    <tr>\n",
       "      <th>12</th>\n",
       "      <td>Short term loan</td>\n",
       "      <td></td>\n",
       "    </tr>\n",
       "    <tr>\n",
       "      <th>13</th>\n",
       "      <td>Total liabilities</td>\n",
       "      <td>11750.00</td>\n",
       "    </tr>\n",
       "    <tr>\n",
       "      <th>14</th>\n",
       "      <td>Equity</td>\n",
       "      <td>2279555.50</td>\n",
       "    </tr>\n",
       "  </tbody>\n",
       "</table>\n",
       "</div>"
      ],
      "text/plain": [
       "                 Account      Balance\n",
       "0                   Cash   321389.50 \n",
       "1                     Ar     5516.00 \n",
       "2              Equipment  1764400.00 \n",
       "3               Building             \n",
       "4             Live stock             \n",
       "5                   Land             \n",
       "6   Informal loans given   200000.00 \n",
       "7     Loans to employees             \n",
       "8           Total assets  2291305.50 \n",
       "9                     Ap             \n",
       "10         Informal loan    11750.00 \n",
       "11        Long term loan             \n",
       "12       Short term loan             \n",
       "13     Total liabilities    11750.00 \n",
       "14                Equity  2279555.50 "
      ]
     },
     "execution_count": 22,
     "metadata": {},
     "output_type": "execute_result"
    }
   ],
   "source": [
    "\n",
    "def get_retained_earnings(respondent_id, table: pd.DataFrame) -> float:\n",
    "    income = get_reverse_sign(summarize(respondent_id, INCOME, table))\n",
    "    total_income = get_total_from_summary(income)\n",
    "\n",
    "    expenses = get_reverse_sign(summarize(respondent_id, EXPENSE, table))\n",
    "    total_expense = get_total_from_summary(expenses)\n",
    "\n",
    "    other = get_reverse_sign(summarize(respondent_id, OTHER_INC_EXPENSE, table))\n",
    "    total_other = get_total_from_summary(other)\n",
    "    \n",
    "    net_income = sum([total_income, total_expense, total_other])\n",
    "    \n",
    "    withdrawal = get_total_from_summary(\n",
    "        get_reverse_sign(summarize(respondent_id, ['withdrawal'], table))\n",
    "    ) \n",
    "\n",
    "    retained_earnings = net_income + withdrawal\n",
    "    return retained_earnings\n",
    "\n",
    "def balance_sheet(respondent_id, table: pd.DataFrame) -> pd.DataFrame:\n",
    "    # income_stat = income_statement_and_RE(respondent_id, table)\n",
    "    retained_earnings = get_retained_earnings(respondent_id, table)\n",
    "\n",
    "    assets = summarize(respondent_id, ASSET, table)\n",
    "    liabilities = get_reverse_sign(summarize(respondent_id, LIABILITY, table))\n",
    "    equity = get_reverse_sign(summarize(respondent_id, ['equity'], table))\n",
    "    \n",
    "    total_a = get_total_from_summary(assets)\n",
    "    total_l = get_total_from_summary(liabilities)\n",
    "    total_e = get_total_from_summary(equity) + retained_earnings\n",
    "    \n",
    "    table_data = assets + [('Total assets', total_a)] + liabilities + [('Total liabilities', total_l)] + [('Equity', total_e)]\n",
    "\n",
    "    formatted_table = pd.DataFrame(\n",
    "        [\n",
    "            [name.capitalize(), format_number(amount)]\n",
    "            for name, amount in table_data\n",
    "        ],\n",
    "        columns=['Account', 'Balance']\n",
    "    )\n",
    "    # formatted_table= formatted_table[formatted_table['Balance'] != ''].reset_index().drop(columns='index')\n",
    "    return formatted_table\n",
    "\n",
    "\n",
    "balance_sheet(4425, data_combined2)"
   ]
  },
  {
   "cell_type": "code",
   "execution_count": 23,
   "metadata": {},
   "outputs": [
    {
     "data": {
      "text/html": [
       "<div>\n",
       "<style scoped>\n",
       "    .dataframe tbody tr th:only-of-type {\n",
       "        vertical-align: middle;\n",
       "    }\n",
       "\n",
       "    .dataframe tbody tr th {\n",
       "        vertical-align: top;\n",
       "    }\n",
       "\n",
       "    .dataframe thead th {\n",
       "        text-align: right;\n",
       "    }\n",
       "</style>\n",
       "<table border=\"1\" class=\"dataframe\">\n",
       "  <thead>\n",
       "    <tr style=\"text-align: right;\">\n",
       "      <th></th>\n",
       "      <th>Account</th>\n",
       "      <th>Balance</th>\n",
       "    </tr>\n",
       "  </thead>\n",
       "  <tbody>\n",
       "    <tr>\n",
       "      <th>0</th>\n",
       "      <td>Sales</td>\n",
       "      <td>2017023.00</td>\n",
       "    </tr>\n",
       "    <tr>\n",
       "      <th>1</th>\n",
       "      <td>Total income</td>\n",
       "      <td>2017023.00</td>\n",
       "    </tr>\n",
       "    <tr>\n",
       "      <th>2</th>\n",
       "      <td>Purchases</td>\n",
       "      <td>(1351431.60)</td>\n",
       "    </tr>\n",
       "    <tr>\n",
       "      <th>3</th>\n",
       "      <td>Salary expense</td>\n",
       "      <td>(187540.00)</td>\n",
       "    </tr>\n",
       "    <tr>\n",
       "      <th>4</th>\n",
       "      <td>Utility expense</td>\n",
       "      <td>(1200.00)</td>\n",
       "    </tr>\n",
       "    <tr>\n",
       "      <th>5</th>\n",
       "      <td>Miscellaneous expense</td>\n",
       "      <td>(22000.00)</td>\n",
       "    </tr>\n",
       "    <tr>\n",
       "      <th>6</th>\n",
       "      <td>Rent expense</td>\n",
       "      <td></td>\n",
       "    </tr>\n",
       "    <tr>\n",
       "      <th>7</th>\n",
       "      <td>Professional fees</td>\n",
       "      <td></td>\n",
       "    </tr>\n",
       "    <tr>\n",
       "      <th>8</th>\n",
       "      <td>Transport expense</td>\n",
       "      <td>(7100.00)</td>\n",
       "    </tr>\n",
       "    <tr>\n",
       "      <th>9</th>\n",
       "      <td>Tax expense</td>\n",
       "      <td>(37030.00)</td>\n",
       "    </tr>\n",
       "    <tr>\n",
       "      <th>10</th>\n",
       "      <td>Loss from theft</td>\n",
       "      <td></td>\n",
       "    </tr>\n",
       "    <tr>\n",
       "      <th>11</th>\n",
       "      <td>Bank fee</td>\n",
       "      <td></td>\n",
       "    </tr>\n",
       "    <tr>\n",
       "      <th>12</th>\n",
       "      <td>Total expense</td>\n",
       "      <td>(1606301.60)</td>\n",
       "    </tr>\n",
       "    <tr>\n",
       "      <th>13</th>\n",
       "      <td>Gifts given</td>\n",
       "      <td></td>\n",
       "    </tr>\n",
       "    <tr>\n",
       "      <th>14</th>\n",
       "      <td>Total other income and expenses</td>\n",
       "      <td></td>\n",
       "    </tr>\n",
       "    <tr>\n",
       "      <th>15</th>\n",
       "      <td>Net income</td>\n",
       "      <td>410721.40</td>\n",
       "    </tr>\n",
       "    <tr>\n",
       "      <th>16</th>\n",
       "      <td>Withdrawal</td>\n",
       "      <td>(157030.00)</td>\n",
       "    </tr>\n",
       "    <tr>\n",
       "      <th>17</th>\n",
       "      <td>Retained earnings</td>\n",
       "      <td>253691.40</td>\n",
       "    </tr>\n",
       "  </tbody>\n",
       "</table>\n",
       "</div>"
      ],
      "text/plain": [
       "                            Account       Balance\n",
       "0                             Sales   2017023.00 \n",
       "1                      Total income   2017023.00 \n",
       "2                         Purchases  (1351431.60)\n",
       "3                    Salary expense   (187540.00)\n",
       "4                   Utility expense     (1200.00)\n",
       "5             Miscellaneous expense    (22000.00)\n",
       "6                      Rent expense              \n",
       "7                 Professional fees              \n",
       "8                 Transport expense     (7100.00)\n",
       "9                       Tax expense    (37030.00)\n",
       "10                  Loss from theft              \n",
       "11                         Bank fee              \n",
       "12                    Total expense  (1606301.60)\n",
       "13                      Gifts given              \n",
       "14  Total other income and expenses              \n",
       "15                       Net income    410721.40 \n",
       "16                       Withdrawal   (157030.00)\n",
       "17                Retained earnings    253691.40 "
      ]
     },
     "execution_count": 23,
     "metadata": {},
     "output_type": "execute_result"
    }
   ],
   "source": [
    "income_statement_and_RE(4429, data_combined2)"
   ]
  },
  {
   "cell_type": "code",
   "execution_count": 24,
   "metadata": {},
   "outputs": [
    {
     "data": {
      "text/plain": [
       "Index(['Respondent ID', 'date', 'debit acc', 'debit amt', 'credit acc',\n",
       "       'credit amt', 'Income source data ID', 'Income source sub-type',\n",
       "       'Income report income source name'],\n",
       "      dtype='object')"
      ]
     },
     "execution_count": 24,
     "metadata": {},
     "output_type": "execute_result"
    }
   ],
   "source": [
    "data_combined2.columns"
   ]
  },
  {
   "cell_type": "code",
   "execution_count": 25,
   "metadata": {},
   "outputs": [],
   "source": [
    "import datetime as dt"
   ]
  },
  {
   "cell_type": "code",
   "execution_count": 26,
   "metadata": {},
   "outputs": [],
   "source": [
    "def format_date(data:pd.DataFrame, date_col:str):\n",
    "    dates = []\n",
    "    for d in data_combined2['date']:\n",
    "        if not pd.isna(d):\n",
    "            year, month, day = d.split('-')\n",
    "            dates.append(dt.date(int(year), int(month), int(day)))\n",
    "        else:\n",
    "            dates.append(pd.NA)\n",
    "    data2 = data.copy()\n",
    "    data2.drop(columns=date_col, inplace=True)\n",
    "    data2[date_col] = dates\n",
    "    return data2\n"
   ]
  },
  {
   "cell_type": "code",
   "execution_count": 27,
   "metadata": {},
   "outputs": [
    {
     "data": {
      "text/html": [
       "<div>\n",
       "<style scoped>\n",
       "    .dataframe tbody tr th:only-of-type {\n",
       "        vertical-align: middle;\n",
       "    }\n",
       "\n",
       "    .dataframe tbody tr th {\n",
       "        vertical-align: top;\n",
       "    }\n",
       "\n",
       "    .dataframe thead th {\n",
       "        text-align: right;\n",
       "    }\n",
       "</style>\n",
       "<table border=\"1\" class=\"dataframe\">\n",
       "  <thead>\n",
       "    <tr style=\"text-align: right;\">\n",
       "      <th></th>\n",
       "      <th>Respondent ID</th>\n",
       "      <th>debit acc</th>\n",
       "      <th>debit amt</th>\n",
       "      <th>credit acc</th>\n",
       "      <th>credit amt</th>\n",
       "      <th>Income source data ID</th>\n",
       "      <th>Income source sub-type</th>\n",
       "      <th>Income report income source name</th>\n",
       "      <th>date</th>\n",
       "    </tr>\n",
       "  </thead>\n",
       "  <tbody>\n",
       "    <tr>\n",
       "      <th>0</th>\n",
       "      <td>4425.0</td>\n",
       "      <td>cash</td>\n",
       "      <td>1910.0</td>\n",
       "      <td>equity</td>\n",
       "      <td>1910.0</td>\n",
       "      <td>NaN</td>\n",
       "      <td>NaN</td>\n",
       "      <td>NaN</td>\n",
       "      <td>2021-07-12</td>\n",
       "    </tr>\n",
       "    <tr>\n",
       "      <th>1</th>\n",
       "      <td>4425.0</td>\n",
       "      <td>NaN</td>\n",
       "      <td>NaN</td>\n",
       "      <td>NaN</td>\n",
       "      <td>NaN</td>\n",
       "      <td>NaN</td>\n",
       "      <td>NaN</td>\n",
       "      <td>NaN</td>\n",
       "      <td>2021-04-28</td>\n",
       "    </tr>\n",
       "    <tr>\n",
       "      <th>2</th>\n",
       "      <td>4425.0</td>\n",
       "      <td>NaN</td>\n",
       "      <td>NaN</td>\n",
       "      <td>NaN</td>\n",
       "      <td>NaN</td>\n",
       "      <td>NaN</td>\n",
       "      <td>NaN</td>\n",
       "      <td>NaN</td>\n",
       "      <td>2021-04-28</td>\n",
       "    </tr>\n",
       "    <tr>\n",
       "      <th>3</th>\n",
       "      <td>4425.0</td>\n",
       "      <td>NaN</td>\n",
       "      <td>NaN</td>\n",
       "      <td>NaN</td>\n",
       "      <td>NaN</td>\n",
       "      <td>NaN</td>\n",
       "      <td>NaN</td>\n",
       "      <td>NaN</td>\n",
       "      <td>2021-04-28</td>\n",
       "    </tr>\n",
       "    <tr>\n",
       "      <th>4</th>\n",
       "      <td>4425.0</td>\n",
       "      <td>withdrawal</td>\n",
       "      <td>2100.0</td>\n",
       "      <td>cash</td>\n",
       "      <td>2100.0</td>\n",
       "      <td>NaN</td>\n",
       "      <td>NaN</td>\n",
       "      <td>NaN</td>\n",
       "      <td>2021-04-21</td>\n",
       "    </tr>\n",
       "    <tr>\n",
       "      <th>...</th>\n",
       "      <td>...</td>\n",
       "      <td>...</td>\n",
       "      <td>...</td>\n",
       "      <td>...</td>\n",
       "      <td>...</td>\n",
       "      <td>...</td>\n",
       "      <td>...</td>\n",
       "      <td>...</td>\n",
       "      <td>...</td>\n",
       "    </tr>\n",
       "    <tr>\n",
       "      <th>270677</th>\n",
       "      <td>5883.0</td>\n",
       "      <td>cash</td>\n",
       "      <td>9500.0</td>\n",
       "      <td>long term loan</td>\n",
       "      <td>9500.0</td>\n",
       "      <td>NaN</td>\n",
       "      <td>NaN</td>\n",
       "      <td>NaN</td>\n",
       "      <td>2021-07-30</td>\n",
       "    </tr>\n",
       "    <tr>\n",
       "      <th>270678</th>\n",
       "      <td>5883.0</td>\n",
       "      <td>cash</td>\n",
       "      <td>9500.0</td>\n",
       "      <td>long term loan</td>\n",
       "      <td>9500.0</td>\n",
       "      <td>NaN</td>\n",
       "      <td>NaN</td>\n",
       "      <td>NaN</td>\n",
       "      <td>2021-07-30</td>\n",
       "    </tr>\n",
       "    <tr>\n",
       "      <th>270679</th>\n",
       "      <td>5883.0</td>\n",
       "      <td>cash</td>\n",
       "      <td>9500.0</td>\n",
       "      <td>long term loan</td>\n",
       "      <td>9500.0</td>\n",
       "      <td>NaN</td>\n",
       "      <td>NaN</td>\n",
       "      <td>NaN</td>\n",
       "      <td>2021-08-30</td>\n",
       "    </tr>\n",
       "    <tr>\n",
       "      <th>270680</th>\n",
       "      <td>5883.0</td>\n",
       "      <td>cash</td>\n",
       "      <td>19000.0</td>\n",
       "      <td>long term loan</td>\n",
       "      <td>19000.0</td>\n",
       "      <td>NaN</td>\n",
       "      <td>NaN</td>\n",
       "      <td>NaN</td>\n",
       "      <td>2021-10-29</td>\n",
       "    </tr>\n",
       "    <tr>\n",
       "      <th>270681</th>\n",
       "      <td>5883.0</td>\n",
       "      <td>cash</td>\n",
       "      <td>9500.0</td>\n",
       "      <td>long term loan</td>\n",
       "      <td>9500.0</td>\n",
       "      <td>NaN</td>\n",
       "      <td>NaN</td>\n",
       "      <td>NaN</td>\n",
       "      <td>2022-01-03</td>\n",
       "    </tr>\n",
       "  </tbody>\n",
       "</table>\n",
       "<p>270682 rows × 9 columns</p>\n",
       "</div>"
      ],
      "text/plain": [
       "        Respondent ID   debit acc  debit amt      credit acc  credit amt  \\\n",
       "0              4425.0        cash     1910.0          equity      1910.0   \n",
       "1              4425.0         NaN        NaN             NaN         NaN   \n",
       "2              4425.0         NaN        NaN             NaN         NaN   \n",
       "3              4425.0         NaN        NaN             NaN         NaN   \n",
       "4              4425.0  withdrawal     2100.0            cash      2100.0   \n",
       "...               ...         ...        ...             ...         ...   \n",
       "270677         5883.0        cash     9500.0  long term loan      9500.0   \n",
       "270678         5883.0        cash     9500.0  long term loan      9500.0   \n",
       "270679         5883.0        cash     9500.0  long term loan      9500.0   \n",
       "270680         5883.0        cash    19000.0  long term loan     19000.0   \n",
       "270681         5883.0        cash     9500.0  long term loan      9500.0   \n",
       "\n",
       "       Income source data ID Income source sub-type  \\\n",
       "0                        NaN                    NaN   \n",
       "1                        NaN                    NaN   \n",
       "2                        NaN                    NaN   \n",
       "3                        NaN                    NaN   \n",
       "4                        NaN                    NaN   \n",
       "...                      ...                    ...   \n",
       "270677                   NaN                    NaN   \n",
       "270678                   NaN                    NaN   \n",
       "270679                   NaN                    NaN   \n",
       "270680                   NaN                    NaN   \n",
       "270681                   NaN                    NaN   \n",
       "\n",
       "       Income report income source name        date  \n",
       "0                                   NaN  2021-07-12  \n",
       "1                                   NaN  2021-04-28  \n",
       "2                                   NaN  2021-04-28  \n",
       "3                                   NaN  2021-04-28  \n",
       "4                                   NaN  2021-04-21  \n",
       "...                                 ...         ...  \n",
       "270677                              NaN  2021-07-30  \n",
       "270678                              NaN  2021-07-30  \n",
       "270679                              NaN  2021-08-30  \n",
       "270680                              NaN  2021-10-29  \n",
       "270681                              NaN  2022-01-03  \n",
       "\n",
       "[270682 rows x 9 columns]"
      ]
     },
     "execution_count": 27,
     "metadata": {},
     "output_type": "execute_result"
    }
   ],
   "source": [
    "data_combined3 = format_date(data_combined2, 'date')\n",
    "data_combined3"
   ]
  },
  {
   "cell_type": "code",
   "execution_count": 28,
   "metadata": {},
   "outputs": [
    {
     "data": {
      "text/html": [
       "<div>\n",
       "<style scoped>\n",
       "    .dataframe tbody tr th:only-of-type {\n",
       "        vertical-align: middle;\n",
       "    }\n",
       "\n",
       "    .dataframe tbody tr th {\n",
       "        vertical-align: top;\n",
       "    }\n",
       "\n",
       "    .dataframe thead th {\n",
       "        text-align: right;\n",
       "    }\n",
       "</style>\n",
       "<table border=\"1\" class=\"dataframe\">\n",
       "  <thead>\n",
       "    <tr style=\"text-align: right;\">\n",
       "      <th></th>\n",
       "      <th>Respondent ID</th>\n",
       "      <th>debit acc</th>\n",
       "      <th>debit amt</th>\n",
       "      <th>credit acc</th>\n",
       "      <th>credit amt</th>\n",
       "      <th>Income source data ID</th>\n",
       "      <th>Income source sub-type</th>\n",
       "      <th>Income report income source name</th>\n",
       "      <th>date</th>\n",
       "    </tr>\n",
       "  </thead>\n",
       "  <tbody>\n",
       "    <tr>\n",
       "      <th>0</th>\n",
       "      <td>4425.0</td>\n",
       "      <td>cash</td>\n",
       "      <td>1910.0</td>\n",
       "      <td>equity</td>\n",
       "      <td>1910.0</td>\n",
       "      <td>NaN</td>\n",
       "      <td>NaN</td>\n",
       "      <td>NaN</td>\n",
       "      <td>2021-07-12</td>\n",
       "    </tr>\n",
       "    <tr>\n",
       "      <th>1</th>\n",
       "      <td>4425.0</td>\n",
       "      <td>NaN</td>\n",
       "      <td>NaN</td>\n",
       "      <td>NaN</td>\n",
       "      <td>NaN</td>\n",
       "      <td>NaN</td>\n",
       "      <td>NaN</td>\n",
       "      <td>NaN</td>\n",
       "      <td>2021-04-28</td>\n",
       "    </tr>\n",
       "    <tr>\n",
       "      <th>2</th>\n",
       "      <td>4425.0</td>\n",
       "      <td>NaN</td>\n",
       "      <td>NaN</td>\n",
       "      <td>NaN</td>\n",
       "      <td>NaN</td>\n",
       "      <td>NaN</td>\n",
       "      <td>NaN</td>\n",
       "      <td>NaN</td>\n",
       "      <td>2021-04-28</td>\n",
       "    </tr>\n",
       "    <tr>\n",
       "      <th>3</th>\n",
       "      <td>4425.0</td>\n",
       "      <td>NaN</td>\n",
       "      <td>NaN</td>\n",
       "      <td>NaN</td>\n",
       "      <td>NaN</td>\n",
       "      <td>NaN</td>\n",
       "      <td>NaN</td>\n",
       "      <td>NaN</td>\n",
       "      <td>2021-04-28</td>\n",
       "    </tr>\n",
       "    <tr>\n",
       "      <th>4</th>\n",
       "      <td>4425.0</td>\n",
       "      <td>withdrawal</td>\n",
       "      <td>2100.0</td>\n",
       "      <td>cash</td>\n",
       "      <td>2100.0</td>\n",
       "      <td>NaN</td>\n",
       "      <td>NaN</td>\n",
       "      <td>NaN</td>\n",
       "      <td>2021-04-21</td>\n",
       "    </tr>\n",
       "  </tbody>\n",
       "</table>\n",
       "</div>"
      ],
      "text/plain": [
       "   Respondent ID   debit acc  debit amt credit acc  credit amt  \\\n",
       "0         4425.0        cash     1910.0     equity      1910.0   \n",
       "1         4425.0         NaN        NaN        NaN         NaN   \n",
       "2         4425.0         NaN        NaN        NaN         NaN   \n",
       "3         4425.0         NaN        NaN        NaN         NaN   \n",
       "4         4425.0  withdrawal     2100.0       cash      2100.0   \n",
       "\n",
       "  Income source data ID Income source sub-type  \\\n",
       "0                   NaN                    NaN   \n",
       "1                   NaN                    NaN   \n",
       "2                   NaN                    NaN   \n",
       "3                   NaN                    NaN   \n",
       "4                   NaN                    NaN   \n",
       "\n",
       "  Income report income source name        date  \n",
       "0                              NaN  2021-07-12  \n",
       "1                              NaN  2021-04-28  \n",
       "2                              NaN  2021-04-28  \n",
       "3                              NaN  2021-04-28  \n",
       "4                              NaN  2021-04-21  "
      ]
     },
     "execution_count": 28,
     "metadata": {},
     "output_type": "execute_result"
    }
   ],
   "source": [
    "data_2021 = data_combined3[(data_combined3['date'] >= dt.date(2021, 1, 1)) & (data_combined3['date'] <=dt.date(2021, 12, 31))]\n",
    "data_2021.head()"
   ]
  },
  {
   "cell_type": "code",
   "execution_count": 29,
   "metadata": {},
   "outputs": [],
   "source": [
    "def filter_by_year(df:pd.DataFrame, date_col: str, year:int) -> pd.DataFrame:\n",
    "    return df[(df[date_col] >= dt.date(year, 1, 1)) & (df[date_col] <=dt.date(year, 12, 31))].reset_index().drop(columns='index')\n",
    "\n",
    "def filter_by_year_month(df:pd.DataFrame, date_col: str, year:int, month:int):\n",
    "    p = pd.Period(f'{year}-{month}-1')\n",
    "    days = p.daysinmonth\n",
    "    return df[(df[date_col] >= dt.date(year, month, 1)) & (df[date_col] <=dt.date(year, month, days))].reset_index().drop(columns='index')\n",
    "\n"
   ]
  },
  {
   "cell_type": "code",
   "execution_count": 30,
   "metadata": {},
   "outputs": [],
   "source": [
    "def filter_up_to(df: pd.DataFrame, date_col: str, year: int, month: int=None):\n",
    "    if month == None:\n",
    "        month = 12\n",
    "    p = pd.Period(f'{year}-{month}-1')\n",
    "    days = p.days_in_month\n",
    "    return df[df[date_col] <= dt.date(year, month, days)]"
   ]
  },
  {
   "cell_type": "code",
   "execution_count": 31,
   "metadata": {},
   "outputs": [
    {
     "data": {
      "text/plain": [
       "2022"
      ]
     },
     "execution_count": 31,
     "metadata": {},
     "output_type": "execute_result"
    }
   ],
   "source": [
    "def get_latest_year(df:pd.DataFrame, date_col:str):\n",
    "    date_ordered = df[~df[date_col].isna()][date_col].sort_values().reset_index().drop(columns='index')\n",
    "    return date_ordered.loc[len(date_ordered)-1][0].year\n",
    "\n",
    "get_latest_year(data_combined3, 'date')"
   ]
  },
  {
   "cell_type": "code",
   "execution_count": 32,
   "metadata": {},
   "outputs": [],
   "source": [
    "def get_lastest_month(df: pd.DataFrame, date_col:str, year:int):\n",
    "    filtered = filter_by_year(df, date_col, year)\n",
    "    return filtered[date_col].apply(lambda x: x.month).max()\n"
   ]
  },
  {
   "cell_type": "markdown",
   "metadata": {},
   "source": [
    "Financial ratios and health"
   ]
  },
  {
   "cell_type": "code",
   "execution_count": 33,
   "metadata": {},
   "outputs": [],
   "source": [
    "\n",
    "def get_unique_years(df: pd.DataFrame, date_col: str):\n",
    "    not_na = df[~df[date_col].isna()]\n",
    "    return not_na[date_col].apply(lambda x: x.year).unique()\n",
    "\n",
    "\n",
    "def get_unique_months(df: pd.DataFrame, date_col: str):\n",
    "    not_na = df[~df[date_col].isna()]\n",
    "    return not_na[date_col].apply(lambda x: x.month).unique()\n",
    "    "
   ]
  },
  {
   "cell_type": "code",
   "execution_count": 34,
   "metadata": {},
   "outputs": [
    {
     "data": {
      "text/plain": [
       "array([2021, 2022], dtype=int64)"
      ]
     },
     "execution_count": 34,
     "metadata": {},
     "output_type": "execute_result"
    }
   ],
   "source": [
    "years = get_unique_years(data_combined3, 'date')\n",
    "years[years >= 2021]"
   ]
  },
  {
   "cell_type": "code",
   "execution_count": 35,
   "metadata": {},
   "outputs": [
    {
     "data": {
      "text/plain": [
       "array([ 1,  2,  3,  4,  5,  6, 10, 11,  7, 12,  8,  9], dtype=int64)"
      ]
     },
     "execution_count": 35,
     "metadata": {},
     "output_type": "execute_result"
    }
   ],
   "source": [
    "get_unique_months(filter_by_year(data_combined3, 'date', 2022), 'date')"
   ]
  },
  {
   "cell_type": "code",
   "execution_count": 36,
   "metadata": {},
   "outputs": [],
   "source": [
    "res_id = 4425\n",
    "respondent_filtered = data_combined3[data_combined3['Respondent ID'] == res_id].reset_index().drop(columns='index')"
   ]
  },
  {
   "cell_type": "code",
   "execution_count": 37,
   "metadata": {},
   "outputs": [
    {
     "data": {
      "text/plain": [
       "array([ 7,  4,  5,  6,  8,  9, 10, 11, 12,  3,  2], dtype=int64)"
      ]
     },
     "execution_count": 37,
     "metadata": {},
     "output_type": "execute_result"
    }
   ],
   "source": [
    "get_unique_months(filter_by_year(respondent_filtered, 'date', 2021), 'date')"
   ]
  },
  {
   "cell_type": "code",
   "execution_count": 38,
   "metadata": {},
   "outputs": [
    {
     "name": "stdout",
     "output_type": "stream",
     "text": [
      "-34.0\n",
      "-3400.0\n",
      "-34000.0\n",
      "34000.0\n",
      "34000.0\n"
     ]
    }
   ],
   "source": [
    "def unformat_num(num_str:str) -> float:\n",
    "    if num_str == '':\n",
    "        return 0\n",
    "    to_include = ['.']\n",
    "    to_replace = {'(': '-'}\n",
    "    new_form = ''\n",
    "    for char in num_str:\n",
    "        if char in to_replace:\n",
    "            new_form += to_replace[char]\n",
    "            continue\n",
    "    \n",
    "        if char.isdecimal() or char in to_include:\n",
    "            new_form += char\n",
    "            continue\n",
    "    \n",
    "    return float(new_form)\n",
    "\n",
    "print(unformat_num('(34.00)'))\n",
    "print(unformat_num('(3,400.00)'))\n",
    "print(unformat_num('(34,000.00)'))\n",
    "print(unformat_num('34,000.00'))\n",
    "print(unformat_num('34,000.00'))"
   ]
  },
  {
   "cell_type": "code",
   "execution_count": 39,
   "metadata": {},
   "outputs": [
    {
     "data": {
      "text/html": [
       "<div>\n",
       "<style scoped>\n",
       "    .dataframe tbody tr th:only-of-type {\n",
       "        vertical-align: middle;\n",
       "    }\n",
       "\n",
       "    .dataframe tbody tr th {\n",
       "        vertical-align: top;\n",
       "    }\n",
       "\n",
       "    .dataframe thead th {\n",
       "        text-align: right;\n",
       "    }\n",
       "</style>\n",
       "<table border=\"1\" class=\"dataframe\">\n",
       "  <thead>\n",
       "    <tr style=\"text-align: right;\">\n",
       "      <th></th>\n",
       "      <th>Account</th>\n",
       "      <th>Balance</th>\n",
       "      <th>Balance2</th>\n",
       "    </tr>\n",
       "  </thead>\n",
       "  <tbody>\n",
       "    <tr>\n",
       "      <th>0</th>\n",
       "      <td>Sales</td>\n",
       "      <td>538940.00</td>\n",
       "      <td>538940.0</td>\n",
       "    </tr>\n",
       "    <tr>\n",
       "      <th>1</th>\n",
       "      <td>Total income</td>\n",
       "      <td>538940.00</td>\n",
       "      <td>538940.0</td>\n",
       "    </tr>\n",
       "    <tr>\n",
       "      <th>2</th>\n",
       "      <td>Purchases</td>\n",
       "      <td>(94899.00)</td>\n",
       "      <td>-94899.0</td>\n",
       "    </tr>\n",
       "    <tr>\n",
       "      <th>3</th>\n",
       "      <td>Salary expense</td>\n",
       "      <td>(42000.00)</td>\n",
       "      <td>-42000.0</td>\n",
       "    </tr>\n",
       "    <tr>\n",
       "      <th>4</th>\n",
       "      <td>Utility expense</td>\n",
       "      <td>(3339.00)</td>\n",
       "      <td>-3339.0</td>\n",
       "    </tr>\n",
       "    <tr>\n",
       "      <th>5</th>\n",
       "      <td>Miscellaneous expense</td>\n",
       "      <td>(35752.00)</td>\n",
       "      <td>-35752.0</td>\n",
       "    </tr>\n",
       "    <tr>\n",
       "      <th>6</th>\n",
       "      <td>Rent expense</td>\n",
       "      <td>(24000.00)</td>\n",
       "      <td>-24000.0</td>\n",
       "    </tr>\n",
       "    <tr>\n",
       "      <th>7</th>\n",
       "      <td>Professional fees</td>\n",
       "      <td>(1795.00)</td>\n",
       "      <td>-1795.0</td>\n",
       "    </tr>\n",
       "    <tr>\n",
       "      <th>8</th>\n",
       "      <td>Transport expense</td>\n",
       "      <td>(600.00)</td>\n",
       "      <td>-600.0</td>\n",
       "    </tr>\n",
       "    <tr>\n",
       "      <th>9</th>\n",
       "      <td>Tax expense</td>\n",
       "      <td>(3644.00)</td>\n",
       "      <td>-3644.0</td>\n",
       "    </tr>\n",
       "    <tr>\n",
       "      <th>10</th>\n",
       "      <td>Loss from theft</td>\n",
       "      <td></td>\n",
       "      <td>0.0</td>\n",
       "    </tr>\n",
       "    <tr>\n",
       "      <th>11</th>\n",
       "      <td>Bank fee</td>\n",
       "      <td></td>\n",
       "      <td>0.0</td>\n",
       "    </tr>\n",
       "    <tr>\n",
       "      <th>12</th>\n",
       "      <td>Total expense</td>\n",
       "      <td>(206029.00)</td>\n",
       "      <td>-206029.0</td>\n",
       "    </tr>\n",
       "    <tr>\n",
       "      <th>13</th>\n",
       "      <td>Gifts given</td>\n",
       "      <td></td>\n",
       "      <td>0.0</td>\n",
       "    </tr>\n",
       "    <tr>\n",
       "      <th>14</th>\n",
       "      <td>Total other income and expenses</td>\n",
       "      <td></td>\n",
       "      <td>0.0</td>\n",
       "    </tr>\n",
       "    <tr>\n",
       "      <th>15</th>\n",
       "      <td>Net income</td>\n",
       "      <td>332911.00</td>\n",
       "      <td>332911.0</td>\n",
       "    </tr>\n",
       "    <tr>\n",
       "      <th>16</th>\n",
       "      <td>Withdrawal</td>\n",
       "      <td>(396782.00)</td>\n",
       "      <td>-396782.0</td>\n",
       "    </tr>\n",
       "    <tr>\n",
       "      <th>17</th>\n",
       "      <td>Retained earnings</td>\n",
       "      <td>(63871.00)</td>\n",
       "      <td>-63871.0</td>\n",
       "    </tr>\n",
       "  </tbody>\n",
       "</table>\n",
       "</div>"
      ],
      "text/plain": [
       "                            Account      Balance  Balance2\n",
       "0                             Sales   538940.00   538940.0\n",
       "1                      Total income   538940.00   538940.0\n",
       "2                         Purchases   (94899.00)  -94899.0\n",
       "3                    Salary expense   (42000.00)  -42000.0\n",
       "4                   Utility expense    (3339.00)   -3339.0\n",
       "5             Miscellaneous expense   (35752.00)  -35752.0\n",
       "6                      Rent expense   (24000.00)  -24000.0\n",
       "7                 Professional fees    (1795.00)   -1795.0\n",
       "8                 Transport expense     (600.00)    -600.0\n",
       "9                       Tax expense    (3644.00)   -3644.0\n",
       "10                  Loss from theft                    0.0\n",
       "11                         Bank fee                    0.0\n",
       "12                    Total expense  (206029.00) -206029.0\n",
       "13                      Gifts given                    0.0\n",
       "14  Total other income and expenses                    0.0\n",
       "15                       Net income   332911.00   332911.0\n",
       "16                       Withdrawal  (396782.00) -396782.0\n",
       "17                Retained earnings   (63871.00)  -63871.0"
      ]
     },
     "metadata": {},
     "output_type": "display_data"
    },
    {
     "data": {
      "text/html": [
       "<div>\n",
       "<style scoped>\n",
       "    .dataframe tbody tr th:only-of-type {\n",
       "        vertical-align: middle;\n",
       "    }\n",
       "\n",
       "    .dataframe tbody tr th {\n",
       "        vertical-align: top;\n",
       "    }\n",
       "\n",
       "    .dataframe thead th {\n",
       "        text-align: right;\n",
       "    }\n",
       "</style>\n",
       "<table border=\"1\" class=\"dataframe\">\n",
       "  <thead>\n",
       "    <tr style=\"text-align: right;\">\n",
       "      <th></th>\n",
       "      <th>Account</th>\n",
       "      <th>Balance</th>\n",
       "    </tr>\n",
       "  </thead>\n",
       "  <tbody>\n",
       "    <tr>\n",
       "      <th>0</th>\n",
       "      <td>Cash</td>\n",
       "      <td>321389.50</td>\n",
       "    </tr>\n",
       "    <tr>\n",
       "      <th>1</th>\n",
       "      <td>Ar</td>\n",
       "      <td>5516.00</td>\n",
       "    </tr>\n",
       "    <tr>\n",
       "      <th>2</th>\n",
       "      <td>Equipment</td>\n",
       "      <td>1764400.00</td>\n",
       "    </tr>\n",
       "    <tr>\n",
       "      <th>3</th>\n",
       "      <td>Building</td>\n",
       "      <td></td>\n",
       "    </tr>\n",
       "    <tr>\n",
       "      <th>4</th>\n",
       "      <td>Live stock</td>\n",
       "      <td></td>\n",
       "    </tr>\n",
       "    <tr>\n",
       "      <th>5</th>\n",
       "      <td>Land</td>\n",
       "      <td></td>\n",
       "    </tr>\n",
       "    <tr>\n",
       "      <th>6</th>\n",
       "      <td>Informal loans given</td>\n",
       "      <td>200000.00</td>\n",
       "    </tr>\n",
       "    <tr>\n",
       "      <th>7</th>\n",
       "      <td>Loans to employees</td>\n",
       "      <td></td>\n",
       "    </tr>\n",
       "    <tr>\n",
       "      <th>8</th>\n",
       "      <td>Total assets</td>\n",
       "      <td>2291305.50</td>\n",
       "    </tr>\n",
       "    <tr>\n",
       "      <th>9</th>\n",
       "      <td>Ap</td>\n",
       "      <td></td>\n",
       "    </tr>\n",
       "    <tr>\n",
       "      <th>10</th>\n",
       "      <td>Informal loan</td>\n",
       "      <td>11750.00</td>\n",
       "    </tr>\n",
       "    <tr>\n",
       "      <th>11</th>\n",
       "      <td>Long term loan</td>\n",
       "      <td></td>\n",
       "    </tr>\n",
       "    <tr>\n",
       "      <th>12</th>\n",
       "      <td>Short term loan</td>\n",
       "      <td></td>\n",
       "    </tr>\n",
       "    <tr>\n",
       "      <th>13</th>\n",
       "      <td>Total liabilities</td>\n",
       "      <td>11750.00</td>\n",
       "    </tr>\n",
       "    <tr>\n",
       "      <th>14</th>\n",
       "      <td>Equity</td>\n",
       "      <td>2279555.50</td>\n",
       "    </tr>\n",
       "  </tbody>\n",
       "</table>\n",
       "</div>"
      ],
      "text/plain": [
       "                 Account      Balance\n",
       "0                   Cash   321389.50 \n",
       "1                     Ar     5516.00 \n",
       "2              Equipment  1764400.00 \n",
       "3               Building             \n",
       "4             Live stock             \n",
       "5                   Land             \n",
       "6   Informal loans given   200000.00 \n",
       "7     Loans to employees             \n",
       "8           Total assets  2291305.50 \n",
       "9                     Ap             \n",
       "10         Informal loan    11750.00 \n",
       "11        Long term loan             \n",
       "12       Short term loan             \n",
       "13     Total liabilities    11750.00 \n",
       "14                Equity  2279555.50 "
      ]
     },
     "metadata": {},
     "output_type": "display_data"
    }
   ],
   "source": [
    "inc_4425 = income_statement_and_RE(4425, data_combined3)\n",
    "inc_4425['Balance2'] = inc_4425['Balance'].apply(lambda x: unformat_num(x))\n",
    "display(inc_4425)\n",
    "bal_4425 = balance_sheet(4425, data_combined3)\n",
    "display(bal_4425)"
   ]
  },
  {
   "cell_type": "code",
   "execution_count": 40,
   "metadata": {},
   "outputs": [
    {
     "data": {
      "text/plain": [
       "-206029.0"
      ]
     },
     "execution_count": 40,
     "metadata": {},
     "output_type": "execute_result"
    }
   ],
   "source": [
    "def get_acc_bal_from_statement(df: pd.DataFrame, acc_name:str) -> float:\n",
    "    return df[df['Account'] == acc_name]['Balance'].apply(lambda x: unformat_num(x)).sum()\n",
    "\n",
    "get_acc_bal_from_statement(inc_4425, 'Total expense')"
   ]
  },
  {
   "cell_type": "markdown",
   "metadata": {},
   "source": [
    "### Liquidity"
   ]
  },
  {
   "cell_type": "code",
   "execution_count": 41,
   "metadata": {},
   "outputs": [
    {
     "name": "stdout",
     "output_type": "stream",
     "text": [
      "44.84302127659574\n",
      "27.821744680851065\n"
     ]
    }
   ],
   "source": [
    "def check_ratio(func):\n",
    "    def wrapper(inc_stat, bal_sheet):\n",
    "        result = None\n",
    "        try:\n",
    "            result = func(inc_stat, bal_sheet)\n",
    "        except ZeroDivisionError:\n",
    "            pass\n",
    "        \n",
    "        if result == np.inf or result == -np.inf:\n",
    "            return np.nan\n",
    "        \n",
    "        return result\n",
    "    \n",
    "    return wrapper\n",
    "\n",
    "@check_ratio\n",
    "def calc_current_ratio(inc_statement: pd.DataFrame, balance_sheet: pd.DataFrame) -> float:\n",
    "    current_assets = 0\n",
    "    for curr in ['Cash', 'Ar', 'Loans to employees', 'Informal loans given']:\n",
    "        current_assets += get_acc_bal_from_statement(balance_sheet, curr)\n",
    "        \n",
    "    current_liab = 0\n",
    "    for curr in ['Ap', 'Informal loan', 'Short term loan']:\n",
    "         current_liab += get_acc_bal_from_statement(balance_sheet, curr)\n",
    "        \n",
    "    \n",
    "    return current_assets / current_liab\n",
    "\n",
    "@check_ratio\n",
    "def calc_quick_ratio(inc_statement: pd.DataFrame, balance_sheet: pd.DataFrame):\n",
    "    current_assets = 0\n",
    "    for curr in ['Cash', 'Ar']:\n",
    "        current_assets += get_acc_bal_from_statement(balance_sheet, curr)\n",
    "       \n",
    "    current_liab = 0\n",
    "    for curr in ['Ap', 'Informal loan', 'Short term loan']:\n",
    "         current_liab += get_acc_bal_from_statement(balance_sheet, curr)\n",
    "        \n",
    "    return current_assets / current_liab\n",
    "\n",
    "print(calc_current_ratio(None, bal_4425))\n",
    "print(calc_quick_ratio(None, bal_4425))\n"
   ]
  },
  {
   "cell_type": "markdown",
   "metadata": {},
   "source": [
    "### Asset management"
   ]
  },
  {
   "cell_type": "code",
   "execution_count": 42,
   "metadata": {},
   "outputs": [
    {
     "name": "stdout",
     "output_type": "stream",
     "text": [
      "0.3054522783949218\n",
      "0.2352108874176752\n"
     ]
    }
   ],
   "source": [
    "@check_ratio\n",
    "def calc_FATO(inc_statement, bal_sheet: pd.DataFrame) -> float:\n",
    "    fato = 0\n",
    "    for item in ['Equipment', 'Building', 'Land']:\n",
    "        fato += get_acc_bal_from_statement(bal_sheet, item)\n",
    "    \n",
    "    sales = get_acc_bal_from_statement(inc_statement, 'Sales')\n",
    "    return sales / fato\n",
    "\n",
    "@check_ratio\n",
    "def calc_TATO(inc_statement:pd.DataFrame, bal_sheet: pd.DataFrame) -> float:\n",
    "    sales = get_acc_bal_from_statement(inc_statement, 'Sales')\n",
    "    tato = get_acc_bal_from_statement(bal_sheet, 'Total assets')\n",
    "    return sales/tato\n",
    "\n",
    "print(calc_FATO(inc_4425, bal_4425))\n",
    "print(calc_TATO(inc_4425, bal_4425))"
   ]
  },
  {
   "cell_type": "markdown",
   "metadata": {},
   "source": [
    "### Debt Management"
   ]
  },
  {
   "cell_type": "code",
   "execution_count": 43,
   "metadata": {},
   "outputs": [
    {
     "name": "stdout",
     "output_type": "stream",
     "text": [
      "0.005128080912824589\n",
      "1.0051545136760214\n"
     ]
    }
   ],
   "source": [
    "@check_ratio\n",
    "def calc_debt_ratio(inc_statement:pd.DataFrame, bal_sheet: pd.DataFrame) -> float:\n",
    "    debt = get_acc_bal_from_statement(bal_sheet, 'Total liabilities')\n",
    "    assets = get_acc_bal_from_statement(bal_sheet, 'Total assets')\n",
    "    return debt/assets\n",
    "\n",
    "@check_ratio\n",
    "def calc_EM(inc_statement: pd.DataFrame, bal_sheet: pd.DataFrame) -> float:\n",
    "    assets = get_acc_bal_from_statement(bal_sheet, 'Total assets')\n",
    "    equity = get_acc_bal_from_statement(bal_sheet, 'Equity')\n",
    "    return assets/equity\n",
    "\n",
    "print(calc_debt_ratio(inc_4425, bal_4425))\n",
    "print(calc_EM(inc_4425, bal_4425))"
   ]
  },
  {
   "cell_type": "markdown",
   "metadata": {},
   "source": [
    "### Profitability Ratios"
   ]
  },
  {
   "cell_type": "code",
   "execution_count": 44,
   "metadata": {},
   "outputs": [
    {
     "name": "stdout",
     "output_type": "stream",
     "text": [
      "0.6177144023453446\n",
      "0.8239154636879801\n",
      "0.14529315274632737\n",
      "0.14604206828919059\n"
     ]
    }
   ],
   "source": [
    "@check_ratio\n",
    "def calc_PM(inc_statement: pd.DataFrame, bal_sheet: pd.DataFrame) -> float:\n",
    "    ni = get_acc_bal_from_statement(inc_statement, 'Net income')\n",
    "    sales = get_acc_bal_from_statement(inc_statement, 'Sales')\n",
    "    return ni / sales\n",
    "\n",
    "@check_ratio\n",
    "def calc_GP(inc_statement: pd.DataFrame, bal_sheet: pd.DataFrame) -> float:\n",
    "    purchases = get_acc_bal_from_statement(inc_statement, 'Purchases')\n",
    "    sales = get_acc_bal_from_statement(inc_statement, 'Sales')\n",
    "    return (sales + purchases) / sales\n",
    "\n",
    "@check_ratio\n",
    "def calc_ROA(inc_statement: pd.DataFrame, bal_sheet: pd.DataFrame) -> float:\n",
    "    ni = get_acc_bal_from_statement(inc_statement, 'Net income')\n",
    "    assets = get_acc_bal_from_statement(bal_sheet, 'Total assets')\n",
    "    return ni / assets\n",
    "\n",
    "@check_ratio\n",
    "def calc_ROE(inc_statement: pd.DataFrame, bal_sheet: pd.DataFrame) -> float:\n",
    "    ni = get_acc_bal_from_statement(inc_statement, 'Net income')\n",
    "    equity = get_acc_bal_from_statement(bal_sheet, 'Equity')\n",
    "    return ni / equity\n",
    "\n",
    "print(calc_PM(inc_4425, bal_4425))\n",
    "print(calc_GP(inc_4425, bal_4425))\n",
    "print(calc_ROA(inc_4425, bal_4425))\n",
    "print(calc_ROE(inc_4425, bal_4425))"
   ]
  },
  {
   "cell_type": "code",
   "execution_count": 45,
   "metadata": {},
   "outputs": [
    {
     "name": "stdout",
     "output_type": "stream",
     "text": [
      "1.1918560816554575\n"
     ]
    }
   ],
   "source": [
    "@check_ratio\n",
    "def calc_withdrawal_ratio(inc_statement: pd.DataFrame, bal_sheet: pd.DataFrame) -> float:\n",
    "    ni = get_acc_bal_from_statement(inc_statement, 'Net income')\n",
    "    payouts = get_acc_bal_from_statement(inc_statement, 'Withdrawal')\n",
    "    return (-1 * payouts) / ni\n",
    "\n",
    "print(calc_withdrawal_ratio(inc_4425, None))"
   ]
  },
  {
   "cell_type": "markdown",
   "metadata": {},
   "source": [
    "### Monthly ratios for each firm"
   ]
  },
  {
   "cell_type": "code",
   "execution_count": 46,
   "metadata": {},
   "outputs": [
    {
     "data": {
      "text/plain": [
       "[2021, 2022]"
      ]
     },
     "metadata": {},
     "output_type": "display_data"
    },
    {
     "data": {
      "text/plain": [
       "[2, 3, 4, 5, 6, 7, 8, 9, 10, 11, 12]"
      ]
     },
     "metadata": {},
     "output_type": "display_data"
    }
   ],
   "source": [
    "def get_years_list(df: pd.DataFrame, date_col:str):\n",
    "    years = get_unique_years(df, date_col)\n",
    "    return sorted(list(years[years >= 2021]))\n",
    "\n",
    "def get_months_list(df: pd.DataFrame, year:float, date_col:str):\n",
    "    df2 = filter_by_year(df, date_col, year)\n",
    "    return sorted(list(get_unique_months(df2, date_col)))\n",
    "\n",
    "display(get_years_list(respondent_filtered, 'date'))\n",
    "display(get_months_list(respondent_filtered, 2021, 'date'))"
   ]
  },
  {
   "cell_type": "code",
   "execution_count": 47,
   "metadata": {},
   "outputs": [
    {
     "name": "stderr",
     "output_type": "stream",
     "text": [
      "C:\\Users\\DIO\\AppData\\Local\\Temp\\ipykernel_7364\\3222280043.py:27: RuntimeWarning: invalid value encountered in scalar divide\n",
      "  return current_assets / current_liab\n",
      "C:\\Users\\DIO\\AppData\\Local\\Temp\\ipykernel_7364\\3222280043.py:39: RuntimeWarning: divide by zero encountered in scalar divide\n",
      "  return current_assets / current_liab\n",
      "C:\\Users\\DIO\\AppData\\Local\\Temp\\ipykernel_7364\\203262260.py:5: RuntimeWarning: invalid value encountered in scalar divide\n",
      "  return ni / sales\n",
      "C:\\Users\\DIO\\AppData\\Local\\Temp\\ipykernel_7364\\203262260.py:11: RuntimeWarning: invalid value encountered in scalar divide\n",
      "  return (sales + purchases) / sales\n",
      "C:\\Users\\DIO\\AppData\\Local\\Temp\\ipykernel_7364\\468881246.py:5: RuntimeWarning: invalid value encountered in scalar divide\n",
      "  return (-1 * payouts) / ni\n",
      "C:\\Users\\DIO\\AppData\\Local\\Temp\\ipykernel_7364\\3222280043.py:27: RuntimeWarning: invalid value encountered in scalar divide\n",
      "  return current_assets / current_liab\n",
      "C:\\Users\\DIO\\AppData\\Local\\Temp\\ipykernel_7364\\3222280043.py:39: RuntimeWarning: divide by zero encountered in scalar divide\n",
      "  return current_assets / current_liab\n",
      "C:\\Users\\DIO\\AppData\\Local\\Temp\\ipykernel_7364\\203262260.py:5: RuntimeWarning: invalid value encountered in scalar divide\n",
      "  return ni / sales\n",
      "C:\\Users\\DIO\\AppData\\Local\\Temp\\ipykernel_7364\\203262260.py:11: RuntimeWarning: invalid value encountered in scalar divide\n",
      "  return (sales + purchases) / sales\n",
      "C:\\Users\\DIO\\AppData\\Local\\Temp\\ipykernel_7364\\468881246.py:5: RuntimeWarning: invalid value encountered in scalar divide\n",
      "  return (-1 * payouts) / ni\n",
      "C:\\Users\\DIO\\AppData\\Local\\Temp\\ipykernel_7364\\3222280043.py:27: RuntimeWarning: divide by zero encountered in scalar divide\n",
      "  return current_assets / current_liab\n",
      "C:\\Users\\DIO\\AppData\\Local\\Temp\\ipykernel_7364\\3222280043.py:39: RuntimeWarning: divide by zero encountered in scalar divide\n",
      "  return current_assets / current_liab\n",
      "C:\\Users\\DIO\\AppData\\Local\\Temp\\ipykernel_7364\\3222280043.py:27: RuntimeWarning: divide by zero encountered in scalar divide\n",
      "  return current_assets / current_liab\n",
      "C:\\Users\\DIO\\AppData\\Local\\Temp\\ipykernel_7364\\3222280043.py:39: RuntimeWarning: divide by zero encountered in scalar divide\n",
      "  return current_assets / current_liab\n",
      "C:\\Users\\DIO\\AppData\\Local\\Temp\\ipykernel_7364\\3222280043.py:27: RuntimeWarning: divide by zero encountered in scalar divide\n",
      "  return current_assets / current_liab\n",
      "C:\\Users\\DIO\\AppData\\Local\\Temp\\ipykernel_7364\\3222280043.py:39: RuntimeWarning: divide by zero encountered in scalar divide\n",
      "  return current_assets / current_liab\n",
      "C:\\Users\\DIO\\AppData\\Local\\Temp\\ipykernel_7364\\3222280043.py:27: RuntimeWarning: divide by zero encountered in scalar divide\n",
      "  return current_assets / current_liab\n",
      "C:\\Users\\DIO\\AppData\\Local\\Temp\\ipykernel_7364\\3222280043.py:39: RuntimeWarning: divide by zero encountered in scalar divide\n",
      "  return current_assets / current_liab\n"
     ]
    },
    {
     "name": "stderr",
     "output_type": "stream",
     "text": [
      "C:\\Users\\DIO\\AppData\\Local\\Temp\\ipykernel_7364\\3222280043.py:27: RuntimeWarning: divide by zero encountered in scalar divide\n",
      "  return current_assets / current_liab\n",
      "C:\\Users\\DIO\\AppData\\Local\\Temp\\ipykernel_7364\\3222280043.py:39: RuntimeWarning: divide by zero encountered in scalar divide\n",
      "  return current_assets / current_liab\n",
      "C:\\Users\\DIO\\AppData\\Local\\Temp\\ipykernel_7364\\203262260.py:5: RuntimeWarning: invalid value encountered in scalar divide\n",
      "  return ni / sales\n",
      "C:\\Users\\DIO\\AppData\\Local\\Temp\\ipykernel_7364\\203262260.py:11: RuntimeWarning: invalid value encountered in scalar divide\n",
      "  return (sales + purchases) / sales\n",
      "C:\\Users\\DIO\\AppData\\Local\\Temp\\ipykernel_7364\\468881246.py:5: RuntimeWarning: invalid value encountered in scalar divide\n",
      "  return (-1 * payouts) / ni\n"
     ]
    }
   ],
   "source": [
    "current_ratios = []\n",
    "quick_ratios = []\n",
    "fatos = []\n",
    "tatos = []\n",
    "\n",
    "d_ratios = []\n",
    "em_ratios = []\n",
    "\n",
    "roes = []\n",
    "roas = []\n",
    "pms = []\n",
    "gps = []\n",
    "\n",
    "payouts = []\n",
    "\n",
    "years = []\n",
    "months = []\n",
    "\n",
    "statements = []\n",
    "\n",
    "list_func_map = {\n",
    "    calc_current_ratio: current_ratios, \n",
    "    calc_quick_ratio: quick_ratios,\n",
    "    calc_FATO: fatos, \n",
    "    calc_TATO: tatos,\n",
    "    calc_debt_ratio: d_ratios,\n",
    "    calc_EM: em_ratios,\n",
    "    calc_ROE: roes, \n",
    "    calc_ROA: roas,\n",
    "    calc_PM: pms,\n",
    "    calc_GP: gps,\n",
    "    calc_withdrawal_ratio: payouts,\n",
    "}\n",
    "\n",
    "for y in get_years_list(respondent_filtered, 'date'):\n",
    "    for m in get_months_list(respondent_filtered, y, 'date'):\n",
    "        monthly_data = filter_by_year_month(respondent_filtered, 'date', y, m)\n",
    "        data_up_to = filter_up_to(respondent_filtered, 'date', y, m)\n",
    "\n",
    "        temp_inc_stat = income_statement_and_RE(4425, monthly_data)\n",
    "        temp_bal_sheet = balance_sheet(4425, data_up_to)\n",
    "        \n",
    "        statements.append(temp_inc_stat)\n",
    "        statements.append(temp_bal_sheet)\n",
    "        \n",
    "        years.append(y)\n",
    "        months.append(m)\n",
    "\n",
    "        for func, coll in list_func_map.items():\n",
    "            coll.append(func(temp_inc_stat, temp_bal_sheet))\n"
   ]
  },
  {
   "cell_type": "code",
   "execution_count": 48,
   "metadata": {},
   "outputs": [
    {
     "data": {
      "text/html": [
       "<div>\n",
       "<style scoped>\n",
       "    .dataframe tbody tr th:only-of-type {\n",
       "        vertical-align: middle;\n",
       "    }\n",
       "\n",
       "    .dataframe tbody tr th {\n",
       "        vertical-align: top;\n",
       "    }\n",
       "\n",
       "    .dataframe thead th {\n",
       "        text-align: right;\n",
       "    }\n",
       "</style>\n",
       "<table border=\"1\" class=\"dataframe\">\n",
       "  <thead>\n",
       "    <tr style=\"text-align: right;\">\n",
       "      <th></th>\n",
       "      <th>Year</th>\n",
       "      <th>Month</th>\n",
       "      <th>Current Ratio</th>\n",
       "      <th>Quick Ratio</th>\n",
       "      <th>FATO</th>\n",
       "      <th>TATO</th>\n",
       "      <th>Debt Ratio</th>\n",
       "      <th>Equity Multiplier</th>\n",
       "      <th>Gross Margin</th>\n",
       "      <th>Profit Margin</th>\n",
       "      <th>Return on Asset</th>\n",
       "      <th>Return on Equity</th>\n",
       "      <th>Withdrawal Ratio</th>\n",
       "    </tr>\n",
       "  </thead>\n",
       "  <tbody>\n",
       "    <tr>\n",
       "      <th>0</th>\n",
       "      <td>2021</td>\n",
       "      <td>2</td>\n",
       "      <td>NaN</td>\n",
       "      <td>NaN</td>\n",
       "      <td>0.000000</td>\n",
       "      <td>0.000000</td>\n",
       "      <td>0.000000</td>\n",
       "      <td>1.000000</td>\n",
       "      <td>NaN</td>\n",
       "      <td>NaN</td>\n",
       "      <td>0.000000</td>\n",
       "      <td>0.000000</td>\n",
       "      <td>NaN</td>\n",
       "    </tr>\n",
       "    <tr>\n",
       "      <th>1</th>\n",
       "      <td>2021</td>\n",
       "      <td>3</td>\n",
       "      <td>NaN</td>\n",
       "      <td>NaN</td>\n",
       "      <td>0.000000</td>\n",
       "      <td>0.000000</td>\n",
       "      <td>0.000000</td>\n",
       "      <td>1.000000</td>\n",
       "      <td>NaN</td>\n",
       "      <td>NaN</td>\n",
       "      <td>0.000000</td>\n",
       "      <td>0.000000</td>\n",
       "      <td>NaN</td>\n",
       "    </tr>\n",
       "    <tr>\n",
       "      <th>2</th>\n",
       "      <td>2021</td>\n",
       "      <td>4</td>\n",
       "      <td>NaN</td>\n",
       "      <td>NaN</td>\n",
       "      <td>0.013896</td>\n",
       "      <td>0.013829</td>\n",
       "      <td>0.000000</td>\n",
       "      <td>1.000000</td>\n",
       "      <td>0.466257</td>\n",
       "      <td>0.451909</td>\n",
       "      <td>0.006250</td>\n",
       "      <td>0.006250</td>\n",
       "      <td>0.238122</td>\n",
       "    </tr>\n",
       "    <tr>\n",
       "      <th>3</th>\n",
       "      <td>2021</td>\n",
       "      <td>5</td>\n",
       "      <td>NaN</td>\n",
       "      <td>NaN</td>\n",
       "      <td>0.021473</td>\n",
       "      <td>0.021369</td>\n",
       "      <td>0.000000</td>\n",
       "      <td>1.000000</td>\n",
       "      <td>0.772060</td>\n",
       "      <td>0.235468</td>\n",
       "      <td>0.005032</td>\n",
       "      <td>0.005032</td>\n",
       "      <td>5.280946</td>\n",
       "    </tr>\n",
       "    <tr>\n",
       "      <th>4</th>\n",
       "      <td>2021</td>\n",
       "      <td>6</td>\n",
       "      <td>NaN</td>\n",
       "      <td>NaN</td>\n",
       "      <td>0.024723</td>\n",
       "      <td>0.023646</td>\n",
       "      <td>0.000000</td>\n",
       "      <td>1.000000</td>\n",
       "      <td>0.900009</td>\n",
       "      <td>0.628072</td>\n",
       "      <td>0.014851</td>\n",
       "      <td>0.014851</td>\n",
       "      <td>0.000000</td>\n",
       "    </tr>\n",
       "    <tr>\n",
       "      <th>5</th>\n",
       "      <td>2021</td>\n",
       "      <td>7</td>\n",
       "      <td>NaN</td>\n",
       "      <td>NaN</td>\n",
       "      <td>0.026681</td>\n",
       "      <td>0.024761</td>\n",
       "      <td>0.000000</td>\n",
       "      <td>1.000000</td>\n",
       "      <td>0.821619</td>\n",
       "      <td>0.695151</td>\n",
       "      <td>0.017213</td>\n",
       "      <td>0.017213</td>\n",
       "      <td>0.000000</td>\n",
       "    </tr>\n",
       "    <tr>\n",
       "      <th>6</th>\n",
       "      <td>2021</td>\n",
       "      <td>8</td>\n",
       "      <td>NaN</td>\n",
       "      <td>NaN</td>\n",
       "      <td>0.017992</td>\n",
       "      <td>0.017582</td>\n",
       "      <td>0.000000</td>\n",
       "      <td>1.000000</td>\n",
       "      <td>0.515286</td>\n",
       "      <td>0.274513</td>\n",
       "      <td>0.004826</td>\n",
       "      <td>0.004826</td>\n",
       "      <td>13.366186</td>\n",
       "    </tr>\n",
       "    <tr>\n",
       "      <th>7</th>\n",
       "      <td>2021</td>\n",
       "      <td>9</td>\n",
       "      <td>-15.606300</td>\n",
       "      <td>25.393700</td>\n",
       "      <td>0.023036</td>\n",
       "      <td>0.022055</td>\n",
       "      <td>-0.002729</td>\n",
       "      <td>0.997279</td>\n",
       "      <td>0.772362</td>\n",
       "      <td>0.562613</td>\n",
       "      <td>0.012409</td>\n",
       "      <td>0.012409</td>\n",
       "      <td>2.725921</td>\n",
       "    </tr>\n",
       "    <tr>\n",
       "      <th>8</th>\n",
       "      <td>2021</td>\n",
       "      <td>10</td>\n",
       "      <td>-23.426235</td>\n",
       "      <td>24.809059</td>\n",
       "      <td>0.019835</td>\n",
       "      <td>0.018775</td>\n",
       "      <td>-0.002280</td>\n",
       "      <td>0.997725</td>\n",
       "      <td>0.891988</td>\n",
       "      <td>0.752372</td>\n",
       "      <td>0.014126</td>\n",
       "      <td>0.014126</td>\n",
       "      <td>0.666540</td>\n",
       "    </tr>\n",
       "    <tr>\n",
       "      <th>9</th>\n",
       "      <td>2021</td>\n",
       "      <td>11</td>\n",
       "      <td>-20.937929</td>\n",
       "      <td>8.347786</td>\n",
       "      <td>0.030842</td>\n",
       "      <td>0.028477</td>\n",
       "      <td>-0.003663</td>\n",
       "      <td>0.996350</td>\n",
       "      <td>0.804109</td>\n",
       "      <td>0.536661</td>\n",
       "      <td>0.015282</td>\n",
       "      <td>0.015282</td>\n",
       "      <td>0.374949</td>\n",
       "    </tr>\n",
       "    <tr>\n",
       "      <th>10</th>\n",
       "      <td>2021</td>\n",
       "      <td>12</td>\n",
       "      <td>25.985437</td>\n",
       "      <td>0.360438</td>\n",
       "      <td>0.032429</td>\n",
       "      <td>0.029011</td>\n",
       "      <td>0.004056</td>\n",
       "      <td>1.004073</td>\n",
       "      <td>0.811248</td>\n",
       "      <td>0.623370</td>\n",
       "      <td>0.018085</td>\n",
       "      <td>0.018085</td>\n",
       "      <td>0.121958</td>\n",
       "    </tr>\n",
       "    <tr>\n",
       "      <th>11</th>\n",
       "      <td>2022</td>\n",
       "      <td>1</td>\n",
       "      <td>41.190204</td>\n",
       "      <td>9.058542</td>\n",
       "      <td>0.030039</td>\n",
       "      <td>0.026145</td>\n",
       "      <td>0.003147</td>\n",
       "      <td>1.003157</td>\n",
       "      <td>0.962642</td>\n",
       "      <td>0.722075</td>\n",
       "      <td>0.018878</td>\n",
       "      <td>0.018878</td>\n",
       "      <td>0.842435</td>\n",
       "    </tr>\n",
       "    <tr>\n",
       "      <th>12</th>\n",
       "      <td>2022</td>\n",
       "      <td>2</td>\n",
       "      <td>49.617633</td>\n",
       "      <td>17.485972</td>\n",
       "      <td>0.029878</td>\n",
       "      <td>0.025333</td>\n",
       "      <td>0.003066</td>\n",
       "      <td>1.003075</td>\n",
       "      <td>0.852040</td>\n",
       "      <td>0.795132</td>\n",
       "      <td>0.020143</td>\n",
       "      <td>0.020143</td>\n",
       "      <td>0.194432</td>\n",
       "    </tr>\n",
       "    <tr>\n",
       "      <th>13</th>\n",
       "      <td>2022</td>\n",
       "      <td>3</td>\n",
       "      <td>38.507492</td>\n",
       "      <td>22.591343</td>\n",
       "      <td>0.028134</td>\n",
       "      <td>0.021961</td>\n",
       "      <td>0.005698</td>\n",
       "      <td>1.005731</td>\n",
       "      <td>0.963699</td>\n",
       "      <td>0.728807</td>\n",
       "      <td>0.016005</td>\n",
       "      <td>0.016005</td>\n",
       "      <td>2.370557</td>\n",
       "    </tr>\n",
       "    <tr>\n",
       "      <th>14</th>\n",
       "      <td>2022</td>\n",
       "      <td>4</td>\n",
       "      <td>40.762073</td>\n",
       "      <td>25.234123</td>\n",
       "      <td>0.013044</td>\n",
       "      <td>0.010053</td>\n",
       "      <td>0.005626</td>\n",
       "      <td>1.005658</td>\n",
       "      <td>0.843580</td>\n",
       "      <td>0.701238</td>\n",
       "      <td>0.007049</td>\n",
       "      <td>0.007049</td>\n",
       "      <td>1.245430</td>\n",
       "    </tr>\n",
       "    <tr>\n",
       "      <th>15</th>\n",
       "      <td>2022</td>\n",
       "      <td>5</td>\n",
       "      <td>44.843021</td>\n",
       "      <td>27.821745</td>\n",
       "      <td>0.001190</td>\n",
       "      <td>0.000917</td>\n",
       "      <td>0.005128</td>\n",
       "      <td>1.005155</td>\n",
       "      <td>1.000000</td>\n",
       "      <td>1.000000</td>\n",
       "      <td>0.000917</td>\n",
       "      <td>0.000917</td>\n",
       "      <td>0.133333</td>\n",
       "    </tr>\n",
       "    <tr>\n",
       "      <th>16</th>\n",
       "      <td>2022</td>\n",
       "      <td>6</td>\n",
       "      <td>44.843021</td>\n",
       "      <td>27.821745</td>\n",
       "      <td>0.000000</td>\n",
       "      <td>0.000000</td>\n",
       "      <td>0.005128</td>\n",
       "      <td>1.005155</td>\n",
       "      <td>NaN</td>\n",
       "      <td>NaN</td>\n",
       "      <td>0.000000</td>\n",
       "      <td>0.000000</td>\n",
       "      <td>NaN</td>\n",
       "    </tr>\n",
       "  </tbody>\n",
       "</table>\n",
       "</div>"
      ],
      "text/plain": [
       "    Year  Month  Current Ratio  Quick Ratio      FATO      TATO  Debt Ratio  \\\n",
       "0   2021      2            NaN          NaN  0.000000  0.000000    0.000000   \n",
       "1   2021      3            NaN          NaN  0.000000  0.000000    0.000000   \n",
       "2   2021      4            NaN          NaN  0.013896  0.013829    0.000000   \n",
       "3   2021      5            NaN          NaN  0.021473  0.021369    0.000000   \n",
       "4   2021      6            NaN          NaN  0.024723  0.023646    0.000000   \n",
       "5   2021      7            NaN          NaN  0.026681  0.024761    0.000000   \n",
       "6   2021      8            NaN          NaN  0.017992  0.017582    0.000000   \n",
       "7   2021      9     -15.606300    25.393700  0.023036  0.022055   -0.002729   \n",
       "8   2021     10     -23.426235    24.809059  0.019835  0.018775   -0.002280   \n",
       "9   2021     11     -20.937929     8.347786  0.030842  0.028477   -0.003663   \n",
       "10  2021     12      25.985437     0.360438  0.032429  0.029011    0.004056   \n",
       "11  2022      1      41.190204     9.058542  0.030039  0.026145    0.003147   \n",
       "12  2022      2      49.617633    17.485972  0.029878  0.025333    0.003066   \n",
       "13  2022      3      38.507492    22.591343  0.028134  0.021961    0.005698   \n",
       "14  2022      4      40.762073    25.234123  0.013044  0.010053    0.005626   \n",
       "15  2022      5      44.843021    27.821745  0.001190  0.000917    0.005128   \n",
       "16  2022      6      44.843021    27.821745  0.000000  0.000000    0.005128   \n",
       "\n",
       "    Equity Multiplier  Gross Margin  Profit Margin  Return on Asset  \\\n",
       "0            1.000000           NaN            NaN         0.000000   \n",
       "1            1.000000           NaN            NaN         0.000000   \n",
       "2            1.000000      0.466257       0.451909         0.006250   \n",
       "3            1.000000      0.772060       0.235468         0.005032   \n",
       "4            1.000000      0.900009       0.628072         0.014851   \n",
       "5            1.000000      0.821619       0.695151         0.017213   \n",
       "6            1.000000      0.515286       0.274513         0.004826   \n",
       "7            0.997279      0.772362       0.562613         0.012409   \n",
       "8            0.997725      0.891988       0.752372         0.014126   \n",
       "9            0.996350      0.804109       0.536661         0.015282   \n",
       "10           1.004073      0.811248       0.623370         0.018085   \n",
       "11           1.003157      0.962642       0.722075         0.018878   \n",
       "12           1.003075      0.852040       0.795132         0.020143   \n",
       "13           1.005731      0.963699       0.728807         0.016005   \n",
       "14           1.005658      0.843580       0.701238         0.007049   \n",
       "15           1.005155      1.000000       1.000000         0.000917   \n",
       "16           1.005155           NaN            NaN         0.000000   \n",
       "\n",
       "    Return on Equity  Withdrawal Ratio  \n",
       "0           0.000000               NaN  \n",
       "1           0.000000               NaN  \n",
       "2           0.006250          0.238122  \n",
       "3           0.005032          5.280946  \n",
       "4           0.014851          0.000000  \n",
       "5           0.017213          0.000000  \n",
       "6           0.004826         13.366186  \n",
       "7           0.012409          2.725921  \n",
       "8           0.014126          0.666540  \n",
       "9           0.015282          0.374949  \n",
       "10          0.018085          0.121958  \n",
       "11          0.018878          0.842435  \n",
       "12          0.020143          0.194432  \n",
       "13          0.016005          2.370557  \n",
       "14          0.007049          1.245430  \n",
       "15          0.000917          0.133333  \n",
       "16          0.000000               NaN  "
      ]
     },
     "execution_count": 48,
     "metadata": {},
     "output_type": "execute_result"
    }
   ],
   "source": [
    "ratio_data_4425 = pd.DataFrame({\n",
    "    'Year': years,\n",
    "    'Month': months,\n",
    "    'Current Ratio': current_ratios,\n",
    "    'Quick Ratio': quick_ratios,\n",
    "    'FATO': fatos,\n",
    "    'TATO': tatos,\n",
    "    'Debt Ratio': d_ratios,\n",
    "    'Equity Multiplier': em_ratios,\n",
    "    'Gross Margin': gps,  \n",
    "    'Profit Margin': pms,\n",
    "    'Return on Asset': roas,\n",
    "    'Return on Equity': roas,\n",
    "    'Withdrawal Ratio': payouts\n",
    "})\n",
    "ratio_data_4425"
   ]
  },
  {
   "cell_type": "code",
   "execution_count": 49,
   "metadata": {},
   "outputs": [],
   "source": [
    "ratio_dates = []\n",
    "for i, row in ratio_data_4425.iterrows():    \n",
    "    y = int(row['Year'])\n",
    "    m = int(row['Month'])\n",
    "    p = pd.Period(f'{y}-{m}-1')\n",
    "    last_day = p.days_in_month\n",
    "    ratio_dates.append(dt.date(y, m, last_day))\n",
    "\n",
    "ratio_data_4425['date'] = ratio_dates"
   ]
  },
  {
   "cell_type": "code",
   "execution_count": 50,
   "metadata": {},
   "outputs": [
    {
     "data": {
      "text/html": [
       "<div>\n",
       "<style scoped>\n",
       "    .dataframe tbody tr th:only-of-type {\n",
       "        vertical-align: middle;\n",
       "    }\n",
       "\n",
       "    .dataframe tbody tr th {\n",
       "        vertical-align: top;\n",
       "    }\n",
       "\n",
       "    .dataframe thead th {\n",
       "        text-align: right;\n",
       "    }\n",
       "</style>\n",
       "<table border=\"1\" class=\"dataframe\">\n",
       "  <thead>\n",
       "    <tr style=\"text-align: right;\">\n",
       "      <th></th>\n",
       "      <th>Year</th>\n",
       "      <th>Month</th>\n",
       "      <th>Current Ratio</th>\n",
       "      <th>Quick Ratio</th>\n",
       "      <th>FATO</th>\n",
       "      <th>TATO</th>\n",
       "      <th>Debt Ratio</th>\n",
       "      <th>Equity Multiplier</th>\n",
       "      <th>Gross Margin</th>\n",
       "      <th>Profit Margin</th>\n",
       "      <th>Return on Asset</th>\n",
       "      <th>Return on Equity</th>\n",
       "      <th>Withdrawal Ratio</th>\n",
       "      <th>date</th>\n",
       "    </tr>\n",
       "  </thead>\n",
       "  <tbody>\n",
       "    <tr>\n",
       "      <th>0</th>\n",
       "      <td>2021</td>\n",
       "      <td>2</td>\n",
       "      <td>NaN</td>\n",
       "      <td>NaN</td>\n",
       "      <td>0.000000</td>\n",
       "      <td>0.000000</td>\n",
       "      <td>0.000000</td>\n",
       "      <td>1.000000</td>\n",
       "      <td>NaN</td>\n",
       "      <td>NaN</td>\n",
       "      <td>0.000000</td>\n",
       "      <td>0.000000</td>\n",
       "      <td>NaN</td>\n",
       "      <td>2021-02-28</td>\n",
       "    </tr>\n",
       "    <tr>\n",
       "      <th>1</th>\n",
       "      <td>2021</td>\n",
       "      <td>3</td>\n",
       "      <td>NaN</td>\n",
       "      <td>NaN</td>\n",
       "      <td>0.000000</td>\n",
       "      <td>0.000000</td>\n",
       "      <td>0.000000</td>\n",
       "      <td>1.000000</td>\n",
       "      <td>NaN</td>\n",
       "      <td>NaN</td>\n",
       "      <td>0.000000</td>\n",
       "      <td>0.000000</td>\n",
       "      <td>NaN</td>\n",
       "      <td>2021-03-31</td>\n",
       "    </tr>\n",
       "    <tr>\n",
       "      <th>2</th>\n",
       "      <td>2021</td>\n",
       "      <td>4</td>\n",
       "      <td>NaN</td>\n",
       "      <td>NaN</td>\n",
       "      <td>0.013896</td>\n",
       "      <td>0.013829</td>\n",
       "      <td>0.000000</td>\n",
       "      <td>1.000000</td>\n",
       "      <td>0.466257</td>\n",
       "      <td>0.451909</td>\n",
       "      <td>0.006250</td>\n",
       "      <td>0.006250</td>\n",
       "      <td>0.238122</td>\n",
       "      <td>2021-04-30</td>\n",
       "    </tr>\n",
       "    <tr>\n",
       "      <th>3</th>\n",
       "      <td>2021</td>\n",
       "      <td>5</td>\n",
       "      <td>NaN</td>\n",
       "      <td>NaN</td>\n",
       "      <td>0.021473</td>\n",
       "      <td>0.021369</td>\n",
       "      <td>0.000000</td>\n",
       "      <td>1.000000</td>\n",
       "      <td>0.772060</td>\n",
       "      <td>0.235468</td>\n",
       "      <td>0.005032</td>\n",
       "      <td>0.005032</td>\n",
       "      <td>5.280946</td>\n",
       "      <td>2021-05-31</td>\n",
       "    </tr>\n",
       "    <tr>\n",
       "      <th>4</th>\n",
       "      <td>2021</td>\n",
       "      <td>6</td>\n",
       "      <td>NaN</td>\n",
       "      <td>NaN</td>\n",
       "      <td>0.024723</td>\n",
       "      <td>0.023646</td>\n",
       "      <td>0.000000</td>\n",
       "      <td>1.000000</td>\n",
       "      <td>0.900009</td>\n",
       "      <td>0.628072</td>\n",
       "      <td>0.014851</td>\n",
       "      <td>0.014851</td>\n",
       "      <td>0.000000</td>\n",
       "      <td>2021-06-30</td>\n",
       "    </tr>\n",
       "    <tr>\n",
       "      <th>5</th>\n",
       "      <td>2021</td>\n",
       "      <td>7</td>\n",
       "      <td>NaN</td>\n",
       "      <td>NaN</td>\n",
       "      <td>0.026681</td>\n",
       "      <td>0.024761</td>\n",
       "      <td>0.000000</td>\n",
       "      <td>1.000000</td>\n",
       "      <td>0.821619</td>\n",
       "      <td>0.695151</td>\n",
       "      <td>0.017213</td>\n",
       "      <td>0.017213</td>\n",
       "      <td>0.000000</td>\n",
       "      <td>2021-07-31</td>\n",
       "    </tr>\n",
       "    <tr>\n",
       "      <th>6</th>\n",
       "      <td>2021</td>\n",
       "      <td>8</td>\n",
       "      <td>NaN</td>\n",
       "      <td>NaN</td>\n",
       "      <td>0.017992</td>\n",
       "      <td>0.017582</td>\n",
       "      <td>0.000000</td>\n",
       "      <td>1.000000</td>\n",
       "      <td>0.515286</td>\n",
       "      <td>0.274513</td>\n",
       "      <td>0.004826</td>\n",
       "      <td>0.004826</td>\n",
       "      <td>13.366186</td>\n",
       "      <td>2021-08-31</td>\n",
       "    </tr>\n",
       "    <tr>\n",
       "      <th>7</th>\n",
       "      <td>2021</td>\n",
       "      <td>9</td>\n",
       "      <td>-15.606300</td>\n",
       "      <td>25.393700</td>\n",
       "      <td>0.023036</td>\n",
       "      <td>0.022055</td>\n",
       "      <td>-0.002729</td>\n",
       "      <td>0.997279</td>\n",
       "      <td>0.772362</td>\n",
       "      <td>0.562613</td>\n",
       "      <td>0.012409</td>\n",
       "      <td>0.012409</td>\n",
       "      <td>2.725921</td>\n",
       "      <td>2021-09-30</td>\n",
       "    </tr>\n",
       "    <tr>\n",
       "      <th>8</th>\n",
       "      <td>2021</td>\n",
       "      <td>10</td>\n",
       "      <td>-23.426235</td>\n",
       "      <td>24.809059</td>\n",
       "      <td>0.019835</td>\n",
       "      <td>0.018775</td>\n",
       "      <td>-0.002280</td>\n",
       "      <td>0.997725</td>\n",
       "      <td>0.891988</td>\n",
       "      <td>0.752372</td>\n",
       "      <td>0.014126</td>\n",
       "      <td>0.014126</td>\n",
       "      <td>0.666540</td>\n",
       "      <td>2021-10-31</td>\n",
       "    </tr>\n",
       "    <tr>\n",
       "      <th>9</th>\n",
       "      <td>2021</td>\n",
       "      <td>11</td>\n",
       "      <td>-20.937929</td>\n",
       "      <td>8.347786</td>\n",
       "      <td>0.030842</td>\n",
       "      <td>0.028477</td>\n",
       "      <td>-0.003663</td>\n",
       "      <td>0.996350</td>\n",
       "      <td>0.804109</td>\n",
       "      <td>0.536661</td>\n",
       "      <td>0.015282</td>\n",
       "      <td>0.015282</td>\n",
       "      <td>0.374949</td>\n",
       "      <td>2021-11-30</td>\n",
       "    </tr>\n",
       "    <tr>\n",
       "      <th>10</th>\n",
       "      <td>2021</td>\n",
       "      <td>12</td>\n",
       "      <td>25.985437</td>\n",
       "      <td>0.360438</td>\n",
       "      <td>0.032429</td>\n",
       "      <td>0.029011</td>\n",
       "      <td>0.004056</td>\n",
       "      <td>1.004073</td>\n",
       "      <td>0.811248</td>\n",
       "      <td>0.623370</td>\n",
       "      <td>0.018085</td>\n",
       "      <td>0.018085</td>\n",
       "      <td>0.121958</td>\n",
       "      <td>2021-12-31</td>\n",
       "    </tr>\n",
       "    <tr>\n",
       "      <th>11</th>\n",
       "      <td>2022</td>\n",
       "      <td>1</td>\n",
       "      <td>41.190204</td>\n",
       "      <td>9.058542</td>\n",
       "      <td>0.030039</td>\n",
       "      <td>0.026145</td>\n",
       "      <td>0.003147</td>\n",
       "      <td>1.003157</td>\n",
       "      <td>0.962642</td>\n",
       "      <td>0.722075</td>\n",
       "      <td>0.018878</td>\n",
       "      <td>0.018878</td>\n",
       "      <td>0.842435</td>\n",
       "      <td>2022-01-31</td>\n",
       "    </tr>\n",
       "    <tr>\n",
       "      <th>12</th>\n",
       "      <td>2022</td>\n",
       "      <td>2</td>\n",
       "      <td>49.617633</td>\n",
       "      <td>17.485972</td>\n",
       "      <td>0.029878</td>\n",
       "      <td>0.025333</td>\n",
       "      <td>0.003066</td>\n",
       "      <td>1.003075</td>\n",
       "      <td>0.852040</td>\n",
       "      <td>0.795132</td>\n",
       "      <td>0.020143</td>\n",
       "      <td>0.020143</td>\n",
       "      <td>0.194432</td>\n",
       "      <td>2022-02-28</td>\n",
       "    </tr>\n",
       "    <tr>\n",
       "      <th>13</th>\n",
       "      <td>2022</td>\n",
       "      <td>3</td>\n",
       "      <td>38.507492</td>\n",
       "      <td>22.591343</td>\n",
       "      <td>0.028134</td>\n",
       "      <td>0.021961</td>\n",
       "      <td>0.005698</td>\n",
       "      <td>1.005731</td>\n",
       "      <td>0.963699</td>\n",
       "      <td>0.728807</td>\n",
       "      <td>0.016005</td>\n",
       "      <td>0.016005</td>\n",
       "      <td>2.370557</td>\n",
       "      <td>2022-03-31</td>\n",
       "    </tr>\n",
       "    <tr>\n",
       "      <th>14</th>\n",
       "      <td>2022</td>\n",
       "      <td>4</td>\n",
       "      <td>40.762073</td>\n",
       "      <td>25.234123</td>\n",
       "      <td>0.013044</td>\n",
       "      <td>0.010053</td>\n",
       "      <td>0.005626</td>\n",
       "      <td>1.005658</td>\n",
       "      <td>0.843580</td>\n",
       "      <td>0.701238</td>\n",
       "      <td>0.007049</td>\n",
       "      <td>0.007049</td>\n",
       "      <td>1.245430</td>\n",
       "      <td>2022-04-30</td>\n",
       "    </tr>\n",
       "    <tr>\n",
       "      <th>15</th>\n",
       "      <td>2022</td>\n",
       "      <td>5</td>\n",
       "      <td>44.843021</td>\n",
       "      <td>27.821745</td>\n",
       "      <td>0.001190</td>\n",
       "      <td>0.000917</td>\n",
       "      <td>0.005128</td>\n",
       "      <td>1.005155</td>\n",
       "      <td>1.000000</td>\n",
       "      <td>1.000000</td>\n",
       "      <td>0.000917</td>\n",
       "      <td>0.000917</td>\n",
       "      <td>0.133333</td>\n",
       "      <td>2022-05-31</td>\n",
       "    </tr>\n",
       "    <tr>\n",
       "      <th>16</th>\n",
       "      <td>2022</td>\n",
       "      <td>6</td>\n",
       "      <td>44.843021</td>\n",
       "      <td>27.821745</td>\n",
       "      <td>0.000000</td>\n",
       "      <td>0.000000</td>\n",
       "      <td>0.005128</td>\n",
       "      <td>1.005155</td>\n",
       "      <td>NaN</td>\n",
       "      <td>NaN</td>\n",
       "      <td>0.000000</td>\n",
       "      <td>0.000000</td>\n",
       "      <td>NaN</td>\n",
       "      <td>2022-06-30</td>\n",
       "    </tr>\n",
       "  </tbody>\n",
       "</table>\n",
       "</div>"
      ],
      "text/plain": [
       "    Year  Month  Current Ratio  Quick Ratio      FATO      TATO  Debt Ratio  \\\n",
       "0   2021      2            NaN          NaN  0.000000  0.000000    0.000000   \n",
       "1   2021      3            NaN          NaN  0.000000  0.000000    0.000000   \n",
       "2   2021      4            NaN          NaN  0.013896  0.013829    0.000000   \n",
       "3   2021      5            NaN          NaN  0.021473  0.021369    0.000000   \n",
       "4   2021      6            NaN          NaN  0.024723  0.023646    0.000000   \n",
       "5   2021      7            NaN          NaN  0.026681  0.024761    0.000000   \n",
       "6   2021      8            NaN          NaN  0.017992  0.017582    0.000000   \n",
       "7   2021      9     -15.606300    25.393700  0.023036  0.022055   -0.002729   \n",
       "8   2021     10     -23.426235    24.809059  0.019835  0.018775   -0.002280   \n",
       "9   2021     11     -20.937929     8.347786  0.030842  0.028477   -0.003663   \n",
       "10  2021     12      25.985437     0.360438  0.032429  0.029011    0.004056   \n",
       "11  2022      1      41.190204     9.058542  0.030039  0.026145    0.003147   \n",
       "12  2022      2      49.617633    17.485972  0.029878  0.025333    0.003066   \n",
       "13  2022      3      38.507492    22.591343  0.028134  0.021961    0.005698   \n",
       "14  2022      4      40.762073    25.234123  0.013044  0.010053    0.005626   \n",
       "15  2022      5      44.843021    27.821745  0.001190  0.000917    0.005128   \n",
       "16  2022      6      44.843021    27.821745  0.000000  0.000000    0.005128   \n",
       "\n",
       "    Equity Multiplier  Gross Margin  Profit Margin  Return on Asset  \\\n",
       "0            1.000000           NaN            NaN         0.000000   \n",
       "1            1.000000           NaN            NaN         0.000000   \n",
       "2            1.000000      0.466257       0.451909         0.006250   \n",
       "3            1.000000      0.772060       0.235468         0.005032   \n",
       "4            1.000000      0.900009       0.628072         0.014851   \n",
       "5            1.000000      0.821619       0.695151         0.017213   \n",
       "6            1.000000      0.515286       0.274513         0.004826   \n",
       "7            0.997279      0.772362       0.562613         0.012409   \n",
       "8            0.997725      0.891988       0.752372         0.014126   \n",
       "9            0.996350      0.804109       0.536661         0.015282   \n",
       "10           1.004073      0.811248       0.623370         0.018085   \n",
       "11           1.003157      0.962642       0.722075         0.018878   \n",
       "12           1.003075      0.852040       0.795132         0.020143   \n",
       "13           1.005731      0.963699       0.728807         0.016005   \n",
       "14           1.005658      0.843580       0.701238         0.007049   \n",
       "15           1.005155      1.000000       1.000000         0.000917   \n",
       "16           1.005155           NaN            NaN         0.000000   \n",
       "\n",
       "    Return on Equity  Withdrawal Ratio        date  \n",
       "0           0.000000               NaN  2021-02-28  \n",
       "1           0.000000               NaN  2021-03-31  \n",
       "2           0.006250          0.238122  2021-04-30  \n",
       "3           0.005032          5.280946  2021-05-31  \n",
       "4           0.014851          0.000000  2021-06-30  \n",
       "5           0.017213          0.000000  2021-07-31  \n",
       "6           0.004826         13.366186  2021-08-31  \n",
       "7           0.012409          2.725921  2021-09-30  \n",
       "8           0.014126          0.666540  2021-10-31  \n",
       "9           0.015282          0.374949  2021-11-30  \n",
       "10          0.018085          0.121958  2021-12-31  \n",
       "11          0.018878          0.842435  2022-01-31  \n",
       "12          0.020143          0.194432  2022-02-28  \n",
       "13          0.016005          2.370557  2022-03-31  \n",
       "14          0.007049          1.245430  2022-04-30  \n",
       "15          0.000917          0.133333  2022-05-31  \n",
       "16          0.000000               NaN  2022-06-30  "
      ]
     },
     "execution_count": 50,
     "metadata": {},
     "output_type": "execute_result"
    }
   ],
   "source": [
    "ratio_data_4425"
   ]
  },
  {
   "cell_type": "code",
   "execution_count": 51,
   "metadata": {},
   "outputs": [],
   "source": [
    "import plotly.express as px"
   ]
  },
  {
   "cell_type": "code",
   "execution_count": 52,
   "metadata": {},
   "outputs": [
    {
     "data": {
      "application/vnd.plotly.v1+json": {
       "config": {
        "plotlyServerURL": "https://plot.ly"
       },
       "data": [
        {
         "hovertemplate": "variable=Current Ratio<br>date=%{x}<br>value=%{y}<extra></extra>",
         "legendgroup": "Current Ratio",
         "line": {
          "color": "#636efa",
          "dash": "solid"
         },
         "marker": {
          "symbol": "circle"
         },
         "mode": "lines",
         "name": "Current Ratio",
         "orientation": "v",
         "showlegend": true,
         "type": "scatter",
         "x": [
          "2021-02-28",
          "2021-03-31",
          "2021-04-30",
          "2021-05-31",
          "2021-06-30",
          "2021-07-31",
          "2021-08-31",
          "2021-09-30",
          "2021-10-31",
          "2021-11-30",
          "2021-12-31",
          "2022-01-31",
          "2022-02-28",
          "2022-03-31",
          "2022-04-30",
          "2022-05-31",
          "2022-06-30"
         ],
         "xaxis": "x",
         "y": [
          null,
          null,
          null,
          null,
          null,
          null,
          null,
          -15.6063,
          -23.426235294117646,
          -20.93792857142857,
          25.9854375,
          41.190203761755484,
          49.61763322884013,
          38.507492236024845,
          40.76207298136646,
          44.84302127659574,
          44.84302127659574
         ],
         "yaxis": "y"
        },
        {
         "hovertemplate": "variable=Quick Ratio<br>date=%{x}<br>value=%{y}<extra></extra>",
         "legendgroup": "Quick Ratio",
         "line": {
          "color": "#EF553B",
          "dash": "solid"
         },
         "marker": {
          "symbol": "circle"
         },
         "mode": "lines",
         "name": "Quick Ratio",
         "orientation": "v",
         "showlegend": true,
         "type": "scatter",
         "x": [
          "2021-02-28",
          "2021-03-31",
          "2021-04-30",
          "2021-05-31",
          "2021-06-30",
          "2021-07-31",
          "2021-08-31",
          "2021-09-30",
          "2021-10-31",
          "2021-11-30",
          "2021-12-31",
          "2022-01-31",
          "2022-02-28",
          "2022-03-31",
          "2022-04-30",
          "2022-05-31",
          "2022-06-30"
         ],
         "xaxis": "x",
         "y": [
          null,
          null,
          null,
          null,
          null,
          null,
          null,
          25.3937,
          24.809058823529412,
          8.347785714285715,
          0.3604375,
          9.058542319749217,
          17.485971786833854,
          22.591343167701865,
          25.234122670807455,
          27.821744680851065,
          27.821744680851065
         ],
         "yaxis": "y"
        }
       ],
       "layout": {
        "legend": {
         "title": {
          "text": "variable"
         },
         "tracegroupgap": 0
        },
        "template": {
         "data": {
          "bar": [
           {
            "error_x": {
             "color": "#2a3f5f"
            },
            "error_y": {
             "color": "#2a3f5f"
            },
            "marker": {
             "line": {
              "color": "#E5ECF6",
              "width": 0.5
             },
             "pattern": {
              "fillmode": "overlay",
              "size": 10,
              "solidity": 0.2
             }
            },
            "type": "bar"
           }
          ],
          "barpolar": [
           {
            "marker": {
             "line": {
              "color": "#E5ECF6",
              "width": 0.5
             },
             "pattern": {
              "fillmode": "overlay",
              "size": 10,
              "solidity": 0.2
             }
            },
            "type": "barpolar"
           }
          ],
          "carpet": [
           {
            "aaxis": {
             "endlinecolor": "#2a3f5f",
             "gridcolor": "white",
             "linecolor": "white",
             "minorgridcolor": "white",
             "startlinecolor": "#2a3f5f"
            },
            "baxis": {
             "endlinecolor": "#2a3f5f",
             "gridcolor": "white",
             "linecolor": "white",
             "minorgridcolor": "white",
             "startlinecolor": "#2a3f5f"
            },
            "type": "carpet"
           }
          ],
          "choropleth": [
           {
            "colorbar": {
             "outlinewidth": 0,
             "ticks": ""
            },
            "type": "choropleth"
           }
          ],
          "contour": [
           {
            "colorbar": {
             "outlinewidth": 0,
             "ticks": ""
            },
            "colorscale": [
             [
              0,
              "#0d0887"
             ],
             [
              0.1111111111111111,
              "#46039f"
             ],
             [
              0.2222222222222222,
              "#7201a8"
             ],
             [
              0.3333333333333333,
              "#9c179e"
             ],
             [
              0.4444444444444444,
              "#bd3786"
             ],
             [
              0.5555555555555556,
              "#d8576b"
             ],
             [
              0.6666666666666666,
              "#ed7953"
             ],
             [
              0.7777777777777778,
              "#fb9f3a"
             ],
             [
              0.8888888888888888,
              "#fdca26"
             ],
             [
              1,
              "#f0f921"
             ]
            ],
            "type": "contour"
           }
          ],
          "contourcarpet": [
           {
            "colorbar": {
             "outlinewidth": 0,
             "ticks": ""
            },
            "type": "contourcarpet"
           }
          ],
          "heatmap": [
           {
            "colorbar": {
             "outlinewidth": 0,
             "ticks": ""
            },
            "colorscale": [
             [
              0,
              "#0d0887"
             ],
             [
              0.1111111111111111,
              "#46039f"
             ],
             [
              0.2222222222222222,
              "#7201a8"
             ],
             [
              0.3333333333333333,
              "#9c179e"
             ],
             [
              0.4444444444444444,
              "#bd3786"
             ],
             [
              0.5555555555555556,
              "#d8576b"
             ],
             [
              0.6666666666666666,
              "#ed7953"
             ],
             [
              0.7777777777777778,
              "#fb9f3a"
             ],
             [
              0.8888888888888888,
              "#fdca26"
             ],
             [
              1,
              "#f0f921"
             ]
            ],
            "type": "heatmap"
           }
          ],
          "heatmapgl": [
           {
            "colorbar": {
             "outlinewidth": 0,
             "ticks": ""
            },
            "colorscale": [
             [
              0,
              "#0d0887"
             ],
             [
              0.1111111111111111,
              "#46039f"
             ],
             [
              0.2222222222222222,
              "#7201a8"
             ],
             [
              0.3333333333333333,
              "#9c179e"
             ],
             [
              0.4444444444444444,
              "#bd3786"
             ],
             [
              0.5555555555555556,
              "#d8576b"
             ],
             [
              0.6666666666666666,
              "#ed7953"
             ],
             [
              0.7777777777777778,
              "#fb9f3a"
             ],
             [
              0.8888888888888888,
              "#fdca26"
             ],
             [
              1,
              "#f0f921"
             ]
            ],
            "type": "heatmapgl"
           }
          ],
          "histogram": [
           {
            "marker": {
             "pattern": {
              "fillmode": "overlay",
              "size": 10,
              "solidity": 0.2
             }
            },
            "type": "histogram"
           }
          ],
          "histogram2d": [
           {
            "colorbar": {
             "outlinewidth": 0,
             "ticks": ""
            },
            "colorscale": [
             [
              0,
              "#0d0887"
             ],
             [
              0.1111111111111111,
              "#46039f"
             ],
             [
              0.2222222222222222,
              "#7201a8"
             ],
             [
              0.3333333333333333,
              "#9c179e"
             ],
             [
              0.4444444444444444,
              "#bd3786"
             ],
             [
              0.5555555555555556,
              "#d8576b"
             ],
             [
              0.6666666666666666,
              "#ed7953"
             ],
             [
              0.7777777777777778,
              "#fb9f3a"
             ],
             [
              0.8888888888888888,
              "#fdca26"
             ],
             [
              1,
              "#f0f921"
             ]
            ],
            "type": "histogram2d"
           }
          ],
          "histogram2dcontour": [
           {
            "colorbar": {
             "outlinewidth": 0,
             "ticks": ""
            },
            "colorscale": [
             [
              0,
              "#0d0887"
             ],
             [
              0.1111111111111111,
              "#46039f"
             ],
             [
              0.2222222222222222,
              "#7201a8"
             ],
             [
              0.3333333333333333,
              "#9c179e"
             ],
             [
              0.4444444444444444,
              "#bd3786"
             ],
             [
              0.5555555555555556,
              "#d8576b"
             ],
             [
              0.6666666666666666,
              "#ed7953"
             ],
             [
              0.7777777777777778,
              "#fb9f3a"
             ],
             [
              0.8888888888888888,
              "#fdca26"
             ],
             [
              1,
              "#f0f921"
             ]
            ],
            "type": "histogram2dcontour"
           }
          ],
          "mesh3d": [
           {
            "colorbar": {
             "outlinewidth": 0,
             "ticks": ""
            },
            "type": "mesh3d"
           }
          ],
          "parcoords": [
           {
            "line": {
             "colorbar": {
              "outlinewidth": 0,
              "ticks": ""
             }
            },
            "type": "parcoords"
           }
          ],
          "pie": [
           {
            "automargin": true,
            "type": "pie"
           }
          ],
          "scatter": [
           {
            "fillpattern": {
             "fillmode": "overlay",
             "size": 10,
             "solidity": 0.2
            },
            "type": "scatter"
           }
          ],
          "scatter3d": [
           {
            "line": {
             "colorbar": {
              "outlinewidth": 0,
              "ticks": ""
             }
            },
            "marker": {
             "colorbar": {
              "outlinewidth": 0,
              "ticks": ""
             }
            },
            "type": "scatter3d"
           }
          ],
          "scattercarpet": [
           {
            "marker": {
             "colorbar": {
              "outlinewidth": 0,
              "ticks": ""
             }
            },
            "type": "scattercarpet"
           }
          ],
          "scattergeo": [
           {
            "marker": {
             "colorbar": {
              "outlinewidth": 0,
              "ticks": ""
             }
            },
            "type": "scattergeo"
           }
          ],
          "scattergl": [
           {
            "marker": {
             "colorbar": {
              "outlinewidth": 0,
              "ticks": ""
             }
            },
            "type": "scattergl"
           }
          ],
          "scattermapbox": [
           {
            "marker": {
             "colorbar": {
              "outlinewidth": 0,
              "ticks": ""
             }
            },
            "type": "scattermapbox"
           }
          ],
          "scatterpolar": [
           {
            "marker": {
             "colorbar": {
              "outlinewidth": 0,
              "ticks": ""
             }
            },
            "type": "scatterpolar"
           }
          ],
          "scatterpolargl": [
           {
            "marker": {
             "colorbar": {
              "outlinewidth": 0,
              "ticks": ""
             }
            },
            "type": "scatterpolargl"
           }
          ],
          "scatterternary": [
           {
            "marker": {
             "colorbar": {
              "outlinewidth": 0,
              "ticks": ""
             }
            },
            "type": "scatterternary"
           }
          ],
          "surface": [
           {
            "colorbar": {
             "outlinewidth": 0,
             "ticks": ""
            },
            "colorscale": [
             [
              0,
              "#0d0887"
             ],
             [
              0.1111111111111111,
              "#46039f"
             ],
             [
              0.2222222222222222,
              "#7201a8"
             ],
             [
              0.3333333333333333,
              "#9c179e"
             ],
             [
              0.4444444444444444,
              "#bd3786"
             ],
             [
              0.5555555555555556,
              "#d8576b"
             ],
             [
              0.6666666666666666,
              "#ed7953"
             ],
             [
              0.7777777777777778,
              "#fb9f3a"
             ],
             [
              0.8888888888888888,
              "#fdca26"
             ],
             [
              1,
              "#f0f921"
             ]
            ],
            "type": "surface"
           }
          ],
          "table": [
           {
            "cells": {
             "fill": {
              "color": "#EBF0F8"
             },
             "line": {
              "color": "white"
             }
            },
            "header": {
             "fill": {
              "color": "#C8D4E3"
             },
             "line": {
              "color": "white"
             }
            },
            "type": "table"
           }
          ]
         },
         "layout": {
          "annotationdefaults": {
           "arrowcolor": "#2a3f5f",
           "arrowhead": 0,
           "arrowwidth": 1
          },
          "autotypenumbers": "strict",
          "coloraxis": {
           "colorbar": {
            "outlinewidth": 0,
            "ticks": ""
           }
          },
          "colorscale": {
           "diverging": [
            [
             0,
             "#8e0152"
            ],
            [
             0.1,
             "#c51b7d"
            ],
            [
             0.2,
             "#de77ae"
            ],
            [
             0.3,
             "#f1b6da"
            ],
            [
             0.4,
             "#fde0ef"
            ],
            [
             0.5,
             "#f7f7f7"
            ],
            [
             0.6,
             "#e6f5d0"
            ],
            [
             0.7,
             "#b8e186"
            ],
            [
             0.8,
             "#7fbc41"
            ],
            [
             0.9,
             "#4d9221"
            ],
            [
             1,
             "#276419"
            ]
           ],
           "sequential": [
            [
             0,
             "#0d0887"
            ],
            [
             0.1111111111111111,
             "#46039f"
            ],
            [
             0.2222222222222222,
             "#7201a8"
            ],
            [
             0.3333333333333333,
             "#9c179e"
            ],
            [
             0.4444444444444444,
             "#bd3786"
            ],
            [
             0.5555555555555556,
             "#d8576b"
            ],
            [
             0.6666666666666666,
             "#ed7953"
            ],
            [
             0.7777777777777778,
             "#fb9f3a"
            ],
            [
             0.8888888888888888,
             "#fdca26"
            ],
            [
             1,
             "#f0f921"
            ]
           ],
           "sequentialminus": [
            [
             0,
             "#0d0887"
            ],
            [
             0.1111111111111111,
             "#46039f"
            ],
            [
             0.2222222222222222,
             "#7201a8"
            ],
            [
             0.3333333333333333,
             "#9c179e"
            ],
            [
             0.4444444444444444,
             "#bd3786"
            ],
            [
             0.5555555555555556,
             "#d8576b"
            ],
            [
             0.6666666666666666,
             "#ed7953"
            ],
            [
             0.7777777777777778,
             "#fb9f3a"
            ],
            [
             0.8888888888888888,
             "#fdca26"
            ],
            [
             1,
             "#f0f921"
            ]
           ]
          },
          "colorway": [
           "#636efa",
           "#EF553B",
           "#00cc96",
           "#ab63fa",
           "#FFA15A",
           "#19d3f3",
           "#FF6692",
           "#B6E880",
           "#FF97FF",
           "#FECB52"
          ],
          "font": {
           "color": "#2a3f5f"
          },
          "geo": {
           "bgcolor": "white",
           "lakecolor": "white",
           "landcolor": "#E5ECF6",
           "showlakes": true,
           "showland": true,
           "subunitcolor": "white"
          },
          "hoverlabel": {
           "align": "left"
          },
          "hovermode": "closest",
          "mapbox": {
           "style": "light"
          },
          "paper_bgcolor": "white",
          "plot_bgcolor": "#E5ECF6",
          "polar": {
           "angularaxis": {
            "gridcolor": "white",
            "linecolor": "white",
            "ticks": ""
           },
           "bgcolor": "#E5ECF6",
           "radialaxis": {
            "gridcolor": "white",
            "linecolor": "white",
            "ticks": ""
           }
          },
          "scene": {
           "xaxis": {
            "backgroundcolor": "#E5ECF6",
            "gridcolor": "white",
            "gridwidth": 2,
            "linecolor": "white",
            "showbackground": true,
            "ticks": "",
            "zerolinecolor": "white"
           },
           "yaxis": {
            "backgroundcolor": "#E5ECF6",
            "gridcolor": "white",
            "gridwidth": 2,
            "linecolor": "white",
            "showbackground": true,
            "ticks": "",
            "zerolinecolor": "white"
           },
           "zaxis": {
            "backgroundcolor": "#E5ECF6",
            "gridcolor": "white",
            "gridwidth": 2,
            "linecolor": "white",
            "showbackground": true,
            "ticks": "",
            "zerolinecolor": "white"
           }
          },
          "shapedefaults": {
           "line": {
            "color": "#2a3f5f"
           }
          },
          "ternary": {
           "aaxis": {
            "gridcolor": "white",
            "linecolor": "white",
            "ticks": ""
           },
           "baxis": {
            "gridcolor": "white",
            "linecolor": "white",
            "ticks": ""
           },
           "bgcolor": "#E5ECF6",
           "caxis": {
            "gridcolor": "white",
            "linecolor": "white",
            "ticks": ""
           }
          },
          "title": {
           "x": 0.05
          },
          "xaxis": {
           "automargin": true,
           "gridcolor": "white",
           "linecolor": "white",
           "ticks": "",
           "title": {
            "standoff": 15
           },
           "zerolinecolor": "white",
           "zerolinewidth": 2
          },
          "yaxis": {
           "automargin": true,
           "gridcolor": "white",
           "linecolor": "white",
           "ticks": "",
           "title": {
            "standoff": 15
           },
           "zerolinecolor": "white",
           "zerolinewidth": 2
          }
         }
        },
        "title": {
         "text": "Liquidity ratios"
        },
        "xaxis": {
         "anchor": "y",
         "domain": [
          0,
          1
         ],
         "title": {
          "text": "date"
         }
        },
        "yaxis": {
         "anchor": "x",
         "domain": [
          0,
          1
         ],
         "title": {
          "text": "value"
         }
        }
       }
      }
     },
     "metadata": {},
     "output_type": "display_data"
    }
   ],
   "source": [
    "px.line(ratio_data_4425, x='date', y=['Current Ratio', 'Quick Ratio'], title='Liquidity ratios')"
   ]
  },
  {
   "cell_type": "code",
   "execution_count": 53,
   "metadata": {},
   "outputs": [
    {
     "data": {
      "application/vnd.plotly.v1+json": {
       "config": {
        "plotlyServerURL": "https://plot.ly"
       },
       "data": [
        {
         "hovertemplate": "variable=FATO<br>date=%{x}<br>value=%{y}<extra></extra>",
         "legendgroup": "FATO",
         "line": {
          "color": "#636efa",
          "dash": "solid"
         },
         "marker": {
          "symbol": "circle"
         },
         "mode": "lines",
         "name": "FATO",
         "orientation": "v",
         "showlegend": true,
         "type": "scatter",
         "x": [
          "2021-02-28",
          "2021-03-31",
          "2021-04-30",
          "2021-05-31",
          "2021-06-30",
          "2021-07-31",
          "2021-08-31",
          "2021-09-30",
          "2021-10-31",
          "2021-11-30",
          "2021-12-31",
          "2022-01-31",
          "2022-02-28",
          "2022-03-31",
          "2022-04-30",
          "2022-05-31",
          "2022-06-30"
         ],
         "xaxis": "x",
         "y": [
          0,
          0,
          0.013895613785246369,
          0.021473227000854456,
          0.02472298221614227,
          0.026681486548107616,
          0.01799190606475148,
          0.023036365709074327,
          0.019834504647472228,
          0.0308422126501927,
          0.03242915438676037,
          0.030038540013602358,
          0.02987814554522784,
          0.02813420992972115,
          0.013044094309680345,
          0.0011902063024257538,
          0
         ],
         "yaxis": "y"
        },
        {
         "hovertemplate": "variable=TATO<br>date=%{x}<br>value=%{y}<extra></extra>",
         "legendgroup": "TATO",
         "line": {
          "color": "#EF553B",
          "dash": "solid"
         },
         "marker": {
          "symbol": "circle"
         },
         "mode": "lines",
         "name": "TATO",
         "orientation": "v",
         "showlegend": true,
         "type": "scatter",
         "x": [
          "2021-02-28",
          "2021-03-31",
          "2021-04-30",
          "2021-05-31",
          "2021-06-30",
          "2021-07-31",
          "2021-08-31",
          "2021-09-30",
          "2021-10-31",
          "2021-11-30",
          "2021-12-31",
          "2022-01-31",
          "2022-02-28",
          "2022-03-31",
          "2022-04-30",
          "2022-05-31",
          "2022-06-30"
         ],
         "xaxis": "x",
         "y": [
          0,
          0,
          0.013829450244805717,
          0.021369407953243394,
          0.023645884158391552,
          0.024761234729205404,
          0.017582000131454206,
          0.022055394703703796,
          0.018775065901307512,
          0.028476704576822554,
          0.02901104227663011,
          0.026144519504428167,
          0.025333013288815428,
          0.021960943232244717,
          0.010052784215010338,
          0.000916508078036735,
          0
         ],
         "yaxis": "y"
        }
       ],
       "layout": {
        "legend": {
         "title": {
          "text": "variable"
         },
         "tracegroupgap": 0
        },
        "template": {
         "data": {
          "bar": [
           {
            "error_x": {
             "color": "#2a3f5f"
            },
            "error_y": {
             "color": "#2a3f5f"
            },
            "marker": {
             "line": {
              "color": "#E5ECF6",
              "width": 0.5
             },
             "pattern": {
              "fillmode": "overlay",
              "size": 10,
              "solidity": 0.2
             }
            },
            "type": "bar"
           }
          ],
          "barpolar": [
           {
            "marker": {
             "line": {
              "color": "#E5ECF6",
              "width": 0.5
             },
             "pattern": {
              "fillmode": "overlay",
              "size": 10,
              "solidity": 0.2
             }
            },
            "type": "barpolar"
           }
          ],
          "carpet": [
           {
            "aaxis": {
             "endlinecolor": "#2a3f5f",
             "gridcolor": "white",
             "linecolor": "white",
             "minorgridcolor": "white",
             "startlinecolor": "#2a3f5f"
            },
            "baxis": {
             "endlinecolor": "#2a3f5f",
             "gridcolor": "white",
             "linecolor": "white",
             "minorgridcolor": "white",
             "startlinecolor": "#2a3f5f"
            },
            "type": "carpet"
           }
          ],
          "choropleth": [
           {
            "colorbar": {
             "outlinewidth": 0,
             "ticks": ""
            },
            "type": "choropleth"
           }
          ],
          "contour": [
           {
            "colorbar": {
             "outlinewidth": 0,
             "ticks": ""
            },
            "colorscale": [
             [
              0,
              "#0d0887"
             ],
             [
              0.1111111111111111,
              "#46039f"
             ],
             [
              0.2222222222222222,
              "#7201a8"
             ],
             [
              0.3333333333333333,
              "#9c179e"
             ],
             [
              0.4444444444444444,
              "#bd3786"
             ],
             [
              0.5555555555555556,
              "#d8576b"
             ],
             [
              0.6666666666666666,
              "#ed7953"
             ],
             [
              0.7777777777777778,
              "#fb9f3a"
             ],
             [
              0.8888888888888888,
              "#fdca26"
             ],
             [
              1,
              "#f0f921"
             ]
            ],
            "type": "contour"
           }
          ],
          "contourcarpet": [
           {
            "colorbar": {
             "outlinewidth": 0,
             "ticks": ""
            },
            "type": "contourcarpet"
           }
          ],
          "heatmap": [
           {
            "colorbar": {
             "outlinewidth": 0,
             "ticks": ""
            },
            "colorscale": [
             [
              0,
              "#0d0887"
             ],
             [
              0.1111111111111111,
              "#46039f"
             ],
             [
              0.2222222222222222,
              "#7201a8"
             ],
             [
              0.3333333333333333,
              "#9c179e"
             ],
             [
              0.4444444444444444,
              "#bd3786"
             ],
             [
              0.5555555555555556,
              "#d8576b"
             ],
             [
              0.6666666666666666,
              "#ed7953"
             ],
             [
              0.7777777777777778,
              "#fb9f3a"
             ],
             [
              0.8888888888888888,
              "#fdca26"
             ],
             [
              1,
              "#f0f921"
             ]
            ],
            "type": "heatmap"
           }
          ],
          "heatmapgl": [
           {
            "colorbar": {
             "outlinewidth": 0,
             "ticks": ""
            },
            "colorscale": [
             [
              0,
              "#0d0887"
             ],
             [
              0.1111111111111111,
              "#46039f"
             ],
             [
              0.2222222222222222,
              "#7201a8"
             ],
             [
              0.3333333333333333,
              "#9c179e"
             ],
             [
              0.4444444444444444,
              "#bd3786"
             ],
             [
              0.5555555555555556,
              "#d8576b"
             ],
             [
              0.6666666666666666,
              "#ed7953"
             ],
             [
              0.7777777777777778,
              "#fb9f3a"
             ],
             [
              0.8888888888888888,
              "#fdca26"
             ],
             [
              1,
              "#f0f921"
             ]
            ],
            "type": "heatmapgl"
           }
          ],
          "histogram": [
           {
            "marker": {
             "pattern": {
              "fillmode": "overlay",
              "size": 10,
              "solidity": 0.2
             }
            },
            "type": "histogram"
           }
          ],
          "histogram2d": [
           {
            "colorbar": {
             "outlinewidth": 0,
             "ticks": ""
            },
            "colorscale": [
             [
              0,
              "#0d0887"
             ],
             [
              0.1111111111111111,
              "#46039f"
             ],
             [
              0.2222222222222222,
              "#7201a8"
             ],
             [
              0.3333333333333333,
              "#9c179e"
             ],
             [
              0.4444444444444444,
              "#bd3786"
             ],
             [
              0.5555555555555556,
              "#d8576b"
             ],
             [
              0.6666666666666666,
              "#ed7953"
             ],
             [
              0.7777777777777778,
              "#fb9f3a"
             ],
             [
              0.8888888888888888,
              "#fdca26"
             ],
             [
              1,
              "#f0f921"
             ]
            ],
            "type": "histogram2d"
           }
          ],
          "histogram2dcontour": [
           {
            "colorbar": {
             "outlinewidth": 0,
             "ticks": ""
            },
            "colorscale": [
             [
              0,
              "#0d0887"
             ],
             [
              0.1111111111111111,
              "#46039f"
             ],
             [
              0.2222222222222222,
              "#7201a8"
             ],
             [
              0.3333333333333333,
              "#9c179e"
             ],
             [
              0.4444444444444444,
              "#bd3786"
             ],
             [
              0.5555555555555556,
              "#d8576b"
             ],
             [
              0.6666666666666666,
              "#ed7953"
             ],
             [
              0.7777777777777778,
              "#fb9f3a"
             ],
             [
              0.8888888888888888,
              "#fdca26"
             ],
             [
              1,
              "#f0f921"
             ]
            ],
            "type": "histogram2dcontour"
           }
          ],
          "mesh3d": [
           {
            "colorbar": {
             "outlinewidth": 0,
             "ticks": ""
            },
            "type": "mesh3d"
           }
          ],
          "parcoords": [
           {
            "line": {
             "colorbar": {
              "outlinewidth": 0,
              "ticks": ""
             }
            },
            "type": "parcoords"
           }
          ],
          "pie": [
           {
            "automargin": true,
            "type": "pie"
           }
          ],
          "scatter": [
           {
            "fillpattern": {
             "fillmode": "overlay",
             "size": 10,
             "solidity": 0.2
            },
            "type": "scatter"
           }
          ],
          "scatter3d": [
           {
            "line": {
             "colorbar": {
              "outlinewidth": 0,
              "ticks": ""
             }
            },
            "marker": {
             "colorbar": {
              "outlinewidth": 0,
              "ticks": ""
             }
            },
            "type": "scatter3d"
           }
          ],
          "scattercarpet": [
           {
            "marker": {
             "colorbar": {
              "outlinewidth": 0,
              "ticks": ""
             }
            },
            "type": "scattercarpet"
           }
          ],
          "scattergeo": [
           {
            "marker": {
             "colorbar": {
              "outlinewidth": 0,
              "ticks": ""
             }
            },
            "type": "scattergeo"
           }
          ],
          "scattergl": [
           {
            "marker": {
             "colorbar": {
              "outlinewidth": 0,
              "ticks": ""
             }
            },
            "type": "scattergl"
           }
          ],
          "scattermapbox": [
           {
            "marker": {
             "colorbar": {
              "outlinewidth": 0,
              "ticks": ""
             }
            },
            "type": "scattermapbox"
           }
          ],
          "scatterpolar": [
           {
            "marker": {
             "colorbar": {
              "outlinewidth": 0,
              "ticks": ""
             }
            },
            "type": "scatterpolar"
           }
          ],
          "scatterpolargl": [
           {
            "marker": {
             "colorbar": {
              "outlinewidth": 0,
              "ticks": ""
             }
            },
            "type": "scatterpolargl"
           }
          ],
          "scatterternary": [
           {
            "marker": {
             "colorbar": {
              "outlinewidth": 0,
              "ticks": ""
             }
            },
            "type": "scatterternary"
           }
          ],
          "surface": [
           {
            "colorbar": {
             "outlinewidth": 0,
             "ticks": ""
            },
            "colorscale": [
             [
              0,
              "#0d0887"
             ],
             [
              0.1111111111111111,
              "#46039f"
             ],
             [
              0.2222222222222222,
              "#7201a8"
             ],
             [
              0.3333333333333333,
              "#9c179e"
             ],
             [
              0.4444444444444444,
              "#bd3786"
             ],
             [
              0.5555555555555556,
              "#d8576b"
             ],
             [
              0.6666666666666666,
              "#ed7953"
             ],
             [
              0.7777777777777778,
              "#fb9f3a"
             ],
             [
              0.8888888888888888,
              "#fdca26"
             ],
             [
              1,
              "#f0f921"
             ]
            ],
            "type": "surface"
           }
          ],
          "table": [
           {
            "cells": {
             "fill": {
              "color": "#EBF0F8"
             },
             "line": {
              "color": "white"
             }
            },
            "header": {
             "fill": {
              "color": "#C8D4E3"
             },
             "line": {
              "color": "white"
             }
            },
            "type": "table"
           }
          ]
         },
         "layout": {
          "annotationdefaults": {
           "arrowcolor": "#2a3f5f",
           "arrowhead": 0,
           "arrowwidth": 1
          },
          "autotypenumbers": "strict",
          "coloraxis": {
           "colorbar": {
            "outlinewidth": 0,
            "ticks": ""
           }
          },
          "colorscale": {
           "diverging": [
            [
             0,
             "#8e0152"
            ],
            [
             0.1,
             "#c51b7d"
            ],
            [
             0.2,
             "#de77ae"
            ],
            [
             0.3,
             "#f1b6da"
            ],
            [
             0.4,
             "#fde0ef"
            ],
            [
             0.5,
             "#f7f7f7"
            ],
            [
             0.6,
             "#e6f5d0"
            ],
            [
             0.7,
             "#b8e186"
            ],
            [
             0.8,
             "#7fbc41"
            ],
            [
             0.9,
             "#4d9221"
            ],
            [
             1,
             "#276419"
            ]
           ],
           "sequential": [
            [
             0,
             "#0d0887"
            ],
            [
             0.1111111111111111,
             "#46039f"
            ],
            [
             0.2222222222222222,
             "#7201a8"
            ],
            [
             0.3333333333333333,
             "#9c179e"
            ],
            [
             0.4444444444444444,
             "#bd3786"
            ],
            [
             0.5555555555555556,
             "#d8576b"
            ],
            [
             0.6666666666666666,
             "#ed7953"
            ],
            [
             0.7777777777777778,
             "#fb9f3a"
            ],
            [
             0.8888888888888888,
             "#fdca26"
            ],
            [
             1,
             "#f0f921"
            ]
           ],
           "sequentialminus": [
            [
             0,
             "#0d0887"
            ],
            [
             0.1111111111111111,
             "#46039f"
            ],
            [
             0.2222222222222222,
             "#7201a8"
            ],
            [
             0.3333333333333333,
             "#9c179e"
            ],
            [
             0.4444444444444444,
             "#bd3786"
            ],
            [
             0.5555555555555556,
             "#d8576b"
            ],
            [
             0.6666666666666666,
             "#ed7953"
            ],
            [
             0.7777777777777778,
             "#fb9f3a"
            ],
            [
             0.8888888888888888,
             "#fdca26"
            ],
            [
             1,
             "#f0f921"
            ]
           ]
          },
          "colorway": [
           "#636efa",
           "#EF553B",
           "#00cc96",
           "#ab63fa",
           "#FFA15A",
           "#19d3f3",
           "#FF6692",
           "#B6E880",
           "#FF97FF",
           "#FECB52"
          ],
          "font": {
           "color": "#2a3f5f"
          },
          "geo": {
           "bgcolor": "white",
           "lakecolor": "white",
           "landcolor": "#E5ECF6",
           "showlakes": true,
           "showland": true,
           "subunitcolor": "white"
          },
          "hoverlabel": {
           "align": "left"
          },
          "hovermode": "closest",
          "mapbox": {
           "style": "light"
          },
          "paper_bgcolor": "white",
          "plot_bgcolor": "#E5ECF6",
          "polar": {
           "angularaxis": {
            "gridcolor": "white",
            "linecolor": "white",
            "ticks": ""
           },
           "bgcolor": "#E5ECF6",
           "radialaxis": {
            "gridcolor": "white",
            "linecolor": "white",
            "ticks": ""
           }
          },
          "scene": {
           "xaxis": {
            "backgroundcolor": "#E5ECF6",
            "gridcolor": "white",
            "gridwidth": 2,
            "linecolor": "white",
            "showbackground": true,
            "ticks": "",
            "zerolinecolor": "white"
           },
           "yaxis": {
            "backgroundcolor": "#E5ECF6",
            "gridcolor": "white",
            "gridwidth": 2,
            "linecolor": "white",
            "showbackground": true,
            "ticks": "",
            "zerolinecolor": "white"
           },
           "zaxis": {
            "backgroundcolor": "#E5ECF6",
            "gridcolor": "white",
            "gridwidth": 2,
            "linecolor": "white",
            "showbackground": true,
            "ticks": "",
            "zerolinecolor": "white"
           }
          },
          "shapedefaults": {
           "line": {
            "color": "#2a3f5f"
           }
          },
          "ternary": {
           "aaxis": {
            "gridcolor": "white",
            "linecolor": "white",
            "ticks": ""
           },
           "baxis": {
            "gridcolor": "white",
            "linecolor": "white",
            "ticks": ""
           },
           "bgcolor": "#E5ECF6",
           "caxis": {
            "gridcolor": "white",
            "linecolor": "white",
            "ticks": ""
           }
          },
          "title": {
           "x": 0.05
          },
          "xaxis": {
           "automargin": true,
           "gridcolor": "white",
           "linecolor": "white",
           "ticks": "",
           "title": {
            "standoff": 15
           },
           "zerolinecolor": "white",
           "zerolinewidth": 2
          },
          "yaxis": {
           "automargin": true,
           "gridcolor": "white",
           "linecolor": "white",
           "ticks": "",
           "title": {
            "standoff": 15
           },
           "zerolinecolor": "white",
           "zerolinewidth": 2
          }
         }
        },
        "title": {
         "text": "Asset managment ratios"
        },
        "xaxis": {
         "anchor": "y",
         "domain": [
          0,
          1
         ],
         "title": {
          "text": "date"
         }
        },
        "yaxis": {
         "anchor": "x",
         "domain": [
          0,
          1
         ],
         "title": {
          "text": "value"
         }
        }
       }
      }
     },
     "metadata": {},
     "output_type": "display_data"
    }
   ],
   "source": [
    "px.line(ratio_data_4425, x='date', y=['FATO', 'TATO'], title='Asset managment ratios')"
   ]
  },
  {
   "cell_type": "code",
   "execution_count": 54,
   "metadata": {},
   "outputs": [
    {
     "data": {
      "application/vnd.plotly.v1+json": {
       "config": {
        "plotlyServerURL": "https://plot.ly"
       },
       "data": [
        {
         "hovertemplate": "variable=Debt Ratio<br>date=%{x}<br>value=%{y}<extra></extra>",
         "legendgroup": "Debt Ratio",
         "line": {
          "color": "#636efa",
          "dash": "solid"
         },
         "marker": {
          "symbol": "circle"
         },
         "mode": "lines",
         "name": "Debt Ratio",
         "orientation": "v",
         "showlegend": true,
         "type": "scatter",
         "x": [
          "2021-02-28",
          "2021-03-31",
          "2021-04-30",
          "2021-05-31",
          "2021-06-30",
          "2021-07-31",
          "2021-08-31",
          "2021-09-30",
          "2021-10-31",
          "2021-11-30",
          "2021-12-31",
          "2022-01-31",
          "2022-02-28",
          "2022-03-31",
          "2022-04-30",
          "2022-05-31",
          "2022-06-30"
         ],
         "xaxis": "x",
         "y": [
          0,
          0,
          0,
          0,
          0,
          0,
          0,
          -0.002728614957776048,
          -0.0022800900125887792,
          -0.00366306979377702,
          0.004056211999948284,
          0.003147208196948145,
          0.003065891928270623,
          0.005698165770171473,
          0.0056258901016438476,
          0.005128080912824589,
          0.005128080912824589
         ],
         "yaxis": "y"
        },
        {
         "hovertemplate": "variable=Equity Multiplier<br>date=%{x}<br>value=%{y}<extra></extra>",
         "legendgroup": "Equity Multiplier",
         "line": {
          "color": "#EF553B",
          "dash": "solid"
         },
         "marker": {
          "symbol": "circle"
         },
         "mode": "lines",
         "name": "Equity Multiplier",
         "orientation": "v",
         "showlegend": true,
         "type": "scatter",
         "x": [
          "2021-02-28",
          "2021-03-31",
          "2021-04-30",
          "2021-05-31",
          "2021-06-30",
          "2021-07-31",
          "2021-08-31",
          "2021-09-30",
          "2021-10-31",
          "2021-11-30",
          "2021-12-31",
          "2022-01-31",
          "2022-02-28",
          "2022-03-31",
          "2022-04-30",
          "2022-05-31",
          "2022-06-30"
         ],
         "xaxis": "x",
         "y": [
          1,
          1,
          1,
          1,
          1,
          1,
          1,
          0.997278810121629,
          0.997725096971087,
          0.9963502993145601,
          1.0040727318638067,
          1.003157144387644,
          1.0030753205286562,
          1.0057308209378746,
          1.0056577198115295,
          1.0051545136760214,
          1.0051545136760214
         ],
         "yaxis": "y"
        }
       ],
       "layout": {
        "legend": {
         "title": {
          "text": "variable"
         },
         "tracegroupgap": 0
        },
        "template": {
         "data": {
          "bar": [
           {
            "error_x": {
             "color": "#2a3f5f"
            },
            "error_y": {
             "color": "#2a3f5f"
            },
            "marker": {
             "line": {
              "color": "#E5ECF6",
              "width": 0.5
             },
             "pattern": {
              "fillmode": "overlay",
              "size": 10,
              "solidity": 0.2
             }
            },
            "type": "bar"
           }
          ],
          "barpolar": [
           {
            "marker": {
             "line": {
              "color": "#E5ECF6",
              "width": 0.5
             },
             "pattern": {
              "fillmode": "overlay",
              "size": 10,
              "solidity": 0.2
             }
            },
            "type": "barpolar"
           }
          ],
          "carpet": [
           {
            "aaxis": {
             "endlinecolor": "#2a3f5f",
             "gridcolor": "white",
             "linecolor": "white",
             "minorgridcolor": "white",
             "startlinecolor": "#2a3f5f"
            },
            "baxis": {
             "endlinecolor": "#2a3f5f",
             "gridcolor": "white",
             "linecolor": "white",
             "minorgridcolor": "white",
             "startlinecolor": "#2a3f5f"
            },
            "type": "carpet"
           }
          ],
          "choropleth": [
           {
            "colorbar": {
             "outlinewidth": 0,
             "ticks": ""
            },
            "type": "choropleth"
           }
          ],
          "contour": [
           {
            "colorbar": {
             "outlinewidth": 0,
             "ticks": ""
            },
            "colorscale": [
             [
              0,
              "#0d0887"
             ],
             [
              0.1111111111111111,
              "#46039f"
             ],
             [
              0.2222222222222222,
              "#7201a8"
             ],
             [
              0.3333333333333333,
              "#9c179e"
             ],
             [
              0.4444444444444444,
              "#bd3786"
             ],
             [
              0.5555555555555556,
              "#d8576b"
             ],
             [
              0.6666666666666666,
              "#ed7953"
             ],
             [
              0.7777777777777778,
              "#fb9f3a"
             ],
             [
              0.8888888888888888,
              "#fdca26"
             ],
             [
              1,
              "#f0f921"
             ]
            ],
            "type": "contour"
           }
          ],
          "contourcarpet": [
           {
            "colorbar": {
             "outlinewidth": 0,
             "ticks": ""
            },
            "type": "contourcarpet"
           }
          ],
          "heatmap": [
           {
            "colorbar": {
             "outlinewidth": 0,
             "ticks": ""
            },
            "colorscale": [
             [
              0,
              "#0d0887"
             ],
             [
              0.1111111111111111,
              "#46039f"
             ],
             [
              0.2222222222222222,
              "#7201a8"
             ],
             [
              0.3333333333333333,
              "#9c179e"
             ],
             [
              0.4444444444444444,
              "#bd3786"
             ],
             [
              0.5555555555555556,
              "#d8576b"
             ],
             [
              0.6666666666666666,
              "#ed7953"
             ],
             [
              0.7777777777777778,
              "#fb9f3a"
             ],
             [
              0.8888888888888888,
              "#fdca26"
             ],
             [
              1,
              "#f0f921"
             ]
            ],
            "type": "heatmap"
           }
          ],
          "heatmapgl": [
           {
            "colorbar": {
             "outlinewidth": 0,
             "ticks": ""
            },
            "colorscale": [
             [
              0,
              "#0d0887"
             ],
             [
              0.1111111111111111,
              "#46039f"
             ],
             [
              0.2222222222222222,
              "#7201a8"
             ],
             [
              0.3333333333333333,
              "#9c179e"
             ],
             [
              0.4444444444444444,
              "#bd3786"
             ],
             [
              0.5555555555555556,
              "#d8576b"
             ],
             [
              0.6666666666666666,
              "#ed7953"
             ],
             [
              0.7777777777777778,
              "#fb9f3a"
             ],
             [
              0.8888888888888888,
              "#fdca26"
             ],
             [
              1,
              "#f0f921"
             ]
            ],
            "type": "heatmapgl"
           }
          ],
          "histogram": [
           {
            "marker": {
             "pattern": {
              "fillmode": "overlay",
              "size": 10,
              "solidity": 0.2
             }
            },
            "type": "histogram"
           }
          ],
          "histogram2d": [
           {
            "colorbar": {
             "outlinewidth": 0,
             "ticks": ""
            },
            "colorscale": [
             [
              0,
              "#0d0887"
             ],
             [
              0.1111111111111111,
              "#46039f"
             ],
             [
              0.2222222222222222,
              "#7201a8"
             ],
             [
              0.3333333333333333,
              "#9c179e"
             ],
             [
              0.4444444444444444,
              "#bd3786"
             ],
             [
              0.5555555555555556,
              "#d8576b"
             ],
             [
              0.6666666666666666,
              "#ed7953"
             ],
             [
              0.7777777777777778,
              "#fb9f3a"
             ],
             [
              0.8888888888888888,
              "#fdca26"
             ],
             [
              1,
              "#f0f921"
             ]
            ],
            "type": "histogram2d"
           }
          ],
          "histogram2dcontour": [
           {
            "colorbar": {
             "outlinewidth": 0,
             "ticks": ""
            },
            "colorscale": [
             [
              0,
              "#0d0887"
             ],
             [
              0.1111111111111111,
              "#46039f"
             ],
             [
              0.2222222222222222,
              "#7201a8"
             ],
             [
              0.3333333333333333,
              "#9c179e"
             ],
             [
              0.4444444444444444,
              "#bd3786"
             ],
             [
              0.5555555555555556,
              "#d8576b"
             ],
             [
              0.6666666666666666,
              "#ed7953"
             ],
             [
              0.7777777777777778,
              "#fb9f3a"
             ],
             [
              0.8888888888888888,
              "#fdca26"
             ],
             [
              1,
              "#f0f921"
             ]
            ],
            "type": "histogram2dcontour"
           }
          ],
          "mesh3d": [
           {
            "colorbar": {
             "outlinewidth": 0,
             "ticks": ""
            },
            "type": "mesh3d"
           }
          ],
          "parcoords": [
           {
            "line": {
             "colorbar": {
              "outlinewidth": 0,
              "ticks": ""
             }
            },
            "type": "parcoords"
           }
          ],
          "pie": [
           {
            "automargin": true,
            "type": "pie"
           }
          ],
          "scatter": [
           {
            "fillpattern": {
             "fillmode": "overlay",
             "size": 10,
             "solidity": 0.2
            },
            "type": "scatter"
           }
          ],
          "scatter3d": [
           {
            "line": {
             "colorbar": {
              "outlinewidth": 0,
              "ticks": ""
             }
            },
            "marker": {
             "colorbar": {
              "outlinewidth": 0,
              "ticks": ""
             }
            },
            "type": "scatter3d"
           }
          ],
          "scattercarpet": [
           {
            "marker": {
             "colorbar": {
              "outlinewidth": 0,
              "ticks": ""
             }
            },
            "type": "scattercarpet"
           }
          ],
          "scattergeo": [
           {
            "marker": {
             "colorbar": {
              "outlinewidth": 0,
              "ticks": ""
             }
            },
            "type": "scattergeo"
           }
          ],
          "scattergl": [
           {
            "marker": {
             "colorbar": {
              "outlinewidth": 0,
              "ticks": ""
             }
            },
            "type": "scattergl"
           }
          ],
          "scattermapbox": [
           {
            "marker": {
             "colorbar": {
              "outlinewidth": 0,
              "ticks": ""
             }
            },
            "type": "scattermapbox"
           }
          ],
          "scatterpolar": [
           {
            "marker": {
             "colorbar": {
              "outlinewidth": 0,
              "ticks": ""
             }
            },
            "type": "scatterpolar"
           }
          ],
          "scatterpolargl": [
           {
            "marker": {
             "colorbar": {
              "outlinewidth": 0,
              "ticks": ""
             }
            },
            "type": "scatterpolargl"
           }
          ],
          "scatterternary": [
           {
            "marker": {
             "colorbar": {
              "outlinewidth": 0,
              "ticks": ""
             }
            },
            "type": "scatterternary"
           }
          ],
          "surface": [
           {
            "colorbar": {
             "outlinewidth": 0,
             "ticks": ""
            },
            "colorscale": [
             [
              0,
              "#0d0887"
             ],
             [
              0.1111111111111111,
              "#46039f"
             ],
             [
              0.2222222222222222,
              "#7201a8"
             ],
             [
              0.3333333333333333,
              "#9c179e"
             ],
             [
              0.4444444444444444,
              "#bd3786"
             ],
             [
              0.5555555555555556,
              "#d8576b"
             ],
             [
              0.6666666666666666,
              "#ed7953"
             ],
             [
              0.7777777777777778,
              "#fb9f3a"
             ],
             [
              0.8888888888888888,
              "#fdca26"
             ],
             [
              1,
              "#f0f921"
             ]
            ],
            "type": "surface"
           }
          ],
          "table": [
           {
            "cells": {
             "fill": {
              "color": "#EBF0F8"
             },
             "line": {
              "color": "white"
             }
            },
            "header": {
             "fill": {
              "color": "#C8D4E3"
             },
             "line": {
              "color": "white"
             }
            },
            "type": "table"
           }
          ]
         },
         "layout": {
          "annotationdefaults": {
           "arrowcolor": "#2a3f5f",
           "arrowhead": 0,
           "arrowwidth": 1
          },
          "autotypenumbers": "strict",
          "coloraxis": {
           "colorbar": {
            "outlinewidth": 0,
            "ticks": ""
           }
          },
          "colorscale": {
           "diverging": [
            [
             0,
             "#8e0152"
            ],
            [
             0.1,
             "#c51b7d"
            ],
            [
             0.2,
             "#de77ae"
            ],
            [
             0.3,
             "#f1b6da"
            ],
            [
             0.4,
             "#fde0ef"
            ],
            [
             0.5,
             "#f7f7f7"
            ],
            [
             0.6,
             "#e6f5d0"
            ],
            [
             0.7,
             "#b8e186"
            ],
            [
             0.8,
             "#7fbc41"
            ],
            [
             0.9,
             "#4d9221"
            ],
            [
             1,
             "#276419"
            ]
           ],
           "sequential": [
            [
             0,
             "#0d0887"
            ],
            [
             0.1111111111111111,
             "#46039f"
            ],
            [
             0.2222222222222222,
             "#7201a8"
            ],
            [
             0.3333333333333333,
             "#9c179e"
            ],
            [
             0.4444444444444444,
             "#bd3786"
            ],
            [
             0.5555555555555556,
             "#d8576b"
            ],
            [
             0.6666666666666666,
             "#ed7953"
            ],
            [
             0.7777777777777778,
             "#fb9f3a"
            ],
            [
             0.8888888888888888,
             "#fdca26"
            ],
            [
             1,
             "#f0f921"
            ]
           ],
           "sequentialminus": [
            [
             0,
             "#0d0887"
            ],
            [
             0.1111111111111111,
             "#46039f"
            ],
            [
             0.2222222222222222,
             "#7201a8"
            ],
            [
             0.3333333333333333,
             "#9c179e"
            ],
            [
             0.4444444444444444,
             "#bd3786"
            ],
            [
             0.5555555555555556,
             "#d8576b"
            ],
            [
             0.6666666666666666,
             "#ed7953"
            ],
            [
             0.7777777777777778,
             "#fb9f3a"
            ],
            [
             0.8888888888888888,
             "#fdca26"
            ],
            [
             1,
             "#f0f921"
            ]
           ]
          },
          "colorway": [
           "#636efa",
           "#EF553B",
           "#00cc96",
           "#ab63fa",
           "#FFA15A",
           "#19d3f3",
           "#FF6692",
           "#B6E880",
           "#FF97FF",
           "#FECB52"
          ],
          "font": {
           "color": "#2a3f5f"
          },
          "geo": {
           "bgcolor": "white",
           "lakecolor": "white",
           "landcolor": "#E5ECF6",
           "showlakes": true,
           "showland": true,
           "subunitcolor": "white"
          },
          "hoverlabel": {
           "align": "left"
          },
          "hovermode": "closest",
          "mapbox": {
           "style": "light"
          },
          "paper_bgcolor": "white",
          "plot_bgcolor": "#E5ECF6",
          "polar": {
           "angularaxis": {
            "gridcolor": "white",
            "linecolor": "white",
            "ticks": ""
           },
           "bgcolor": "#E5ECF6",
           "radialaxis": {
            "gridcolor": "white",
            "linecolor": "white",
            "ticks": ""
           }
          },
          "scene": {
           "xaxis": {
            "backgroundcolor": "#E5ECF6",
            "gridcolor": "white",
            "gridwidth": 2,
            "linecolor": "white",
            "showbackground": true,
            "ticks": "",
            "zerolinecolor": "white"
           },
           "yaxis": {
            "backgroundcolor": "#E5ECF6",
            "gridcolor": "white",
            "gridwidth": 2,
            "linecolor": "white",
            "showbackground": true,
            "ticks": "",
            "zerolinecolor": "white"
           },
           "zaxis": {
            "backgroundcolor": "#E5ECF6",
            "gridcolor": "white",
            "gridwidth": 2,
            "linecolor": "white",
            "showbackground": true,
            "ticks": "",
            "zerolinecolor": "white"
           }
          },
          "shapedefaults": {
           "line": {
            "color": "#2a3f5f"
           }
          },
          "ternary": {
           "aaxis": {
            "gridcolor": "white",
            "linecolor": "white",
            "ticks": ""
           },
           "baxis": {
            "gridcolor": "white",
            "linecolor": "white",
            "ticks": ""
           },
           "bgcolor": "#E5ECF6",
           "caxis": {
            "gridcolor": "white",
            "linecolor": "white",
            "ticks": ""
           }
          },
          "title": {
           "x": 0.05
          },
          "xaxis": {
           "automargin": true,
           "gridcolor": "white",
           "linecolor": "white",
           "ticks": "",
           "title": {
            "standoff": 15
           },
           "zerolinecolor": "white",
           "zerolinewidth": 2
          },
          "yaxis": {
           "automargin": true,
           "gridcolor": "white",
           "linecolor": "white",
           "ticks": "",
           "title": {
            "standoff": 15
           },
           "zerolinecolor": "white",
           "zerolinewidth": 2
          }
         }
        },
        "title": {
         "text": "Debt managment ratios"
        },
        "xaxis": {
         "anchor": "y",
         "domain": [
          0,
          1
         ],
         "title": {
          "text": "date"
         }
        },
        "yaxis": {
         "anchor": "x",
         "domain": [
          0,
          1
         ],
         "title": {
          "text": "value"
         }
        }
       }
      }
     },
     "metadata": {},
     "output_type": "display_data"
    }
   ],
   "source": [
    "px.line(ratio_data_4425, x='date', y=['Debt Ratio', 'Equity Multiplier'], title='Debt managment ratios')"
   ]
  },
  {
   "cell_type": "code",
   "execution_count": 55,
   "metadata": {},
   "outputs": [
    {
     "data": {
      "application/vnd.plotly.v1+json": {
       "config": {
        "plotlyServerURL": "https://plot.ly"
       },
       "data": [
        {
         "hovertemplate": "variable=Gross Margin<br>date=%{x}<br>value=%{y}<extra></extra>",
         "legendgroup": "Gross Margin",
         "line": {
          "color": "#636efa",
          "dash": "solid"
         },
         "marker": {
          "symbol": "circle"
         },
         "mode": "lines",
         "name": "Gross Margin",
         "orientation": "v",
         "showlegend": true,
         "type": "scatter",
         "x": [
          "2021-02-28",
          "2021-03-31",
          "2021-04-30",
          "2021-05-31",
          "2021-06-30",
          "2021-07-31",
          "2021-08-31",
          "2021-09-30",
          "2021-10-31",
          "2021-11-30",
          "2021-12-31",
          "2022-01-31",
          "2022-02-28",
          "2022-03-31",
          "2022-04-30",
          "2022-05-31",
          "2022-06-30"
         ],
         "xaxis": "x",
         "y": [
          null,
          null,
          0.46625672559569564,
          0.7720595549955235,
          0.9000092221146309,
          0.8216193121127964,
          0.5152859179470933,
          0.7723617468761599,
          0.8919876557320837,
          0.8041089345437171,
          0.8112482086056835,
          0.9626415094339623,
          0.8520401388546389,
          0.9636986301369863,
          0.8435802737345209,
          1,
          null
         ],
         "yaxis": "y"
        },
        {
         "hovertemplate": "variable=Profit Margin<br>date=%{x}<br>value=%{y}<extra></extra>",
         "legendgroup": "Profit Margin",
         "line": {
          "color": "#EF553B",
          "dash": "solid"
         },
         "marker": {
          "symbol": "circle"
         },
         "mode": "lines",
         "name": "Profit Margin",
         "orientation": "v",
         "showlegend": true,
         "type": "scatter",
         "x": [
          "2021-02-28",
          "2021-03-31",
          "2021-04-30",
          "2021-05-31",
          "2021-06-30",
          "2021-07-31",
          "2021-08-31",
          "2021-09-30",
          "2021-10-31",
          "2021-11-30",
          "2021-12-31",
          "2022-01-31",
          "2022-02-28",
          "2022-03-31",
          "2022-04-30",
          "2022-05-31",
          "2022-06-30"
         ],
         "xaxis": "x",
         "y": [
          null,
          null,
          0.4519087881117089,
          0.2354677189375601,
          0.6280721169364135,
          0.695150608844264,
          0.2745129098685253,
          0.5626128912532475,
          0.752371699622814,
          0.5366606637509648,
          0.6233702680974519,
          0.7220754716981133,
          0.795132499952577,
          0.7288074133763094,
          0.7012383228329351,
          1,
          null
         ],
         "yaxis": "y"
        },
        {
         "hovertemplate": "variable=Return on Asset<br>date=%{x}<br>value=%{y}<extra></extra>",
         "legendgroup": "Return on Asset",
         "line": {
          "color": "#00cc96",
          "dash": "solid"
         },
         "marker": {
          "symbol": "circle"
         },
         "mode": "lines",
         "name": "Return on Asset",
         "orientation": "v",
         "showlegend": true,
         "type": "scatter",
         "x": [
          "2021-02-28",
          "2021-03-31",
          "2021-04-30",
          "2021-05-31",
          "2021-06-30",
          "2021-07-31",
          "2021-08-31",
          "2021-09-30",
          "2021-10-31",
          "2021-11-30",
          "2021-12-31",
          "2022-01-31",
          "2022-02-28",
          "2022-03-31",
          "2022-04-30",
          "2022-05-31",
          "2022-06-30"
         ],
         "xaxis": "x",
         "y": [
          0,
          0,
          0.006249650100381329,
          0.005031805745796376,
          0.014851320520194188,
          0.01721278739774287,
          0.004826486017394288,
          0.012408649381982354,
          0.014125828242697073,
          0.015282327179637728,
          0.018084621201769423,
          0.01887831625348049,
          0.020143102187667666,
          0.01600529823239624,
          0.007049397542735252,
          0.000916508078036735,
          0
         ],
         "yaxis": "y"
        },
        {
         "hovertemplate": "variable=Return on Equity<br>date=%{x}<br>value=%{y}<extra></extra>",
         "legendgroup": "Return on Equity",
         "line": {
          "color": "#ab63fa",
          "dash": "solid"
         },
         "marker": {
          "symbol": "circle"
         },
         "mode": "lines",
         "name": "Return on Equity",
         "orientation": "v",
         "showlegend": true,
         "type": "scatter",
         "x": [
          "2021-02-28",
          "2021-03-31",
          "2021-04-30",
          "2021-05-31",
          "2021-06-30",
          "2021-07-31",
          "2021-08-31",
          "2021-09-30",
          "2021-10-31",
          "2021-11-30",
          "2021-12-31",
          "2022-01-31",
          "2022-02-28",
          "2022-03-31",
          "2022-04-30",
          "2022-05-31",
          "2022-06-30"
         ],
         "xaxis": "x",
         "y": [
          0,
          0,
          0.006249650100381329,
          0.005031805745796376,
          0.014851320520194188,
          0.01721278739774287,
          0.004826486017394288,
          0.012408649381982354,
          0.014125828242697073,
          0.015282327179637728,
          0.018084621201769423,
          0.01887831625348049,
          0.020143102187667666,
          0.01600529823239624,
          0.007049397542735252,
          0.000916508078036735,
          0
         ],
         "yaxis": "y"
        }
       ],
       "layout": {
        "legend": {
         "title": {
          "text": "variable"
         },
         "tracegroupgap": 0
        },
        "template": {
         "data": {
          "bar": [
           {
            "error_x": {
             "color": "#2a3f5f"
            },
            "error_y": {
             "color": "#2a3f5f"
            },
            "marker": {
             "line": {
              "color": "#E5ECF6",
              "width": 0.5
             },
             "pattern": {
              "fillmode": "overlay",
              "size": 10,
              "solidity": 0.2
             }
            },
            "type": "bar"
           }
          ],
          "barpolar": [
           {
            "marker": {
             "line": {
              "color": "#E5ECF6",
              "width": 0.5
             },
             "pattern": {
              "fillmode": "overlay",
              "size": 10,
              "solidity": 0.2
             }
            },
            "type": "barpolar"
           }
          ],
          "carpet": [
           {
            "aaxis": {
             "endlinecolor": "#2a3f5f",
             "gridcolor": "white",
             "linecolor": "white",
             "minorgridcolor": "white",
             "startlinecolor": "#2a3f5f"
            },
            "baxis": {
             "endlinecolor": "#2a3f5f",
             "gridcolor": "white",
             "linecolor": "white",
             "minorgridcolor": "white",
             "startlinecolor": "#2a3f5f"
            },
            "type": "carpet"
           }
          ],
          "choropleth": [
           {
            "colorbar": {
             "outlinewidth": 0,
             "ticks": ""
            },
            "type": "choropleth"
           }
          ],
          "contour": [
           {
            "colorbar": {
             "outlinewidth": 0,
             "ticks": ""
            },
            "colorscale": [
             [
              0,
              "#0d0887"
             ],
             [
              0.1111111111111111,
              "#46039f"
             ],
             [
              0.2222222222222222,
              "#7201a8"
             ],
             [
              0.3333333333333333,
              "#9c179e"
             ],
             [
              0.4444444444444444,
              "#bd3786"
             ],
             [
              0.5555555555555556,
              "#d8576b"
             ],
             [
              0.6666666666666666,
              "#ed7953"
             ],
             [
              0.7777777777777778,
              "#fb9f3a"
             ],
             [
              0.8888888888888888,
              "#fdca26"
             ],
             [
              1,
              "#f0f921"
             ]
            ],
            "type": "contour"
           }
          ],
          "contourcarpet": [
           {
            "colorbar": {
             "outlinewidth": 0,
             "ticks": ""
            },
            "type": "contourcarpet"
           }
          ],
          "heatmap": [
           {
            "colorbar": {
             "outlinewidth": 0,
             "ticks": ""
            },
            "colorscale": [
             [
              0,
              "#0d0887"
             ],
             [
              0.1111111111111111,
              "#46039f"
             ],
             [
              0.2222222222222222,
              "#7201a8"
             ],
             [
              0.3333333333333333,
              "#9c179e"
             ],
             [
              0.4444444444444444,
              "#bd3786"
             ],
             [
              0.5555555555555556,
              "#d8576b"
             ],
             [
              0.6666666666666666,
              "#ed7953"
             ],
             [
              0.7777777777777778,
              "#fb9f3a"
             ],
             [
              0.8888888888888888,
              "#fdca26"
             ],
             [
              1,
              "#f0f921"
             ]
            ],
            "type": "heatmap"
           }
          ],
          "heatmapgl": [
           {
            "colorbar": {
             "outlinewidth": 0,
             "ticks": ""
            },
            "colorscale": [
             [
              0,
              "#0d0887"
             ],
             [
              0.1111111111111111,
              "#46039f"
             ],
             [
              0.2222222222222222,
              "#7201a8"
             ],
             [
              0.3333333333333333,
              "#9c179e"
             ],
             [
              0.4444444444444444,
              "#bd3786"
             ],
             [
              0.5555555555555556,
              "#d8576b"
             ],
             [
              0.6666666666666666,
              "#ed7953"
             ],
             [
              0.7777777777777778,
              "#fb9f3a"
             ],
             [
              0.8888888888888888,
              "#fdca26"
             ],
             [
              1,
              "#f0f921"
             ]
            ],
            "type": "heatmapgl"
           }
          ],
          "histogram": [
           {
            "marker": {
             "pattern": {
              "fillmode": "overlay",
              "size": 10,
              "solidity": 0.2
             }
            },
            "type": "histogram"
           }
          ],
          "histogram2d": [
           {
            "colorbar": {
             "outlinewidth": 0,
             "ticks": ""
            },
            "colorscale": [
             [
              0,
              "#0d0887"
             ],
             [
              0.1111111111111111,
              "#46039f"
             ],
             [
              0.2222222222222222,
              "#7201a8"
             ],
             [
              0.3333333333333333,
              "#9c179e"
             ],
             [
              0.4444444444444444,
              "#bd3786"
             ],
             [
              0.5555555555555556,
              "#d8576b"
             ],
             [
              0.6666666666666666,
              "#ed7953"
             ],
             [
              0.7777777777777778,
              "#fb9f3a"
             ],
             [
              0.8888888888888888,
              "#fdca26"
             ],
             [
              1,
              "#f0f921"
             ]
            ],
            "type": "histogram2d"
           }
          ],
          "histogram2dcontour": [
           {
            "colorbar": {
             "outlinewidth": 0,
             "ticks": ""
            },
            "colorscale": [
             [
              0,
              "#0d0887"
             ],
             [
              0.1111111111111111,
              "#46039f"
             ],
             [
              0.2222222222222222,
              "#7201a8"
             ],
             [
              0.3333333333333333,
              "#9c179e"
             ],
             [
              0.4444444444444444,
              "#bd3786"
             ],
             [
              0.5555555555555556,
              "#d8576b"
             ],
             [
              0.6666666666666666,
              "#ed7953"
             ],
             [
              0.7777777777777778,
              "#fb9f3a"
             ],
             [
              0.8888888888888888,
              "#fdca26"
             ],
             [
              1,
              "#f0f921"
             ]
            ],
            "type": "histogram2dcontour"
           }
          ],
          "mesh3d": [
           {
            "colorbar": {
             "outlinewidth": 0,
             "ticks": ""
            },
            "type": "mesh3d"
           }
          ],
          "parcoords": [
           {
            "line": {
             "colorbar": {
              "outlinewidth": 0,
              "ticks": ""
             }
            },
            "type": "parcoords"
           }
          ],
          "pie": [
           {
            "automargin": true,
            "type": "pie"
           }
          ],
          "scatter": [
           {
            "fillpattern": {
             "fillmode": "overlay",
             "size": 10,
             "solidity": 0.2
            },
            "type": "scatter"
           }
          ],
          "scatter3d": [
           {
            "line": {
             "colorbar": {
              "outlinewidth": 0,
              "ticks": ""
             }
            },
            "marker": {
             "colorbar": {
              "outlinewidth": 0,
              "ticks": ""
             }
            },
            "type": "scatter3d"
           }
          ],
          "scattercarpet": [
           {
            "marker": {
             "colorbar": {
              "outlinewidth": 0,
              "ticks": ""
             }
            },
            "type": "scattercarpet"
           }
          ],
          "scattergeo": [
           {
            "marker": {
             "colorbar": {
              "outlinewidth": 0,
              "ticks": ""
             }
            },
            "type": "scattergeo"
           }
          ],
          "scattergl": [
           {
            "marker": {
             "colorbar": {
              "outlinewidth": 0,
              "ticks": ""
             }
            },
            "type": "scattergl"
           }
          ],
          "scattermapbox": [
           {
            "marker": {
             "colorbar": {
              "outlinewidth": 0,
              "ticks": ""
             }
            },
            "type": "scattermapbox"
           }
          ],
          "scatterpolar": [
           {
            "marker": {
             "colorbar": {
              "outlinewidth": 0,
              "ticks": ""
             }
            },
            "type": "scatterpolar"
           }
          ],
          "scatterpolargl": [
           {
            "marker": {
             "colorbar": {
              "outlinewidth": 0,
              "ticks": ""
             }
            },
            "type": "scatterpolargl"
           }
          ],
          "scatterternary": [
           {
            "marker": {
             "colorbar": {
              "outlinewidth": 0,
              "ticks": ""
             }
            },
            "type": "scatterternary"
           }
          ],
          "surface": [
           {
            "colorbar": {
             "outlinewidth": 0,
             "ticks": ""
            },
            "colorscale": [
             [
              0,
              "#0d0887"
             ],
             [
              0.1111111111111111,
              "#46039f"
             ],
             [
              0.2222222222222222,
              "#7201a8"
             ],
             [
              0.3333333333333333,
              "#9c179e"
             ],
             [
              0.4444444444444444,
              "#bd3786"
             ],
             [
              0.5555555555555556,
              "#d8576b"
             ],
             [
              0.6666666666666666,
              "#ed7953"
             ],
             [
              0.7777777777777778,
              "#fb9f3a"
             ],
             [
              0.8888888888888888,
              "#fdca26"
             ],
             [
              1,
              "#f0f921"
             ]
            ],
            "type": "surface"
           }
          ],
          "table": [
           {
            "cells": {
             "fill": {
              "color": "#EBF0F8"
             },
             "line": {
              "color": "white"
             }
            },
            "header": {
             "fill": {
              "color": "#C8D4E3"
             },
             "line": {
              "color": "white"
             }
            },
            "type": "table"
           }
          ]
         },
         "layout": {
          "annotationdefaults": {
           "arrowcolor": "#2a3f5f",
           "arrowhead": 0,
           "arrowwidth": 1
          },
          "autotypenumbers": "strict",
          "coloraxis": {
           "colorbar": {
            "outlinewidth": 0,
            "ticks": ""
           }
          },
          "colorscale": {
           "diverging": [
            [
             0,
             "#8e0152"
            ],
            [
             0.1,
             "#c51b7d"
            ],
            [
             0.2,
             "#de77ae"
            ],
            [
             0.3,
             "#f1b6da"
            ],
            [
             0.4,
             "#fde0ef"
            ],
            [
             0.5,
             "#f7f7f7"
            ],
            [
             0.6,
             "#e6f5d0"
            ],
            [
             0.7,
             "#b8e186"
            ],
            [
             0.8,
             "#7fbc41"
            ],
            [
             0.9,
             "#4d9221"
            ],
            [
             1,
             "#276419"
            ]
           ],
           "sequential": [
            [
             0,
             "#0d0887"
            ],
            [
             0.1111111111111111,
             "#46039f"
            ],
            [
             0.2222222222222222,
             "#7201a8"
            ],
            [
             0.3333333333333333,
             "#9c179e"
            ],
            [
             0.4444444444444444,
             "#bd3786"
            ],
            [
             0.5555555555555556,
             "#d8576b"
            ],
            [
             0.6666666666666666,
             "#ed7953"
            ],
            [
             0.7777777777777778,
             "#fb9f3a"
            ],
            [
             0.8888888888888888,
             "#fdca26"
            ],
            [
             1,
             "#f0f921"
            ]
           ],
           "sequentialminus": [
            [
             0,
             "#0d0887"
            ],
            [
             0.1111111111111111,
             "#46039f"
            ],
            [
             0.2222222222222222,
             "#7201a8"
            ],
            [
             0.3333333333333333,
             "#9c179e"
            ],
            [
             0.4444444444444444,
             "#bd3786"
            ],
            [
             0.5555555555555556,
             "#d8576b"
            ],
            [
             0.6666666666666666,
             "#ed7953"
            ],
            [
             0.7777777777777778,
             "#fb9f3a"
            ],
            [
             0.8888888888888888,
             "#fdca26"
            ],
            [
             1,
             "#f0f921"
            ]
           ]
          },
          "colorway": [
           "#636efa",
           "#EF553B",
           "#00cc96",
           "#ab63fa",
           "#FFA15A",
           "#19d3f3",
           "#FF6692",
           "#B6E880",
           "#FF97FF",
           "#FECB52"
          ],
          "font": {
           "color": "#2a3f5f"
          },
          "geo": {
           "bgcolor": "white",
           "lakecolor": "white",
           "landcolor": "#E5ECF6",
           "showlakes": true,
           "showland": true,
           "subunitcolor": "white"
          },
          "hoverlabel": {
           "align": "left"
          },
          "hovermode": "closest",
          "mapbox": {
           "style": "light"
          },
          "paper_bgcolor": "white",
          "plot_bgcolor": "#E5ECF6",
          "polar": {
           "angularaxis": {
            "gridcolor": "white",
            "linecolor": "white",
            "ticks": ""
           },
           "bgcolor": "#E5ECF6",
           "radialaxis": {
            "gridcolor": "white",
            "linecolor": "white",
            "ticks": ""
           }
          },
          "scene": {
           "xaxis": {
            "backgroundcolor": "#E5ECF6",
            "gridcolor": "white",
            "gridwidth": 2,
            "linecolor": "white",
            "showbackground": true,
            "ticks": "",
            "zerolinecolor": "white"
           },
           "yaxis": {
            "backgroundcolor": "#E5ECF6",
            "gridcolor": "white",
            "gridwidth": 2,
            "linecolor": "white",
            "showbackground": true,
            "ticks": "",
            "zerolinecolor": "white"
           },
           "zaxis": {
            "backgroundcolor": "#E5ECF6",
            "gridcolor": "white",
            "gridwidth": 2,
            "linecolor": "white",
            "showbackground": true,
            "ticks": "",
            "zerolinecolor": "white"
           }
          },
          "shapedefaults": {
           "line": {
            "color": "#2a3f5f"
           }
          },
          "ternary": {
           "aaxis": {
            "gridcolor": "white",
            "linecolor": "white",
            "ticks": ""
           },
           "baxis": {
            "gridcolor": "white",
            "linecolor": "white",
            "ticks": ""
           },
           "bgcolor": "#E5ECF6",
           "caxis": {
            "gridcolor": "white",
            "linecolor": "white",
            "ticks": ""
           }
          },
          "title": {
           "x": 0.05
          },
          "xaxis": {
           "automargin": true,
           "gridcolor": "white",
           "linecolor": "white",
           "ticks": "",
           "title": {
            "standoff": 15
           },
           "zerolinecolor": "white",
           "zerolinewidth": 2
          },
          "yaxis": {
           "automargin": true,
           "gridcolor": "white",
           "linecolor": "white",
           "ticks": "",
           "title": {
            "standoff": 15
           },
           "zerolinecolor": "white",
           "zerolinewidth": 2
          }
         }
        },
        "title": {
         "text": "Profitability Ratios"
        },
        "xaxis": {
         "anchor": "y",
         "domain": [
          0,
          1
         ],
         "title": {
          "text": "date"
         }
        },
        "yaxis": {
         "anchor": "x",
         "domain": [
          0,
          1
         ],
         "title": {
          "text": "value"
         }
        }
       }
      }
     },
     "metadata": {},
     "output_type": "display_data"
    }
   ],
   "source": [
    "px.line(ratio_data_4425, x='date', y=['Gross Margin', 'Profit Margin', 'Return on Asset', 'Return on Equity'], title='Profitability Ratios')"
   ]
  },
  {
   "cell_type": "code",
   "execution_count": 56,
   "metadata": {},
   "outputs": [
    {
     "data": {
      "application/vnd.plotly.v1+json": {
       "config": {
        "plotlyServerURL": "https://plot.ly"
       },
       "data": [
        {
         "hovertemplate": "variable=Withdrawal Ratio<br>date=%{x}<br>value=%{y}<extra></extra>",
         "legendgroup": "Withdrawal Ratio",
         "line": {
          "color": "#636efa",
          "dash": "solid"
         },
         "marker": {
          "symbol": "circle"
         },
         "mode": "lines",
         "name": "Withdrawal Ratio",
         "orientation": "v",
         "showlegend": true,
         "type": "scatter",
         "x": [
          "2021-02-28",
          "2021-03-31",
          "2021-04-30",
          "2021-05-31",
          "2021-06-30",
          "2021-07-31",
          "2021-08-31",
          "2021-09-30",
          "2021-10-31",
          "2021-11-30",
          "2021-12-31",
          "2022-01-31",
          "2022-02-28",
          "2022-03-31",
          "2022-04-30",
          "2022-05-31",
          "2022-06-30"
         ],
         "xaxis": "x",
         "y": [
          null,
          null,
          0.23812223608118835,
          5.280946345585129,
          0,
          0,
          13.366185804962493,
          2.7259213651156653,
          0.6665400683630839,
          0.37494863717299,
          0.12195805764270494,
          0.8424353279331068,
          0.19443185342462485,
          2.3705566919122116,
          1.245430324059731,
          0.13333333333333333,
          null
         ],
         "yaxis": "y"
        }
       ],
       "layout": {
        "legend": {
         "title": {
          "text": "variable"
         },
         "tracegroupgap": 0
        },
        "template": {
         "data": {
          "bar": [
           {
            "error_x": {
             "color": "#2a3f5f"
            },
            "error_y": {
             "color": "#2a3f5f"
            },
            "marker": {
             "line": {
              "color": "#E5ECF6",
              "width": 0.5
             },
             "pattern": {
              "fillmode": "overlay",
              "size": 10,
              "solidity": 0.2
             }
            },
            "type": "bar"
           }
          ],
          "barpolar": [
           {
            "marker": {
             "line": {
              "color": "#E5ECF6",
              "width": 0.5
             },
             "pattern": {
              "fillmode": "overlay",
              "size": 10,
              "solidity": 0.2
             }
            },
            "type": "barpolar"
           }
          ],
          "carpet": [
           {
            "aaxis": {
             "endlinecolor": "#2a3f5f",
             "gridcolor": "white",
             "linecolor": "white",
             "minorgridcolor": "white",
             "startlinecolor": "#2a3f5f"
            },
            "baxis": {
             "endlinecolor": "#2a3f5f",
             "gridcolor": "white",
             "linecolor": "white",
             "minorgridcolor": "white",
             "startlinecolor": "#2a3f5f"
            },
            "type": "carpet"
           }
          ],
          "choropleth": [
           {
            "colorbar": {
             "outlinewidth": 0,
             "ticks": ""
            },
            "type": "choropleth"
           }
          ],
          "contour": [
           {
            "colorbar": {
             "outlinewidth": 0,
             "ticks": ""
            },
            "colorscale": [
             [
              0,
              "#0d0887"
             ],
             [
              0.1111111111111111,
              "#46039f"
             ],
             [
              0.2222222222222222,
              "#7201a8"
             ],
             [
              0.3333333333333333,
              "#9c179e"
             ],
             [
              0.4444444444444444,
              "#bd3786"
             ],
             [
              0.5555555555555556,
              "#d8576b"
             ],
             [
              0.6666666666666666,
              "#ed7953"
             ],
             [
              0.7777777777777778,
              "#fb9f3a"
             ],
             [
              0.8888888888888888,
              "#fdca26"
             ],
             [
              1,
              "#f0f921"
             ]
            ],
            "type": "contour"
           }
          ],
          "contourcarpet": [
           {
            "colorbar": {
             "outlinewidth": 0,
             "ticks": ""
            },
            "type": "contourcarpet"
           }
          ],
          "heatmap": [
           {
            "colorbar": {
             "outlinewidth": 0,
             "ticks": ""
            },
            "colorscale": [
             [
              0,
              "#0d0887"
             ],
             [
              0.1111111111111111,
              "#46039f"
             ],
             [
              0.2222222222222222,
              "#7201a8"
             ],
             [
              0.3333333333333333,
              "#9c179e"
             ],
             [
              0.4444444444444444,
              "#bd3786"
             ],
             [
              0.5555555555555556,
              "#d8576b"
             ],
             [
              0.6666666666666666,
              "#ed7953"
             ],
             [
              0.7777777777777778,
              "#fb9f3a"
             ],
             [
              0.8888888888888888,
              "#fdca26"
             ],
             [
              1,
              "#f0f921"
             ]
            ],
            "type": "heatmap"
           }
          ],
          "heatmapgl": [
           {
            "colorbar": {
             "outlinewidth": 0,
             "ticks": ""
            },
            "colorscale": [
             [
              0,
              "#0d0887"
             ],
             [
              0.1111111111111111,
              "#46039f"
             ],
             [
              0.2222222222222222,
              "#7201a8"
             ],
             [
              0.3333333333333333,
              "#9c179e"
             ],
             [
              0.4444444444444444,
              "#bd3786"
             ],
             [
              0.5555555555555556,
              "#d8576b"
             ],
             [
              0.6666666666666666,
              "#ed7953"
             ],
             [
              0.7777777777777778,
              "#fb9f3a"
             ],
             [
              0.8888888888888888,
              "#fdca26"
             ],
             [
              1,
              "#f0f921"
             ]
            ],
            "type": "heatmapgl"
           }
          ],
          "histogram": [
           {
            "marker": {
             "pattern": {
              "fillmode": "overlay",
              "size": 10,
              "solidity": 0.2
             }
            },
            "type": "histogram"
           }
          ],
          "histogram2d": [
           {
            "colorbar": {
             "outlinewidth": 0,
             "ticks": ""
            },
            "colorscale": [
             [
              0,
              "#0d0887"
             ],
             [
              0.1111111111111111,
              "#46039f"
             ],
             [
              0.2222222222222222,
              "#7201a8"
             ],
             [
              0.3333333333333333,
              "#9c179e"
             ],
             [
              0.4444444444444444,
              "#bd3786"
             ],
             [
              0.5555555555555556,
              "#d8576b"
             ],
             [
              0.6666666666666666,
              "#ed7953"
             ],
             [
              0.7777777777777778,
              "#fb9f3a"
             ],
             [
              0.8888888888888888,
              "#fdca26"
             ],
             [
              1,
              "#f0f921"
             ]
            ],
            "type": "histogram2d"
           }
          ],
          "histogram2dcontour": [
           {
            "colorbar": {
             "outlinewidth": 0,
             "ticks": ""
            },
            "colorscale": [
             [
              0,
              "#0d0887"
             ],
             [
              0.1111111111111111,
              "#46039f"
             ],
             [
              0.2222222222222222,
              "#7201a8"
             ],
             [
              0.3333333333333333,
              "#9c179e"
             ],
             [
              0.4444444444444444,
              "#bd3786"
             ],
             [
              0.5555555555555556,
              "#d8576b"
             ],
             [
              0.6666666666666666,
              "#ed7953"
             ],
             [
              0.7777777777777778,
              "#fb9f3a"
             ],
             [
              0.8888888888888888,
              "#fdca26"
             ],
             [
              1,
              "#f0f921"
             ]
            ],
            "type": "histogram2dcontour"
           }
          ],
          "mesh3d": [
           {
            "colorbar": {
             "outlinewidth": 0,
             "ticks": ""
            },
            "type": "mesh3d"
           }
          ],
          "parcoords": [
           {
            "line": {
             "colorbar": {
              "outlinewidth": 0,
              "ticks": ""
             }
            },
            "type": "parcoords"
           }
          ],
          "pie": [
           {
            "automargin": true,
            "type": "pie"
           }
          ],
          "scatter": [
           {
            "fillpattern": {
             "fillmode": "overlay",
             "size": 10,
             "solidity": 0.2
            },
            "type": "scatter"
           }
          ],
          "scatter3d": [
           {
            "line": {
             "colorbar": {
              "outlinewidth": 0,
              "ticks": ""
             }
            },
            "marker": {
             "colorbar": {
              "outlinewidth": 0,
              "ticks": ""
             }
            },
            "type": "scatter3d"
           }
          ],
          "scattercarpet": [
           {
            "marker": {
             "colorbar": {
              "outlinewidth": 0,
              "ticks": ""
             }
            },
            "type": "scattercarpet"
           }
          ],
          "scattergeo": [
           {
            "marker": {
             "colorbar": {
              "outlinewidth": 0,
              "ticks": ""
             }
            },
            "type": "scattergeo"
           }
          ],
          "scattergl": [
           {
            "marker": {
             "colorbar": {
              "outlinewidth": 0,
              "ticks": ""
             }
            },
            "type": "scattergl"
           }
          ],
          "scattermapbox": [
           {
            "marker": {
             "colorbar": {
              "outlinewidth": 0,
              "ticks": ""
             }
            },
            "type": "scattermapbox"
           }
          ],
          "scatterpolar": [
           {
            "marker": {
             "colorbar": {
              "outlinewidth": 0,
              "ticks": ""
             }
            },
            "type": "scatterpolar"
           }
          ],
          "scatterpolargl": [
           {
            "marker": {
             "colorbar": {
              "outlinewidth": 0,
              "ticks": ""
             }
            },
            "type": "scatterpolargl"
           }
          ],
          "scatterternary": [
           {
            "marker": {
             "colorbar": {
              "outlinewidth": 0,
              "ticks": ""
             }
            },
            "type": "scatterternary"
           }
          ],
          "surface": [
           {
            "colorbar": {
             "outlinewidth": 0,
             "ticks": ""
            },
            "colorscale": [
             [
              0,
              "#0d0887"
             ],
             [
              0.1111111111111111,
              "#46039f"
             ],
             [
              0.2222222222222222,
              "#7201a8"
             ],
             [
              0.3333333333333333,
              "#9c179e"
             ],
             [
              0.4444444444444444,
              "#bd3786"
             ],
             [
              0.5555555555555556,
              "#d8576b"
             ],
             [
              0.6666666666666666,
              "#ed7953"
             ],
             [
              0.7777777777777778,
              "#fb9f3a"
             ],
             [
              0.8888888888888888,
              "#fdca26"
             ],
             [
              1,
              "#f0f921"
             ]
            ],
            "type": "surface"
           }
          ],
          "table": [
           {
            "cells": {
             "fill": {
              "color": "#EBF0F8"
             },
             "line": {
              "color": "white"
             }
            },
            "header": {
             "fill": {
              "color": "#C8D4E3"
             },
             "line": {
              "color": "white"
             }
            },
            "type": "table"
           }
          ]
         },
         "layout": {
          "annotationdefaults": {
           "arrowcolor": "#2a3f5f",
           "arrowhead": 0,
           "arrowwidth": 1
          },
          "autotypenumbers": "strict",
          "coloraxis": {
           "colorbar": {
            "outlinewidth": 0,
            "ticks": ""
           }
          },
          "colorscale": {
           "diverging": [
            [
             0,
             "#8e0152"
            ],
            [
             0.1,
             "#c51b7d"
            ],
            [
             0.2,
             "#de77ae"
            ],
            [
             0.3,
             "#f1b6da"
            ],
            [
             0.4,
             "#fde0ef"
            ],
            [
             0.5,
             "#f7f7f7"
            ],
            [
             0.6,
             "#e6f5d0"
            ],
            [
             0.7,
             "#b8e186"
            ],
            [
             0.8,
             "#7fbc41"
            ],
            [
             0.9,
             "#4d9221"
            ],
            [
             1,
             "#276419"
            ]
           ],
           "sequential": [
            [
             0,
             "#0d0887"
            ],
            [
             0.1111111111111111,
             "#46039f"
            ],
            [
             0.2222222222222222,
             "#7201a8"
            ],
            [
             0.3333333333333333,
             "#9c179e"
            ],
            [
             0.4444444444444444,
             "#bd3786"
            ],
            [
             0.5555555555555556,
             "#d8576b"
            ],
            [
             0.6666666666666666,
             "#ed7953"
            ],
            [
             0.7777777777777778,
             "#fb9f3a"
            ],
            [
             0.8888888888888888,
             "#fdca26"
            ],
            [
             1,
             "#f0f921"
            ]
           ],
           "sequentialminus": [
            [
             0,
             "#0d0887"
            ],
            [
             0.1111111111111111,
             "#46039f"
            ],
            [
             0.2222222222222222,
             "#7201a8"
            ],
            [
             0.3333333333333333,
             "#9c179e"
            ],
            [
             0.4444444444444444,
             "#bd3786"
            ],
            [
             0.5555555555555556,
             "#d8576b"
            ],
            [
             0.6666666666666666,
             "#ed7953"
            ],
            [
             0.7777777777777778,
             "#fb9f3a"
            ],
            [
             0.8888888888888888,
             "#fdca26"
            ],
            [
             1,
             "#f0f921"
            ]
           ]
          },
          "colorway": [
           "#636efa",
           "#EF553B",
           "#00cc96",
           "#ab63fa",
           "#FFA15A",
           "#19d3f3",
           "#FF6692",
           "#B6E880",
           "#FF97FF",
           "#FECB52"
          ],
          "font": {
           "color": "#2a3f5f"
          },
          "geo": {
           "bgcolor": "white",
           "lakecolor": "white",
           "landcolor": "#E5ECF6",
           "showlakes": true,
           "showland": true,
           "subunitcolor": "white"
          },
          "hoverlabel": {
           "align": "left"
          },
          "hovermode": "closest",
          "mapbox": {
           "style": "light"
          },
          "paper_bgcolor": "white",
          "plot_bgcolor": "#E5ECF6",
          "polar": {
           "angularaxis": {
            "gridcolor": "white",
            "linecolor": "white",
            "ticks": ""
           },
           "bgcolor": "#E5ECF6",
           "radialaxis": {
            "gridcolor": "white",
            "linecolor": "white",
            "ticks": ""
           }
          },
          "scene": {
           "xaxis": {
            "backgroundcolor": "#E5ECF6",
            "gridcolor": "white",
            "gridwidth": 2,
            "linecolor": "white",
            "showbackground": true,
            "ticks": "",
            "zerolinecolor": "white"
           },
           "yaxis": {
            "backgroundcolor": "#E5ECF6",
            "gridcolor": "white",
            "gridwidth": 2,
            "linecolor": "white",
            "showbackground": true,
            "ticks": "",
            "zerolinecolor": "white"
           },
           "zaxis": {
            "backgroundcolor": "#E5ECF6",
            "gridcolor": "white",
            "gridwidth": 2,
            "linecolor": "white",
            "showbackground": true,
            "ticks": "",
            "zerolinecolor": "white"
           }
          },
          "shapedefaults": {
           "line": {
            "color": "#2a3f5f"
           }
          },
          "ternary": {
           "aaxis": {
            "gridcolor": "white",
            "linecolor": "white",
            "ticks": ""
           },
           "baxis": {
            "gridcolor": "white",
            "linecolor": "white",
            "ticks": ""
           },
           "bgcolor": "#E5ECF6",
           "caxis": {
            "gridcolor": "white",
            "linecolor": "white",
            "ticks": ""
           }
          },
          "title": {
           "x": 0.05
          },
          "xaxis": {
           "automargin": true,
           "gridcolor": "white",
           "linecolor": "white",
           "ticks": "",
           "title": {
            "standoff": 15
           },
           "zerolinecolor": "white",
           "zerolinewidth": 2
          },
          "yaxis": {
           "automargin": true,
           "gridcolor": "white",
           "linecolor": "white",
           "ticks": "",
           "title": {
            "standoff": 15
           },
           "zerolinecolor": "white",
           "zerolinewidth": 2
          }
         }
        },
        "title": {
         "text": "Withdrawal ratio (based on net income)"
        },
        "xaxis": {
         "anchor": "y",
         "domain": [
          0,
          1
         ],
         "title": {
          "text": "date"
         }
        },
        "yaxis": {
         "anchor": "x",
         "domain": [
          0,
          1
         ],
         "title": {
          "text": "value"
         }
        }
       }
      }
     },
     "metadata": {},
     "output_type": "display_data"
    }
   ],
   "source": [
    "px.line(ratio_data_4425, x='date', y=['Withdrawal Ratio'], title='Withdrawal ratio (based on net income)')"
   ]
  },
  {
   "cell_type": "code",
   "execution_count": 57,
   "metadata": {},
   "outputs": [
    {
     "data": {
      "text/plain": [
       "[                            Account Balance\n",
       " 0                             Sales        \n",
       " 1                      Total income        \n",
       " 2                         Purchases        \n",
       " 3                    Salary expense        \n",
       " 4                   Utility expense        \n",
       " 5             Miscellaneous expense        \n",
       " 6                      Rent expense        \n",
       " 7                 Professional fees        \n",
       " 8                 Transport expense        \n",
       " 9                       Tax expense        \n",
       " 10                  Loss from theft        \n",
       " 11                         Bank fee        \n",
       " 12                    Total expense        \n",
       " 13                      Gifts given        \n",
       " 14  Total other income and expenses        \n",
       " 15                       Net income        \n",
       " 16                       Withdrawal        \n",
       " 17                Retained earnings        ,\n",
       "                  Account      Balance\n",
       " 0                   Cash  (200000.00)\n",
       " 1                     Ar             \n",
       " 2              Equipment  1004400.00 \n",
       " 3               Building             \n",
       " 4             Live stock             \n",
       " 5                   Land             \n",
       " 6   Informal loans given   200000.00 \n",
       " 7     Loans to employees             \n",
       " 8           Total assets  1004400.00 \n",
       " 9                     Ap             \n",
       " 10         Informal loan             \n",
       " 11        Long term loan             \n",
       " 12       Short term loan             \n",
       " 13     Total liabilities             \n",
       " 14                Equity  1004400.00 ,\n",
       "                             Account Balance\n",
       " 0                             Sales        \n",
       " 1                      Total income        \n",
       " 2                         Purchases        \n",
       " 3                    Salary expense        \n",
       " 4                   Utility expense        \n",
       " 5             Miscellaneous expense        \n",
       " 6                      Rent expense        \n",
       " 7                 Professional fees        \n",
       " 8                 Transport expense        \n",
       " 9                       Tax expense        \n",
       " 10                  Loss from theft        \n",
       " 11                         Bank fee        \n",
       " 12                    Total expense        \n",
       " 13                      Gifts given        \n",
       " 14  Total other income and expenses        \n",
       " 15                       Net income        \n",
       " 16                       Withdrawal        \n",
       " 17                Retained earnings        ,\n",
       "                  Account      Balance\n",
       " 0                   Cash  (200000.00)\n",
       " 1                     Ar             \n",
       " 2              Equipment  1404400.00 \n",
       " 3               Building             \n",
       " 4             Live stock             \n",
       " 5                   Land             \n",
       " 6   Informal loans given   200000.00 \n",
       " 7     Loans to employees             \n",
       " 8           Total assets  1404400.00 \n",
       " 9                     Ap             \n",
       " 10         Informal loan             \n",
       " 11        Long term loan             \n",
       " 12       Short term loan             \n",
       " 13     Total liabilities             \n",
       " 14                Equity  1404400.00 ,\n",
       "                             Account     Balance\n",
       " 0                             Sales   19515.00 \n",
       " 1                      Total income   19515.00 \n",
       " 2                         Purchases  (10416.00)\n",
       " 3                    Salary expense            \n",
       " 4                   Utility expense    (280.00)\n",
       " 5             Miscellaneous expense            \n",
       " 6                      Rent expense            \n",
       " 7                 Professional fees            \n",
       " 8                 Transport expense            \n",
       " 9                       Tax expense            \n",
       " 10                  Loss from theft            \n",
       " 11                         Bank fee            \n",
       " 12                    Total expense  (10696.00)\n",
       " 13                      Gifts given            \n",
       " 14  Total other income and expenses            \n",
       " 15                       Net income    8819.00 \n",
       " 16                       Withdrawal   (2100.00)\n",
       " 17                Retained earnings    6719.00 ,\n",
       "                  Account      Balance\n",
       " 0                   Cash  (193281.00)\n",
       " 1                     Ar             \n",
       " 2              Equipment  1404400.00 \n",
       " 3               Building             \n",
       " 4             Live stock             \n",
       " 5                   Land             \n",
       " 6   Informal loans given   200000.00 \n",
       " 7     Loans to employees             \n",
       " 8           Total assets  1411119.00 \n",
       " 9                     Ap             \n",
       " 10         Informal loan             \n",
       " 11        Long term loan             \n",
       " 12       Short term loan             \n",
       " 13     Total liabilities             \n",
       " 14                Equity  1411119.00 ,\n",
       "                             Account     Balance\n",
       " 0                             Sales   30157.00 \n",
       " 1                      Total income   30157.00 \n",
       " 2                         Purchases   (6874.00)\n",
       " 3                    Salary expense   (2500.00)\n",
       " 4                   Utility expense    (480.00)\n",
       " 5             Miscellaneous expense   (7202.00)\n",
       " 6                      Rent expense   (6000.00)\n",
       " 7                 Professional fees            \n",
       " 8                 Transport expense            \n",
       " 9                       Tax expense            \n",
       " 10                  Loss from theft            \n",
       " 11                         Bank fee            \n",
       " 12                    Total expense  (23056.00)\n",
       " 13                      Gifts given            \n",
       " 14  Total other income and expenses            \n",
       " 15                       Net income    7101.00 \n",
       " 16                       Withdrawal  (37500.00)\n",
       " 17                Retained earnings  (30399.00),\n",
       "                  Account      Balance\n",
       " 0                   Cash  (193177.00)\n",
       " 1                     Ar             \n",
       " 2              Equipment  1404400.00 \n",
       " 3               Building             \n",
       " 4             Live stock             \n",
       " 5                   Land             \n",
       " 6   Informal loans given   200000.00 \n",
       " 7     Loans to employees             \n",
       " 8           Total assets  1411223.00 \n",
       " 9                     Ap             \n",
       " 10         Informal loan             \n",
       " 11        Long term loan             \n",
       " 12       Short term loan             \n",
       " 13     Total liabilities             \n",
       " 14                Equity  1411223.00 ,\n",
       "                             Account     Balance\n",
       " 0                             Sales   43374.00 \n",
       " 1                      Total income   43374.00 \n",
       " 2                         Purchases   (4337.00)\n",
       " 3                    Salary expense   (4000.00)\n",
       " 4                   Utility expense            \n",
       " 5             Miscellaneous expense            \n",
       " 6                      Rent expense   (6000.00)\n",
       " 7                 Professional fees   (1795.00)\n",
       " 8                 Transport expense            \n",
       " 9                       Tax expense            \n",
       " 10                  Loss from theft            \n",
       " 11                         Bank fee            \n",
       " 12                    Total expense  (16132.00)\n",
       " 13                      Gifts given            \n",
       " 14  Total other income and expenses            \n",
       " 15                       Net income   27242.00 \n",
       " 16                       Withdrawal            \n",
       " 17                Retained earnings   27242.00 ,\n",
       "                  Account      Balance\n",
       " 0                   Cash  (126689.00)\n",
       " 1                     Ar     6604.00 \n",
       " 2              Equipment  1754400.00 \n",
       " 3               Building             \n",
       " 4             Live stock             \n",
       " 5                   Land             \n",
       " 6   Informal loans given   200000.00 \n",
       " 7     Loans to employees             \n",
       " 8           Total assets  1834315.00 \n",
       " 9                     Ap             \n",
       " 10         Informal loan             \n",
       " 11        Long term loan             \n",
       " 12       Short term loan             \n",
       " 13     Total liabilities             \n",
       " 14                Equity  1834315.00 ,\n",
       "                             Account     Balance\n",
       " 0                             Sales   46810.00 \n",
       " 1                      Total income   46810.00 \n",
       " 2                         Purchases   (8350.00)\n",
       " 3                    Salary expense   (2500.00)\n",
       " 4                   Utility expense    (420.00)\n",
       " 5             Miscellaneous expense            \n",
       " 6                      Rent expense   (3000.00)\n",
       " 7                 Professional fees            \n",
       " 8                 Transport expense            \n",
       " 9                       Tax expense            \n",
       " 10                  Loss from theft            \n",
       " 11                         Bank fee            \n",
       " 12                    Total expense  (14270.00)\n",
       " 13                      Gifts given            \n",
       " 14  Total other income and expenses            \n",
       " 15                       Net income   32540.00 \n",
       " 16                       Withdrawal            \n",
       " 17                Retained earnings   32540.00 ,\n",
       "                  Account      Balance\n",
       " 0                   Cash   (70549.00)\n",
       " 1                     Ar     6604.00 \n",
       " 2              Equipment  1754400.00 \n",
       " 3               Building             \n",
       " 4             Live stock             \n",
       " 5                   Land             \n",
       " 6   Informal loans given   200000.00 \n",
       " 7     Loans to employees             \n",
       " 8           Total assets  1890455.00 \n",
       " 9                     Ap             \n",
       " 10         Informal loan             \n",
       " 11        Long term loan             \n",
       " 12       Short term loan             \n",
       " 13     Total liabilities             \n",
       " 14                Equity  1890455.00 ,\n",
       "                             Account      Balance\n",
       " 0                             Sales    31565.00 \n",
       " 1                      Total income    31565.00 \n",
       " 2                         Purchases   (15300.00)\n",
       " 3                    Salary expense    (4000.00)\n",
       " 4                   Utility expense             \n",
       " 5             Miscellaneous expense             \n",
       " 6                      Rent expense    (3000.00)\n",
       " 7                 Professional fees             \n",
       " 8                 Transport expense     (600.00)\n",
       " 9                       Tax expense             \n",
       " 10                  Loss from theft             \n",
       " 11                         Bank fee             \n",
       " 12                    Total expense   (22900.00)\n",
       " 13                      Gifts given             \n",
       " 14  Total other income and expenses             \n",
       " 15                       Net income     8665.00 \n",
       " 16                       Withdrawal  (115818.00)\n",
       " 17                Retained earnings  (107153.00),\n",
       "                  Account      Balance\n",
       " 0                   Cash  (165702.00)\n",
       " 1                     Ar     6604.00 \n",
       " 2              Equipment  1754400.00 \n",
       " 3               Building             \n",
       " 4             Live stock             \n",
       " 5                   Land             \n",
       " 6   Informal loans given   200000.00 \n",
       " 7     Loans to employees             \n",
       " 8           Total assets  1795302.00 \n",
       " 9                     Ap             \n",
       " 10         Informal loan             \n",
       " 11        Long term loan             \n",
       " 12       Short term loan             \n",
       " 13     Total liabilities             \n",
       " 14                Equity  1795302.00 ,\n",
       "                             Account     Balance\n",
       " 0                             Sales   40415.00 \n",
       " 1                      Total income   40415.00 \n",
       " 2                         Purchases   (9200.00)\n",
       " 3                    Salary expense   (7300.00)\n",
       " 4                   Utility expense    (477.00)\n",
       " 5             Miscellaneous expense            \n",
       " 6                      Rent expense            \n",
       " 7                 Professional fees            \n",
       " 8                 Transport expense            \n",
       " 9                       Tax expense    (700.00)\n",
       " 10                  Loss from theft            \n",
       " 11                         Bank fee            \n",
       " 12                    Total expense  (17677.00)\n",
       " 13                      Gifts given            \n",
       " 14  Total other income and expenses            \n",
       " 15                       Net income   22738.00 \n",
       " 16                       Withdrawal  (61982.00)\n",
       " 17                Retained earnings  (39244.00),\n",
       "                  Account      Balance\n",
       " 0                   Cash  (133572.50)\n",
       " 1                     Ar     6604.00 \n",
       " 2              Equipment  1754400.00 \n",
       " 3               Building             \n",
       " 4             Live stock             \n",
       " 5                   Land             \n",
       " 6   Informal loans given   205000.00 \n",
       " 7     Loans to employees             \n",
       " 8           Total assets  1832431.50 \n",
       " 9                     Ap             \n",
       " 10         Informal loan    (5000.00)\n",
       " 11        Long term loan             \n",
       " 12       Short term loan             \n",
       " 13     Total liabilities    (5000.00)\n",
       " 14                Equity  1837431.50 ,\n",
       "                             Account     Balance\n",
       " 0                             Sales   34996.00 \n",
       " 1                      Total income   34996.00 \n",
       " 2                         Purchases   (3780.00)\n",
       " 3                    Salary expense   (4500.00)\n",
       " 4                   Utility expense    (386.00)\n",
       " 5             Miscellaneous expense            \n",
       " 6                      Rent expense            \n",
       " 7                 Professional fees            \n",
       " 8                 Transport expense            \n",
       " 9                       Tax expense            \n",
       " 10                  Loss from theft            \n",
       " 11                         Bank fee            \n",
       " 12                    Total expense   (8666.00)\n",
       " 13                      Gifts given            \n",
       " 14  Total other income and expenses            \n",
       " 15                       Net income   26330.00 \n",
       " 16                       Withdrawal  (17550.00)\n",
       " 17                Retained earnings    8780.00 ,\n",
       "                  Account      Balance\n",
       " 0                   Cash  (112042.50)\n",
       " 1                     Ar     6604.00 \n",
       " 2              Equipment  1764400.00 \n",
       " 3               Building             \n",
       " 4             Live stock             \n",
       " 5                   Land             \n",
       " 6   Informal loans given   205000.00 \n",
       " 7     Loans to employees             \n",
       " 8           Total assets  1863961.50 \n",
       " 9                     Ap      750.00 \n",
       " 10         Informal loan    (5000.00)\n",
       " 11        Long term loan             \n",
       " 12       Short term loan             \n",
       " 13     Total liabilities    (4250.00)\n",
       " 14                Equity  1868211.50 ,\n",
       "                             Account     Balance\n",
       " 0                             Sales   54418.00 \n",
       " 1                      Total income   54418.00 \n",
       " 2                         Purchases  (10660.00)\n",
       " 3                    Salary expense   (5500.00)\n",
       " 4                   Utility expense    (800.00)\n",
       " 5             Miscellaneous expense   (5310.00)\n",
       " 6                      Rent expense            \n",
       " 7                 Professional fees            \n",
       " 8                 Transport expense            \n",
       " 9                       Tax expense   (2944.00)\n",
       " 10                  Loss from theft            \n",
       " 11                         Bank fee            \n",
       " 12                    Total expense  (25214.00)\n",
       " 13                      Gifts given            \n",
       " 14  Total other income and expenses            \n",
       " 15                       Net income   29204.00 \n",
       " 16                       Withdrawal  (10950.00)\n",
       " 17                Retained earnings   18254.00 ,\n",
       "                  Account      Balance\n",
       " 0                   Cash   (68426.50)\n",
       " 1                     Ar     9992.00 \n",
       " 2              Equipment  1764400.00 \n",
       " 3               Building             \n",
       " 4             Live stock             \n",
       " 5                   Land             \n",
       " 6   Informal loans given   205000.00 \n",
       " 7     Loans to employees             \n",
       " 8           Total assets  1910965.50 \n",
       " 9                     Ap      750.00 \n",
       " 10         Informal loan    (7750.00)\n",
       " 11        Long term loan             \n",
       " 12       Short term loan             \n",
       " 13     Total liabilities    (7000.00)\n",
       " 14                Equity  1917965.50 ,\n",
       "                             Account     Balance\n",
       " 0                             Sales   57218.00 \n",
       " 1                      Total income   57218.00 \n",
       " 2                         Purchases  (10800.00)\n",
       " 3                    Salary expense   (2700.00)\n",
       " 4                   Utility expense            \n",
       " 5             Miscellaneous expense   (8050.00)\n",
       " 6                      Rent expense            \n",
       " 7                 Professional fees            \n",
       " 8                 Transport expense            \n",
       " 9                       Tax expense            \n",
       " 10                  Loss from theft            \n",
       " 11                         Bank fee            \n",
       " 12                    Total expense  (21550.00)\n",
       " 13                      Gifts given            \n",
       " 14  Total other income and expenses            \n",
       " 15                       Net income   35668.00 \n",
       " 16                       Withdrawal   (4350.00)\n",
       " 17                Retained earnings   31318.00 ,\n",
       "                  Account      Balance\n",
       " 0                   Cash    (4693.50)\n",
       " 1                     Ar     7577.00 \n",
       " 2              Equipment  1764400.00 \n",
       " 3               Building             \n",
       " 4             Live stock             \n",
       " 5                   Land             \n",
       " 6   Informal loans given   205000.00 \n",
       " 7     Loans to employees             \n",
       " 8           Total assets  1972283.50 \n",
       " 9                     Ap      750.00 \n",
       " 10         Informal loan     7250.00 \n",
       " 11        Long term loan             \n",
       " 12       Short term loan             \n",
       " 13     Total liabilities     8000.00 \n",
       " 14                Equity  1964283.50 ,\n",
       "                             Account     Balance\n",
       " 0                             Sales   53000.00 \n",
       " 1                      Total income   53000.00 \n",
       " 2                         Purchases   (1980.00)\n",
       " 3                    Salary expense   (3000.00)\n",
       " 4                   Utility expense            \n",
       " 5             Miscellaneous expense   (6750.00)\n",
       " 6                      Rent expense   (3000.00)\n",
       " 7                 Professional fees            \n",
       " 8                 Transport expense            \n",
       " 9                       Tax expense            \n",
       " 10                  Loss from theft            \n",
       " 11                         Bank fee            \n",
       " 12                    Total expense  (14730.00)\n",
       " 13                      Gifts given            \n",
       " 14  Total other income and expenses            \n",
       " 15                       Net income   38270.00 \n",
       " 16                       Withdrawal  (32240.00)\n",
       " 17                Retained earnings    6030.00 ,\n",
       "                  Account      Balance\n",
       " 0                   Cash    50216.50 \n",
       " 1                     Ar     7577.00 \n",
       " 2              Equipment  1764400.00 \n",
       " 3               Building             \n",
       " 4             Live stock             \n",
       " 5                   Land             \n",
       " 6   Informal loans given   205000.00 \n",
       " 7     Loans to employees             \n",
       " 8           Total assets  2027193.50 \n",
       " 9                     Ap     1130.00 \n",
       " 10         Informal loan     5250.00 \n",
       " 11        Long term loan             \n",
       " 12       Short term loan             \n",
       " 13     Total liabilities     6380.00 \n",
       " 14                Equity  2020813.50 ,\n",
       "                             Account     Balance\n",
       " 0                             Sales   52717.00 \n",
       " 1                      Total income   52717.00 \n",
       " 2                         Purchases   (7800.00)\n",
       " 3                    Salary expense   (3000.00)\n",
       " 4                   Utility expense            \n",
       " 5             Miscellaneous expense            \n",
       " 6                      Rent expense            \n",
       " 7                 Professional fees            \n",
       " 8                 Transport expense            \n",
       " 9                       Tax expense            \n",
       " 10                  Loss from theft            \n",
       " 11                         Bank fee            \n",
       " 12                    Total expense  (10800.00)\n",
       " 13                      Gifts given            \n",
       " 14  Total other income and expenses            \n",
       " 15                       Net income   41917.00 \n",
       " 16                       Withdrawal   (8150.00)\n",
       " 17                Retained earnings   33767.00 ,\n",
       "                  Account      Balance\n",
       " 0                   Cash   102509.50 \n",
       " 1                     Ar     9051.00 \n",
       " 2              Equipment  1764400.00 \n",
       " 3               Building             \n",
       " 4             Live stock             \n",
       " 5                   Land             \n",
       " 6   Informal loans given   205000.00 \n",
       " 7     Loans to employees             \n",
       " 8           Total assets  2080960.50 \n",
       " 9                     Ap     1130.00 \n",
       " 10         Informal loan     5250.00 \n",
       " 11        Long term loan             \n",
       " 12       Short term loan             \n",
       " 13     Total liabilities     6380.00 \n",
       " 14                Equity  2074580.50 ,\n",
       "                             Account     Balance\n",
       " 0                             Sales   49640.00 \n",
       " 1                      Total income   49640.00 \n",
       " 2                         Purchases   (1802.00)\n",
       " 3                    Salary expense   (3000.00)\n",
       " 4                   Utility expense    (220.00)\n",
       " 5             Miscellaneous expense   (8440.00)\n",
       " 6                      Rent expense            \n",
       " 7                 Professional fees            \n",
       " 8                 Transport expense            \n",
       " 9                       Tax expense            \n",
       " 10                  Loss from theft            \n",
       " 11                         Bank fee            \n",
       " 12                    Total expense  (13462.00)\n",
       " 13                      Gifts given            \n",
       " 14  Total other income and expenses            \n",
       " 15                       Net income   36178.00 \n",
       " 16                       Withdrawal  (85762.00)\n",
       " 17                Retained earnings  (49584.00),\n",
       "                  Account      Balance\n",
       " 0                   Cash   285739.50 \n",
       " 1                     Ar     5237.00 \n",
       " 2              Equipment  1764400.00 \n",
       " 3               Building             \n",
       " 4             Live stock             \n",
       " 5                   Land             \n",
       " 6   Informal loans given   205000.00 \n",
       " 7     Loans to employees             \n",
       " 8           Total assets  2260376.50 \n",
       " 9                     Ap     1130.00 \n",
       " 10         Informal loan    11750.00 \n",
       " 11        Long term loan             \n",
       " 12       Short term loan             \n",
       " 13     Total liabilities    12880.00 \n",
       " 14                Equity  2247496.50 ,\n",
       "                             Account     Balance\n",
       " 0                             Sales   23015.00 \n",
       " 1                      Total income   23015.00 \n",
       " 2                         Purchases   (3600.00)\n",
       " 3                    Salary expense            \n",
       " 4                   Utility expense    (276.00)\n",
       " 5             Miscellaneous expense            \n",
       " 6                      Rent expense   (3000.00)\n",
       " 7                 Professional fees            \n",
       " 8                 Transport expense            \n",
       " 9                       Tax expense            \n",
       " 10                  Loss from theft            \n",
       " 11                         Bank fee            \n",
       " 12                    Total expense   (6876.00)\n",
       " 13                      Gifts given            \n",
       " 14  Total other income and expenses            \n",
       " 15                       Net income   16139.00 \n",
       " 16                       Withdrawal  (20100.00)\n",
       " 17                Retained earnings   (3961.00),\n",
       "                  Account      Balance\n",
       " 0                   Cash   319499.50 \n",
       " 1                     Ar     5516.00 \n",
       " 2              Equipment  1764400.00 \n",
       " 3               Building             \n",
       " 4             Live stock             \n",
       " 5                   Land             \n",
       " 6   Informal loans given   200000.00 \n",
       " 7     Loans to employees             \n",
       " 8           Total assets  2289415.50 \n",
       " 9                     Ap     1130.00 \n",
       " 10         Informal loan    11750.00 \n",
       " 11        Long term loan             \n",
       " 12       Short term loan             \n",
       " 13     Total liabilities    12880.00 \n",
       " 14                Equity  2276535.50 ,\n",
       "                             Account   Balance\n",
       " 0                             Sales  2100.00 \n",
       " 1                      Total income  2100.00 \n",
       " 2                         Purchases          \n",
       " 3                    Salary expense          \n",
       " 4                   Utility expense          \n",
       " 5             Miscellaneous expense          \n",
       " 6                      Rent expense          \n",
       " 7                 Professional fees          \n",
       " 8                 Transport expense          \n",
       " 9                       Tax expense          \n",
       " 10                  Loss from theft          \n",
       " 11                         Bank fee          \n",
       " 12                    Total expense          \n",
       " 13                      Gifts given          \n",
       " 14  Total other income and expenses          \n",
       " 15                       Net income  2100.00 \n",
       " 16                       Withdrawal  (280.00)\n",
       " 17                Retained earnings  1820.00 ,\n",
       "                  Account      Balance\n",
       " 0                   Cash   321389.50 \n",
       " 1                     Ar     5516.00 \n",
       " 2              Equipment  1764400.00 \n",
       " 3               Building             \n",
       " 4             Live stock             \n",
       " 5                   Land             \n",
       " 6   Informal loans given   200000.00 \n",
       " 7     Loans to employees             \n",
       " 8           Total assets  2291305.50 \n",
       " 9                     Ap             \n",
       " 10         Informal loan    11750.00 \n",
       " 11        Long term loan             \n",
       " 12       Short term loan             \n",
       " 13     Total liabilities    11750.00 \n",
       " 14                Equity  2279555.50 ,\n",
       "                             Account Balance\n",
       " 0                             Sales        \n",
       " 1                      Total income        \n",
       " 2                         Purchases        \n",
       " 3                    Salary expense        \n",
       " 4                   Utility expense        \n",
       " 5             Miscellaneous expense        \n",
       " 6                      Rent expense        \n",
       " 7                 Professional fees        \n",
       " 8                 Transport expense        \n",
       " 9                       Tax expense        \n",
       " 10                  Loss from theft        \n",
       " 11                         Bank fee        \n",
       " 12                    Total expense        \n",
       " 13                      Gifts given        \n",
       " 14  Total other income and expenses        \n",
       " 15                       Net income        \n",
       " 16                       Withdrawal        \n",
       " 17                Retained earnings        ,\n",
       "                  Account      Balance\n",
       " 0                   Cash   321389.50 \n",
       " 1                     Ar     5516.00 \n",
       " 2              Equipment  1764400.00 \n",
       " 3               Building             \n",
       " 4             Live stock             \n",
       " 5                   Land             \n",
       " 6   Informal loans given   200000.00 \n",
       " 7     Loans to employees             \n",
       " 8           Total assets  2291305.50 \n",
       " 9                     Ap             \n",
       " 10         Informal loan    11750.00 \n",
       " 11        Long term loan             \n",
       " 12       Short term loan             \n",
       " 13     Total liabilities    11750.00 \n",
       " 14                Equity  2279555.50 ]"
      ]
     },
     "execution_count": 57,
     "metadata": {},
     "output_type": "execute_result"
    }
   ],
   "source": [
    "statements"
   ]
  },
  {
   "cell_type": "code",
   "execution_count": 58,
   "metadata": {},
   "outputs": [],
   "source": [
    "def filter_by_respondent(df: pd.DataFrame, res_id):\n",
    "    return df[df['Respondent ID'] == res_id].reset_index().drop(columns='index')\n"
   ]
  },
  {
   "cell_type": "code",
   "execution_count": 59,
   "metadata": {},
   "outputs": [],
   "source": [
    "def get_monthly_financial_statements(df: pd.DataFrame, respondent_id:int):\n",
    "    income_stats = []\n",
    "    bal_sheets = []\n",
    "    years = []\n",
    "    months = []\n",
    "    respondent_filtered = df[df['Respondent ID'] == respondent_id].reset_index().drop(columns='index')\n",
    "    for y in get_years_list(respondent_filtered, 'date'):\n",
    "        for m in get_months_list(respondent_filtered, y, 'date'):\n",
    "            monthly_data = filter_by_year_month(respondent_filtered, 'date', y, m)\n",
    "            data_up_to = filter_up_to(respondent_filtered, 'date', y, m)\n",
    "\n",
    "            temp_inc_stat = income_statement_and_RE(respondent_id, monthly_data)\n",
    "            temp_bal_sheet = balance_sheet(respondent_id, data_up_to)\n",
    "            \n",
    "            years.append(y)\n",
    "            months.append(m)\n",
    "            \n",
    "            income_stats.append(temp_inc_stat)\n",
    "            bal_sheets.append(temp_bal_sheet)\n",
    "    \n",
    "    return years, months, income_stats, bal_sheets\n",
    "\n",
    "monthly_financials = get_monthly_financial_statements(data_combined3, 4425)"
   ]
  },
  {
   "cell_type": "code",
   "execution_count": 60,
   "metadata": {},
   "outputs": [],
   "source": [
    "inc_variables = set()\n",
    "bal_variables = set()\n",
    "\n",
    "for inc in monthly_financials[2]:\n",
    "    for item in inc['Account'].unique():\n",
    "        inc_variables.add(item)\n",
    "\n",
    "for bal in monthly_financials[3]:\n",
    "    for item in bal['Account'].unique():\n",
    "        bal_variables.add(item)"
   ]
  },
  {
   "cell_type": "code",
   "execution_count": 61,
   "metadata": {},
   "outputs": [
    {
     "data": {
      "text/plain": [
       "{'Bank fee',\n",
       " 'Gifts given',\n",
       " 'Loss from theft',\n",
       " 'Miscellaneous expense',\n",
       " 'Net income',\n",
       " 'Professional fees',\n",
       " 'Purchases',\n",
       " 'Rent expense',\n",
       " 'Retained earnings',\n",
       " 'Salary expense',\n",
       " 'Sales',\n",
       " 'Tax expense',\n",
       " 'Total expense',\n",
       " 'Total income',\n",
       " 'Total other income and expenses',\n",
       " 'Transport expense',\n",
       " 'Utility expense',\n",
       " 'Withdrawal'}"
      ]
     },
     "execution_count": 61,
     "metadata": {},
     "output_type": "execute_result"
    }
   ],
   "source": [
    "inc_variables"
   ]
  },
  {
   "cell_type": "code",
   "execution_count": 62,
   "metadata": {},
   "outputs": [
    {
     "data": {
      "text/plain": [
       "{'Ap',\n",
       " 'Ar',\n",
       " 'Building',\n",
       " 'Cash',\n",
       " 'Equipment',\n",
       " 'Equity',\n",
       " 'Informal loan',\n",
       " 'Informal loans given',\n",
       " 'Land',\n",
       " 'Live stock',\n",
       " 'Loans to employees',\n",
       " 'Long term loan',\n",
       " 'Short term loan',\n",
       " 'Total assets',\n",
       " 'Total liabilities'}"
      ]
     },
     "execution_count": 62,
     "metadata": {},
     "output_type": "execute_result"
    }
   ],
   "source": [
    "bal_variables"
   ]
  },
  {
   "cell_type": "code",
   "execution_count": 63,
   "metadata": {},
   "outputs": [
    {
     "data": {
      "text/html": [
       "<div>\n",
       "<style scoped>\n",
       "    .dataframe tbody tr th:only-of-type {\n",
       "        vertical-align: middle;\n",
       "    }\n",
       "\n",
       "    .dataframe tbody tr th {\n",
       "        vertical-align: top;\n",
       "    }\n",
       "\n",
       "    .dataframe thead th {\n",
       "        text-align: right;\n",
       "    }\n",
       "</style>\n",
       "<table border=\"1\" class=\"dataframe\">\n",
       "  <thead>\n",
       "    <tr style=\"text-align: right;\">\n",
       "      <th></th>\n",
       "      <th>Account</th>\n",
       "      <th>Balance</th>\n",
       "    </tr>\n",
       "  </thead>\n",
       "  <tbody>\n",
       "    <tr>\n",
       "      <th>0</th>\n",
       "      <td>Cash</td>\n",
       "      <td>(112042.50)</td>\n",
       "    </tr>\n",
       "    <tr>\n",
       "      <th>1</th>\n",
       "      <td>Ar</td>\n",
       "      <td>6604.00</td>\n",
       "    </tr>\n",
       "    <tr>\n",
       "      <th>2</th>\n",
       "      <td>Equipment</td>\n",
       "      <td>1764400.00</td>\n",
       "    </tr>\n",
       "    <tr>\n",
       "      <th>3</th>\n",
       "      <td>Building</td>\n",
       "      <td></td>\n",
       "    </tr>\n",
       "    <tr>\n",
       "      <th>4</th>\n",
       "      <td>Live stock</td>\n",
       "      <td></td>\n",
       "    </tr>\n",
       "    <tr>\n",
       "      <th>5</th>\n",
       "      <td>Land</td>\n",
       "      <td></td>\n",
       "    </tr>\n",
       "    <tr>\n",
       "      <th>6</th>\n",
       "      <td>Informal loans given</td>\n",
       "      <td>205000.00</td>\n",
       "    </tr>\n",
       "    <tr>\n",
       "      <th>7</th>\n",
       "      <td>Loans to employees</td>\n",
       "      <td></td>\n",
       "    </tr>\n",
       "    <tr>\n",
       "      <th>8</th>\n",
       "      <td>Total assets</td>\n",
       "      <td>1863961.50</td>\n",
       "    </tr>\n",
       "    <tr>\n",
       "      <th>9</th>\n",
       "      <td>Ap</td>\n",
       "      <td>750.00</td>\n",
       "    </tr>\n",
       "    <tr>\n",
       "      <th>10</th>\n",
       "      <td>Informal loan</td>\n",
       "      <td>(5000.00)</td>\n",
       "    </tr>\n",
       "    <tr>\n",
       "      <th>11</th>\n",
       "      <td>Long term loan</td>\n",
       "      <td></td>\n",
       "    </tr>\n",
       "    <tr>\n",
       "      <th>12</th>\n",
       "      <td>Short term loan</td>\n",
       "      <td></td>\n",
       "    </tr>\n",
       "    <tr>\n",
       "      <th>13</th>\n",
       "      <td>Total liabilities</td>\n",
       "      <td>(4250.00)</td>\n",
       "    </tr>\n",
       "    <tr>\n",
       "      <th>14</th>\n",
       "      <td>Equity</td>\n",
       "      <td>1868211.50</td>\n",
       "    </tr>\n",
       "  </tbody>\n",
       "</table>\n",
       "</div>"
      ],
      "text/plain": [
       "                 Account      Balance\n",
       "0                   Cash  (112042.50)\n",
       "1                     Ar     6604.00 \n",
       "2              Equipment  1764400.00 \n",
       "3               Building             \n",
       "4             Live stock             \n",
       "5                   Land             \n",
       "6   Informal loans given   205000.00 \n",
       "7     Loans to employees             \n",
       "8           Total assets  1863961.50 \n",
       "9                     Ap      750.00 \n",
       "10         Informal loan    (5000.00)\n",
       "11        Long term loan             \n",
       "12       Short term loan             \n",
       "13     Total liabilities    (4250.00)\n",
       "14                Equity  1868211.50 "
      ]
     },
     "execution_count": 63,
     "metadata": {},
     "output_type": "execute_result"
    }
   ],
   "source": [
    "monthly_financials[3][8]"
   ]
  },
  {
   "cell_type": "code",
   "execution_count": 64,
   "metadata": {},
   "outputs": [],
   "source": [
    "cash_balances = []\n",
    "for bal in monthly_financials[3]:\n",
    "    cash_balances.append(unformat_num(bal[bal['Account'] == 'Cash']['Balance'][0]))"
   ]
  },
  {
   "cell_type": "code",
   "execution_count": 65,
   "metadata": {},
   "outputs": [
    {
     "data": {
      "text/plain": [
       "[-200000.0,\n",
       " -200000.0,\n",
       " -193281.0,\n",
       " -193177.0,\n",
       " -126689.0,\n",
       " -70549.0,\n",
       " -165702.0,\n",
       " -133572.5,\n",
       " -112042.5,\n",
       " -68426.5,\n",
       " -4693.5,\n",
       " 50216.5,\n",
       " 102509.5,\n",
       " 285739.5,\n",
       " 319499.5,\n",
       " 321389.5,\n",
       " 321389.5]"
      ]
     },
     "execution_count": 65,
     "metadata": {},
     "output_type": "execute_result"
    }
   ],
   "source": [
    "cash_balances"
   ]
  },
  {
   "cell_type": "code",
   "execution_count": 66,
   "metadata": {},
   "outputs": [
    {
     "data": {
      "text/html": [
       "<div>\n",
       "<style scoped>\n",
       "    .dataframe tbody tr th:only-of-type {\n",
       "        vertical-align: middle;\n",
       "    }\n",
       "\n",
       "    .dataframe tbody tr th {\n",
       "        vertical-align: top;\n",
       "    }\n",
       "\n",
       "    .dataframe thead th {\n",
       "        text-align: right;\n",
       "    }\n",
       "</style>\n",
       "<table border=\"1\" class=\"dataframe\">\n",
       "  <thead>\n",
       "    <tr style=\"text-align: right;\">\n",
       "      <th></th>\n",
       "      <th>Respodent</th>\n",
       "      <th>Year</th>\n",
       "      <th>Month</th>\n",
       "      <th>Cash</th>\n",
       "      <th>Cash Change</th>\n",
       "    </tr>\n",
       "  </thead>\n",
       "  <tbody>\n",
       "    <tr>\n",
       "      <th>0</th>\n",
       "      <td>4425</td>\n",
       "      <td>2021</td>\n",
       "      <td>2</td>\n",
       "      <td>-200000.0</td>\n",
       "      <td>0.0</td>\n",
       "    </tr>\n",
       "    <tr>\n",
       "      <th>1</th>\n",
       "      <td>4425</td>\n",
       "      <td>2021</td>\n",
       "      <td>3</td>\n",
       "      <td>-200000.0</td>\n",
       "      <td>0.0</td>\n",
       "    </tr>\n",
       "    <tr>\n",
       "      <th>2</th>\n",
       "      <td>4425</td>\n",
       "      <td>2021</td>\n",
       "      <td>4</td>\n",
       "      <td>-193281.0</td>\n",
       "      <td>6719.0</td>\n",
       "    </tr>\n",
       "    <tr>\n",
       "      <th>3</th>\n",
       "      <td>4425</td>\n",
       "      <td>2021</td>\n",
       "      <td>5</td>\n",
       "      <td>-193177.0</td>\n",
       "      <td>104.0</td>\n",
       "    </tr>\n",
       "    <tr>\n",
       "      <th>4</th>\n",
       "      <td>4425</td>\n",
       "      <td>2021</td>\n",
       "      <td>6</td>\n",
       "      <td>-126689.0</td>\n",
       "      <td>66488.0</td>\n",
       "    </tr>\n",
       "    <tr>\n",
       "      <th>5</th>\n",
       "      <td>4425</td>\n",
       "      <td>2021</td>\n",
       "      <td>7</td>\n",
       "      <td>-70549.0</td>\n",
       "      <td>56140.0</td>\n",
       "    </tr>\n",
       "    <tr>\n",
       "      <th>6</th>\n",
       "      <td>4425</td>\n",
       "      <td>2021</td>\n",
       "      <td>8</td>\n",
       "      <td>-165702.0</td>\n",
       "      <td>-95153.0</td>\n",
       "    </tr>\n",
       "    <tr>\n",
       "      <th>7</th>\n",
       "      <td>4425</td>\n",
       "      <td>2021</td>\n",
       "      <td>9</td>\n",
       "      <td>-133572.5</td>\n",
       "      <td>32129.5</td>\n",
       "    </tr>\n",
       "    <tr>\n",
       "      <th>8</th>\n",
       "      <td>4425</td>\n",
       "      <td>2021</td>\n",
       "      <td>10</td>\n",
       "      <td>-112042.5</td>\n",
       "      <td>21530.0</td>\n",
       "    </tr>\n",
       "    <tr>\n",
       "      <th>9</th>\n",
       "      <td>4425</td>\n",
       "      <td>2021</td>\n",
       "      <td>11</td>\n",
       "      <td>-68426.5</td>\n",
       "      <td>43616.0</td>\n",
       "    </tr>\n",
       "    <tr>\n",
       "      <th>10</th>\n",
       "      <td>4425</td>\n",
       "      <td>2021</td>\n",
       "      <td>12</td>\n",
       "      <td>-4693.5</td>\n",
       "      <td>63733.0</td>\n",
       "    </tr>\n",
       "    <tr>\n",
       "      <th>11</th>\n",
       "      <td>4425</td>\n",
       "      <td>2022</td>\n",
       "      <td>1</td>\n",
       "      <td>50216.5</td>\n",
       "      <td>54910.0</td>\n",
       "    </tr>\n",
       "    <tr>\n",
       "      <th>12</th>\n",
       "      <td>4425</td>\n",
       "      <td>2022</td>\n",
       "      <td>2</td>\n",
       "      <td>102509.5</td>\n",
       "      <td>52293.0</td>\n",
       "    </tr>\n",
       "    <tr>\n",
       "      <th>13</th>\n",
       "      <td>4425</td>\n",
       "      <td>2022</td>\n",
       "      <td>3</td>\n",
       "      <td>285739.5</td>\n",
       "      <td>183230.0</td>\n",
       "    </tr>\n",
       "    <tr>\n",
       "      <th>14</th>\n",
       "      <td>4425</td>\n",
       "      <td>2022</td>\n",
       "      <td>4</td>\n",
       "      <td>319499.5</td>\n",
       "      <td>33760.0</td>\n",
       "    </tr>\n",
       "    <tr>\n",
       "      <th>15</th>\n",
       "      <td>4425</td>\n",
       "      <td>2022</td>\n",
       "      <td>5</td>\n",
       "      <td>321389.5</td>\n",
       "      <td>1890.0</td>\n",
       "    </tr>\n",
       "    <tr>\n",
       "      <th>16</th>\n",
       "      <td>4425</td>\n",
       "      <td>2022</td>\n",
       "      <td>6</td>\n",
       "      <td>321389.5</td>\n",
       "      <td>0.0</td>\n",
       "    </tr>\n",
       "  </tbody>\n",
       "</table>\n",
       "</div>"
      ],
      "text/plain": [
       "    Respodent  Year  Month      Cash  Cash Change\n",
       "0        4425  2021      2 -200000.0          0.0\n",
       "1        4425  2021      3 -200000.0          0.0\n",
       "2        4425  2021      4 -193281.0       6719.0\n",
       "3        4425  2021      5 -193177.0        104.0\n",
       "4        4425  2021      6 -126689.0      66488.0\n",
       "5        4425  2021      7  -70549.0      56140.0\n",
       "6        4425  2021      8 -165702.0     -95153.0\n",
       "7        4425  2021      9 -133572.5      32129.5\n",
       "8        4425  2021     10 -112042.5      21530.0\n",
       "9        4425  2021     11  -68426.5      43616.0\n",
       "10       4425  2021     12   -4693.5      63733.0\n",
       "11       4425  2022      1   50216.5      54910.0\n",
       "12       4425  2022      2  102509.5      52293.0\n",
       "13       4425  2022      3  285739.5     183230.0\n",
       "14       4425  2022      4  319499.5      33760.0\n",
       "15       4425  2022      5  321389.5       1890.0\n",
       "16       4425  2022      6  321389.5          0.0"
      ]
     },
     "execution_count": 66,
     "metadata": {},
     "output_type": "execute_result"
    }
   ],
   "source": [
    "def get_monthly_cash_balances_for_res(df: pd.DataFrame, respondent_id: int) -> pd.DataFrame:\n",
    "    monthly_statements = get_monthly_financial_statements(df, respondent_id)\n",
    "    cash_balances = []\n",
    "    change_in_cash = []\n",
    "    years, months = monthly_statements[0], monthly_statements[1]\n",
    "    \n",
    "    current_cash = 0\n",
    "    previous_cash = 0\n",
    "    for bal in monthly_statements[3]:\n",
    "        current_cash = unformat_num(bal[bal['Account'] == 'Cash']['Balance'][0])\n",
    "        cash_balances.append(current_cash)\n",
    "        if len(change_in_cash) == 0:\n",
    "            change_in_cash.append(0)\n",
    "        else:\n",
    "            change_in_cash.append(current_cash - previous_cash)\n",
    "        previous_cash = current_cash\n",
    "\n",
    "\n",
    "    data = pd.DataFrame(\n",
    "        {\n",
    "            'Respodent': [respondent_id]*len(cash_balances),\n",
    "            'Year': years,\n",
    "            'Month': months,\n",
    "            'Cash': cash_balances,\n",
    "            'Cash Change': change_in_cash\n",
    "        }\n",
    "    )\n",
    "    return data  \n",
    "\n",
    "get_monthly_cash_balances_for_res(data_combined3, 4425)"
   ]
  },
  {
   "cell_type": "code",
   "execution_count": 67,
   "metadata": {},
   "outputs": [
    {
     "name": "stdout",
     "output_type": "stream",
     "text": [
      "Getting cash balance for 4425.0\n",
      "Getting cash balance for 4429.0\n",
      "Getting cash balance for 4431.0\n",
      "Getting cash balance for 4432.0\n",
      "Getting cash balance for 4433.0\n",
      "Getting cash balance for 4435.0\n",
      "Getting cash balance for 4436.0\n",
      "Getting cash balance for 4437.0\n",
      "Getting cash balance for 4438.0\n",
      "Getting cash balance for 4440.0\n",
      "Getting cash balance for 4442.0\n",
      "Getting cash balance for 4443.0\n",
      "Getting cash balance for 4444.0\n",
      "Getting cash balance for 4445.0\n",
      "Getting cash balance for 4446.0\n",
      "Getting cash balance for 4448.0\n",
      "Getting cash balance for 4450.0\n",
      "Getting cash balance for 4451.0\n",
      "Getting cash balance for 4452.0\n",
      "Getting cash balance for 4453.0\n",
      "Getting cash balance for 4456.0\n",
      "Getting cash balance for 4457.0\n",
      "Getting cash balance for 4458.0\n",
      "Getting cash balance for 4459.0\n",
      "Getting cash balance for 4460.0\n",
      "Getting cash balance for 4462.0\n",
      "Getting cash balance for 4463.0\n",
      "Getting cash balance for 4464.0\n",
      "Getting cash balance for 4465.0\n",
      "Getting cash balance for 4466.0\n",
      "Getting cash balance for 4467.0\n",
      "Getting cash balance for 4468.0\n",
      "Getting cash balance for 4469.0\n",
      "Getting cash balance for 4470.0\n",
      "Getting cash balance for 4471.0\n",
      "Getting cash balance for 4472.0\n",
      "Getting cash balance for 4473.0\n",
      "Getting cash balance for 4474.0\n",
      "Getting cash balance for 4475.0\n",
      "Getting cash balance for 4477.0\n",
      "Getting cash balance for 4478.0\n",
      "Getting cash balance for 4480.0\n",
      "Getting cash balance for 4481.0\n",
      "Getting cash balance for 4482.0\n",
      "Getting cash balance for 4483.0\n",
      "Getting cash balance for 4484.0\n",
      "Getting cash balance for 4485.0\n",
      "Getting cash balance for 4487.0\n",
      "Getting cash balance for 4490.0\n",
      "Getting cash balance for 4491.0\n",
      "Getting cash balance for 4493.0\n",
      "Getting cash balance for 4494.0\n",
      "Getting cash balance for 4495.0\n",
      "Getting cash balance for 4496.0\n",
      "Getting cash balance for 4499.0\n",
      "Getting cash balance for 4500.0\n",
      "Getting cash balance for 4501.0\n",
      "Getting cash balance for 4502.0\n",
      "Getting cash balance for 4503.0\n",
      "Getting cash balance for 4506.0\n",
      "Getting cash balance for 4507.0\n",
      "Getting cash balance for 4508.0\n",
      "Getting cash balance for 4509.0\n",
      "Getting cash balance for 4510.0\n",
      "Getting cash balance for 4511.0\n",
      "Getting cash balance for 4513.0\n",
      "Getting cash balance for 4517.0\n",
      "Getting cash balance for 4518.0\n",
      "Getting cash balance for 4520.0\n",
      "Getting cash balance for 4521.0\n",
      "Getting cash balance for 4522.0\n",
      "Getting cash balance for 4523.0\n",
      "Getting cash balance for 4526.0\n",
      "Getting cash balance for 4527.0\n",
      "Getting cash balance for 4528.0\n",
      "Getting cash balance for 4530.0\n",
      "Getting cash balance for 4531.0\n",
      "Getting cash balance for 4533.0\n",
      "Getting cash balance for 4534.0\n",
      "Getting cash balance for 4535.0\n",
      "Getting cash balance for 4536.0\n",
      "Getting cash balance for 4537.0\n",
      "Getting cash balance for 4538.0\n",
      "Getting cash balance for 4539.0\n",
      "Getting cash balance for 4541.0\n",
      "Getting cash balance for 4544.0\n",
      "Getting cash balance for 4568.0\n",
      "Getting cash balance for 4569.0\n",
      "Getting cash balance for 4570.0\n",
      "Getting cash balance for 4572.0\n",
      "Getting cash balance for 4574.0\n",
      "Getting cash balance for 4575.0\n",
      "Getting cash balance for 4577.0\n",
      "Getting cash balance for 4578.0\n",
      "Getting cash balance for 4579.0\n",
      "Getting cash balance for 4580.0\n",
      "Getting cash balance for 4583.0\n",
      "Getting cash balance for 4584.0\n",
      "Getting cash balance for 4608.0\n",
      "Getting cash balance for 4618.0\n",
      "Getting cash balance for 4622.0\n",
      "Getting cash balance for 4623.0\n",
      "Getting cash balance for 4624.0\n",
      "Getting cash balance for 4625.0\n",
      "Getting cash balance for 4627.0\n",
      "Getting cash balance for 4629.0\n",
      "Getting cash balance for 4630.0\n",
      "Getting cash balance for 4632.0\n",
      "Getting cash balance for 4634.0\n",
      "Getting cash balance for 4635.0\n",
      "Getting cash balance for 4636.0\n",
      "Getting cash balance for 4638.0\n",
      "Getting cash balance for 4661.0\n",
      "Getting cash balance for 4668.0\n",
      "Getting cash balance for 4670.0\n",
      "Getting cash balance for 4672.0\n",
      "Getting cash balance for 4676.0\n",
      "Getting cash balance for 4678.0\n",
      "Getting cash balance for 4714.0\n",
      "Getting cash balance for 4716.0\n",
      "Getting cash balance for 4720.0\n",
      "Getting cash balance for 4722.0\n",
      "Getting cash balance for 4723.0\n",
      "Getting cash balance for 4724.0\n",
      "Getting cash balance for 4727.0\n",
      "Getting cash balance for 4732.0\n",
      "Getting cash balance for 4735.0\n",
      "Getting cash balance for 4737.0\n",
      "Getting cash balance for 4738.0\n",
      "Getting cash balance for 4743.0\n",
      "Getting cash balance for 4744.0\n",
      "Getting cash balance for 4745.0\n",
      "Getting cash balance for 4748.0\n",
      "Getting cash balance for 4761.0\n",
      "Getting cash balance for 4762.0\n",
      "Getting cash balance for 4764.0\n",
      "Getting cash balance for 4767.0\n",
      "Getting cash balance for 4785.0\n",
      "Getting cash balance for 4788.0\n",
      "Getting cash balance for 4789.0\n",
      "Getting cash balance for 4790.0\n",
      "Getting cash balance for 4791.0\n",
      "Getting cash balance for 4793.0\n",
      "Getting cash balance for 4794.0\n",
      "Getting cash balance for 4797.0\n",
      "Getting cash balance for 4798.0\n",
      "Getting cash balance for 4816.0\n",
      "Getting cash balance for 4817.0\n",
      "Getting cash balance for 4819.0\n",
      "Getting cash balance for 4820.0\n",
      "Getting cash balance for 4822.0\n",
      "Getting cash balance for 4862.0\n",
      "Getting cash balance for 4864.0\n",
      "Getting cash balance for 5104.0\n",
      "Getting cash balance for 5127.0\n",
      "Getting cash balance for 5883.0\n",
      "Getting cash balance for 4759.0\n",
      "Getting cash balance for 4529.0\n"
     ]
    }
   ],
   "source": [
    "def get_monthly_cash_balances_for_all(df: pd.DataFrame) -> pd.DataFrame:\n",
    "    all_firms = df['Respondent ID'].unique()\n",
    "    all_firm_data = []\n",
    "    for res_id in all_firms:\n",
    "        print(f'Getting cash balance for {res_id}')\n",
    "        cash_data = get_monthly_cash_balances_for_res(df, res_id)\n",
    "        all_firm_data.append(cash_data)\n",
    "    \n",
    "    return pd.concat(all_firm_data).reset_index().drop(columns='index')\n",
    "\n",
    "monthly_cash_data = get_monthly_cash_balances_for_all(data_combined3)"
   ]
  },
  {
   "cell_type": "code",
   "execution_count": 68,
   "metadata": {},
   "outputs": [
    {
     "data": {
      "text/html": [
       "<div>\n",
       "<style scoped>\n",
       "    .dataframe tbody tr th:only-of-type {\n",
       "        vertical-align: middle;\n",
       "    }\n",
       "\n",
       "    .dataframe tbody tr th {\n",
       "        vertical-align: top;\n",
       "    }\n",
       "\n",
       "    .dataframe thead th {\n",
       "        text-align: right;\n",
       "    }\n",
       "</style>\n",
       "<table border=\"1\" class=\"dataframe\">\n",
       "  <thead>\n",
       "    <tr style=\"text-align: right;\">\n",
       "      <th></th>\n",
       "      <th>Respodent</th>\n",
       "      <th>Year</th>\n",
       "      <th>Month</th>\n",
       "      <th>Cash</th>\n",
       "      <th>Cash Change</th>\n",
       "    </tr>\n",
       "  </thead>\n",
       "  <tbody>\n",
       "    <tr>\n",
       "      <th>0</th>\n",
       "      <td>4425.0</td>\n",
       "      <td>2021</td>\n",
       "      <td>2</td>\n",
       "      <td>-200000.0</td>\n",
       "      <td>0.0</td>\n",
       "    </tr>\n",
       "    <tr>\n",
       "      <th>1</th>\n",
       "      <td>4425.0</td>\n",
       "      <td>2021</td>\n",
       "      <td>3</td>\n",
       "      <td>-200000.0</td>\n",
       "      <td>0.0</td>\n",
       "    </tr>\n",
       "    <tr>\n",
       "      <th>2</th>\n",
       "      <td>4425.0</td>\n",
       "      <td>2021</td>\n",
       "      <td>4</td>\n",
       "      <td>-193281.0</td>\n",
       "      <td>6719.0</td>\n",
       "    </tr>\n",
       "    <tr>\n",
       "      <th>3</th>\n",
       "      <td>4425.0</td>\n",
       "      <td>2021</td>\n",
       "      <td>5</td>\n",
       "      <td>-193177.0</td>\n",
       "      <td>104.0</td>\n",
       "    </tr>\n",
       "    <tr>\n",
       "      <th>4</th>\n",
       "      <td>4425.0</td>\n",
       "      <td>2021</td>\n",
       "      <td>6</td>\n",
       "      <td>-126689.0</td>\n",
       "      <td>66488.0</td>\n",
       "    </tr>\n",
       "    <tr>\n",
       "      <th>...</th>\n",
       "      <td>...</td>\n",
       "      <td>...</td>\n",
       "      <td>...</td>\n",
       "      <td>...</td>\n",
       "      <td>...</td>\n",
       "    </tr>\n",
       "    <tr>\n",
       "      <th>1903</th>\n",
       "      <td>5883.0</td>\n",
       "      <td>2022</td>\n",
       "      <td>2</td>\n",
       "      <td>199013.0</td>\n",
       "      <td>26543.0</td>\n",
       "    </tr>\n",
       "    <tr>\n",
       "      <th>1904</th>\n",
       "      <td>5883.0</td>\n",
       "      <td>2022</td>\n",
       "      <td>3</td>\n",
       "      <td>216952.0</td>\n",
       "      <td>17939.0</td>\n",
       "    </tr>\n",
       "    <tr>\n",
       "      <th>1905</th>\n",
       "      <td>5883.0</td>\n",
       "      <td>2022</td>\n",
       "      <td>4</td>\n",
       "      <td>216952.0</td>\n",
       "      <td>0.0</td>\n",
       "    </tr>\n",
       "    <tr>\n",
       "      <th>1906</th>\n",
       "      <td>4759.0</td>\n",
       "      <td>2021</td>\n",
       "      <td>4</td>\n",
       "      <td>0.0</td>\n",
       "      <td>0.0</td>\n",
       "    </tr>\n",
       "    <tr>\n",
       "      <th>1907</th>\n",
       "      <td>4529.0</td>\n",
       "      <td>2021</td>\n",
       "      <td>4</td>\n",
       "      <td>2835.0</td>\n",
       "      <td>0.0</td>\n",
       "    </tr>\n",
       "  </tbody>\n",
       "</table>\n",
       "<p>1908 rows × 5 columns</p>\n",
       "</div>"
      ],
      "text/plain": [
       "      Respodent  Year  Month      Cash  Cash Change\n",
       "0        4425.0  2021      2 -200000.0          0.0\n",
       "1        4425.0  2021      3 -200000.0          0.0\n",
       "2        4425.0  2021      4 -193281.0       6719.0\n",
       "3        4425.0  2021      5 -193177.0        104.0\n",
       "4        4425.0  2021      6 -126689.0      66488.0\n",
       "...         ...   ...    ...       ...          ...\n",
       "1903     5883.0  2022      2  199013.0      26543.0\n",
       "1904     5883.0  2022      3  216952.0      17939.0\n",
       "1905     5883.0  2022      4  216952.0          0.0\n",
       "1906     4759.0  2021      4       0.0          0.0\n",
       "1907     4529.0  2021      4    2835.0          0.0\n",
       "\n",
       "[1908 rows x 5 columns]"
      ]
     },
     "execution_count": 68,
     "metadata": {},
     "output_type": "execute_result"
    }
   ],
   "source": [
    "monthly_cash_data"
   ]
  },
  {
   "cell_type": "code",
   "execution_count": 69,
   "metadata": {},
   "outputs": [],
   "source": [
    "date_formated = []\n",
    "for i, row in monthly_cash_data.iterrows():\n",
    "    y = int(row['Year'])\n",
    "    m = int(row['Month'])\n",
    "    p = pd.Period(f'{y}-{m}-1')\n",
    "    last_day = p.days_in_month\n",
    "    date_formated.append(dt.date(y, m, last_day))"
   ]
  },
  {
   "cell_type": "code",
   "execution_count": 70,
   "metadata": {},
   "outputs": [
    {
     "data": {
      "text/plain": [
       "[datetime.date(2021, 2, 28),\n",
       " datetime.date(2021, 3, 31),\n",
       " datetime.date(2021, 4, 30),\n",
       " datetime.date(2021, 5, 31),\n",
       " datetime.date(2021, 6, 30),\n",
       " datetime.date(2021, 7, 31),\n",
       " datetime.date(2021, 8, 31),\n",
       " datetime.date(2021, 9, 30),\n",
       " datetime.date(2021, 10, 31),\n",
       " datetime.date(2021, 11, 30),\n",
       " datetime.date(2021, 12, 31),\n",
       " datetime.date(2022, 1, 31),\n",
       " datetime.date(2022, 2, 28),\n",
       " datetime.date(2022, 3, 31),\n",
       " datetime.date(2022, 4, 30),\n",
       " datetime.date(2022, 5, 31),\n",
       " datetime.date(2022, 6, 30),\n",
       " datetime.date(2021, 1, 31),\n",
       " datetime.date(2021, 4, 30),\n",
       " datetime.date(2021, 5, 31),\n",
       " datetime.date(2021, 6, 30),\n",
       " datetime.date(2021, 7, 31),\n",
       " datetime.date(2021, 8, 31),\n",
       " datetime.date(2021, 9, 30),\n",
       " datetime.date(2021, 10, 31),\n",
       " datetime.date(2021, 11, 30),\n",
       " datetime.date(2021, 12, 31),\n",
       " datetime.date(2022, 1, 31),\n",
       " datetime.date(2022, 2, 28),\n",
       " datetime.date(2022, 3, 31),\n",
       " datetime.date(2022, 4, 30),\n",
       " datetime.date(2021, 3, 31),\n",
       " datetime.date(2021, 4, 30),\n",
       " datetime.date(2021, 5, 31),\n",
       " datetime.date(2021, 6, 30),\n",
       " datetime.date(2021, 4, 30),\n",
       " datetime.date(2021, 4, 30),\n",
       " datetime.date(2021, 5, 31),\n",
       " datetime.date(2021, 6, 30),\n",
       " datetime.date(2021, 7, 31),\n",
       " datetime.date(2021, 8, 31),\n",
       " datetime.date(2021, 9, 30),\n",
       " datetime.date(2021, 10, 31),\n",
       " datetime.date(2021, 11, 30),\n",
       " datetime.date(2021, 12, 31),\n",
       " datetime.date(2022, 1, 31),\n",
       " datetime.date(2022, 2, 28),\n",
       " datetime.date(2022, 3, 31),\n",
       " datetime.date(2022, 4, 30),\n",
       " datetime.date(2021, 4, 30),\n",
       " datetime.date(2021, 5, 31),\n",
       " datetime.date(2021, 6, 30),\n",
       " datetime.date(2021, 7, 31),\n",
       " datetime.date(2021, 8, 31),\n",
       " datetime.date(2021, 9, 30),\n",
       " datetime.date(2021, 10, 31),\n",
       " datetime.date(2021, 11, 30),\n",
       " datetime.date(2021, 12, 31),\n",
       " datetime.date(2022, 1, 31),\n",
       " datetime.date(2022, 2, 28),\n",
       " datetime.date(2022, 3, 31),\n",
       " datetime.date(2022, 4, 30),\n",
       " datetime.date(2021, 2, 28),\n",
       " datetime.date(2021, 4, 30),\n",
       " datetime.date(2021, 5, 31),\n",
       " datetime.date(2021, 6, 30),\n",
       " datetime.date(2021, 7, 31),\n",
       " datetime.date(2021, 8, 31),\n",
       " datetime.date(2021, 9, 30),\n",
       " datetime.date(2021, 10, 31),\n",
       " datetime.date(2021, 11, 30),\n",
       " datetime.date(2021, 12, 31),\n",
       " datetime.date(2022, 1, 31),\n",
       " datetime.date(2022, 2, 28),\n",
       " datetime.date(2022, 3, 31),\n",
       " datetime.date(2022, 4, 30),\n",
       " datetime.date(2021, 4, 30),\n",
       " datetime.date(2021, 5, 31),\n",
       " datetime.date(2021, 6, 30),\n",
       " datetime.date(2021, 7, 31),\n",
       " datetime.date(2021, 8, 31),\n",
       " datetime.date(2021, 9, 30),\n",
       " datetime.date(2021, 10, 31),\n",
       " datetime.date(2021, 11, 30),\n",
       " datetime.date(2021, 12, 31),\n",
       " datetime.date(2022, 1, 31),\n",
       " datetime.date(2022, 2, 28),\n",
       " datetime.date(2022, 3, 31),\n",
       " datetime.date(2022, 4, 30),\n",
       " datetime.date(2021, 4, 30),\n",
       " datetime.date(2021, 5, 31),\n",
       " datetime.date(2021, 6, 30),\n",
       " datetime.date(2021, 7, 31),\n",
       " datetime.date(2021, 8, 31),\n",
       " datetime.date(2021, 9, 30),\n",
       " datetime.date(2021, 10, 31),\n",
       " datetime.date(2021, 11, 30),\n",
       " datetime.date(2021, 12, 31),\n",
       " datetime.date(2022, 1, 31),\n",
       " datetime.date(2022, 2, 28),\n",
       " datetime.date(2022, 3, 31),\n",
       " datetime.date(2022, 4, 30),\n",
       " datetime.date(2021, 3, 31),\n",
       " datetime.date(2021, 4, 30),\n",
       " datetime.date(2021, 5, 31),\n",
       " datetime.date(2021, 6, 30),\n",
       " datetime.date(2021, 7, 31),\n",
       " datetime.date(2021, 8, 31),\n",
       " datetime.date(2021, 9, 30),\n",
       " datetime.date(2021, 10, 31),\n",
       " datetime.date(2021, 11, 30),\n",
       " datetime.date(2021, 12, 31),\n",
       " datetime.date(2022, 1, 31),\n",
       " datetime.date(2022, 2, 28),\n",
       " datetime.date(2022, 3, 31),\n",
       " datetime.date(2022, 4, 30),\n",
       " datetime.date(2021, 4, 30),\n",
       " datetime.date(2021, 5, 31),\n",
       " datetime.date(2021, 6, 30),\n",
       " datetime.date(2021, 7, 31),\n",
       " datetime.date(2021, 8, 31),\n",
       " datetime.date(2021, 9, 30),\n",
       " datetime.date(2021, 10, 31),\n",
       " datetime.date(2021, 11, 30),\n",
       " datetime.date(2021, 12, 31),\n",
       " datetime.date(2022, 1, 31),\n",
       " datetime.date(2022, 2, 28),\n",
       " datetime.date(2022, 3, 31),\n",
       " datetime.date(2022, 4, 30),\n",
       " datetime.date(2021, 4, 30),\n",
       " datetime.date(2021, 5, 31),\n",
       " datetime.date(2021, 6, 30),\n",
       " datetime.date(2021, 7, 31),\n",
       " datetime.date(2021, 8, 31),\n",
       " datetime.date(2021, 9, 30),\n",
       " datetime.date(2021, 10, 31),\n",
       " datetime.date(2021, 11, 30),\n",
       " datetime.date(2021, 12, 31),\n",
       " datetime.date(2022, 1, 31),\n",
       " datetime.date(2022, 2, 28),\n",
       " datetime.date(2022, 3, 31),\n",
       " datetime.date(2022, 4, 30),\n",
       " datetime.date(2021, 2, 28),\n",
       " datetime.date(2021, 4, 30),\n",
       " datetime.date(2021, 5, 31),\n",
       " datetime.date(2021, 6, 30),\n",
       " datetime.date(2021, 7, 31),\n",
       " datetime.date(2021, 8, 31),\n",
       " datetime.date(2021, 9, 30),\n",
       " datetime.date(2021, 10, 31),\n",
       " datetime.date(2021, 11, 30),\n",
       " datetime.date(2021, 12, 31),\n",
       " datetime.date(2022, 1, 31),\n",
       " datetime.date(2022, 2, 28),\n",
       " datetime.date(2022, 3, 31),\n",
       " datetime.date(2022, 4, 30),\n",
       " datetime.date(2021, 4, 30),\n",
       " datetime.date(2021, 5, 31),\n",
       " datetime.date(2021, 6, 30),\n",
       " datetime.date(2021, 7, 31),\n",
       " datetime.date(2021, 8, 31),\n",
       " datetime.date(2021, 9, 30),\n",
       " datetime.date(2021, 10, 31),\n",
       " datetime.date(2021, 11, 30),\n",
       " datetime.date(2021, 12, 31),\n",
       " datetime.date(2022, 1, 31),\n",
       " datetime.date(2022, 2, 28),\n",
       " datetime.date(2022, 3, 31),\n",
       " datetime.date(2022, 4, 30),\n",
       " datetime.date(2021, 4, 30),\n",
       " datetime.date(2021, 5, 31),\n",
       " datetime.date(2021, 6, 30),\n",
       " datetime.date(2021, 7, 31),\n",
       " datetime.date(2021, 8, 31),\n",
       " datetime.date(2021, 9, 30),\n",
       " datetime.date(2021, 10, 31),\n",
       " datetime.date(2021, 11, 30),\n",
       " datetime.date(2021, 12, 31),\n",
       " datetime.date(2022, 1, 31),\n",
       " datetime.date(2022, 2, 28),\n",
       " datetime.date(2022, 3, 31),\n",
       " datetime.date(2022, 4, 30),\n",
       " datetime.date(2021, 1, 31),\n",
       " datetime.date(2021, 4, 30),\n",
       " datetime.date(2021, 5, 31),\n",
       " datetime.date(2021, 6, 30),\n",
       " datetime.date(2021, 7, 31),\n",
       " datetime.date(2021, 8, 31),\n",
       " datetime.date(2021, 9, 30),\n",
       " datetime.date(2021, 10, 31),\n",
       " datetime.date(2021, 11, 30),\n",
       " datetime.date(2021, 12, 31),\n",
       " datetime.date(2022, 1, 31),\n",
       " datetime.date(2022, 2, 28),\n",
       " datetime.date(2022, 3, 31),\n",
       " datetime.date(2022, 4, 30),\n",
       " datetime.date(2021, 4, 30),\n",
       " datetime.date(2021, 5, 31),\n",
       " datetime.date(2021, 6, 30),\n",
       " datetime.date(2021, 7, 31),\n",
       " datetime.date(2021, 8, 31),\n",
       " datetime.date(2021, 9, 30),\n",
       " datetime.date(2021, 10, 31),\n",
       " datetime.date(2021, 11, 30),\n",
       " datetime.date(2021, 12, 31),\n",
       " datetime.date(2022, 1, 31),\n",
       " datetime.date(2022, 2, 28),\n",
       " datetime.date(2022, 3, 31),\n",
       " datetime.date(2021, 4, 30),\n",
       " datetime.date(2021, 5, 31),\n",
       " datetime.date(2021, 6, 30),\n",
       " datetime.date(2021, 7, 31),\n",
       " datetime.date(2021, 8, 31),\n",
       " datetime.date(2021, 9, 30),\n",
       " datetime.date(2021, 10, 31),\n",
       " datetime.date(2021, 11, 30),\n",
       " datetime.date(2021, 12, 31),\n",
       " datetime.date(2022, 1, 31),\n",
       " datetime.date(2022, 2, 28),\n",
       " datetime.date(2022, 3, 31),\n",
       " datetime.date(2022, 4, 30),\n",
       " datetime.date(2021, 1, 31),\n",
       " datetime.date(2021, 4, 30),\n",
       " datetime.date(2021, 5, 31),\n",
       " datetime.date(2021, 6, 30),\n",
       " datetime.date(2021, 7, 31),\n",
       " datetime.date(2021, 8, 31),\n",
       " datetime.date(2021, 9, 30),\n",
       " datetime.date(2021, 10, 31),\n",
       " datetime.date(2021, 11, 30),\n",
       " datetime.date(2021, 12, 31),\n",
       " datetime.date(2022, 1, 31),\n",
       " datetime.date(2022, 2, 28),\n",
       " datetime.date(2022, 3, 31),\n",
       " datetime.date(2022, 4, 30),\n",
       " datetime.date(2021, 4, 30),\n",
       " datetime.date(2021, 5, 31),\n",
       " datetime.date(2021, 6, 30),\n",
       " datetime.date(2021, 7, 31),\n",
       " datetime.date(2021, 8, 31),\n",
       " datetime.date(2021, 9, 30),\n",
       " datetime.date(2021, 10, 31),\n",
       " datetime.date(2021, 11, 30),\n",
       " datetime.date(2021, 12, 31),\n",
       " datetime.date(2022, 1, 31),\n",
       " datetime.date(2022, 2, 28),\n",
       " datetime.date(2022, 3, 31),\n",
       " datetime.date(2022, 4, 30),\n",
       " datetime.date(2021, 4, 30),\n",
       " datetime.date(2021, 5, 31),\n",
       " datetime.date(2021, 6, 30),\n",
       " datetime.date(2021, 7, 31),\n",
       " datetime.date(2021, 8, 31),\n",
       " datetime.date(2021, 9, 30),\n",
       " datetime.date(2021, 10, 31),\n",
       " datetime.date(2021, 11, 30),\n",
       " datetime.date(2021, 12, 31),\n",
       " datetime.date(2022, 1, 31),\n",
       " datetime.date(2022, 2, 28),\n",
       " datetime.date(2022, 3, 31),\n",
       " datetime.date(2022, 4, 30),\n",
       " datetime.date(2022, 6, 30),\n",
       " datetime.date(2021, 4, 30),\n",
       " datetime.date(2021, 5, 31),\n",
       " datetime.date(2021, 6, 30),\n",
       " datetime.date(2021, 7, 31),\n",
       " datetime.date(2021, 8, 31),\n",
       " datetime.date(2021, 9, 30),\n",
       " datetime.date(2021, 10, 31),\n",
       " datetime.date(2021, 11, 30),\n",
       " datetime.date(2021, 12, 31),\n",
       " datetime.date(2022, 1, 31),\n",
       " datetime.date(2022, 2, 28),\n",
       " datetime.date(2022, 3, 31),\n",
       " datetime.date(2022, 4, 30),\n",
       " datetime.date(2021, 1, 31),\n",
       " datetime.date(2021, 3, 31),\n",
       " datetime.date(2021, 4, 30),\n",
       " datetime.date(2021, 5, 31),\n",
       " datetime.date(2021, 6, 30),\n",
       " datetime.date(2021, 7, 31),\n",
       " datetime.date(2021, 8, 31),\n",
       " datetime.date(2021, 9, 30),\n",
       " datetime.date(2021, 10, 31),\n",
       " datetime.date(2021, 11, 30),\n",
       " datetime.date(2021, 12, 31),\n",
       " datetime.date(2022, 1, 31),\n",
       " datetime.date(2022, 2, 28),\n",
       " datetime.date(2022, 3, 31),\n",
       " datetime.date(2022, 4, 30),\n",
       " datetime.date(2021, 4, 30),\n",
       " datetime.date(2021, 5, 31),\n",
       " datetime.date(2021, 6, 30),\n",
       " datetime.date(2021, 7, 31),\n",
       " datetime.date(2021, 8, 31),\n",
       " datetime.date(2021, 9, 30),\n",
       " datetime.date(2021, 10, 31),\n",
       " datetime.date(2021, 11, 30),\n",
       " datetime.date(2021, 12, 31),\n",
       " datetime.date(2022, 1, 31),\n",
       " datetime.date(2022, 2, 28),\n",
       " datetime.date(2022, 3, 31),\n",
       " datetime.date(2022, 4, 30),\n",
       " datetime.date(2021, 4, 30),\n",
       " datetime.date(2021, 5, 31),\n",
       " datetime.date(2021, 6, 30),\n",
       " datetime.date(2021, 7, 31),\n",
       " datetime.date(2021, 8, 31),\n",
       " datetime.date(2021, 9, 30),\n",
       " datetime.date(2021, 10, 31),\n",
       " datetime.date(2021, 11, 30),\n",
       " datetime.date(2021, 12, 31),\n",
       " datetime.date(2022, 1, 31),\n",
       " datetime.date(2022, 2, 28),\n",
       " datetime.date(2022, 3, 31),\n",
       " datetime.date(2022, 4, 30),\n",
       " datetime.date(2021, 4, 30),\n",
       " datetime.date(2021, 5, 31),\n",
       " datetime.date(2021, 6, 30),\n",
       " datetime.date(2021, 7, 31),\n",
       " datetime.date(2021, 8, 31),\n",
       " datetime.date(2021, 9, 30),\n",
       " datetime.date(2021, 10, 31),\n",
       " datetime.date(2021, 11, 30),\n",
       " datetime.date(2021, 12, 31),\n",
       " datetime.date(2022, 1, 31),\n",
       " datetime.date(2022, 2, 28),\n",
       " datetime.date(2022, 3, 31),\n",
       " datetime.date(2022, 4, 30),\n",
       " datetime.date(2021, 3, 31),\n",
       " datetime.date(2021, 4, 30),\n",
       " datetime.date(2021, 5, 31),\n",
       " datetime.date(2021, 6, 30),\n",
       " datetime.date(2021, 7, 31),\n",
       " datetime.date(2021, 8, 31),\n",
       " datetime.date(2021, 9, 30),\n",
       " datetime.date(2021, 10, 31),\n",
       " datetime.date(2021, 11, 30),\n",
       " datetime.date(2021, 12, 31),\n",
       " datetime.date(2022, 1, 31),\n",
       " datetime.date(2022, 2, 28),\n",
       " datetime.date(2022, 3, 31),\n",
       " datetime.date(2022, 4, 30),\n",
       " datetime.date(2021, 4, 30),\n",
       " datetime.date(2021, 5, 31),\n",
       " datetime.date(2021, 6, 30),\n",
       " datetime.date(2021, 7, 31),\n",
       " datetime.date(2021, 8, 31),\n",
       " datetime.date(2021, 9, 30),\n",
       " datetime.date(2021, 10, 31),\n",
       " datetime.date(2021, 11, 30),\n",
       " datetime.date(2021, 12, 31),\n",
       " datetime.date(2022, 1, 31),\n",
       " datetime.date(2022, 2, 28),\n",
       " datetime.date(2022, 3, 31),\n",
       " datetime.date(2022, 4, 30),\n",
       " datetime.date(2021, 1, 31),\n",
       " datetime.date(2021, 4, 30),\n",
       " datetime.date(2021, 5, 31),\n",
       " datetime.date(2021, 6, 30),\n",
       " datetime.date(2021, 7, 31),\n",
       " datetime.date(2021, 10, 31),\n",
       " datetime.date(2021, 4, 30),\n",
       " datetime.date(2021, 5, 31),\n",
       " datetime.date(2021, 6, 30),\n",
       " datetime.date(2021, 7, 31),\n",
       " datetime.date(2021, 8, 31),\n",
       " datetime.date(2021, 9, 30),\n",
       " datetime.date(2021, 10, 31),\n",
       " datetime.date(2021, 11, 30),\n",
       " datetime.date(2021, 12, 31),\n",
       " datetime.date(2022, 1, 31),\n",
       " datetime.date(2022, 2, 28),\n",
       " datetime.date(2022, 3, 31),\n",
       " datetime.date(2022, 4, 30),\n",
       " datetime.date(2021, 4, 30),\n",
       " datetime.date(2021, 5, 31),\n",
       " datetime.date(2021, 6, 30),\n",
       " datetime.date(2021, 7, 31),\n",
       " datetime.date(2021, 4, 30),\n",
       " datetime.date(2021, 5, 31),\n",
       " datetime.date(2021, 6, 30),\n",
       " datetime.date(2021, 7, 31),\n",
       " datetime.date(2021, 8, 31),\n",
       " datetime.date(2021, 9, 30),\n",
       " datetime.date(2021, 10, 31),\n",
       " datetime.date(2021, 11, 30),\n",
       " datetime.date(2021, 12, 31),\n",
       " datetime.date(2022, 1, 31),\n",
       " datetime.date(2022, 2, 28),\n",
       " datetime.date(2022, 3, 31),\n",
       " datetime.date(2022, 4, 30),\n",
       " datetime.date(2021, 4, 30),\n",
       " datetime.date(2021, 5, 31),\n",
       " datetime.date(2021, 6, 30),\n",
       " datetime.date(2021, 7, 31),\n",
       " datetime.date(2021, 8, 31),\n",
       " datetime.date(2021, 9, 30),\n",
       " datetime.date(2021, 10, 31),\n",
       " datetime.date(2021, 11, 30),\n",
       " datetime.date(2021, 12, 31),\n",
       " datetime.date(2022, 1, 31),\n",
       " datetime.date(2022, 2, 28),\n",
       " datetime.date(2022, 3, 31),\n",
       " datetime.date(2022, 4, 30),\n",
       " datetime.date(2021, 4, 30),\n",
       " datetime.date(2021, 5, 31),\n",
       " datetime.date(2021, 6, 30),\n",
       " datetime.date(2021, 7, 31),\n",
       " datetime.date(2021, 8, 31),\n",
       " datetime.date(2021, 9, 30),\n",
       " datetime.date(2021, 10, 31),\n",
       " datetime.date(2021, 11, 30),\n",
       " datetime.date(2021, 12, 31),\n",
       " datetime.date(2022, 1, 31),\n",
       " datetime.date(2022, 2, 28),\n",
       " datetime.date(2022, 3, 31),\n",
       " datetime.date(2022, 4, 30),\n",
       " datetime.date(2021, 4, 30),\n",
       " datetime.date(2021, 5, 31),\n",
       " datetime.date(2021, 6, 30),\n",
       " datetime.date(2021, 7, 31),\n",
       " datetime.date(2021, 8, 31),\n",
       " datetime.date(2021, 9, 30),\n",
       " datetime.date(2021, 10, 31),\n",
       " datetime.date(2021, 11, 30),\n",
       " datetime.date(2021, 12, 31),\n",
       " datetime.date(2022, 1, 31),\n",
       " datetime.date(2022, 2, 28),\n",
       " datetime.date(2022, 3, 31),\n",
       " datetime.date(2022, 4, 30),\n",
       " datetime.date(2022, 5, 31),\n",
       " datetime.date(2021, 4, 30),\n",
       " datetime.date(2021, 5, 31),\n",
       " datetime.date(2021, 6, 30),\n",
       " datetime.date(2021, 7, 31),\n",
       " datetime.date(2021, 8, 31),\n",
       " datetime.date(2021, 9, 30),\n",
       " datetime.date(2021, 10, 31),\n",
       " datetime.date(2021, 11, 30),\n",
       " datetime.date(2021, 12, 31),\n",
       " datetime.date(2022, 1, 31),\n",
       " datetime.date(2022, 2, 28),\n",
       " datetime.date(2022, 3, 31),\n",
       " datetime.date(2022, 4, 30),\n",
       " datetime.date(2021, 4, 30),\n",
       " datetime.date(2021, 5, 31),\n",
       " datetime.date(2021, 6, 30),\n",
       " datetime.date(2021, 7, 31),\n",
       " datetime.date(2021, 8, 31),\n",
       " datetime.date(2021, 9, 30),\n",
       " datetime.date(2021, 10, 31),\n",
       " datetime.date(2021, 11, 30),\n",
       " datetime.date(2021, 12, 31),\n",
       " datetime.date(2022, 1, 31),\n",
       " datetime.date(2022, 2, 28),\n",
       " datetime.date(2022, 3, 31),\n",
       " datetime.date(2022, 4, 30),\n",
       " datetime.date(2022, 6, 30),\n",
       " datetime.date(2021, 4, 30),\n",
       " datetime.date(2021, 5, 31),\n",
       " datetime.date(2021, 6, 30),\n",
       " datetime.date(2021, 7, 31),\n",
       " datetime.date(2021, 8, 31),\n",
       " datetime.date(2021, 9, 30),\n",
       " datetime.date(2021, 10, 31),\n",
       " datetime.date(2021, 11, 30),\n",
       " datetime.date(2021, 12, 31),\n",
       " datetime.date(2022, 1, 31),\n",
       " datetime.date(2022, 2, 28),\n",
       " datetime.date(2022, 3, 31),\n",
       " datetime.date(2022, 4, 30),\n",
       " datetime.date(2021, 4, 30),\n",
       " datetime.date(2021, 5, 31),\n",
       " datetime.date(2021, 6, 30),\n",
       " datetime.date(2021, 7, 31),\n",
       " datetime.date(2021, 9, 30),\n",
       " datetime.date(2021, 10, 31),\n",
       " datetime.date(2021, 11, 30),\n",
       " datetime.date(2021, 12, 31),\n",
       " datetime.date(2022, 1, 31),\n",
       " datetime.date(2022, 2, 28),\n",
       " datetime.date(2022, 3, 31),\n",
       " datetime.date(2022, 4, 30),\n",
       " datetime.date(2021, 4, 30),\n",
       " datetime.date(2021, 5, 31),\n",
       " datetime.date(2021, 6, 30),\n",
       " datetime.date(2021, 7, 31),\n",
       " datetime.date(2021, 8, 31),\n",
       " datetime.date(2021, 9, 30),\n",
       " datetime.date(2021, 10, 31),\n",
       " datetime.date(2021, 11, 30),\n",
       " datetime.date(2021, 12, 31),\n",
       " datetime.date(2022, 1, 31),\n",
       " datetime.date(2022, 2, 28),\n",
       " datetime.date(2022, 3, 31),\n",
       " datetime.date(2022, 4, 30),\n",
       " datetime.date(2021, 4, 30),\n",
       " datetime.date(2021, 5, 31),\n",
       " datetime.date(2021, 6, 30),\n",
       " datetime.date(2021, 7, 31),\n",
       " datetime.date(2021, 8, 31),\n",
       " datetime.date(2021, 9, 30),\n",
       " datetime.date(2021, 10, 31),\n",
       " datetime.date(2021, 11, 30),\n",
       " datetime.date(2021, 12, 31),\n",
       " datetime.date(2022, 1, 31),\n",
       " datetime.date(2022, 2, 28),\n",
       " datetime.date(2022, 3, 31),\n",
       " datetime.date(2022, 4, 30),\n",
       " datetime.date(2021, 3, 31),\n",
       " datetime.date(2021, 4, 30),\n",
       " datetime.date(2021, 5, 31),\n",
       " datetime.date(2021, 6, 30),\n",
       " datetime.date(2021, 7, 31),\n",
       " datetime.date(2021, 8, 31),\n",
       " datetime.date(2021, 9, 30),\n",
       " datetime.date(2021, 10, 31),\n",
       " datetime.date(2021, 12, 31),\n",
       " datetime.date(2022, 1, 31),\n",
       " datetime.date(2022, 2, 28),\n",
       " datetime.date(2022, 3, 31),\n",
       " datetime.date(2022, 4, 30),\n",
       " datetime.date(2021, 3, 31),\n",
       " datetime.date(2021, 4, 30),\n",
       " datetime.date(2021, 5, 31),\n",
       " datetime.date(2021, 6, 30),\n",
       " datetime.date(2021, 7, 31),\n",
       " datetime.date(2021, 8, 31),\n",
       " datetime.date(2021, 9, 30),\n",
       " datetime.date(2021, 10, 31),\n",
       " datetime.date(2021, 4, 30),\n",
       " datetime.date(2021, 5, 31),\n",
       " datetime.date(2021, 6, 30),\n",
       " datetime.date(2021, 7, 31),\n",
       " datetime.date(2021, 8, 31),\n",
       " datetime.date(2021, 2, 28),\n",
       " datetime.date(2021, 3, 31),\n",
       " datetime.date(2021, 4, 30),\n",
       " datetime.date(2021, 5, 31),\n",
       " datetime.date(2021, 6, 30),\n",
       " datetime.date(2021, 7, 31),\n",
       " datetime.date(2021, 8, 31),\n",
       " datetime.date(2021, 9, 30),\n",
       " datetime.date(2021, 10, 31),\n",
       " datetime.date(2021, 11, 30),\n",
       " datetime.date(2021, 12, 31),\n",
       " datetime.date(2022, 1, 31),\n",
       " datetime.date(2022, 2, 28),\n",
       " datetime.date(2022, 3, 31),\n",
       " datetime.date(2022, 4, 30),\n",
       " datetime.date(2021, 4, 30),\n",
       " datetime.date(2021, 5, 31),\n",
       " datetime.date(2021, 6, 30),\n",
       " datetime.date(2021, 7, 31),\n",
       " datetime.date(2021, 8, 31),\n",
       " datetime.date(2021, 9, 30),\n",
       " datetime.date(2021, 10, 31),\n",
       " datetime.date(2021, 11, 30),\n",
       " datetime.date(2021, 12, 31),\n",
       " datetime.date(2022, 1, 31),\n",
       " datetime.date(2022, 2, 28),\n",
       " datetime.date(2021, 2, 28),\n",
       " datetime.date(2021, 4, 30),\n",
       " datetime.date(2021, 5, 31),\n",
       " datetime.date(2021, 6, 30),\n",
       " datetime.date(2021, 7, 31),\n",
       " datetime.date(2021, 9, 30),\n",
       " datetime.date(2021, 3, 31),\n",
       " datetime.date(2021, 4, 30),\n",
       " datetime.date(2021, 5, 31),\n",
       " datetime.date(2021, 6, 30),\n",
       " datetime.date(2021, 7, 31),\n",
       " datetime.date(2021, 8, 31),\n",
       " datetime.date(2021, 9, 30),\n",
       " datetime.date(2021, 10, 31),\n",
       " datetime.date(2021, 11, 30),\n",
       " datetime.date(2021, 12, 31),\n",
       " datetime.date(2022, 1, 31),\n",
       " datetime.date(2022, 2, 28),\n",
       " datetime.date(2022, 3, 31),\n",
       " datetime.date(2022, 4, 30),\n",
       " datetime.date(2021, 1, 31),\n",
       " datetime.date(2021, 3, 31),\n",
       " datetime.date(2021, 4, 30),\n",
       " datetime.date(2021, 5, 31),\n",
       " datetime.date(2021, 6, 30),\n",
       " datetime.date(2021, 7, 31),\n",
       " datetime.date(2021, 8, 31),\n",
       " datetime.date(2021, 9, 30),\n",
       " datetime.date(2021, 10, 31),\n",
       " datetime.date(2021, 11, 30),\n",
       " datetime.date(2021, 12, 31),\n",
       " datetime.date(2022, 1, 31),\n",
       " datetime.date(2022, 2, 28),\n",
       " datetime.date(2022, 3, 31),\n",
       " datetime.date(2022, 4, 30),\n",
       " datetime.date(2022, 5, 31),\n",
       " datetime.date(2022, 10, 31),\n",
       " datetime.date(2022, 11, 30),\n",
       " datetime.date(2021, 2, 28),\n",
       " datetime.date(2021, 4, 30),\n",
       " datetime.date(2021, 5, 31),\n",
       " datetime.date(2021, 6, 30),\n",
       " datetime.date(2021, 7, 31),\n",
       " datetime.date(2021, 8, 31),\n",
       " datetime.date(2021, 9, 30),\n",
       " datetime.date(2021, 10, 31),\n",
       " datetime.date(2021, 11, 30),\n",
       " datetime.date(2021, 12, 31),\n",
       " datetime.date(2022, 1, 31),\n",
       " datetime.date(2021, 3, 31),\n",
       " datetime.date(2021, 4, 30),\n",
       " datetime.date(2021, 5, 31),\n",
       " datetime.date(2021, 6, 30),\n",
       " datetime.date(2021, 7, 31),\n",
       " datetime.date(2021, 8, 31),\n",
       " datetime.date(2021, 9, 30),\n",
       " datetime.date(2021, 10, 31),\n",
       " datetime.date(2021, 11, 30),\n",
       " datetime.date(2021, 12, 31),\n",
       " datetime.date(2022, 1, 31),\n",
       " datetime.date(2022, 2, 28),\n",
       " datetime.date(2022, 3, 31),\n",
       " datetime.date(2022, 4, 30),\n",
       " datetime.date(2021, 1, 31),\n",
       " datetime.date(2021, 4, 30),\n",
       " datetime.date(2021, 5, 31),\n",
       " datetime.date(2021, 6, 30),\n",
       " datetime.date(2021, 7, 31),\n",
       " datetime.date(2021, 8, 31),\n",
       " datetime.date(2021, 9, 30),\n",
       " datetime.date(2021, 10, 31),\n",
       " datetime.date(2021, 11, 30),\n",
       " datetime.date(2021, 12, 31),\n",
       " datetime.date(2022, 1, 31),\n",
       " datetime.date(2022, 2, 28),\n",
       " datetime.date(2022, 3, 31),\n",
       " datetime.date(2022, 4, 30),\n",
       " datetime.date(2022, 6, 30),\n",
       " datetime.date(2021, 3, 31),\n",
       " datetime.date(2021, 4, 30),\n",
       " datetime.date(2021, 5, 31),\n",
       " datetime.date(2021, 6, 30),\n",
       " datetime.date(2021, 7, 31),\n",
       " datetime.date(2021, 8, 31),\n",
       " datetime.date(2021, 9, 30),\n",
       " datetime.date(2021, 10, 31),\n",
       " datetime.date(2021, 1, 31),\n",
       " datetime.date(2021, 4, 30),\n",
       " datetime.date(2021, 5, 31),\n",
       " datetime.date(2021, 6, 30),\n",
       " datetime.date(2021, 7, 31),\n",
       " datetime.date(2021, 8, 31),\n",
       " datetime.date(2021, 9, 30),\n",
       " datetime.date(2021, 10, 31),\n",
       " datetime.date(2021, 11, 30),\n",
       " datetime.date(2021, 12, 31),\n",
       " datetime.date(2022, 1, 31),\n",
       " datetime.date(2022, 2, 28),\n",
       " datetime.date(2022, 3, 31),\n",
       " datetime.date(2022, 4, 30),\n",
       " datetime.date(2021, 4, 30),\n",
       " datetime.date(2021, 5, 31),\n",
       " datetime.date(2021, 6, 30),\n",
       " datetime.date(2021, 7, 31),\n",
       " datetime.date(2021, 8, 31),\n",
       " datetime.date(2021, 9, 30),\n",
       " datetime.date(2021, 10, 31),\n",
       " datetime.date(2021, 11, 30),\n",
       " datetime.date(2021, 12, 31),\n",
       " datetime.date(2022, 1, 31),\n",
       " datetime.date(2022, 2, 28),\n",
       " datetime.date(2022, 3, 31),\n",
       " datetime.date(2022, 5, 31),\n",
       " datetime.date(2022, 6, 30),\n",
       " datetime.date(2021, 5, 31),\n",
       " datetime.date(2021, 6, 30),\n",
       " datetime.date(2021, 7, 31),\n",
       " datetime.date(2021, 8, 31),\n",
       " datetime.date(2021, 9, 30),\n",
       " datetime.date(2021, 10, 31),\n",
       " datetime.date(2021, 11, 30),\n",
       " datetime.date(2021, 12, 31),\n",
       " datetime.date(2022, 1, 31),\n",
       " datetime.date(2022, 2, 28),\n",
       " datetime.date(2022, 3, 31),\n",
       " datetime.date(2022, 4, 30),\n",
       " datetime.date(2022, 5, 31),\n",
       " datetime.date(2021, 2, 28),\n",
       " datetime.date(2021, 3, 31),\n",
       " datetime.date(2021, 4, 30),\n",
       " datetime.date(2021, 5, 31),\n",
       " datetime.date(2021, 6, 30),\n",
       " datetime.date(2021, 7, 31),\n",
       " datetime.date(2021, 8, 31),\n",
       " datetime.date(2021, 9, 30),\n",
       " datetime.date(2021, 10, 31),\n",
       " datetime.date(2021, 11, 30),\n",
       " datetime.date(2021, 12, 31),\n",
       " datetime.date(2022, 1, 31),\n",
       " datetime.date(2022, 2, 28),\n",
       " datetime.date(2022, 3, 31),\n",
       " datetime.date(2022, 4, 30),\n",
       " datetime.date(2021, 4, 30),\n",
       " datetime.date(2021, 5, 31),\n",
       " datetime.date(2021, 6, 30),\n",
       " datetime.date(2021, 7, 31),\n",
       " datetime.date(2021, 8, 31),\n",
       " datetime.date(2021, 9, 30),\n",
       " datetime.date(2021, 10, 31),\n",
       " datetime.date(2021, 11, 30),\n",
       " datetime.date(2021, 12, 31),\n",
       " datetime.date(2022, 1, 31),\n",
       " datetime.date(2022, 2, 28),\n",
       " datetime.date(2022, 3, 31),\n",
       " datetime.date(2022, 4, 30),\n",
       " datetime.date(2021, 4, 30),\n",
       " datetime.date(2021, 5, 31),\n",
       " datetime.date(2021, 6, 30),\n",
       " datetime.date(2021, 7, 31),\n",
       " datetime.date(2021, 8, 31),\n",
       " datetime.date(2021, 9, 30),\n",
       " datetime.date(2021, 10, 31),\n",
       " datetime.date(2021, 11, 30),\n",
       " datetime.date(2021, 12, 31),\n",
       " datetime.date(2022, 1, 31),\n",
       " datetime.date(2022, 2, 28),\n",
       " datetime.date(2022, 3, 31),\n",
       " datetime.date(2022, 4, 30),\n",
       " datetime.date(2021, 4, 30),\n",
       " datetime.date(2021, 5, 31),\n",
       " datetime.date(2021, 6, 30),\n",
       " datetime.date(2021, 7, 31),\n",
       " datetime.date(2021, 8, 31),\n",
       " datetime.date(2021, 9, 30),\n",
       " datetime.date(2021, 10, 31),\n",
       " datetime.date(2021, 11, 30),\n",
       " datetime.date(2021, 12, 31),\n",
       " datetime.date(2022, 1, 31),\n",
       " datetime.date(2022, 2, 28),\n",
       " datetime.date(2022, 3, 31),\n",
       " datetime.date(2022, 4, 30),\n",
       " datetime.date(2021, 2, 28),\n",
       " datetime.date(2021, 3, 31),\n",
       " datetime.date(2021, 4, 30),\n",
       " datetime.date(2021, 5, 31),\n",
       " datetime.date(2021, 6, 30),\n",
       " datetime.date(2021, 7, 31),\n",
       " datetime.date(2021, 8, 31),\n",
       " datetime.date(2021, 9, 30),\n",
       " datetime.date(2021, 10, 31),\n",
       " datetime.date(2021, 11, 30),\n",
       " datetime.date(2021, 12, 31),\n",
       " datetime.date(2022, 1, 31),\n",
       " datetime.date(2022, 2, 28),\n",
       " datetime.date(2022, 3, 31),\n",
       " datetime.date(2022, 4, 30),\n",
       " datetime.date(2021, 4, 30),\n",
       " datetime.date(2021, 5, 31),\n",
       " datetime.date(2021, 6, 30),\n",
       " datetime.date(2021, 7, 31),\n",
       " datetime.date(2021, 8, 31),\n",
       " datetime.date(2021, 9, 30),\n",
       " datetime.date(2021, 10, 31),\n",
       " datetime.date(2021, 11, 30),\n",
       " datetime.date(2021, 12, 31),\n",
       " datetime.date(2022, 1, 31),\n",
       " datetime.date(2022, 2, 28),\n",
       " datetime.date(2022, 3, 31),\n",
       " datetime.date(2022, 4, 30),\n",
       " datetime.date(2021, 4, 30),\n",
       " datetime.date(2021, 5, 31),\n",
       " datetime.date(2021, 6, 30),\n",
       " datetime.date(2021, 7, 31),\n",
       " datetime.date(2021, 8, 31),\n",
       " datetime.date(2021, 9, 30),\n",
       " datetime.date(2021, 10, 31),\n",
       " datetime.date(2021, 11, 30),\n",
       " datetime.date(2021, 12, 31),\n",
       " datetime.date(2022, 1, 31),\n",
       " datetime.date(2022, 2, 28),\n",
       " datetime.date(2022, 3, 31),\n",
       " datetime.date(2022, 4, 30),\n",
       " datetime.date(2022, 5, 31),\n",
       " datetime.date(2021, 4, 30),\n",
       " datetime.date(2021, 5, 31),\n",
       " datetime.date(2021, 6, 30),\n",
       " datetime.date(2021, 7, 31),\n",
       " datetime.date(2021, 8, 31),\n",
       " datetime.date(2021, 9, 30),\n",
       " datetime.date(2021, 10, 31),\n",
       " datetime.date(2021, 11, 30),\n",
       " datetime.date(2021, 12, 31),\n",
       " datetime.date(2022, 2, 28),\n",
       " datetime.date(2022, 4, 30),\n",
       " datetime.date(2021, 3, 31),\n",
       " datetime.date(2021, 4, 30),\n",
       " datetime.date(2021, 5, 31),\n",
       " datetime.date(2021, 6, 30),\n",
       " datetime.date(2021, 7, 31),\n",
       " datetime.date(2021, 8, 31),\n",
       " datetime.date(2021, 9, 30),\n",
       " datetime.date(2021, 10, 31),\n",
       " datetime.date(2021, 11, 30),\n",
       " datetime.date(2021, 12, 31),\n",
       " datetime.date(2022, 1, 31),\n",
       " datetime.date(2022, 2, 28),\n",
       " datetime.date(2022, 3, 31),\n",
       " datetime.date(2022, 4, 30),\n",
       " datetime.date(2021, 4, 30),\n",
       " datetime.date(2021, 5, 31),\n",
       " datetime.date(2021, 6, 30),\n",
       " datetime.date(2021, 7, 31),\n",
       " datetime.date(2021, 8, 31),\n",
       " datetime.date(2021, 9, 30),\n",
       " datetime.date(2021, 1, 31),\n",
       " datetime.date(2021, 3, 31),\n",
       " datetime.date(2021, 4, 30),\n",
       " datetime.date(2021, 5, 31),\n",
       " datetime.date(2021, 6, 30),\n",
       " datetime.date(2021, 7, 31),\n",
       " datetime.date(2021, 8, 31),\n",
       " datetime.date(2021, 9, 30),\n",
       " datetime.date(2021, 10, 31),\n",
       " datetime.date(2021, 11, 30),\n",
       " datetime.date(2021, 12, 31),\n",
       " datetime.date(2022, 1, 31),\n",
       " datetime.date(2022, 2, 28),\n",
       " datetime.date(2022, 3, 31),\n",
       " datetime.date(2022, 4, 30),\n",
       " datetime.date(2022, 10, 31),\n",
       " datetime.date(2021, 4, 30),\n",
       " datetime.date(2021, 5, 31),\n",
       " datetime.date(2021, 6, 30),\n",
       " datetime.date(2021, 7, 31),\n",
       " datetime.date(2021, 8, 31),\n",
       " datetime.date(2021, 9, 30),\n",
       " datetime.date(2021, 10, 31),\n",
       " datetime.date(2021, 11, 30),\n",
       " datetime.date(2021, 12, 31),\n",
       " datetime.date(2022, 1, 31),\n",
       " datetime.date(2022, 2, 28),\n",
       " datetime.date(2022, 3, 31),\n",
       " datetime.date(2022, 4, 30),\n",
       " datetime.date(2021, 4, 30),\n",
       " datetime.date(2021, 5, 31),\n",
       " datetime.date(2021, 6, 30),\n",
       " datetime.date(2021, 7, 31),\n",
       " datetime.date(2021, 8, 31),\n",
       " datetime.date(2021, 9, 30),\n",
       " datetime.date(2021, 10, 31),\n",
       " datetime.date(2021, 11, 30),\n",
       " datetime.date(2021, 12, 31),\n",
       " datetime.date(2022, 1, 31),\n",
       " datetime.date(2022, 2, 28),\n",
       " datetime.date(2022, 3, 31),\n",
       " datetime.date(2022, 4, 30),\n",
       " datetime.date(2021, 4, 30),\n",
       " datetime.date(2021, 5, 31),\n",
       " datetime.date(2021, 6, 30),\n",
       " datetime.date(2021, 7, 31),\n",
       " datetime.date(2021, 8, 31),\n",
       " datetime.date(2021, 9, 30),\n",
       " datetime.date(2021, 10, 31),\n",
       " datetime.date(2021, 11, 30),\n",
       " datetime.date(2021, 12, 31),\n",
       " datetime.date(2022, 1, 31),\n",
       " datetime.date(2022, 2, 28),\n",
       " datetime.date(2021, 3, 31),\n",
       " datetime.date(2021, 4, 30),\n",
       " datetime.date(2021, 5, 31),\n",
       " datetime.date(2021, 6, 30),\n",
       " datetime.date(2021, 7, 31),\n",
       " datetime.date(2021, 8, 31),\n",
       " datetime.date(2021, 9, 30),\n",
       " datetime.date(2021, 10, 31),\n",
       " datetime.date(2021, 11, 30),\n",
       " datetime.date(2021, 12, 31),\n",
       " datetime.date(2022, 1, 31),\n",
       " datetime.date(2022, 2, 28),\n",
       " datetime.date(2022, 3, 31),\n",
       " datetime.date(2022, 4, 30),\n",
       " datetime.date(2022, 5, 31),\n",
       " datetime.date(2021, 1, 31),\n",
       " datetime.date(2021, 3, 31),\n",
       " datetime.date(2021, 4, 30),\n",
       " datetime.date(2021, 4, 30),\n",
       " datetime.date(2021, 5, 31),\n",
       " datetime.date(2021, 6, 30),\n",
       " datetime.date(2021, 7, 31),\n",
       " datetime.date(2021, 8, 31),\n",
       " datetime.date(2021, 9, 30),\n",
       " datetime.date(2021, 10, 31),\n",
       " datetime.date(2021, 11, 30),\n",
       " datetime.date(2021, 12, 31),\n",
       " datetime.date(2022, 1, 31),\n",
       " datetime.date(2022, 2, 28),\n",
       " datetime.date(2022, 3, 31),\n",
       " datetime.date(2022, 4, 30),\n",
       " datetime.date(2021, 4, 30),\n",
       " datetime.date(2021, 5, 31),\n",
       " datetime.date(2021, 6, 30),\n",
       " datetime.date(2021, 1, 31),\n",
       " datetime.date(2021, 4, 30),\n",
       " datetime.date(2021, 5, 31),\n",
       " datetime.date(2021, 6, 30),\n",
       " datetime.date(2021, 7, 31),\n",
       " datetime.date(2021, 8, 31),\n",
       " datetime.date(2021, 9, 30),\n",
       " datetime.date(2021, 10, 31),\n",
       " datetime.date(2021, 11, 30),\n",
       " datetime.date(2021, 12, 31),\n",
       " datetime.date(2022, 1, 31),\n",
       " datetime.date(2022, 2, 28),\n",
       " datetime.date(2022, 3, 31),\n",
       " datetime.date(2022, 4, 30),\n",
       " datetime.date(2021, 4, 30),\n",
       " datetime.date(2021, 5, 31),\n",
       " datetime.date(2021, 6, 30),\n",
       " datetime.date(2021, 7, 31),\n",
       " datetime.date(2021, 8, 31),\n",
       " datetime.date(2021, 9, 30),\n",
       " datetime.date(2021, 10, 31),\n",
       " datetime.date(2021, 11, 30),\n",
       " datetime.date(2021, 12, 31),\n",
       " datetime.date(2022, 1, 31),\n",
       " datetime.date(2022, 2, 28),\n",
       " datetime.date(2022, 3, 31),\n",
       " datetime.date(2022, 4, 30),\n",
       " datetime.date(2021, 4, 30),\n",
       " datetime.date(2021, 5, 31),\n",
       " datetime.date(2021, 6, 30),\n",
       " datetime.date(2021, 7, 31),\n",
       " datetime.date(2021, 8, 31),\n",
       " datetime.date(2021, 9, 30),\n",
       " datetime.date(2021, 1, 31),\n",
       " datetime.date(2021, 4, 30),\n",
       " datetime.date(2021, 5, 31),\n",
       " datetime.date(2021, 6, 30),\n",
       " datetime.date(2021, 7, 31),\n",
       " datetime.date(2021, 8, 31),\n",
       " datetime.date(2021, 9, 30),\n",
       " datetime.date(2021, 10, 31),\n",
       " datetime.date(2021, 11, 30),\n",
       " datetime.date(2021, 12, 31),\n",
       " datetime.date(2022, 1, 31),\n",
       " datetime.date(2022, 2, 28),\n",
       " datetime.date(2022, 3, 31),\n",
       " datetime.date(2022, 4, 30),\n",
       " datetime.date(2021, 1, 31),\n",
       " datetime.date(2021, 4, 30),\n",
       " datetime.date(2021, 5, 31),\n",
       " datetime.date(2021, 6, 30),\n",
       " datetime.date(2021, 7, 31),\n",
       " datetime.date(2021, 8, 31),\n",
       " datetime.date(2021, 9, 30),\n",
       " datetime.date(2021, 10, 31),\n",
       " datetime.date(2021, 11, 30),\n",
       " datetime.date(2021, 12, 31),\n",
       " datetime.date(2022, 1, 31),\n",
       " datetime.date(2022, 2, 28),\n",
       " datetime.date(2022, 3, 31),\n",
       " datetime.date(2022, 4, 30),\n",
       " datetime.date(2021, 4, 30),\n",
       " datetime.date(2021, 5, 31),\n",
       " datetime.date(2021, 6, 30),\n",
       " datetime.date(2021, 7, 31),\n",
       " datetime.date(2021, 8, 31),\n",
       " datetime.date(2021, 9, 30),\n",
       " datetime.date(2021, 10, 31),\n",
       " datetime.date(2021, 11, 30),\n",
       " datetime.date(2021, 12, 31),\n",
       " datetime.date(2022, 1, 31),\n",
       " datetime.date(2022, 2, 28),\n",
       " datetime.date(2021, 4, 30),\n",
       " datetime.date(2021, 5, 31),\n",
       " datetime.date(2021, 6, 30),\n",
       " datetime.date(2021, 9, 30),\n",
       " datetime.date(2021, 10, 31),\n",
       " datetime.date(2021, 11, 30),\n",
       " datetime.date(2021, 12, 31),\n",
       " datetime.date(2022, 1, 31),\n",
       " datetime.date(2022, 2, 28),\n",
       " datetime.date(2022, 3, 31),\n",
       " datetime.date(2022, 4, 30),\n",
       " datetime.date(2022, 5, 31),\n",
       " datetime.date(2022, 6, 30),\n",
       " datetime.date(2022, 7, 31),\n",
       " datetime.date(2022, 8, 31),\n",
       " datetime.date(2022, 9, 30),\n",
       " datetime.date(2022, 11, 30),\n",
       " datetime.date(2022, 12, 31),\n",
       " datetime.date(2021, 4, 30),\n",
       " datetime.date(2021, 5, 31),\n",
       " datetime.date(2021, 6, 30),\n",
       " datetime.date(2021, 7, 31),\n",
       " datetime.date(2021, 8, 31),\n",
       " datetime.date(2021, 9, 30),\n",
       " datetime.date(2021, 10, 31),\n",
       " ...]"
      ]
     },
     "execution_count": 70,
     "metadata": {},
     "output_type": "execute_result"
    }
   ],
   "source": [
    "date_formated"
   ]
  },
  {
   "cell_type": "code",
   "execution_count": 71,
   "metadata": {},
   "outputs": [],
   "source": [
    "monthly_cash_data['date'] = date_formated"
   ]
  },
  {
   "cell_type": "code",
   "execution_count": 72,
   "metadata": {},
   "outputs": [],
   "source": [
    "credit_scoring_survey = pd.read_excel('lift_data\\credit scoring survey.xlsx')"
   ]
  },
  {
   "cell_type": "code",
   "execution_count": 73,
   "metadata": {},
   "outputs": [],
   "source": [
    "demographic_data = pd.read_excel(r'lift_data\\Income Report - Mon Feb 13 2023.xlsx', sheet_name='Demographics')"
   ]
  },
  {
   "cell_type": "code",
   "execution_count": 74,
   "metadata": {},
   "outputs": [
    {
     "data": {
      "text/html": [
       "<div>\n",
       "<style scoped>\n",
       "    .dataframe tbody tr th:only-of-type {\n",
       "        vertical-align: middle;\n",
       "    }\n",
       "\n",
       "    .dataframe tbody tr th {\n",
       "        vertical-align: top;\n",
       "    }\n",
       "\n",
       "    .dataframe thead th {\n",
       "        text-align: right;\n",
       "    }\n",
       "</style>\n",
       "<table border=\"1\" class=\"dataframe\">\n",
       "  <thead>\n",
       "    <tr style=\"text-align: right;\">\n",
       "      <th></th>\n",
       "      <th>Respondent ID</th>\n",
       "      <th>Gender</th>\n",
       "      <th>Age</th>\n",
       "      <th>Number of children</th>\n",
       "      <th>Marital Status</th>\n",
       "      <th>Country of Residence</th>\n",
       "      <th>Citizenship</th>\n",
       "      <th>Firm ID</th>\n",
       "      <th>Sector type</th>\n",
       "      <th>Date firm established</th>\n",
       "      <th>Age of Firm</th>\n",
       "      <th>Number of Owners</th>\n",
       "      <th>Owner/s Gender</th>\n",
       "      <th>Number of Employees</th>\n",
       "      <th>Industry</th>\n",
       "      <th>Location in the Country</th>\n",
       "      <th>Activation Date</th>\n",
       "    </tr>\n",
       "  </thead>\n",
       "  <tbody>\n",
       "    <tr>\n",
       "      <th>0</th>\n",
       "      <td>4425</td>\n",
       "      <td>Male</td>\n",
       "      <td>35</td>\n",
       "      <td>3</td>\n",
       "      <td>Married</td>\n",
       "      <td>Ethiopia</td>\n",
       "      <td>Ethiopia</td>\n",
       "      <td>DD-ET-1930</td>\n",
       "      <td>AD</td>\n",
       "      <td>10/ 30/2016</td>\n",
       "      <td>7 - 10 years</td>\n",
       "      <td>1</td>\n",
       "      <td>All men</td>\n",
       "      <td>4</td>\n",
       "      <td>Other</td>\n",
       "      <td>Diredawa</td>\n",
       "      <td>2021-03-29</td>\n",
       "    </tr>\n",
       "    <tr>\n",
       "      <th>1</th>\n",
       "      <td>4429</td>\n",
       "      <td>Male</td>\n",
       "      <td>32</td>\n",
       "      <td>0</td>\n",
       "      <td>Single</td>\n",
       "      <td>Ethiopia</td>\n",
       "      <td>Ethiopia</td>\n",
       "      <td>AA-KG-SA-1376</td>\n",
       "      <td>EE-01</td>\n",
       "      <td>dd/03/2015</td>\n",
       "      <td>5 - 6 years</td>\n",
       "      <td>2</td>\n",
       "      <td>All men</td>\n",
       "      <td>18</td>\n",
       "      <td>Light Manu</td>\n",
       "      <td>Addis Ababa</td>\n",
       "      <td>2021-03-29</td>\n",
       "    </tr>\n",
       "    <tr>\n",
       "      <th>2</th>\n",
       "      <td>4431</td>\n",
       "      <td>Male</td>\n",
       "      <td>27</td>\n",
       "      <td>0</td>\n",
       "      <td>Single</td>\n",
       "      <td>Ethiopia</td>\n",
       "      <td>Ethiopia</td>\n",
       "      <td>AA-KG-SA-1495</td>\n",
       "      <td>Garment production</td>\n",
       "      <td>2018/03/22</td>\n",
       "      <td>2 years</td>\n",
       "      <td>4 or more</td>\n",
       "      <td>Both men and women</td>\n",
       "      <td>25</td>\n",
       "      <td>Light Manu</td>\n",
       "      <td>Addis Ababa</td>\n",
       "      <td>2021-03-29</td>\n",
       "    </tr>\n",
       "    <tr>\n",
       "      <th>3</th>\n",
       "      <td>4432</td>\n",
       "      <td>Male</td>\n",
       "      <td>32</td>\n",
       "      <td>2</td>\n",
       "      <td>Married</td>\n",
       "      <td>Ethiopia</td>\n",
       "      <td>Ethiopia</td>\n",
       "      <td>DD-ET-2194</td>\n",
       "      <td>U-03</td>\n",
       "      <td>0</td>\n",
       "      <td>5 - 6 years</td>\n",
       "      <td>1</td>\n",
       "      <td>All men</td>\n",
       "      <td>5</td>\n",
       "      <td>Other</td>\n",
       "      <td>Diredawa</td>\n",
       "      <td>2021-03-29</td>\n",
       "    </tr>\n",
       "    <tr>\n",
       "      <th>4</th>\n",
       "      <td>4433</td>\n",
       "      <td>Female</td>\n",
       "      <td>61</td>\n",
       "      <td>1</td>\n",
       "      <td>Widowed</td>\n",
       "      <td>Ethiopia</td>\n",
       "      <td>Ethiopia</td>\n",
       "      <td>HR-DE-2171</td>\n",
       "      <td>X</td>\n",
       "      <td>08/07/2017</td>\n",
       "      <td>3 - 4 years</td>\n",
       "      <td>3</td>\n",
       "      <td>Both men and women</td>\n",
       "      <td>12</td>\n",
       "      <td>Other</td>\n",
       "      <td>Harar</td>\n",
       "      <td>2021-03-29</td>\n",
       "    </tr>\n",
       "  </tbody>\n",
       "</table>\n",
       "</div>"
      ],
      "text/plain": [
       "   Respondent ID  Gender  Age  Number of children Marital Status  \\\n",
       "0           4425    Male   35                   3        Married   \n",
       "1           4429    Male   32                   0         Single   \n",
       "2           4431    Male   27                   0         Single   \n",
       "3           4432    Male   32                   2        Married   \n",
       "4           4433  Female   61                   1        Widowed   \n",
       "\n",
       "  Country of Residence Citizenship        Firm ID         Sector type  \\\n",
       "0             Ethiopia    Ethiopia     DD-ET-1930                  AD   \n",
       "1             Ethiopia    Ethiopia  AA-KG-SA-1376               EE-01   \n",
       "2             Ethiopia    Ethiopia  AA-KG-SA-1495  Garment production   \n",
       "3             Ethiopia    Ethiopia     DD-ET-2194                U-03   \n",
       "4             Ethiopia    Ethiopia     HR-DE-2171                   X   \n",
       "\n",
       "  Date firm established   Age of Firm Number of Owners      Owner/s Gender  \\\n",
       "0           10/ 30/2016  7 - 10 years                1             All men   \n",
       "1            dd/03/2015   5 - 6 years                2             All men   \n",
       "2            2018/03/22       2 years        4 or more  Both men and women   \n",
       "3                     0   5 - 6 years                1             All men   \n",
       "4            08/07/2017   3 - 4 years                3  Both men and women   \n",
       "\n",
       "   Number of Employees    Industry Location in the Country Activation Date  \n",
       "0                    4       Other                Diredawa      2021-03-29  \n",
       "1                   18  Light Manu             Addis Ababa      2021-03-29  \n",
       "2                   25  Light Manu             Addis Ababa      2021-03-29  \n",
       "3                    5       Other                Diredawa      2021-03-29  \n",
       "4                   12       Other                   Harar      2021-03-29  "
      ]
     },
     "execution_count": 74,
     "metadata": {},
     "output_type": "execute_result"
    }
   ],
   "source": [
    "demographic_data.head()"
   ]
  },
  {
   "cell_type": "code",
   "execution_count": 75,
   "metadata": {},
   "outputs": [
    {
     "data": {
      "text/html": [
       "<div>\n",
       "<style scoped>\n",
       "    .dataframe tbody tr th:only-of-type {\n",
       "        vertical-align: middle;\n",
       "    }\n",
       "\n",
       "    .dataframe tbody tr th {\n",
       "        vertical-align: top;\n",
       "    }\n",
       "\n",
       "    .dataframe thead th {\n",
       "        text-align: right;\n",
       "    }\n",
       "</style>\n",
       "<table border=\"1\" class=\"dataframe\">\n",
       "  <thead>\n",
       "    <tr style=\"text-align: right;\">\n",
       "      <th></th>\n",
       "      <th>Respondent ID</th>\n",
       "      <th>Firm ID</th>\n",
       "    </tr>\n",
       "  </thead>\n",
       "  <tbody>\n",
       "    <tr>\n",
       "      <th>0</th>\n",
       "      <td>4425</td>\n",
       "      <td>DD-ET-1930</td>\n",
       "    </tr>\n",
       "    <tr>\n",
       "      <th>1</th>\n",
       "      <td>4429</td>\n",
       "      <td>AA-KG-SA-1376</td>\n",
       "    </tr>\n",
       "    <tr>\n",
       "      <th>2</th>\n",
       "      <td>4431</td>\n",
       "      <td>AA-KG-SA-1495</td>\n",
       "    </tr>\n",
       "    <tr>\n",
       "      <th>3</th>\n",
       "      <td>4432</td>\n",
       "      <td>DD-ET-2194</td>\n",
       "    </tr>\n",
       "    <tr>\n",
       "      <th>4</th>\n",
       "      <td>4433</td>\n",
       "      <td>HR-DE-2171</td>\n",
       "    </tr>\n",
       "    <tr>\n",
       "      <th>...</th>\n",
       "      <td>...</td>\n",
       "      <td>...</td>\n",
       "    </tr>\n",
       "    <tr>\n",
       "      <th>154</th>\n",
       "      <td>4864</td>\n",
       "      <td>AD-SO-KE-1646</td>\n",
       "    </tr>\n",
       "    <tr>\n",
       "      <th>155</th>\n",
       "      <td>5045</td>\n",
       "      <td>AA-KE-SA-1360</td>\n",
       "    </tr>\n",
       "    <tr>\n",
       "      <th>156</th>\n",
       "      <td>5104</td>\n",
       "      <td>AA-BA-HE-1111</td>\n",
       "    </tr>\n",
       "    <tr>\n",
       "      <th>157</th>\n",
       "      <td>5127</td>\n",
       "      <td>AA-KS-NA-1132</td>\n",
       "    </tr>\n",
       "    <tr>\n",
       "      <th>158</th>\n",
       "      <td>5883</td>\n",
       "      <td>AA-YA-WN-2222</td>\n",
       "    </tr>\n",
       "  </tbody>\n",
       "</table>\n",
       "<p>159 rows × 2 columns</p>\n",
       "</div>"
      ],
      "text/plain": [
       "     Respondent ID        Firm ID\n",
       "0             4425     DD-ET-1930\n",
       "1             4429  AA-KG-SA-1376\n",
       "2             4431  AA-KG-SA-1495\n",
       "3             4432     DD-ET-2194\n",
       "4             4433     HR-DE-2171\n",
       "..             ...            ...\n",
       "154           4864  AD-SO-KE-1646\n",
       "155           5045  AA-KE-SA-1360\n",
       "156           5104  AA-BA-HE-1111\n",
       "157           5127  AA-KS-NA-1132\n",
       "158           5883  AA-YA-WN-2222\n",
       "\n",
       "[159 rows x 2 columns]"
      ]
     },
     "execution_count": 75,
     "metadata": {},
     "output_type": "execute_result"
    }
   ],
   "source": [
    "demographic_data[['Respondent ID', 'Firm ID']]"
   ]
  },
  {
   "cell_type": "code",
   "execution_count": 76,
   "metadata": {},
   "outputs": [
    {
     "data": {
      "text/plain": [
       "{4425: 'DD-ET-1930',\n",
       " 4429: 'AA-KG-SA-1376',\n",
       " 4431: 'AA-KG-SA-1495',\n",
       " 4432: 'DD-ET-2194',\n",
       " 4433: 'HR-DE-2171',\n",
       " 4435: 'AA-KS-NA-1603',\n",
       " 4436: 'DD-ET-1918',\n",
       " 4437: 'AD-CW-CH-2195',\n",
       " 4438: 'AA-KS-NA-1069',\n",
       " 4440: 'AA-KG-SA-1317',\n",
       " 4442: 'AA-ME-HI-1013',\n",
       " 4443: 'AA-KS-NA-1561',\n",
       " 4444: 'AA-KS-NA-1383',\n",
       " 4445: 'AD-NO-TI-1757',\n",
       " 4446: 'AA-ME-HI-1600',\n",
       " 4448: 'HR-AL-2090',\n",
       " 4450: 'HR-DE-2128',\n",
       " 4451: 'AD-CN-KE-1684',\n",
       " 4452: 'HR-DE-2127',\n",
       " 4453: 'HR-AL-2007',\n",
       " 4456: 'AD-CW-CH-1817',\n",
       " 4457: 'AD-CN-KE-1878',\n",
       " 4458: 'AA-FE-HI-2227',\n",
       " 4459: 'HR-DE-2123',\n",
       " 4460: 'AD-CN-KE-1877',\n",
       " 4462: 'DD-ET-1949',\n",
       " 4463: 'AA-FE-ED-1009',\n",
       " 4464: 'AA-FE-HI-1051',\n",
       " 4465: 'HR-AL-2115',\n",
       " 4466: 'AD-CE-TI-2190',\n",
       " 4467: 'HR-AL-2107',\n",
       " 4468: 'AD-CE-TI-2234',\n",
       " 4469: 'HR-AL-2169',\n",
       " 4470: 'AA-KG-SA-1315',\n",
       " 4471: 'AA-KG-SA-1020',\n",
       " 4472: 'HR-AL-2132',\n",
       " 4473: 'AA-KG-SA-1343',\n",
       " 4474: 'AA-KG-SA-1336',\n",
       " 4475: 'AA-KG-SA-1312',\n",
       " 4477: 'AA-KG-SA-1342',\n",
       " 4478: 'HR-AL-2135',\n",
       " 4480: 'DD-ET-1967',\n",
       " 4481: 'AA-KG-SA-1068',\n",
       " 4482: 'HR-DE-2001',\n",
       " 4483: 'AD-CE-TI-1815',\n",
       " 4484: 'AA-KC-ED-1515',\n",
       " 4485: 'AA-KE-SA-1056',\n",
       " 4487: 'AA-KS-NA-1467',\n",
       " 4490: 'AA-KS-NA-1086',\n",
       " 4491: 'AA-KS-NA-1551',\n",
       " 4493: 'AA-KS-NA-1368',\n",
       " 4494: 'AD-SO-KE-2222',\n",
       " 4495: 'AA-ME-HI-1185',\n",
       " 4496: 'AD-CN-KE-1804',\n",
       " 4499: 'DD-ET-2246',\n",
       " 4500: 'HR-AL-2059',\n",
       " 4501: 'AD-SO-CH-2207',\n",
       " 4502: 'AD-CN-KE-1811',\n",
       " 4503: 'AA-KE-HI-1280',\n",
       " 4506: 'AA-ME-HI-1598',\n",
       " 4507: 'AA-ME-HI-1159',\n",
       " 4508: 'AD-WE-CH-1858',\n",
       " 4509: 'AD-SO-CH-2210',\n",
       " 4510: 'AA-SC-ET-1611',\n",
       " 4511: 'AA-KG-SA-1083',\n",
       " 4513: 'AA-SC-ET-1486',\n",
       " 4517: 'AA-KS-NA-2410',\n",
       " 4518: 'AA-KG-SA-1012',\n",
       " 4520: 'HR-AL-2045',\n",
       " 4521: 'AA-SC-ET-1476',\n",
       " 4522: 'AA-YA-ET-2415',\n",
       " 4523: 'AA-ME-HI-1198',\n",
       " 4526: 'AD-CE-TI-1870',\n",
       " 4527: 'HR-DE-1995',\n",
       " 4528: 'AA-KS-NA-1552',\n",
       " 4529: 'AA-SC-ET-1410',\n",
       " 4530: 'DD-ET-1959',\n",
       " 4531: 'AA-SC-ET-1496',\n",
       " 4533: 'AA-KE-ED-1005',\n",
       " 4534: 'AA-KE-NA-1615',\n",
       " 4535: 'AA-SC-ET-1463',\n",
       " 4536: 'DD-ET-1956',\n",
       " 4537: 'DD-ET-1957',\n",
       " 4538: 'HR-AL-2157',\n",
       " 4539: 'AD-MO-TI-1862',\n",
       " 4541: 'AD-MO-KE-2183',\n",
       " 4544: 'DD-ET-1947',\n",
       " 4568: 'AD-WE-CH-1859',\n",
       " 4569: 'AA-KE-ED-1065',\n",
       " 4570: 'AD-CW-CH-1778',\n",
       " 4572: 'AD-WE-KE-1710',\n",
       " 4574: 'AA-KG-SA-1059',\n",
       " 4575: 'AA-KC-ED-1595',\n",
       " 4577: 'AA-KC-ED-1475',\n",
       " 4578: 'AA-ME-HI-1262',\n",
       " 4579: 'AA-ME-HI-1466',\n",
       " 4580: 'AA-YA-ET-2414',\n",
       " 4583: 'AD-CE-TI-1663',\n",
       " 4584: 'HR-AL-2151',\n",
       " 4608: 'DD-ET-1960',\n",
       " 4618: 'AA-KE-SA-1023',\n",
       " 4622: 'AA-FE-ED-1050',\n",
       " 4623: 'AD-CN-CH-1683',\n",
       " 4624: 'AA-JS-SA-1282',\n",
       " 4625: 'AA-SC-ET-1519',\n",
       " 4627: 'AA-FE-HI-1154',\n",
       " 4629: 'HR-DE-2244',\n",
       " 4630: 'HR-AL-2143',\n",
       " 4632: 'HR-DE-2080',\n",
       " 4634: 'AD-CE-TI-1719',\n",
       " 4635: 'DD-ET-1951',\n",
       " 4636: 'AD-CE-TI-1874',\n",
       " 4638: 'HR-DE-2021',\n",
       " 4661: 'DD-ET-1920',\n",
       " 4668: 'HR-AL-2174',\n",
       " 4670: 'AA-ME-HI-1454',\n",
       " 4672: 'HR-AL-2075',\n",
       " 4676: 'DD-ET-2332',\n",
       " 4678: 'AD-CW-CH-1905',\n",
       " 4714: 'AA-KE-HI-1283',\n",
       " 4716: 'AA-KE-ED-1025',\n",
       " 4720: 'AA-KG-SA-1087',\n",
       " 4722: 'AD-NO-TI-1873',\n",
       " 4723: 'AD-NO-TI-1800',\n",
       " 4724: 'AD-CW-CH-1666',\n",
       " 4727: 'HR-AL-2035',\n",
       " 4732: 'AA-KS-NA-1382',\n",
       " 4735: 'AA-KC-ED-2385',\n",
       " 4737: 'AA-KC-ED-1592',\n",
       " 4738: 'AA-SC-ET-1631',\n",
       " 4743: 'HR-DE-1996',\n",
       " 4744: 'AA-KE-HI-2311',\n",
       " 4745: 'AA-SC-ET-1497',\n",
       " 4748: 'AD-WE-KE-1827',\n",
       " 4759: 'AA-KE-SA-1331',\n",
       " 4761: 'AA-KE-SA-1043',\n",
       " 4762: 'AD-NO-TI-1798',\n",
       " 4764: 'AA-KE-NA-1373',\n",
       " 4767: 'HR-DE-2014',\n",
       " 4785: 'HR-DE-2122',\n",
       " 4788: 'AD-CN-KE-1790',\n",
       " 4789: 'AA-KE-ED-1593',\n",
       " 4790: 'AD-CW-CH-1633',\n",
       " 4791: 'AD-CW-CH-1766',\n",
       " 4793: 'AD-AW-AM-0000',\n",
       " 4794: 'AD-CN-KE-1812',\n",
       " 4797: 'DD-ET-1948',\n",
       " 4798: 'AD-CW-CH-1765',\n",
       " 4816: 'AD-CN-KE-1686',\n",
       " 4817: 'AD-CW-CH-1904',\n",
       " 4819: 'AA-KE-HI-1568',\n",
       " 4820: 'AA-KG-SA-1047',\n",
       " 4822: 'AA-KE-ED-1036',\n",
       " 4862: 'AD-WE-KE-1832',\n",
       " 4864: 'AD-SO-KE-1646',\n",
       " 5045: 'AA-KE-SA-1360',\n",
       " 5104: 'AA-BA-HE-1111',\n",
       " 5127: 'AA-KS-NA-1132',\n",
       " 5883: 'AA-YA-WN-2222'}"
      ]
     },
     "execution_count": 76,
     "metadata": {},
     "output_type": "execute_result"
    }
   ],
   "source": [
    "res_id_firm_id_map = dict()\n",
    "for i, row in demographic_data[['Respondent ID', 'Firm ID']].iterrows():\n",
    "    res_id = row['Respondent ID']\n",
    "    firm_id = row['Firm ID']\n",
    "\n",
    "    res_id_firm_id_map[res_id] = firm_id\n",
    "\n",
    "res_id_firm_id_map"
   ]
  },
  {
   "cell_type": "code",
   "execution_count": 77,
   "metadata": {},
   "outputs": [],
   "source": [
    "monthly_cash_data['Firm ID'] = monthly_cash_data['Respodent'].apply(lambda x: res_id_firm_id_map[x])"
   ]
  },
  {
   "cell_type": "code",
   "execution_count": 78,
   "metadata": {},
   "outputs": [
    {
     "data": {
      "text/html": [
       "<div>\n",
       "<style scoped>\n",
       "    .dataframe tbody tr th:only-of-type {\n",
       "        vertical-align: middle;\n",
       "    }\n",
       "\n",
       "    .dataframe tbody tr th {\n",
       "        vertical-align: top;\n",
       "    }\n",
       "\n",
       "    .dataframe thead th {\n",
       "        text-align: right;\n",
       "    }\n",
       "</style>\n",
       "<table border=\"1\" class=\"dataframe\">\n",
       "  <thead>\n",
       "    <tr style=\"text-align: right;\">\n",
       "      <th></th>\n",
       "      <th>Respodent</th>\n",
       "      <th>Year</th>\n",
       "      <th>Month</th>\n",
       "      <th>Cash</th>\n",
       "      <th>Cash Change</th>\n",
       "      <th>date</th>\n",
       "      <th>Firm ID</th>\n",
       "    </tr>\n",
       "  </thead>\n",
       "  <tbody>\n",
       "    <tr>\n",
       "      <th>0</th>\n",
       "      <td>4425.0</td>\n",
       "      <td>2021</td>\n",
       "      <td>2</td>\n",
       "      <td>-200000.0</td>\n",
       "      <td>0.0</td>\n",
       "      <td>2021-02-28</td>\n",
       "      <td>DD-ET-1930</td>\n",
       "    </tr>\n",
       "    <tr>\n",
       "      <th>1</th>\n",
       "      <td>4425.0</td>\n",
       "      <td>2021</td>\n",
       "      <td>3</td>\n",
       "      <td>-200000.0</td>\n",
       "      <td>0.0</td>\n",
       "      <td>2021-03-31</td>\n",
       "      <td>DD-ET-1930</td>\n",
       "    </tr>\n",
       "    <tr>\n",
       "      <th>2</th>\n",
       "      <td>4425.0</td>\n",
       "      <td>2021</td>\n",
       "      <td>4</td>\n",
       "      <td>-193281.0</td>\n",
       "      <td>6719.0</td>\n",
       "      <td>2021-04-30</td>\n",
       "      <td>DD-ET-1930</td>\n",
       "    </tr>\n",
       "    <tr>\n",
       "      <th>3</th>\n",
       "      <td>4425.0</td>\n",
       "      <td>2021</td>\n",
       "      <td>5</td>\n",
       "      <td>-193177.0</td>\n",
       "      <td>104.0</td>\n",
       "      <td>2021-05-31</td>\n",
       "      <td>DD-ET-1930</td>\n",
       "    </tr>\n",
       "    <tr>\n",
       "      <th>4</th>\n",
       "      <td>4425.0</td>\n",
       "      <td>2021</td>\n",
       "      <td>6</td>\n",
       "      <td>-126689.0</td>\n",
       "      <td>66488.0</td>\n",
       "      <td>2021-06-30</td>\n",
       "      <td>DD-ET-1930</td>\n",
       "    </tr>\n",
       "    <tr>\n",
       "      <th>...</th>\n",
       "      <td>...</td>\n",
       "      <td>...</td>\n",
       "      <td>...</td>\n",
       "      <td>...</td>\n",
       "      <td>...</td>\n",
       "      <td>...</td>\n",
       "      <td>...</td>\n",
       "    </tr>\n",
       "    <tr>\n",
       "      <th>1903</th>\n",
       "      <td>5883.0</td>\n",
       "      <td>2022</td>\n",
       "      <td>2</td>\n",
       "      <td>199013.0</td>\n",
       "      <td>26543.0</td>\n",
       "      <td>2022-02-28</td>\n",
       "      <td>AA-YA-WN-2222</td>\n",
       "    </tr>\n",
       "    <tr>\n",
       "      <th>1904</th>\n",
       "      <td>5883.0</td>\n",
       "      <td>2022</td>\n",
       "      <td>3</td>\n",
       "      <td>216952.0</td>\n",
       "      <td>17939.0</td>\n",
       "      <td>2022-03-31</td>\n",
       "      <td>AA-YA-WN-2222</td>\n",
       "    </tr>\n",
       "    <tr>\n",
       "      <th>1905</th>\n",
       "      <td>5883.0</td>\n",
       "      <td>2022</td>\n",
       "      <td>4</td>\n",
       "      <td>216952.0</td>\n",
       "      <td>0.0</td>\n",
       "      <td>2022-04-30</td>\n",
       "      <td>AA-YA-WN-2222</td>\n",
       "    </tr>\n",
       "    <tr>\n",
       "      <th>1906</th>\n",
       "      <td>4759.0</td>\n",
       "      <td>2021</td>\n",
       "      <td>4</td>\n",
       "      <td>0.0</td>\n",
       "      <td>0.0</td>\n",
       "      <td>2021-04-30</td>\n",
       "      <td>AA-KE-SA-1331</td>\n",
       "    </tr>\n",
       "    <tr>\n",
       "      <th>1907</th>\n",
       "      <td>4529.0</td>\n",
       "      <td>2021</td>\n",
       "      <td>4</td>\n",
       "      <td>2835.0</td>\n",
       "      <td>0.0</td>\n",
       "      <td>2021-04-30</td>\n",
       "      <td>AA-SC-ET-1410</td>\n",
       "    </tr>\n",
       "  </tbody>\n",
       "</table>\n",
       "<p>1908 rows × 7 columns</p>\n",
       "</div>"
      ],
      "text/plain": [
       "      Respodent  Year  Month      Cash  Cash Change        date        Firm ID\n",
       "0        4425.0  2021      2 -200000.0          0.0  2021-02-28     DD-ET-1930\n",
       "1        4425.0  2021      3 -200000.0          0.0  2021-03-31     DD-ET-1930\n",
       "2        4425.0  2021      4 -193281.0       6719.0  2021-04-30     DD-ET-1930\n",
       "3        4425.0  2021      5 -193177.0        104.0  2021-05-31     DD-ET-1930\n",
       "4        4425.0  2021      6 -126689.0      66488.0  2021-06-30     DD-ET-1930\n",
       "...         ...   ...    ...       ...          ...         ...            ...\n",
       "1903     5883.0  2022      2  199013.0      26543.0  2022-02-28  AA-YA-WN-2222\n",
       "1904     5883.0  2022      3  216952.0      17939.0  2022-03-31  AA-YA-WN-2222\n",
       "1905     5883.0  2022      4  216952.0          0.0  2022-04-30  AA-YA-WN-2222\n",
       "1906     4759.0  2021      4       0.0          0.0  2021-04-30  AA-KE-SA-1331\n",
       "1907     4529.0  2021      4    2835.0          0.0  2021-04-30  AA-SC-ET-1410\n",
       "\n",
       "[1908 rows x 7 columns]"
      ]
     },
     "execution_count": 78,
     "metadata": {},
     "output_type": "execute_result"
    }
   ],
   "source": [
    "monthly_cash_data"
   ]
  },
  {
   "cell_type": "code",
   "execution_count": 79,
   "metadata": {},
   "outputs": [
    {
     "data": {
      "text/html": [
       "<div>\n",
       "<style scoped>\n",
       "    .dataframe tbody tr th:only-of-type {\n",
       "        vertical-align: middle;\n",
       "    }\n",
       "\n",
       "    .dataframe tbody tr th {\n",
       "        vertical-align: top;\n",
       "    }\n",
       "\n",
       "    .dataframe thead th {\n",
       "        text-align: right;\n",
       "    }\n",
       "</style>\n",
       "<table border=\"1\" class=\"dataframe\">\n",
       "  <thead>\n",
       "    <tr style=\"text-align: right;\">\n",
       "      <th></th>\n",
       "      <th>firm_id</th>\n",
       "      <th>Score</th>\n",
       "      <th>Weak</th>\n",
       "      <th>Medium</th>\n",
       "      <th>Strong</th>\n",
       "      <th>MaxAmount</th>\n",
       "    </tr>\n",
       "  </thead>\n",
       "  <tbody>\n",
       "    <tr>\n",
       "      <th>0</th>\n",
       "      <td>DD-ET-1930</td>\n",
       "      <td>14</td>\n",
       "      <td>NonDefault</td>\n",
       "      <td>NonDefault</td>\n",
       "      <td>NonDefault</td>\n",
       "      <td>50000</td>\n",
       "    </tr>\n",
       "    <tr>\n",
       "      <th>1</th>\n",
       "      <td>AA-KG-SA-1376</td>\n",
       "      <td>14</td>\n",
       "      <td>NonDefault</td>\n",
       "      <td>NonDefault</td>\n",
       "      <td>NonDefault</td>\n",
       "      <td>50000</td>\n",
       "    </tr>\n",
       "    <tr>\n",
       "      <th>2</th>\n",
       "      <td>AA-KG-SA-1495</td>\n",
       "      <td>0</td>\n",
       "      <td>Default</td>\n",
       "      <td>Default</td>\n",
       "      <td>Default</td>\n",
       "      <td>0</td>\n",
       "    </tr>\n",
       "    <tr>\n",
       "      <th>3</th>\n",
       "      <td>DD-ET-2194</td>\n",
       "      <td>0</td>\n",
       "      <td>Default</td>\n",
       "      <td>Default</td>\n",
       "      <td>Default</td>\n",
       "      <td>0</td>\n",
       "    </tr>\n",
       "    <tr>\n",
       "      <th>4</th>\n",
       "      <td>HR-DE-2171</td>\n",
       "      <td>9</td>\n",
       "      <td>NonDefault</td>\n",
       "      <td>NonDefault</td>\n",
       "      <td>Default</td>\n",
       "      <td>10000</td>\n",
       "    </tr>\n",
       "  </tbody>\n",
       "</table>\n",
       "</div>"
      ],
      "text/plain": [
       "         firm_id  Score        Weak      Medium      Strong  MaxAmount\n",
       "0     DD-ET-1930     14  NonDefault  NonDefault  NonDefault      50000\n",
       "1  AA-KG-SA-1376     14  NonDefault  NonDefault  NonDefault      50000\n",
       "2  AA-KG-SA-1495      0     Default     Default     Default          0\n",
       "3     DD-ET-2194      0     Default     Default     Default          0\n",
       "4     HR-DE-2171      9  NonDefault  NonDefault     Default      10000"
      ]
     },
     "execution_count": 79,
     "metadata": {},
     "output_type": "execute_result"
    }
   ],
   "source": [
    "credit_scoring_survey.head()"
   ]
  },
  {
   "cell_type": "code",
   "execution_count": 80,
   "metadata": {},
   "outputs": [
    {
     "data": {
      "text/html": [
       "<div>\n",
       "<style scoped>\n",
       "    .dataframe tbody tr th:only-of-type {\n",
       "        vertical-align: middle;\n",
       "    }\n",
       "\n",
       "    .dataframe tbody tr th {\n",
       "        vertical-align: top;\n",
       "    }\n",
       "\n",
       "    .dataframe thead th {\n",
       "        text-align: right;\n",
       "    }\n",
       "</style>\n",
       "<table border=\"1\" class=\"dataframe\">\n",
       "  <thead>\n",
       "    <tr style=\"text-align: right;\">\n",
       "      <th></th>\n",
       "      <th>firm_id</th>\n",
       "      <th>Score</th>\n",
       "      <th>Weak</th>\n",
       "      <th>Medium</th>\n",
       "      <th>Strong</th>\n",
       "      <th>MaxAmount</th>\n",
       "      <th>Class</th>\n",
       "    </tr>\n",
       "  </thead>\n",
       "  <tbody>\n",
       "    <tr>\n",
       "      <th>0</th>\n",
       "      <td>DD-ET-1930</td>\n",
       "      <td>14</td>\n",
       "      <td>NonDefault</td>\n",
       "      <td>NonDefault</td>\n",
       "      <td>NonDefault</td>\n",
       "      <td>50000</td>\n",
       "      <td>Strong</td>\n",
       "    </tr>\n",
       "    <tr>\n",
       "      <th>1</th>\n",
       "      <td>AA-KG-SA-1376</td>\n",
       "      <td>14</td>\n",
       "      <td>NonDefault</td>\n",
       "      <td>NonDefault</td>\n",
       "      <td>NonDefault</td>\n",
       "      <td>50000</td>\n",
       "      <td>Strong</td>\n",
       "    </tr>\n",
       "    <tr>\n",
       "      <th>2</th>\n",
       "      <td>AA-KG-SA-1495</td>\n",
       "      <td>0</td>\n",
       "      <td>Default</td>\n",
       "      <td>Default</td>\n",
       "      <td>Default</td>\n",
       "      <td>0</td>\n",
       "      <td>Poor</td>\n",
       "    </tr>\n",
       "    <tr>\n",
       "      <th>3</th>\n",
       "      <td>DD-ET-2194</td>\n",
       "      <td>0</td>\n",
       "      <td>Default</td>\n",
       "      <td>Default</td>\n",
       "      <td>Default</td>\n",
       "      <td>0</td>\n",
       "      <td>Poor</td>\n",
       "    </tr>\n",
       "    <tr>\n",
       "      <th>4</th>\n",
       "      <td>HR-DE-2171</td>\n",
       "      <td>9</td>\n",
       "      <td>NonDefault</td>\n",
       "      <td>NonDefault</td>\n",
       "      <td>Default</td>\n",
       "      <td>10000</td>\n",
       "      <td>Medium</td>\n",
       "    </tr>\n",
       "  </tbody>\n",
       "</table>\n",
       "</div>"
      ],
      "text/plain": [
       "         firm_id  Score        Weak      Medium      Strong  MaxAmount   Class\n",
       "0     DD-ET-1930     14  NonDefault  NonDefault  NonDefault      50000  Strong\n",
       "1  AA-KG-SA-1376     14  NonDefault  NonDefault  NonDefault      50000  Strong\n",
       "2  AA-KG-SA-1495      0     Default     Default     Default          0    Poor\n",
       "3     DD-ET-2194      0     Default     Default     Default          0    Poor\n",
       "4     HR-DE-2171      9  NonDefault  NonDefault     Default      10000  Medium"
      ]
     },
     "execution_count": 80,
     "metadata": {},
     "output_type": "execute_result"
    }
   ],
   "source": [
    "class_data = []\n",
    "for i, row in credit_scoring_survey.iterrows():\n",
    "    weak = row['Weak']\n",
    "    medium = row['Medium']\n",
    "    strong = row['Strong']\n",
    "    score = ''\n",
    "    NON_DEFAULT = 'NonDefault'\n",
    "    DEFAULT = 'Default'\n",
    "    if strong == NON_DEFAULT:\n",
    "        score = 'Strong'\n",
    "    elif medium == NON_DEFAULT:\n",
    "        score = 'Medium'\n",
    "    elif weak == NON_DEFAULT:\n",
    "        score = 'Weak'\n",
    "    else:\n",
    "        score = 'Poor'\n",
    "\n",
    "    class_data.append(score)\n",
    "\n",
    "credit_scoring_survey['Class'] = class_data\n",
    "credit_scoring_survey.head() "
   ]
  },
  {
   "cell_type": "code",
   "execution_count": 81,
   "metadata": {},
   "outputs": [
    {
     "data": {
      "text/html": [
       "<div>\n",
       "<style scoped>\n",
       "    .dataframe tbody tr th:only-of-type {\n",
       "        vertical-align: middle;\n",
       "    }\n",
       "\n",
       "    .dataframe tbody tr th {\n",
       "        vertical-align: top;\n",
       "    }\n",
       "\n",
       "    .dataframe thead th {\n",
       "        text-align: right;\n",
       "    }\n",
       "</style>\n",
       "<table border=\"1\" class=\"dataframe\">\n",
       "  <thead>\n",
       "    <tr style=\"text-align: right;\">\n",
       "      <th></th>\n",
       "      <th>Firm ID</th>\n",
       "      <th>Score</th>\n",
       "      <th>Weak</th>\n",
       "      <th>Medium</th>\n",
       "      <th>Strong</th>\n",
       "      <th>MaxAmount</th>\n",
       "      <th>Class</th>\n",
       "    </tr>\n",
       "  </thead>\n",
       "  <tbody>\n",
       "    <tr>\n",
       "      <th>0</th>\n",
       "      <td>DD-ET-1930</td>\n",
       "      <td>14</td>\n",
       "      <td>NonDefault</td>\n",
       "      <td>NonDefault</td>\n",
       "      <td>NonDefault</td>\n",
       "      <td>50000</td>\n",
       "      <td>Strong</td>\n",
       "    </tr>\n",
       "    <tr>\n",
       "      <th>1</th>\n",
       "      <td>AA-KG-SA-1376</td>\n",
       "      <td>14</td>\n",
       "      <td>NonDefault</td>\n",
       "      <td>NonDefault</td>\n",
       "      <td>NonDefault</td>\n",
       "      <td>50000</td>\n",
       "      <td>Strong</td>\n",
       "    </tr>\n",
       "    <tr>\n",
       "      <th>2</th>\n",
       "      <td>AA-KG-SA-1495</td>\n",
       "      <td>0</td>\n",
       "      <td>Default</td>\n",
       "      <td>Default</td>\n",
       "      <td>Default</td>\n",
       "      <td>0</td>\n",
       "      <td>Poor</td>\n",
       "    </tr>\n",
       "    <tr>\n",
       "      <th>3</th>\n",
       "      <td>DD-ET-2194</td>\n",
       "      <td>0</td>\n",
       "      <td>Default</td>\n",
       "      <td>Default</td>\n",
       "      <td>Default</td>\n",
       "      <td>0</td>\n",
       "      <td>Poor</td>\n",
       "    </tr>\n",
       "    <tr>\n",
       "      <th>4</th>\n",
       "      <td>HR-DE-2171</td>\n",
       "      <td>9</td>\n",
       "      <td>NonDefault</td>\n",
       "      <td>NonDefault</td>\n",
       "      <td>Default</td>\n",
       "      <td>10000</td>\n",
       "      <td>Medium</td>\n",
       "    </tr>\n",
       "  </tbody>\n",
       "</table>\n",
       "</div>"
      ],
      "text/plain": [
       "         Firm ID  Score        Weak      Medium      Strong  MaxAmount   Class\n",
       "0     DD-ET-1930     14  NonDefault  NonDefault  NonDefault      50000  Strong\n",
       "1  AA-KG-SA-1376     14  NonDefault  NonDefault  NonDefault      50000  Strong\n",
       "2  AA-KG-SA-1495      0     Default     Default     Default          0    Poor\n",
       "3     DD-ET-2194      0     Default     Default     Default          0    Poor\n",
       "4     HR-DE-2171      9  NonDefault  NonDefault     Default      10000  Medium"
      ]
     },
     "execution_count": 81,
     "metadata": {},
     "output_type": "execute_result"
    }
   ],
   "source": [
    "credit_scoring_survey.rename(columns={'firm_id':'Firm ID'}, inplace=True)\n",
    "credit_scoring_survey.head()"
   ]
  },
  {
   "cell_type": "code",
   "execution_count": 82,
   "metadata": {},
   "outputs": [],
   "source": [
    "monthly_cash_data = monthly_cash_data.merge(credit_scoring_survey[['Firm ID', 'Class']], 'inner', 'Firm ID')"
   ]
  },
  {
   "cell_type": "code",
   "execution_count": 83,
   "metadata": {},
   "outputs": [],
   "source": [
    "monthly_cash_data.to_csv('monthly_cash_balance.csv')"
   ]
  },
  {
   "cell_type": "code",
   "execution_count": 84,
   "metadata": {},
   "outputs": [
    {
     "data": {
      "text/html": [
       "<div>\n",
       "<style scoped>\n",
       "    .dataframe tbody tr th:only-of-type {\n",
       "        vertical-align: middle;\n",
       "    }\n",
       "\n",
       "    .dataframe tbody tr th {\n",
       "        vertical-align: top;\n",
       "    }\n",
       "\n",
       "    .dataframe thead th {\n",
       "        text-align: right;\n",
       "    }\n",
       "</style>\n",
       "<table border=\"1\" class=\"dataframe\">\n",
       "  <thead>\n",
       "    <tr style=\"text-align: right;\">\n",
       "      <th></th>\n",
       "      <th>Respodent</th>\n",
       "      <th>Year</th>\n",
       "      <th>Month</th>\n",
       "      <th>Cash</th>\n",
       "      <th>Cash Change</th>\n",
       "      <th>date</th>\n",
       "      <th>Firm ID</th>\n",
       "      <th>Class</th>\n",
       "    </tr>\n",
       "  </thead>\n",
       "  <tbody>\n",
       "    <tr>\n",
       "      <th>0</th>\n",
       "      <td>4425.0</td>\n",
       "      <td>2022</td>\n",
       "      <td>1</td>\n",
       "      <td>50216.5</td>\n",
       "      <td>54910.0</td>\n",
       "      <td>2022-01-31</td>\n",
       "      <td>DD-ET-1930</td>\n",
       "      <td>Strong</td>\n",
       "    </tr>\n",
       "    <tr>\n",
       "      <th>1</th>\n",
       "      <td>4425.0</td>\n",
       "      <td>2022</td>\n",
       "      <td>2</td>\n",
       "      <td>102509.5</td>\n",
       "      <td>52293.0</td>\n",
       "      <td>2022-02-28</td>\n",
       "      <td>DD-ET-1930</td>\n",
       "      <td>Strong</td>\n",
       "    </tr>\n",
       "    <tr>\n",
       "      <th>2</th>\n",
       "      <td>4425.0</td>\n",
       "      <td>2022</td>\n",
       "      <td>3</td>\n",
       "      <td>285739.5</td>\n",
       "      <td>183230.0</td>\n",
       "      <td>2022-03-31</td>\n",
       "      <td>DD-ET-1930</td>\n",
       "      <td>Strong</td>\n",
       "    </tr>\n",
       "    <tr>\n",
       "      <th>3</th>\n",
       "      <td>4425.0</td>\n",
       "      <td>2022</td>\n",
       "      <td>4</td>\n",
       "      <td>319499.5</td>\n",
       "      <td>33760.0</td>\n",
       "      <td>2022-04-30</td>\n",
       "      <td>DD-ET-1930</td>\n",
       "      <td>Strong</td>\n",
       "    </tr>\n",
       "    <tr>\n",
       "      <th>4</th>\n",
       "      <td>4425.0</td>\n",
       "      <td>2022</td>\n",
       "      <td>5</td>\n",
       "      <td>321389.5</td>\n",
       "      <td>1890.0</td>\n",
       "      <td>2022-05-31</td>\n",
       "      <td>DD-ET-1930</td>\n",
       "      <td>Strong</td>\n",
       "    </tr>\n",
       "  </tbody>\n",
       "</table>\n",
       "</div>"
      ],
      "text/plain": [
       "   Respodent  Year  Month      Cash  Cash Change        date     Firm ID  \\\n",
       "0     4425.0  2022      1   50216.5      54910.0  2022-01-31  DD-ET-1930   \n",
       "1     4425.0  2022      2  102509.5      52293.0  2022-02-28  DD-ET-1930   \n",
       "2     4425.0  2022      3  285739.5     183230.0  2022-03-31  DD-ET-1930   \n",
       "3     4425.0  2022      4  319499.5      33760.0  2022-04-30  DD-ET-1930   \n",
       "4     4425.0  2022      5  321389.5       1890.0  2022-05-31  DD-ET-1930   \n",
       "\n",
       "    Class  \n",
       "0  Strong  \n",
       "1  Strong  \n",
       "2  Strong  \n",
       "3  Strong  \n",
       "4  Strong  "
      ]
     },
     "execution_count": 84,
     "metadata": {},
     "output_type": "execute_result"
    }
   ],
   "source": [
    "filtered_cash_data = monthly_cash_data[monthly_cash_data['Cash'] >= 0].reset_index().drop(columns='index')\n",
    "filtered_cash_data.head()"
   ]
  },
  {
   "cell_type": "code",
   "execution_count": 85,
   "metadata": {},
   "outputs": [],
   "source": [
    "import classification_algorithms"
   ]
  },
  {
   "cell_type": "code",
   "execution_count": 86,
   "metadata": {},
   "outputs": [],
   "source": [
    "rand_forest = classification_algorithms.RandForest(filtered_cash_data, ['Cash', 'Cash Change'], 'Class', 12)"
   ]
  },
  {
   "cell_type": "code",
   "execution_count": 87,
   "metadata": {},
   "outputs": [
    {
     "data": {
      "text/plain": [
       "{'confusion_matrix': array([[90, 12, 56,  2],\n",
       "        [29,  7, 18,  2],\n",
       "        [53, 12, 67,  3],\n",
       "        [15,  4,  3,  4]], dtype=int64),\n",
       " 'accuracy': 0.44562334217506633}"
      ]
     },
     "execution_count": 87,
     "metadata": {},
     "output_type": "execute_result"
    }
   ],
   "source": [
    "rand_forest.summarize()"
   ]
  },
  {
   "cell_type": "markdown",
   "metadata": {},
   "source": [
    "### Looking at other financial figures"
   ]
  },
  {
   "cell_type": "code",
   "execution_count": 112,
   "metadata": {},
   "outputs": [
    {
     "data": {
      "text/html": [
       "<div>\n",
       "<style scoped>\n",
       "    .dataframe tbody tr th:only-of-type {\n",
       "        vertical-align: middle;\n",
       "    }\n",
       "\n",
       "    .dataframe tbody tr th {\n",
       "        vertical-align: top;\n",
       "    }\n",
       "\n",
       "    .dataframe thead th {\n",
       "        text-align: right;\n",
       "    }\n",
       "</style>\n",
       "<table border=\"1\" class=\"dataframe\">\n",
       "  <thead>\n",
       "    <tr style=\"text-align: right;\">\n",
       "      <th></th>\n",
       "      <th>Respondent</th>\n",
       "      <th>Year</th>\n",
       "      <th>Month</th>\n",
       "      <th>Sales</th>\n",
       "      <th>Total income</th>\n",
       "      <th>Purchases</th>\n",
       "      <th>Salary expense</th>\n",
       "      <th>Utility expense</th>\n",
       "      <th>Miscellaneous expense</th>\n",
       "      <th>Rent expense</th>\n",
       "      <th>...</th>\n",
       "      <th>Land</th>\n",
       "      <th>Informal loans given</th>\n",
       "      <th>Loans to employees</th>\n",
       "      <th>Total assets</th>\n",
       "      <th>Ap</th>\n",
       "      <th>Informal loan</th>\n",
       "      <th>Long term loan</th>\n",
       "      <th>Short term loan</th>\n",
       "      <th>Total liabilities</th>\n",
       "      <th>Equity</th>\n",
       "    </tr>\n",
       "  </thead>\n",
       "  <tbody>\n",
       "    <tr>\n",
       "      <th>0</th>\n",
       "      <td>4425</td>\n",
       "      <td>2021</td>\n",
       "      <td>2</td>\n",
       "      <td>0.0</td>\n",
       "      <td>0.0</td>\n",
       "      <td>0.0</td>\n",
       "      <td>0.0</td>\n",
       "      <td>0.0</td>\n",
       "      <td>0.0</td>\n",
       "      <td>0.0</td>\n",
       "      <td>...</td>\n",
       "      <td>0</td>\n",
       "      <td>200000.0</td>\n",
       "      <td>0</td>\n",
       "      <td>1004400.0</td>\n",
       "      <td>0.0</td>\n",
       "      <td>0.0</td>\n",
       "      <td>0</td>\n",
       "      <td>0</td>\n",
       "      <td>0.0</td>\n",
       "      <td>1004400.0</td>\n",
       "    </tr>\n",
       "    <tr>\n",
       "      <th>1</th>\n",
       "      <td>4425</td>\n",
       "      <td>2021</td>\n",
       "      <td>3</td>\n",
       "      <td>0.0</td>\n",
       "      <td>0.0</td>\n",
       "      <td>0.0</td>\n",
       "      <td>0.0</td>\n",
       "      <td>0.0</td>\n",
       "      <td>0.0</td>\n",
       "      <td>0.0</td>\n",
       "      <td>...</td>\n",
       "      <td>0</td>\n",
       "      <td>200000.0</td>\n",
       "      <td>0</td>\n",
       "      <td>1404400.0</td>\n",
       "      <td>0.0</td>\n",
       "      <td>0.0</td>\n",
       "      <td>0</td>\n",
       "      <td>0</td>\n",
       "      <td>0.0</td>\n",
       "      <td>1404400.0</td>\n",
       "    </tr>\n",
       "    <tr>\n",
       "      <th>2</th>\n",
       "      <td>4425</td>\n",
       "      <td>2021</td>\n",
       "      <td>4</td>\n",
       "      <td>19515.0</td>\n",
       "      <td>19515.0</td>\n",
       "      <td>-10416.0</td>\n",
       "      <td>0.0</td>\n",
       "      <td>-280.0</td>\n",
       "      <td>0.0</td>\n",
       "      <td>0.0</td>\n",
       "      <td>...</td>\n",
       "      <td>0</td>\n",
       "      <td>200000.0</td>\n",
       "      <td>0</td>\n",
       "      <td>1411119.0</td>\n",
       "      <td>0.0</td>\n",
       "      <td>0.0</td>\n",
       "      <td>0</td>\n",
       "      <td>0</td>\n",
       "      <td>0.0</td>\n",
       "      <td>1411119.0</td>\n",
       "    </tr>\n",
       "    <tr>\n",
       "      <th>3</th>\n",
       "      <td>4425</td>\n",
       "      <td>2021</td>\n",
       "      <td>5</td>\n",
       "      <td>30157.0</td>\n",
       "      <td>30157.0</td>\n",
       "      <td>-6874.0</td>\n",
       "      <td>-2500.0</td>\n",
       "      <td>-480.0</td>\n",
       "      <td>-7202.0</td>\n",
       "      <td>-6000.0</td>\n",
       "      <td>...</td>\n",
       "      <td>0</td>\n",
       "      <td>200000.0</td>\n",
       "      <td>0</td>\n",
       "      <td>1411223.0</td>\n",
       "      <td>0.0</td>\n",
       "      <td>0.0</td>\n",
       "      <td>0</td>\n",
       "      <td>0</td>\n",
       "      <td>0.0</td>\n",
       "      <td>1411223.0</td>\n",
       "    </tr>\n",
       "    <tr>\n",
       "      <th>4</th>\n",
       "      <td>4425</td>\n",
       "      <td>2021</td>\n",
       "      <td>6</td>\n",
       "      <td>43374.0</td>\n",
       "      <td>43374.0</td>\n",
       "      <td>-4337.0</td>\n",
       "      <td>-4000.0</td>\n",
       "      <td>0.0</td>\n",
       "      <td>0.0</td>\n",
       "      <td>-6000.0</td>\n",
       "      <td>...</td>\n",
       "      <td>0</td>\n",
       "      <td>200000.0</td>\n",
       "      <td>0</td>\n",
       "      <td>1834315.0</td>\n",
       "      <td>0.0</td>\n",
       "      <td>0.0</td>\n",
       "      <td>0</td>\n",
       "      <td>0</td>\n",
       "      <td>0.0</td>\n",
       "      <td>1834315.0</td>\n",
       "    </tr>\n",
       "  </tbody>\n",
       "</table>\n",
       "<p>5 rows × 36 columns</p>\n",
       "</div>"
      ],
      "text/plain": [
       "   Respondent  Year  Month    Sales  Total income  Purchases  Salary expense  \\\n",
       "0        4425  2021      2      0.0           0.0        0.0             0.0   \n",
       "1        4425  2021      3      0.0           0.0        0.0             0.0   \n",
       "2        4425  2021      4  19515.0       19515.0   -10416.0             0.0   \n",
       "3        4425  2021      5  30157.0       30157.0    -6874.0         -2500.0   \n",
       "4        4425  2021      6  43374.0       43374.0    -4337.0         -4000.0   \n",
       "\n",
       "   Utility expense  Miscellaneous expense  Rent expense  ...  Land  \\\n",
       "0              0.0                    0.0           0.0  ...     0   \n",
       "1              0.0                    0.0           0.0  ...     0   \n",
       "2           -280.0                    0.0           0.0  ...     0   \n",
       "3           -480.0                -7202.0       -6000.0  ...     0   \n",
       "4              0.0                    0.0       -6000.0  ...     0   \n",
       "\n",
       "   Informal loans given  Loans to employees  Total assets   Ap  Informal loan  \\\n",
       "0              200000.0                   0     1004400.0  0.0            0.0   \n",
       "1              200000.0                   0     1404400.0  0.0            0.0   \n",
       "2              200000.0                   0     1411119.0  0.0            0.0   \n",
       "3              200000.0                   0     1411223.0  0.0            0.0   \n",
       "4              200000.0                   0     1834315.0  0.0            0.0   \n",
       "\n",
       "   Long term loan  Short term loan  Total liabilities     Equity  \n",
       "0               0                0                0.0  1004400.0  \n",
       "1               0                0                0.0  1404400.0  \n",
       "2               0                0                0.0  1411119.0  \n",
       "3               0                0                0.0  1411223.0  \n",
       "4               0                0                0.0  1834315.0  \n",
       "\n",
       "[5 rows x 36 columns]"
      ]
     },
     "execution_count": 112,
     "metadata": {},
     "output_type": "execute_result"
    }
   ],
   "source": [
    "def all_monthly_figures_for_firm(df: pd.DataFrame, res_id: int) -> pd.DataFrame:\n",
    "    monthly = get_monthly_financial_statements(df, res_id)\n",
    "\n",
    "    var_balance_map:dict[str, list] = dict()\n",
    "    years, months = monthly[0], monthly[1]\n",
    "\n",
    "    \n",
    "    for statements in [monthly[2], monthly[3]]:\n",
    "        for statement in statements:\n",
    "            for i, row in statement.iterrows():\n",
    "                var = row['Account']\n",
    "                balance = unformat_num(row['Balance'])\n",
    "                if var not in var_balance_map:\n",
    "                    var_balance_map[var] = [balance]\n",
    "                else:\n",
    "                    var_balance_map[var].append(balance)\n",
    "\n",
    "\n",
    "    data = pd.DataFrame(\n",
    "        {\n",
    "            'Respondent': [res_id]*len(years),\n",
    "            'Year': years,\n",
    "            'Month': months,\n",
    "            **var_balance_map\n",
    "        }\n",
    "    )\n",
    "    return data  \n",
    "    \n",
    "\n",
    "monthly_financials_4425 = all_monthly_figures_for_firm(data_combined3, 4425)\n",
    "monthly_financials_4425.head()"
   ]
  },
  {
   "cell_type": "code",
   "execution_count": 114,
   "metadata": {},
   "outputs": [
    {
     "name": "stdout",
     "output_type": "stream",
     "text": [
      "Getting Monthly Figures for 4425.0\n",
      "Getting Monthly Figures for 4429.0\n",
      "Getting Monthly Figures for 4431.0\n",
      "Getting Monthly Figures for 4432.0\n",
      "Getting Monthly Figures for 4433.0\n",
      "Getting Monthly Figures for 4435.0\n",
      "Getting Monthly Figures for 4436.0\n",
      "Getting Monthly Figures for 4437.0\n",
      "Getting Monthly Figures for 4438.0\n",
      "Getting Monthly Figures for 4440.0\n",
      "Getting Monthly Figures for 4442.0\n",
      "Getting Monthly Figures for 4443.0\n",
      "Getting Monthly Figures for 4444.0\n",
      "Getting Monthly Figures for 4445.0\n",
      "Getting Monthly Figures for 4446.0\n",
      "Getting Monthly Figures for 4448.0\n",
      "Getting Monthly Figures for 4450.0\n",
      "Getting Monthly Figures for 4451.0\n",
      "Getting Monthly Figures for 4452.0\n",
      "Getting Monthly Figures for 4453.0\n",
      "Getting Monthly Figures for 4456.0\n",
      "Getting Monthly Figures for 4457.0\n",
      "Getting Monthly Figures for 4458.0\n",
      "Getting Monthly Figures for 4459.0\n",
      "Getting Monthly Figures for 4460.0\n",
      "Getting Monthly Figures for 4462.0\n",
      "Getting Monthly Figures for 4463.0\n",
      "Getting Monthly Figures for 4464.0\n",
      "Getting Monthly Figures for 4465.0\n",
      "Getting Monthly Figures for 4466.0\n",
      "Getting Monthly Figures for 4467.0\n",
      "Getting Monthly Figures for 4468.0\n",
      "Getting Monthly Figures for 4469.0\n",
      "Getting Monthly Figures for 4470.0\n",
      "Getting Monthly Figures for 4471.0\n",
      "Getting Monthly Figures for 4472.0\n",
      "Getting Monthly Figures for 4473.0\n",
      "Getting Monthly Figures for 4474.0\n",
      "Getting Monthly Figures for 4475.0\n",
      "Getting Monthly Figures for 4477.0\n",
      "Getting Monthly Figures for 4478.0\n",
      "Getting Monthly Figures for 4480.0\n",
      "Getting Monthly Figures for 4481.0\n",
      "Getting Monthly Figures for 4482.0\n",
      "Getting Monthly Figures for 4483.0\n",
      "Getting Monthly Figures for 4484.0\n",
      "Getting Monthly Figures for 4485.0\n",
      "Getting Monthly Figures for 4487.0\n",
      "Getting Monthly Figures for 4490.0\n",
      "Getting Monthly Figures for 4491.0\n",
      "Getting Monthly Figures for 4493.0\n",
      "Getting Monthly Figures for 4494.0\n",
      "Getting Monthly Figures for 4495.0\n",
      "Getting Monthly Figures for 4496.0\n",
      "Getting Monthly Figures for 4499.0\n",
      "Getting Monthly Figures for 4500.0\n",
      "Getting Monthly Figures for 4501.0\n",
      "Getting Monthly Figures for 4502.0\n",
      "Getting Monthly Figures for 4503.0\n",
      "Getting Monthly Figures for 4506.0\n",
      "Getting Monthly Figures for 4507.0\n",
      "Getting Monthly Figures for 4508.0\n",
      "Getting Monthly Figures for 4509.0\n",
      "Getting Monthly Figures for 4510.0\n",
      "Getting Monthly Figures for 4511.0\n",
      "Getting Monthly Figures for 4513.0\n",
      "Getting Monthly Figures for 4517.0\n",
      "Getting Monthly Figures for 4518.0\n",
      "Getting Monthly Figures for 4520.0\n",
      "Getting Monthly Figures for 4521.0\n",
      "Getting Monthly Figures for 4522.0\n",
      "Getting Monthly Figures for 4523.0\n",
      "Getting Monthly Figures for 4526.0\n",
      "Getting Monthly Figures for 4527.0\n",
      "Getting Monthly Figures for 4528.0\n",
      "Getting Monthly Figures for 4530.0\n",
      "Getting Monthly Figures for 4531.0\n",
      "Getting Monthly Figures for 4533.0\n",
      "Getting Monthly Figures for 4534.0\n",
      "Getting Monthly Figures for 4535.0\n",
      "Getting Monthly Figures for 4536.0\n",
      "Getting Monthly Figures for 4537.0\n",
      "Getting Monthly Figures for 4538.0\n",
      "Getting Monthly Figures for 4539.0\n",
      "Getting Monthly Figures for 4541.0\n",
      "Getting Monthly Figures for 4544.0\n",
      "Getting Monthly Figures for 4568.0\n",
      "Getting Monthly Figures for 4569.0\n",
      "Getting Monthly Figures for 4570.0\n",
      "Getting Monthly Figures for 4572.0\n",
      "Getting Monthly Figures for 4574.0\n",
      "Getting Monthly Figures for 4575.0\n",
      "Getting Monthly Figures for 4577.0\n",
      "Getting Monthly Figures for 4578.0\n",
      "Getting Monthly Figures for 4579.0\n",
      "Getting Monthly Figures for 4580.0\n",
      "Getting Monthly Figures for 4583.0\n",
      "Getting Monthly Figures for 4584.0\n",
      "Getting Monthly Figures for 4608.0\n",
      "Getting Monthly Figures for 4618.0\n",
      "Getting Monthly Figures for 4622.0\n",
      "Getting Monthly Figures for 4623.0\n",
      "Getting Monthly Figures for 4624.0\n",
      "Getting Monthly Figures for 4625.0\n",
      "Getting Monthly Figures for 4627.0\n",
      "Getting Monthly Figures for 4629.0\n",
      "Getting Monthly Figures for 4630.0\n",
      "Getting Monthly Figures for 4632.0\n",
      "Getting Monthly Figures for 4634.0\n",
      "Getting Monthly Figures for 4635.0\n",
      "Getting Monthly Figures for 4636.0\n",
      "Getting Monthly Figures for 4638.0\n",
      "Getting Monthly Figures for 4661.0\n",
      "Getting Monthly Figures for 4668.0\n",
      "Getting Monthly Figures for 4670.0\n",
      "Getting Monthly Figures for 4672.0\n",
      "Getting Monthly Figures for 4676.0\n",
      "Getting Monthly Figures for 4678.0\n",
      "Getting Monthly Figures for 4714.0\n",
      "Getting Monthly Figures for 4716.0\n",
      "Getting Monthly Figures for 4720.0\n",
      "Getting Monthly Figures for 4722.0\n",
      "Getting Monthly Figures for 4723.0\n",
      "Getting Monthly Figures for 4724.0\n",
      "Getting Monthly Figures for 4727.0\n",
      "Getting Monthly Figures for 4732.0\n",
      "Getting Monthly Figures for 4735.0\n",
      "Getting Monthly Figures for 4737.0\n",
      "Getting Monthly Figures for 4738.0\n",
      "Getting Monthly Figures for 4743.0\n",
      "Getting Monthly Figures for 4744.0\n",
      "Getting Monthly Figures for 4745.0\n",
      "Getting Monthly Figures for 4748.0\n",
      "Getting Monthly Figures for 4761.0\n",
      "Getting Monthly Figures for 4762.0\n",
      "Getting Monthly Figures for 4764.0\n",
      "Getting Monthly Figures for 4767.0\n",
      "Getting Monthly Figures for 4785.0\n",
      "Getting Monthly Figures for 4788.0\n",
      "Getting Monthly Figures for 4789.0\n",
      "Getting Monthly Figures for 4790.0\n",
      "Getting Monthly Figures for 4791.0\n",
      "Getting Monthly Figures for 4793.0\n",
      "Getting Monthly Figures for 4794.0\n",
      "Getting Monthly Figures for 4797.0\n",
      "Getting Monthly Figures for 4798.0\n",
      "Getting Monthly Figures for 4816.0\n",
      "Getting Monthly Figures for 4817.0\n",
      "Getting Monthly Figures for 4819.0\n",
      "Getting Monthly Figures for 4820.0\n",
      "Getting Monthly Figures for 4822.0\n",
      "Getting Monthly Figures for 4862.0\n",
      "Getting Monthly Figures for 4864.0\n",
      "Getting Monthly Figures for 5104.0\n",
      "Getting Monthly Figures for 5127.0\n",
      "Getting Monthly Figures for 5883.0\n",
      "Getting Monthly Figures for 4759.0\n",
      "Getting Monthly Figures for 4529.0\n"
     ]
    },
    {
     "data": {
      "text/html": [
       "<div>\n",
       "<style scoped>\n",
       "    .dataframe tbody tr th:only-of-type {\n",
       "        vertical-align: middle;\n",
       "    }\n",
       "\n",
       "    .dataframe tbody tr th {\n",
       "        vertical-align: top;\n",
       "    }\n",
       "\n",
       "    .dataframe thead th {\n",
       "        text-align: right;\n",
       "    }\n",
       "</style>\n",
       "<table border=\"1\" class=\"dataframe\">\n",
       "  <thead>\n",
       "    <tr style=\"text-align: right;\">\n",
       "      <th></th>\n",
       "      <th>Respondent</th>\n",
       "      <th>Year</th>\n",
       "      <th>Month</th>\n",
       "      <th>Sales</th>\n",
       "      <th>Total income</th>\n",
       "      <th>Purchases</th>\n",
       "      <th>Salary expense</th>\n",
       "      <th>Utility expense</th>\n",
       "      <th>Miscellaneous expense</th>\n",
       "      <th>Rent expense</th>\n",
       "      <th>...</th>\n",
       "      <th>Land</th>\n",
       "      <th>Informal loans given</th>\n",
       "      <th>Loans to employees</th>\n",
       "      <th>Total assets</th>\n",
       "      <th>Ap</th>\n",
       "      <th>Informal loan</th>\n",
       "      <th>Long term loan</th>\n",
       "      <th>Short term loan</th>\n",
       "      <th>Total liabilities</th>\n",
       "      <th>Equity</th>\n",
       "    </tr>\n",
       "  </thead>\n",
       "  <tbody>\n",
       "    <tr>\n",
       "      <th>0</th>\n",
       "      <td>4425.0</td>\n",
       "      <td>2021</td>\n",
       "      <td>2</td>\n",
       "      <td>0.0</td>\n",
       "      <td>0.0</td>\n",
       "      <td>0.0</td>\n",
       "      <td>0.0</td>\n",
       "      <td>0.0</td>\n",
       "      <td>0.0</td>\n",
       "      <td>0.0</td>\n",
       "      <td>...</td>\n",
       "      <td>0.0</td>\n",
       "      <td>200000.0</td>\n",
       "      <td>0.0</td>\n",
       "      <td>1004400.0</td>\n",
       "      <td>0.0</td>\n",
       "      <td>0.0</td>\n",
       "      <td>0.0</td>\n",
       "      <td>0.0</td>\n",
       "      <td>0.0</td>\n",
       "      <td>1004400.0</td>\n",
       "    </tr>\n",
       "    <tr>\n",
       "      <th>1</th>\n",
       "      <td>4425.0</td>\n",
       "      <td>2021</td>\n",
       "      <td>3</td>\n",
       "      <td>0.0</td>\n",
       "      <td>0.0</td>\n",
       "      <td>0.0</td>\n",
       "      <td>0.0</td>\n",
       "      <td>0.0</td>\n",
       "      <td>0.0</td>\n",
       "      <td>0.0</td>\n",
       "      <td>...</td>\n",
       "      <td>0.0</td>\n",
       "      <td>200000.0</td>\n",
       "      <td>0.0</td>\n",
       "      <td>1404400.0</td>\n",
       "      <td>0.0</td>\n",
       "      <td>0.0</td>\n",
       "      <td>0.0</td>\n",
       "      <td>0.0</td>\n",
       "      <td>0.0</td>\n",
       "      <td>1404400.0</td>\n",
       "    </tr>\n",
       "    <tr>\n",
       "      <th>2</th>\n",
       "      <td>4425.0</td>\n",
       "      <td>2021</td>\n",
       "      <td>4</td>\n",
       "      <td>19515.0</td>\n",
       "      <td>19515.0</td>\n",
       "      <td>-10416.0</td>\n",
       "      <td>0.0</td>\n",
       "      <td>-280.0</td>\n",
       "      <td>0.0</td>\n",
       "      <td>0.0</td>\n",
       "      <td>...</td>\n",
       "      <td>0.0</td>\n",
       "      <td>200000.0</td>\n",
       "      <td>0.0</td>\n",
       "      <td>1411119.0</td>\n",
       "      <td>0.0</td>\n",
       "      <td>0.0</td>\n",
       "      <td>0.0</td>\n",
       "      <td>0.0</td>\n",
       "      <td>0.0</td>\n",
       "      <td>1411119.0</td>\n",
       "    </tr>\n",
       "    <tr>\n",
       "      <th>3</th>\n",
       "      <td>4425.0</td>\n",
       "      <td>2021</td>\n",
       "      <td>5</td>\n",
       "      <td>30157.0</td>\n",
       "      <td>30157.0</td>\n",
       "      <td>-6874.0</td>\n",
       "      <td>-2500.0</td>\n",
       "      <td>-480.0</td>\n",
       "      <td>-7202.0</td>\n",
       "      <td>-6000.0</td>\n",
       "      <td>...</td>\n",
       "      <td>0.0</td>\n",
       "      <td>200000.0</td>\n",
       "      <td>0.0</td>\n",
       "      <td>1411223.0</td>\n",
       "      <td>0.0</td>\n",
       "      <td>0.0</td>\n",
       "      <td>0.0</td>\n",
       "      <td>0.0</td>\n",
       "      <td>0.0</td>\n",
       "      <td>1411223.0</td>\n",
       "    </tr>\n",
       "    <tr>\n",
       "      <th>4</th>\n",
       "      <td>4425.0</td>\n",
       "      <td>2021</td>\n",
       "      <td>6</td>\n",
       "      <td>43374.0</td>\n",
       "      <td>43374.0</td>\n",
       "      <td>-4337.0</td>\n",
       "      <td>-4000.0</td>\n",
       "      <td>0.0</td>\n",
       "      <td>0.0</td>\n",
       "      <td>-6000.0</td>\n",
       "      <td>...</td>\n",
       "      <td>0.0</td>\n",
       "      <td>200000.0</td>\n",
       "      <td>0.0</td>\n",
       "      <td>1834315.0</td>\n",
       "      <td>0.0</td>\n",
       "      <td>0.0</td>\n",
       "      <td>0.0</td>\n",
       "      <td>0.0</td>\n",
       "      <td>0.0</td>\n",
       "      <td>1834315.0</td>\n",
       "    </tr>\n",
       "  </tbody>\n",
       "</table>\n",
       "<p>5 rows × 36 columns</p>\n",
       "</div>"
      ],
      "text/plain": [
       "   Respondent  Year  Month    Sales  Total income  Purchases  Salary expense  \\\n",
       "0      4425.0  2021      2      0.0           0.0        0.0             0.0   \n",
       "1      4425.0  2021      3      0.0           0.0        0.0             0.0   \n",
       "2      4425.0  2021      4  19515.0       19515.0   -10416.0             0.0   \n",
       "3      4425.0  2021      5  30157.0       30157.0    -6874.0         -2500.0   \n",
       "4      4425.0  2021      6  43374.0       43374.0    -4337.0         -4000.0   \n",
       "\n",
       "   Utility expense  Miscellaneous expense  Rent expense  ...  Land  \\\n",
       "0              0.0                    0.0           0.0  ...   0.0   \n",
       "1              0.0                    0.0           0.0  ...   0.0   \n",
       "2           -280.0                    0.0           0.0  ...   0.0   \n",
       "3           -480.0                -7202.0       -6000.0  ...   0.0   \n",
       "4              0.0                    0.0       -6000.0  ...   0.0   \n",
       "\n",
       "   Informal loans given  Loans to employees  Total assets   Ap  Informal loan  \\\n",
       "0              200000.0                 0.0     1004400.0  0.0            0.0   \n",
       "1              200000.0                 0.0     1404400.0  0.0            0.0   \n",
       "2              200000.0                 0.0     1411119.0  0.0            0.0   \n",
       "3              200000.0                 0.0     1411223.0  0.0            0.0   \n",
       "4              200000.0                 0.0     1834315.0  0.0            0.0   \n",
       "\n",
       "   Long term loan  Short term loan  Total liabilities     Equity  \n",
       "0             0.0              0.0                0.0  1004400.0  \n",
       "1             0.0              0.0                0.0  1404400.0  \n",
       "2             0.0              0.0                0.0  1411119.0  \n",
       "3             0.0              0.0                0.0  1411223.0  \n",
       "4             0.0              0.0                0.0  1834315.0  \n",
       "\n",
       "[5 rows x 36 columns]"
      ]
     },
     "execution_count": 114,
     "metadata": {},
     "output_type": "execute_result"
    }
   ],
   "source": [
    "def all_monthly_figures_for_all_firms(df: pd.DataFrame):\n",
    "    all_firms = df['Respondent ID'].unique()\n",
    "    all_firm_data = []\n",
    "    for res_id in all_firms:\n",
    "        print(f'Getting Monthly Figures for {res_id}')\n",
    "        cash_data = all_monthly_figures_for_firm(df, res_id)\n",
    "        all_firm_data.append(cash_data)\n",
    "    \n",
    "    return pd.concat(all_firm_data).reset_index().drop(columns='index')\n",
    "\n",
    "monthly_financial_df = all_monthly_figures_for_all_firms(data_combined3)\n",
    "monthly_financial_df.head()"
   ]
  },
  {
   "cell_type": "code",
   "execution_count": 115,
   "metadata": {},
   "outputs": [],
   "source": [
    "monthly_financial_df.to_csv('all_monthly_financials.csv')"
   ]
  }
 ],
 "metadata": {
  "kernelspec": {
   "display_name": "Python 3",
   "language": "python",
   "name": "python3"
  },
  "language_info": {
   "codemirror_mode": {
    "name": "ipython",
    "version": 3
   },
   "file_extension": ".py",
   "mimetype": "text/x-python",
   "name": "python",
   "nbconvert_exporter": "python",
   "pygments_lexer": "ipython3",
   "version": "3.10.4"
  }
 },
 "nbformat": 4,
 "nbformat_minor": 2
}
